{
 "cells": [
  {
   "cell_type": "markdown",
   "id": "a5ab3377-1363-4ab6-b4f1-564b2a386d40",
   "metadata": {},
   "source": [
    "## HeartFailure data preprocessing"
   ]
  },
  {
   "cell_type": "markdown",
   "id": "85f5f148-9358-459d-a023-3c3ab9b5bf38",
   "metadata": {},
   "source": [
    "### Importing necessary libraries"
   ]
  },
  {
   "cell_type": "code",
   "execution_count": 1,
   "id": "eff8b7a9-2ed9-46c3-a59f-6258ac1fd08b",
   "metadata": {
    "execution": {
     "iopub.execute_input": "2024-01-31T12:04:47.011287Z",
     "iopub.status.busy": "2024-01-31T12:04:47.011127Z",
     "iopub.status.idle": "2024-01-31T12:04:47.016389Z",
     "shell.execute_reply": "2024-01-31T12:04:47.016005Z"
    }
   },
   "outputs": [],
   "source": [
    "import os\n",
    "import sys\n",
    "current_directory=os.getcwd()\n",
    "parent_directory=os.path.dirname(current_directory)\n",
    "sys.path.append(parent_directory)\n"
   ]
  },
  {
   "cell_type": "code",
   "execution_count": 2,
   "id": "56b80e0e-b49b-4238-85be-28b96923aeb4",
   "metadata": {
    "execution": {
     "iopub.execute_input": "2024-01-31T12:04:47.018174Z",
     "iopub.status.busy": "2024-01-31T12:04:47.018037Z",
     "iopub.status.idle": "2024-01-31T12:04:48.571607Z",
     "shell.execute_reply": "2024-01-31T12:04:48.571070Z"
    },
    "tags": []
   },
   "outputs": [
    {
     "name": "stderr",
     "output_type": "stream",
     "text": [
      "2024-01-31 12:04:47.289901: W tensorflow/stream_executor/platform/default/dso_loader.cc:64] Could not load dynamic library 'libcudart.so.11.0'; dlerror: libcudart.so.11.0: cannot open shared object file: No such file or directory\n",
      "2024-01-31 12:04:47.289920: I tensorflow/stream_executor/cuda/cudart_stub.cc:29] Ignore above cudart dlerror if you do not have a GPU set up on your machine.\n"
     ]
    }
   ],
   "source": [
    "import numpy as np\n",
    "from library.generators.NextConvGeN import NextConvGeN\n"
   ]
  },
  {
   "cell_type": "code",
   "execution_count": 3,
   "id": "60a37ac3-8400-4930-9b8d-f50e51befb9f",
   "metadata": {
    "execution": {
     "iopub.execute_input": "2024-01-31T12:04:48.573814Z",
     "iopub.status.busy": "2024-01-31T12:04:48.573529Z",
     "iopub.status.idle": "2024-01-31T12:04:51.352892Z",
     "shell.execute_reply": "2024-01-31T12:04:51.352363Z"
    }
   },
   "outputs": [],
   "source": [
    "from fdc.fdc import feature_clustering, canberra_modified, Clustering, FDC\n",
    "from fdc.clustering import *"
   ]
  },
  {
   "cell_type": "code",
   "execution_count": 4,
   "id": "24a06985-a202-46b5-93db-f92a3ded0673",
   "metadata": {
    "execution": {
     "iopub.execute_input": "2024-01-31T12:04:51.354992Z",
     "iopub.status.busy": "2024-01-31T12:04:51.354814Z",
     "iopub.status.idle": "2024-01-31T12:04:51.357058Z",
     "shell.execute_reply": "2024-01-31T12:04:51.356727Z"
    }
   },
   "outputs": [],
   "source": [
    "import pandas as pd"
   ]
  },
  {
   "cell_type": "code",
   "execution_count": 5,
   "id": "c8588ee3-e794-4a68-af35-fe499261f72d",
   "metadata": {
    "execution": {
     "iopub.execute_input": "2024-01-31T12:04:51.358885Z",
     "iopub.status.busy": "2024-01-31T12:04:51.358677Z",
     "iopub.status.idle": "2024-01-31T12:04:51.360937Z",
     "shell.execute_reply": "2024-01-31T12:04:51.360609Z"
    }
   },
   "outputs": [],
   "source": [
    "import pandas as pd\n",
    "import matplotlib.pyplot as plt\n",
    "from sklearn.cluster import KMeans\n",
    "from sklearn.metrics import silhouette_score"
   ]
  },
  {
   "cell_type": "markdown",
   "id": "01d3d86f-4e08-4be3-bba9-e2f7b9202670",
   "metadata": {},
   "source": [
    "### Importing data"
   ]
  },
  {
   "cell_type": "code",
   "execution_count": 6,
   "id": "53e069b3-8bcc-46b0-852b-2a504e21197e",
   "metadata": {
    "execution": {
     "iopub.execute_input": "2024-01-31T12:04:51.362844Z",
     "iopub.status.busy": "2024-01-31T12:04:51.362534Z",
     "iopub.status.idle": "2024-01-31T12:04:51.366520Z",
     "shell.execute_reply": "2024-01-31T12:04:51.366146Z"
    }
   },
   "outputs": [],
   "source": [
    "data=pd.read_csv('survey lung cancer.csv')"
   ]
  },
  {
   "cell_type": "code",
   "execution_count": 7,
   "id": "2df57461-99ed-4080-be92-9109d5913851",
   "metadata": {
    "execution": {
     "iopub.execute_input": "2024-01-31T12:04:51.368356Z",
     "iopub.status.busy": "2024-01-31T12:04:51.368047Z",
     "iopub.status.idle": "2024-01-31T12:04:51.370531Z",
     "shell.execute_reply": "2024-01-31T12:04:51.370181Z"
    }
   },
   "outputs": [],
   "source": [
    "np.random.seed(42)\n",
    "data=data.sample(frac=1)"
   ]
  },
  {
   "cell_type": "code",
   "execution_count": 8,
   "id": "b8bfe8e3-8a28-4f59-80f7-8eabdc0998b5",
   "metadata": {
    "execution": {
     "iopub.execute_input": "2024-01-31T12:04:51.372364Z",
     "iopub.status.busy": "2024-01-31T12:04:51.372056Z",
     "iopub.status.idle": "2024-01-31T12:04:51.375002Z",
     "shell.execute_reply": "2024-01-31T12:04:51.374671Z"
    }
   },
   "outputs": [],
   "source": [
    "gender_mod= {'GENDER': {'F':1,'M':0}}\n",
    "data.replace(gender_mod,inplace=True)\n"
   ]
  },
  {
   "cell_type": "code",
   "execution_count": 9,
   "id": "95ae88ae-0ef5-41c8-b709-c468aa871f11",
   "metadata": {
    "execution": {
     "iopub.execute_input": "2024-01-31T12:04:51.376655Z",
     "iopub.status.busy": "2024-01-31T12:04:51.376521Z",
     "iopub.status.idle": "2024-01-31T12:04:51.379401Z",
     "shell.execute_reply": "2024-01-31T12:04:51.379024Z"
    }
   },
   "outputs": [],
   "source": [
    "lung_cancer_mod= {'LUNG_CANCER': {'YES':1,'NO':0}}\n",
    "data.replace(lung_cancer_mod,inplace=True)\n"
   ]
  },
  {
   "cell_type": "code",
   "execution_count": 10,
   "id": "d81fd1ac-f5f9-4e12-8358-fbbbc70b10ca",
   "metadata": {
    "execution": {
     "iopub.execute_input": "2024-01-31T12:04:51.381226Z",
     "iopub.status.busy": "2024-01-31T12:04:51.380938Z",
     "iopub.status.idle": "2024-01-31T12:04:51.384496Z",
     "shell.execute_reply": "2024-01-31T12:04:51.384119Z"
    },
    "tags": []
   },
   "outputs": [],
   "source": [
    "output_file_path=os.path.join(parent_directory,\"PreprocessedDatasets/LungCancer.csv\")\n",
    "data.to_csv(output_file_path, index=False)"
   ]
  },
  {
   "cell_type": "code",
   "execution_count": 11,
   "id": "bea9046d-c7c5-4429-a51f-9e60238285a3",
   "metadata": {
    "execution": {
     "iopub.execute_input": "2024-01-31T12:04:51.386264Z",
     "iopub.status.busy": "2024-01-31T12:04:51.386033Z",
     "iopub.status.idle": "2024-01-31T12:04:51.390452Z",
     "shell.execute_reply": "2024-01-31T12:04:51.390126Z"
    }
   },
   "outputs": [
    {
     "data": {
      "text/plain": [
       "1    270\n",
       "0     39\n",
       "Name: LUNG_CANCER, dtype: int64"
      ]
     },
     "execution_count": 11,
     "metadata": {},
     "output_type": "execute_result"
    }
   ],
   "source": [
    "data['LUNG_CANCER'].value_counts()"
   ]
  },
  {
   "cell_type": "code",
   "execution_count": 12,
   "id": "8aebf9eb-e0b3-40db-bcd0-bfc400e004ce",
   "metadata": {
    "execution": {
     "iopub.execute_input": "2024-01-31T12:04:51.392130Z",
     "iopub.status.busy": "2024-01-31T12:04:51.391996Z",
     "iopub.status.idle": "2024-01-31T12:04:51.394564Z",
     "shell.execute_reply": "2024-01-31T12:04:51.394232Z"
    }
   },
   "outputs": [],
   "source": [
    "data.drop(['LUNG_CANCER'],axis=1, inplace=True)"
   ]
  },
  {
   "cell_type": "code",
   "execution_count": 13,
   "id": "e633073d-271c-450a-87f9-a61755e2f011",
   "metadata": {
    "execution": {
     "iopub.execute_input": "2024-01-31T12:04:51.396410Z",
     "iopub.status.busy": "2024-01-31T12:04:51.396121Z",
     "iopub.status.idle": "2024-01-31T12:04:51.399809Z",
     "shell.execute_reply": "2024-01-31T12:04:51.399434Z"
    }
   },
   "outputs": [],
   "source": [
    "data.drop_duplicates(inplace=True, ignore_index=True)"
   ]
  },
  {
   "cell_type": "code",
   "execution_count": 14,
   "id": "f6585796-c7c5-4f06-a1f4-5f5aea784e42",
   "metadata": {
    "execution": {
     "iopub.execute_input": "2024-01-31T12:04:51.401662Z",
     "iopub.status.busy": "2024-01-31T12:04:51.401333Z",
     "iopub.status.idle": "2024-01-31T12:04:51.403849Z",
     "shell.execute_reply": "2024-01-31T12:04:51.403473Z"
    }
   },
   "outputs": [],
   "source": [
    "np.random.seed(42)\n",
    "data=data.sample(frac=1)"
   ]
  },
  {
   "cell_type": "code",
   "execution_count": 15,
   "id": "daf17014-4a05-4b90-9cc0-a83fdbb478db",
   "metadata": {
    "execution": {
     "iopub.execute_input": "2024-01-31T12:04:51.405725Z",
     "iopub.status.busy": "2024-01-31T12:04:51.405399Z",
     "iopub.status.idle": "2024-01-31T12:04:51.407747Z",
     "shell.execute_reply": "2024-01-31T12:04:51.407420Z"
    }
   },
   "outputs": [],
   "source": [
    "values=['AGE','SMOKING','GENDER','CHRONIC DISEASE','ALCOHOL CONSUMING','SHORTNESS OF BREATH',\n",
    "'YELLOW_FINGERS','ANXIETY','PEER_PRESSURE','WHEEZING','COUGHING','SWALLOWING DIFFICULTY',\n",
    "'CHEST PAIN','FATIGUE ','ALLERGY ']"
   ]
  },
  {
   "cell_type": "code",
   "execution_count": 16,
   "id": "f6300ef8-de66-4ac7-81f9-4abeba0e2910",
   "metadata": {
    "execution": {
     "iopub.execute_input": "2024-01-31T12:04:51.409408Z",
     "iopub.status.busy": "2024-01-31T12:04:51.409276Z",
     "iopub.status.idle": "2024-01-31T12:04:51.411718Z",
     "shell.execute_reply": "2024-01-31T12:04:51.411388Z"
    }
   },
   "outputs": [],
   "source": [
    "data=data[values]"
   ]
  },
  {
   "cell_type": "markdown",
   "id": "b660f1df-14b8-462c-a36c-5718f1881bda",
   "metadata": {},
   "source": [
    "### UMAP on entire data"
   ]
  },
  {
   "cell_type": "code",
   "execution_count": 17,
   "id": "2326c5ac-3967-4a6e-8488-dd1dd29796e3",
   "metadata": {
    "execution": {
     "iopub.execute_input": "2024-01-31T12:04:51.413612Z",
     "iopub.status.busy": "2024-01-31T12:04:51.413317Z",
     "iopub.status.idle": "2024-01-31T12:04:51.415398Z",
     "shell.execute_reply": "2024-01-31T12:04:51.415071Z"
    }
   },
   "outputs": [],
   "source": [
    "from fdc.fdc import feature_clustering"
   ]
  },
  {
   "cell_type": "code",
   "execution_count": 18,
   "id": "4f208ccd-b32d-4a0c-b8be-e6edf64b5664",
   "metadata": {
    "execution": {
     "iopub.execute_input": "2024-01-31T12:04:51.417227Z",
     "iopub.status.busy": "2024-01-31T12:04:51.416942Z",
     "iopub.status.idle": "2024-01-31T12:04:55.819123Z",
     "shell.execute_reply": "2024-01-31T12:04:55.818641Z"
    }
   },
   "outputs": [
    {
     "data": {
      "image/png": "[encoded data removed]",
      "text/plain": [
       "<Figure size 500x500 with 1 Axes>"
      ]
     },
     "metadata": {},
     "output_type": "display_data"
    }
   ],
   "source": [
    "np.random.seed(42)\n",
    "umap_emb=feature_clustering(30,0.1,'euclidean',data,True)"
   ]
  },
  {
   "cell_type": "markdown",
   "id": "f0068723-e652-4358-a2c4-761f5e1833d8",
   "metadata": {},
   "source": [
    "### Feature-type Distributed Clustering (FDC)"
   ]
  },
  {
   "cell_type": "code",
   "execution_count": 19,
   "id": "d91f3053-c382-490a-9c6a-e3925f5d0660",
   "metadata": {
    "execution": {
     "iopub.execute_input": "2024-01-31T12:04:55.821072Z",
     "iopub.status.busy": "2024-01-31T12:04:55.820927Z",
     "iopub.status.idle": "2024-01-31T12:04:55.823707Z",
     "shell.execute_reply": "2024-01-31T12:04:55.823253Z"
    }
   },
   "outputs": [],
   "source": [
    "cont_list=['AGE']\n",
    "\n",
    "ord_list=['SMOKING','GENDER','CHRONIC DISEASE','ALCOHOL CONSUMING','SHORTNESS OF BREATH']\n",
    "\n",
    "nom_list=['YELLOW_FINGERS','ANXIETY','PEER_PRESSURE','WHEEZING','COUGHING','SWALLOWING DIFFICULTY','CHEST PAIN','FATIGUE ','ALLERGY ']\n",
    "\n",
    "target = ['LUNG_CANCER']\n"
   ]
  },
  {
   "cell_type": "code",
   "execution_count": 20,
   "id": "2e9a0102-2e1a-42ca-87e6-957f8c44e0b0",
   "metadata": {
    "execution": {
     "iopub.execute_input": "2024-01-31T12:04:55.825401Z",
     "iopub.status.busy": "2024-01-31T12:04:55.825266Z",
     "iopub.status.idle": "2024-01-31T12:05:01.260734Z",
     "shell.execute_reply": "2024-01-31T12:05:01.260362Z"
    }
   },
   "outputs": [
    {
     "name": "stdout",
     "output_type": "stream",
     "text": [
      "FDC.normalize (init): 0.00001 / 0.000s\n"
     ]
    },
    {
     "name": "stdout",
     "output_type": "stream",
     "text": [
      "FDC.normalize (clustering CONT): 1.70443 / 1.704s\n"
     ]
    },
    {
     "name": "stdout",
     "output_type": "stream",
     "text": [
      "FDC.normalize (clustering ORD): 2.08391 / 3.788s\n"
     ]
    },
    {
     "name": "stdout",
     "output_type": "stream",
     "text": [
      "FDC.normalize (clustering NOM): 1.42775 / 5.216s\n",
      "FDC.normalize (concat): 0.00007 / 5.216s\n"
     ]
    },
    {
     "name": "stdout",
     "output_type": "stream",
     "text": [
      "FDC.normalize (umap 5 -> 2): 0.93976 / 6.156s\n",
      "FDC.normalize (array -> DataFrame): 0.00025 / 6.156s\n"
     ]
    },
    {
     "data": {
      "image/png": "[encoded data removed]",
      "text/plain": [
       "<Figure size 500x500 with 1 Axes>"
      ]
     },
     "metadata": {},
     "output_type": "display_data"
    },
    {
     "name": "stdout",
     "output_type": "stream",
     "text": [
      "FDC.normalize (plotting): 0.40735 / 6.564s\n",
      "FDC.normalize (array -> DataFrame): 0.00018 / 6.564s\n",
      "FDC.normalize (total): 0.00001 / 6.564s\n"
     ]
    }
   ],
   "source": [
    "from fdc.fdc import feature_clustering, canberra_modified, Clustering, FDC\n",
    "\n",
    "np.random.seed(42)\n",
    "\n",
    "fdc = FDC(clustering_cont=Clustering('euclidean')\n",
    "          , clustering_ord=Clustering('canberra')\n",
    "          , clustering_nom=Clustering('hamming')\n",
    "          , visual=True\n",
    "          , use_pandas_output=True\n",
    "          , with_2d_embedding=True\n",
    "          )\n",
    "\n",
    "fdc.selectFeatures(continueous=cont_list, nomial=nom_list, ordinal=ord_list)\n",
    "\n",
    "FDC_emb_high,FDC_emb_low = fdc.normalize(data,cont_list=cont_list, nom_list=nom_list, ord_list=ord_list,\n",
    "                  with_2d_embedding=True,\n",
    "                  visual=True)"
   ]
  },
  {
   "cell_type": "code",
   "execution_count": 21,
   "id": "47a1520a-d2e1-49ca-9920-dd14d4a6d4f2",
   "metadata": {
    "execution": {
     "iopub.execute_input": "2024-01-31T12:05:01.262557Z",
     "iopub.status.busy": "2024-01-31T12:05:01.262417Z",
     "iopub.status.idle": "2024-01-31T12:05:01.264684Z",
     "shell.execute_reply": "2024-01-31T12:05:01.264348Z"
    }
   },
   "outputs": [],
   "source": [
    "output_file_path=os.path.join(parent_directory,\"PreprocessedDatasets/LungCancer.json\")"
   ]
  },
  {
   "cell_type": "code",
   "execution_count": 22,
   "id": "e535f373-b83e-491b-bef9-70aa19eb2d72",
   "metadata": {
    "execution": {
     "iopub.execute_input": "2024-01-31T12:05:01.266589Z",
     "iopub.status.busy": "2024-01-31T12:05:01.266295Z",
     "iopub.status.idle": "2024-01-31T12:05:01.269002Z",
     "shell.execute_reply": "2024-01-31T12:05:01.268619Z"
    }
   },
   "outputs": [],
   "source": [
    "import json\n",
    "\n",
    "features = {\n",
    "    \"cont_list\": cont_list,\n",
    "    \"nom_list\": nom_list,\n",
    "    \"ord_list\": ord_list,\n",
    "    \"target\": target\n",
    "}\n",
    "\n",
    "with open(output_file_path, \"w\") as json_file:\n",
    "    json.dump(features, json_file)"
   ]
  },
  {
   "cell_type": "markdown",
   "id": "c463a715-9608-4325-b72b-b710e1ccb589",
   "metadata": {},
   "source": [
    "### Clustering using K-means"
   ]
  },
  {
   "cell_type": "code",
   "execution_count": 23,
   "id": "a134fdf7-6507-4a33-b163-23f72cc2a074",
   "metadata": {
    "execution": {
     "iopub.execute_input": "2024-01-31T12:05:01.270957Z",
     "iopub.status.busy": "2024-01-31T12:05:01.270656Z",
     "iopub.status.idle": "2024-01-31T12:05:01.579393Z",
     "shell.execute_reply": "2024-01-31T12:05:01.578854Z"
    },
    "tags": []
   },
   "outputs": [
    {
     "data": {
      "image/png": "[encoded data removed]",
      "text/plain": [
       "<Figure size 640x480 with 1 Axes>"
      ]
     },
     "metadata": {},
     "output_type": "display_data"
    }
   ],
   "source": [
    "kmeans_kwargs = {\n",
    "\"init\": \"random\",\n",
    "\"n_init\": 10,\n",
    "\"random_state\": 1,\n",
    "}\n",
    "\n",
    "#create list to hold SSE values for each k\n",
    "sse = []\n",
    "for k in range(1, 11):\n",
    "    kmeans = KMeans(n_clusters=k, **kmeans_kwargs)\n",
    "    kmeans.fit(FDC_emb_low)\n",
    "    sse.append(kmeans.inertia_)\n",
    "\n",
    "#visualize results\n",
    "plt.plot(range(1, 11), sse)\n",
    "plt.xticks(range(1, 11))\n",
    "plt.xlabel(\"Number of Clusters\")\n",
    "plt.ylabel(\"SSE\")\n",
    "plt.show()"
   ]
  },
  {
   "cell_type": "code",
   "execution_count": 24,
   "id": "dc0e649f",
   "metadata": {
    "execution": {
     "iopub.execute_input": "2024-01-31T12:05:01.581415Z",
     "iopub.status.busy": "2024-01-31T12:05:01.581220Z",
     "iopub.status.idle": "2024-01-31T12:05:01.584592Z",
     "shell.execute_reply": "2024-01-31T12:05:01.584141Z"
    }
   },
   "outputs": [],
   "source": [
    "def find_optimal_cluster(FDC_emb_low):\n",
    "    silhouette_scores = []\n",
    "\n",
    "    for n_clusters in list(range(2, 9)):\n",
    "        km = KMeans(n_clusters=n_clusters, init='k-means++', n_init=10, max_iter=100, random_state=42)\n",
    "\n",
    "        km.fit(FDC_emb_low)\n",
    "\n",
    "        labels = km.labels_\n",
    "\n",
    "        # Compute the silhouette score\n",
    "        silhouette_avg = silhouette_score(FDC_emb_low, labels)\n",
    "        silhouette_scores.append(silhouette_avg)\n",
    "    return silhouette_scores"
   ]
  },
  {
   "cell_type": "code",
   "execution_count": 25,
   "id": "3257ae7b",
   "metadata": {
    "execution": {
     "iopub.execute_input": "2024-01-31T12:05:01.586535Z",
     "iopub.status.busy": "2024-01-31T12:05:01.586180Z",
     "iopub.status.idle": "2024-01-31T12:05:01.743196Z",
     "shell.execute_reply": "2024-01-31T12:05:01.742734Z"
    },
    "scrolled": true,
    "tags": []
   },
   "outputs": [
    {
     "data": {
      "text/plain": [
       "[0.58071524,\n",
       " 0.684203,\n",
       " 0.82214135,\n",
       " 0.92764986,\n",
       " 0.80723065,\n",
       " 0.7310681,\n",
       " 0.7270884]"
      ]
     },
     "execution_count": 25,
     "metadata": {},
     "output_type": "execute_result"
    }
   ],
   "source": [
    "find_optimal_cluster(FDC_emb_low)"
   ]
  },
  {
   "cell_type": "code",
   "execution_count": 26,
   "id": "80dbc9a4-8997-42d2-b4fd-49515bb2f8c1",
   "metadata": {
    "execution": {
     "iopub.execute_input": "2024-01-31T12:05:01.745577Z",
     "iopub.status.busy": "2024-01-31T12:05:01.745268Z",
     "iopub.status.idle": "2024-01-31T12:05:02.104512Z",
     "shell.execute_reply": "2024-01-31T12:05:02.104012Z"
    },
    "scrolled": true
   },
   "outputs": [
    {
     "data": {
      "image/png": "[encoded data removed]",
      "text/plain": [
       "<Figure size 560.361x500 with 1 Axes>"
      ]
     },
     "metadata": {},
     "output_type": "display_data"
    }
   ],
   "source": [
    "from fdc.clustering import *\n",
    "np.random.seed(42)\n",
    "clustering=Clustering(FDC_emb_low,FDC_emb_low,True)\n",
    "cluster_list,cluster_counts=clustering.K_means(5)"
   ]
  },
  {
   "cell_type": "code",
   "execution_count": 27,
   "id": "c2f410a1",
   "metadata": {
    "execution": {
     "iopub.execute_input": "2024-01-31T12:05:02.106878Z",
     "iopub.status.busy": "2024-01-31T12:05:02.106346Z",
     "iopub.status.idle": "2024-01-31T12:05:02.109752Z",
     "shell.execute_reply": "2024-01-31T12:05:02.109357Z"
    }
   },
   "outputs": [
    {
     "data": {
      "text/plain": [
       "array([19, 49, 89, 73, 45])"
      ]
     },
     "execution_count": 27,
     "metadata": {},
     "output_type": "execute_result"
    }
   ],
   "source": [
    "cluster_counts"
   ]
  },
  {
   "cell_type": "code",
   "execution_count": 28,
   "id": "250dd725-ecae-4e4d-a125-45a3d64840ab",
   "metadata": {
    "execution": {
     "iopub.execute_input": "2024-01-31T12:05:02.111493Z",
     "iopub.status.busy": "2024-01-31T12:05:02.111356Z",
     "iopub.status.idle": "2024-01-31T12:05:02.114008Z",
     "shell.execute_reply": "2024-01-31T12:05:02.113624Z"
    }
   },
   "outputs": [],
   "source": [
    "data['Target']=cluster_list"
   ]
  },
  {
   "cell_type": "code",
   "execution_count": 29,
   "id": "45fb9cab-6d92-4db5-8db5-70a64bd4c979",
   "metadata": {
    "execution": {
     "iopub.execute_input": "2024-01-31T12:05:02.115858Z",
     "iopub.status.busy": "2024-01-31T12:05:02.115541Z",
     "iopub.status.idle": "2024-01-31T12:05:02.119001Z",
     "shell.execute_reply": "2024-01-31T12:05:02.118621Z"
    },
    "tags": []
   },
   "outputs": [],
   "source": [
    "output_file_path=os.path.join(parent_directory,\"PreprocessedDatasets/SSLungCancer.csv\")\n",
    "data.to_csv(output_file_path, index=False)"
   ]
  },
  {
   "cell_type": "code",
   "execution_count": 30,
   "id": "7bf92e7b-36ed-4d66-8f6a-11beb2defba4",
   "metadata": {
    "execution": {
     "iopub.execute_input": "2024-01-31T12:05:02.120833Z",
     "iopub.status.busy": "2024-01-31T12:05:02.120536Z",
     "iopub.status.idle": "2024-01-31T12:05:02.129847Z",
     "shell.execute_reply": "2024-01-31T12:05:02.129473Z"
    }
   },
   "outputs": [
    {
     "data": {
      "text/html": [
       "<div>\n",
       "<style scoped>\n",
       "    .dataframe tbody tr th:only-of-type {\n",
       "        vertical-align: middle;\n",
       "    }\n",
       "\n",
       "    .dataframe tbody tr th {\n",
       "        vertical-align: top;\n",
       "    }\n",
       "\n",
       "    .dataframe thead th {\n",
       "        text-align: right;\n",
       "    }\n",
       "</style>\n",
       "<table border=\"1\" class=\"dataframe\">\n",
       "  <thead>\n",
       "    <tr style=\"text-align: right;\">\n",
       "      <th></th>\n",
       "      <th>AGE</th>\n",
       "      <th>SMOKING</th>\n",
       "      <th>GENDER</th>\n",
       "      <th>CHRONIC DISEASE</th>\n",
       "      <th>ALCOHOL CONSUMING</th>\n",
       "      <th>SHORTNESS OF BREATH</th>\n",
       "      <th>YELLOW_FINGERS</th>\n",
       "      <th>ANXIETY</th>\n",
       "      <th>PEER_PRESSURE</th>\n",
       "      <th>WHEEZING</th>\n",
       "      <th>COUGHING</th>\n",
       "      <th>SWALLOWING DIFFICULTY</th>\n",
       "      <th>CHEST PAIN</th>\n",
       "      <th>FATIGUE</th>\n",
       "      <th>ALLERGY</th>\n",
       "      <th>Target</th>\n",
       "    </tr>\n",
       "  </thead>\n",
       "  <tbody>\n",
       "    <tr>\n",
       "      <th>30</th>\n",
       "      <td>49</td>\n",
       "      <td>1</td>\n",
       "      <td>1</td>\n",
       "      <td>2</td>\n",
       "      <td>2</td>\n",
       "      <td>2</td>\n",
       "      <td>1</td>\n",
       "      <td>1</td>\n",
       "      <td>2</td>\n",
       "      <td>1</td>\n",
       "      <td>2</td>\n",
       "      <td>1</td>\n",
       "      <td>1</td>\n",
       "      <td>1</td>\n",
       "      <td>2</td>\n",
       "      <td>3</td>\n",
       "    </tr>\n",
       "    <tr>\n",
       "      <th>139</th>\n",
       "      <td>59</td>\n",
       "      <td>1</td>\n",
       "      <td>1</td>\n",
       "      <td>1</td>\n",
       "      <td>1</td>\n",
       "      <td>2</td>\n",
       "      <td>1</td>\n",
       "      <td>1</td>\n",
       "      <td>2</td>\n",
       "      <td>2</td>\n",
       "      <td>2</td>\n",
       "      <td>1</td>\n",
       "      <td>2</td>\n",
       "      <td>2</td>\n",
       "      <td>1</td>\n",
       "      <td>3</td>\n",
       "    </tr>\n",
       "    <tr>\n",
       "      <th>195</th>\n",
       "      <td>63</td>\n",
       "      <td>1</td>\n",
       "      <td>1</td>\n",
       "      <td>1</td>\n",
       "      <td>1</td>\n",
       "      <td>2</td>\n",
       "      <td>2</td>\n",
       "      <td>1</td>\n",
       "      <td>1</td>\n",
       "      <td>2</td>\n",
       "      <td>2</td>\n",
       "      <td>1</td>\n",
       "      <td>1</td>\n",
       "      <td>1</td>\n",
       "      <td>1</td>\n",
       "      <td>3</td>\n",
       "    </tr>\n",
       "    <tr>\n",
       "      <th>126</th>\n",
       "      <td>70</td>\n",
       "      <td>1</td>\n",
       "      <td>1</td>\n",
       "      <td>2</td>\n",
       "      <td>2</td>\n",
       "      <td>2</td>\n",
       "      <td>1</td>\n",
       "      <td>1</td>\n",
       "      <td>2</td>\n",
       "      <td>1</td>\n",
       "      <td>2</td>\n",
       "      <td>1</td>\n",
       "      <td>1</td>\n",
       "      <td>1</td>\n",
       "      <td>2</td>\n",
       "      <td>4</td>\n",
       "    </tr>\n",
       "    <tr>\n",
       "      <th>215</th>\n",
       "      <td>69</td>\n",
       "      <td>2</td>\n",
       "      <td>0</td>\n",
       "      <td>1</td>\n",
       "      <td>1</td>\n",
       "      <td>1</td>\n",
       "      <td>1</td>\n",
       "      <td>1</td>\n",
       "      <td>2</td>\n",
       "      <td>1</td>\n",
       "      <td>1</td>\n",
       "      <td>1</td>\n",
       "      <td>2</td>\n",
       "      <td>1</td>\n",
       "      <td>1</td>\n",
       "      <td>1</td>\n",
       "    </tr>\n",
       "    <tr>\n",
       "      <th>...</th>\n",
       "      <td>...</td>\n",
       "      <td>...</td>\n",
       "      <td>...</td>\n",
       "      <td>...</td>\n",
       "      <td>...</td>\n",
       "      <td>...</td>\n",
       "      <td>...</td>\n",
       "      <td>...</td>\n",
       "      <td>...</td>\n",
       "      <td>...</td>\n",
       "      <td>...</td>\n",
       "      <td>...</td>\n",
       "      <td>...</td>\n",
       "      <td>...</td>\n",
       "      <td>...</td>\n",
       "      <td>...</td>\n",
       "    </tr>\n",
       "    <tr>\n",
       "      <th>188</th>\n",
       "      <td>68</td>\n",
       "      <td>2</td>\n",
       "      <td>0</td>\n",
       "      <td>1</td>\n",
       "      <td>1</td>\n",
       "      <td>1</td>\n",
       "      <td>1</td>\n",
       "      <td>2</td>\n",
       "      <td>1</td>\n",
       "      <td>1</td>\n",
       "      <td>1</td>\n",
       "      <td>1</td>\n",
       "      <td>1</td>\n",
       "      <td>2</td>\n",
       "      <td>1</td>\n",
       "      <td>0</td>\n",
       "    </tr>\n",
       "    <tr>\n",
       "      <th>71</th>\n",
       "      <td>52</td>\n",
       "      <td>2</td>\n",
       "      <td>0</td>\n",
       "      <td>1</td>\n",
       "      <td>2</td>\n",
       "      <td>2</td>\n",
       "      <td>1</td>\n",
       "      <td>1</td>\n",
       "      <td>1</td>\n",
       "      <td>2</td>\n",
       "      <td>2</td>\n",
       "      <td>1</td>\n",
       "      <td>2</td>\n",
       "      <td>2</td>\n",
       "      <td>1</td>\n",
       "      <td>2</td>\n",
       "    </tr>\n",
       "    <tr>\n",
       "      <th>106</th>\n",
       "      <td>66</td>\n",
       "      <td>2</td>\n",
       "      <td>0</td>\n",
       "      <td>1</td>\n",
       "      <td>2</td>\n",
       "      <td>2</td>\n",
       "      <td>1</td>\n",
       "      <td>1</td>\n",
       "      <td>1</td>\n",
       "      <td>2</td>\n",
       "      <td>2</td>\n",
       "      <td>1</td>\n",
       "      <td>1</td>\n",
       "      <td>2</td>\n",
       "      <td>1</td>\n",
       "      <td>1</td>\n",
       "    </tr>\n",
       "    <tr>\n",
       "      <th>270</th>\n",
       "      <td>65</td>\n",
       "      <td>2</td>\n",
       "      <td>0</td>\n",
       "      <td>2</td>\n",
       "      <td>1</td>\n",
       "      <td>1</td>\n",
       "      <td>2</td>\n",
       "      <td>2</td>\n",
       "      <td>2</td>\n",
       "      <td>1</td>\n",
       "      <td>1</td>\n",
       "      <td>1</td>\n",
       "      <td>1</td>\n",
       "      <td>1</td>\n",
       "      <td>1</td>\n",
       "      <td>2</td>\n",
       "    </tr>\n",
       "    <tr>\n",
       "      <th>102</th>\n",
       "      <td>75</td>\n",
       "      <td>2</td>\n",
       "      <td>0</td>\n",
       "      <td>2</td>\n",
       "      <td>2</td>\n",
       "      <td>2</td>\n",
       "      <td>1</td>\n",
       "      <td>1</td>\n",
       "      <td>1</td>\n",
       "      <td>2</td>\n",
       "      <td>2</td>\n",
       "      <td>1</td>\n",
       "      <td>2</td>\n",
       "      <td>1</td>\n",
       "      <td>2</td>\n",
       "      <td>1</td>\n",
       "    </tr>\n",
       "  </tbody>\n",
       "</table>\n",
       "<p>275 rows × 16 columns</p>\n",
       "</div>"
      ],
      "text/plain": [
       "     AGE  SMOKING  GENDER  CHRONIC DISEASE  ALCOHOL CONSUMING  \\\n",
       "30    49        1       1                2                  2   \n",
       "139   59        1       1                1                  1   \n",
       "195   63        1       1                1                  1   \n",
       "126   70        1       1                2                  2   \n",
       "215   69        2       0                1                  1   \n",
       "..   ...      ...     ...              ...                ...   \n",
       "188   68        2       0                1                  1   \n",
       "71    52        2       0                1                  2   \n",
       "106   66        2       0                1                  2   \n",
       "270   65        2       0                2                  1   \n",
       "102   75        2       0                2                  2   \n",
       "\n",
       "     SHORTNESS OF BREATH  YELLOW_FINGERS  ANXIETY  PEER_PRESSURE  WHEEZING  \\\n",
       "30                     2               1        1              2         1   \n",
       "139                    2               1        1              2         2   \n",
       "195                    2               2        1              1         2   \n",
       "126                    2               1        1              2         1   \n",
       "215                    1               1        1              2         1   \n",
       "..                   ...             ...      ...            ...       ...   \n",
       "188                    1               1        2              1         1   \n",
       "71                     2               1        1              1         2   \n",
       "106                    2               1        1              1         2   \n",
       "270                    1               2        2              2         1   \n",
       "102                    2               1        1              1         2   \n",
       "\n",
       "     COUGHING  SWALLOWING DIFFICULTY  CHEST PAIN  FATIGUE   ALLERGY   Target  \n",
       "30          2                      1           1         1         2       3  \n",
       "139         2                      1           2         2         1       3  \n",
       "195         2                      1           1         1         1       3  \n",
       "126         2                      1           1         1         2       4  \n",
       "215         1                      1           2         1         1       1  \n",
       "..        ...                    ...         ...       ...       ...     ...  \n",
       "188         1                      1           1         2         1       0  \n",
       "71          2                      1           2         2         1       2  \n",
       "106         2                      1           1         2         1       1  \n",
       "270         1                      1           1         1         1       2  \n",
       "102         2                      1           2         1         2       1  \n",
       "\n",
       "[275 rows x 16 columns]"
      ]
     },
     "execution_count": 30,
     "metadata": {},
     "output_type": "execute_result"
    }
   ],
   "source": [
    "data"
   ]
  },
  {
   "cell_type": "code",
   "execution_count": null,
   "id": "73e24fe9-2dd6-424d-8ec7-a312638085fa",
   "metadata": {},
   "outputs": [],
   "source": []
  }
 ],
 "metadata": {
  "kernelspec": {
   "display_name": "Python 3 (ipykernel)",
   "language": "python",
   "name": "python3"
  },
  "language_info": {
   "codemirror_mode": {
    "name": "ipython",
    "version": 3
   },
   "file_extension": ".py",
   "mimetype": "text/x-python",
   "name": "python",
   "nbconvert_exporter": "python",
   "pygments_lexer": "ipython3",
   "version": "3.8.15"
  }
 },
 "nbformat": 4,
 "nbformat_minor": 5
}
