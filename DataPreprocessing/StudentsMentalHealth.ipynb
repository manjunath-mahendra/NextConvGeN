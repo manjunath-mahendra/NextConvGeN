{
 "cells": [
  {
   "cell_type": "markdown",
   "id": "a5ab3377-1363-4ab6-b4f1-564b2a386d40",
   "metadata": {},
   "source": [
    "## HeartFailure data preprocessing"
   ]
  },
  {
   "cell_type": "markdown",
   "id": "85f5f148-9358-459d-a023-3c3ab9b5bf38",
   "metadata": {},
   "source": [
    "### Importing necessary libraries"
   ]
  },
  {
   "cell_type": "code",
   "execution_count": 1,
   "id": "eff8b7a9-2ed9-46c3-a59f-6258ac1fd08b",
   "metadata": {
    "execution": {
     "iopub.execute_input": "2024-01-31T12:05:06.045888Z",
     "iopub.status.busy": "2024-01-31T12:05:06.045523Z",
     "iopub.status.idle": "2024-01-31T12:05:06.050777Z",
     "shell.execute_reply": "2024-01-31T12:05:06.050403Z"
    }
   },
   "outputs": [],
   "source": [
    "import os\n",
    "import sys\n",
    "current_directory=os.getcwd()\n",
    "parent_directory=os.path.dirname(current_directory)\n",
    "sys.path.append(parent_directory)\n"
   ]
  },
  {
   "cell_type": "code",
   "execution_count": 2,
   "id": "56b80e0e-b49b-4238-85be-28b96923aeb4",
   "metadata": {
    "execution": {
     "iopub.execute_input": "2024-01-31T12:05:06.052660Z",
     "iopub.status.busy": "2024-01-31T12:05:06.052356Z",
     "iopub.status.idle": "2024-01-31T12:05:07.676204Z",
     "shell.execute_reply": "2024-01-31T12:05:07.675688Z"
    },
    "tags": []
   },
   "outputs": [
    {
     "name": "stderr",
     "output_type": "stream",
     "text": [
      "2024-01-31 12:05:06.330305: W tensorflow/stream_executor/platform/default/dso_loader.cc:64] Could not load dynamic library 'libcudart.so.11.0'; dlerror: libcudart.so.11.0: cannot open shared object file: No such file or directory\n",
      "2024-01-31 12:05:06.330323: I tensorflow/stream_executor/cuda/cudart_stub.cc:29] Ignore above cudart dlerror if you do not have a GPU set up on your machine.\n"
     ]
    }
   ],
   "source": [
    "import numpy as np\n",
    "from library.generators.NextConvGeN import NextConvGeN\n"
   ]
  },
  {
   "cell_type": "code",
   "execution_count": 3,
   "id": "60a37ac3-8400-4930-9b8d-f50e51befb9f",
   "metadata": {
    "execution": {
     "iopub.execute_input": "2024-01-31T12:05:07.678636Z",
     "iopub.status.busy": "2024-01-31T12:05:07.678385Z",
     "iopub.status.idle": "2024-01-31T12:05:10.532819Z",
     "shell.execute_reply": "2024-01-31T12:05:10.532288Z"
    }
   },
   "outputs": [],
   "source": [
    "from fdc.fdc import feature_clustering, canberra_modified, Clustering, FDC\n",
    "from fdc.clustering import *"
   ]
  },
  {
   "cell_type": "code",
   "execution_count": 4,
   "id": "24a06985-a202-46b5-93db-f92a3ded0673",
   "metadata": {
    "execution": {
     "iopub.execute_input": "2024-01-31T12:05:10.534965Z",
     "iopub.status.busy": "2024-01-31T12:05:10.534816Z",
     "iopub.status.idle": "2024-01-31T12:05:10.537188Z",
     "shell.execute_reply": "2024-01-31T12:05:10.536853Z"
    }
   },
   "outputs": [],
   "source": [
    "import pandas as pd"
   ]
  },
  {
   "cell_type": "code",
   "execution_count": 5,
   "id": "c8588ee3-e794-4a68-af35-fe499261f72d",
   "metadata": {
    "execution": {
     "iopub.execute_input": "2024-01-31T12:05:10.539112Z",
     "iopub.status.busy": "2024-01-31T12:05:10.538834Z",
     "iopub.status.idle": "2024-01-31T12:05:10.541158Z",
     "shell.execute_reply": "2024-01-31T12:05:10.540833Z"
    }
   },
   "outputs": [],
   "source": [
    "import pandas as pd\n",
    "import matplotlib.pyplot as plt\n",
    "from sklearn.cluster import KMeans\n",
    "from sklearn.metrics import silhouette_score"
   ]
  },
  {
   "cell_type": "markdown",
   "id": "01d3d86f-4e08-4be3-bba9-e2f7b9202670",
   "metadata": {},
   "source": [
    "### Importing data"
   ]
  },
  {
   "cell_type": "code",
   "execution_count": 6,
   "id": "53e069b3-8bcc-46b0-852b-2a504e21197e",
   "metadata": {
    "execution": {
     "iopub.execute_input": "2024-01-31T12:05:10.542968Z",
     "iopub.status.busy": "2024-01-31T12:05:10.542832Z",
     "iopub.status.idle": "2024-01-31T12:05:10.546917Z",
     "shell.execute_reply": "2024-01-31T12:05:10.546542Z"
    }
   },
   "outputs": [],
   "source": [
    "data=pd.read_csv('Student_Mental_health.csv')"
   ]
  },
  {
   "cell_type": "code",
   "execution_count": 7,
   "id": "2df57461-99ed-4080-be92-9109d5913851",
   "metadata": {
    "execution": {
     "iopub.execute_input": "2024-01-31T12:05:10.548804Z",
     "iopub.status.busy": "2024-01-31T12:05:10.548515Z",
     "iopub.status.idle": "2024-01-31T12:05:10.551087Z",
     "shell.execute_reply": "2024-01-31T12:05:10.550740Z"
    }
   },
   "outputs": [],
   "source": [
    "np.random.seed(42)\n",
    "data=data.sample(frac=1)"
   ]
  },
  {
   "cell_type": "code",
   "execution_count": 8,
   "id": "68cbacd4",
   "metadata": {
    "execution": {
     "iopub.execute_input": "2024-01-31T12:05:10.552987Z",
     "iopub.status.busy": "2024-01-31T12:05:10.552673Z",
     "iopub.status.idle": "2024-01-31T12:05:10.555410Z",
     "shell.execute_reply": "2024-01-31T12:05:10.555076Z"
    }
   },
   "outputs": [],
   "source": [
    "data.drop(['Timestamp'],axis=1, inplace=True)"
   ]
  },
  {
   "cell_type": "code",
   "execution_count": 9,
   "id": "0ecef75d",
   "metadata": {
    "execution": {
     "iopub.execute_input": "2024-01-31T12:05:10.557303Z",
     "iopub.status.busy": "2024-01-31T12:05:10.557000Z",
     "iopub.status.idle": "2024-01-31T12:05:10.561117Z",
     "shell.execute_reply": "2024-01-31T12:05:10.560793Z"
    },
    "scrolled": true
   },
   "outputs": [
    {
     "data": {
      "text/plain": [
       "array(['Radiography', 'BCS', 'KOE', 'MHSC', 'Engineering', 'TAASL',\n",
       "       'Psychology', 'BIT', 'Business Administration', 'Human Sciences ',\n",
       "       'Mathemathics', 'BENL', 'Biotechnology', 'Usuluddin ',\n",
       "       'Biomedical science', 'Irkhs', 'Koe', 'Engine',\n",
       "       'Pendidikan Islam ', 'koe', 'Accounting ', 'Diploma Nursing',\n",
       "       'Marine science', 'Fiqh', 'Banking Studies', 'CTS', 'Laws', 'ENM',\n",
       "       'KIRKHS', 'Human Resources', 'Pendidikan islam', 'Econs', 'Law',\n",
       "       'Kirkhs', 'ALA', 'Malcom', 'Kop', 'Nursing ', 'Communication ',\n",
       "       'DIPLOMA TESL', 'Islamic Education', 'Benl', 'engin', 'psychology',\n",
       "       'Islamic education', 'Pendidikan Islam', 'Fiqh fatwa ', 'IT',\n",
       "       'KENMS'], dtype=object)"
      ]
     },
     "execution_count": 9,
     "metadata": {},
     "output_type": "execute_result"
    }
   ],
   "source": [
    "data['What is your course?'].unique()"
   ]
  },
  {
   "cell_type": "code",
   "execution_count": 10,
   "id": "5246aad7",
   "metadata": {
    "execution": {
     "iopub.execute_input": "2024-01-31T12:05:10.563043Z",
     "iopub.status.busy": "2024-01-31T12:05:10.562759Z",
     "iopub.status.idle": "2024-01-31T12:05:10.569190Z",
     "shell.execute_reply": "2024-01-31T12:05:10.568860Z"
    }
   },
   "outputs": [],
   "source": [
    "data['What is your course?'].replace(['Engineering', 'Islamic education', 'BIT', 'Laws', 'Mathemathics',\n",
    "       'Pendidikan islam', 'BCS', 'Human Resources', 'Irkhs',\n",
    "       'Psychology', 'KENMS', 'Accounting ', 'ENM', 'Marine science',\n",
    "       'KOE', 'Banking Studies', 'Business Administration', 'Law',\n",
    "       'KIRKHS', 'Usuluddin ', 'TAASL', 'Engine', 'ALA',\n",
    "       'Biomedical science', 'koe', 'Kirkhs', 'BENL', 'Benl', 'IT', 'CTS',\n",
    "       'engin', 'Econs', 'MHSC', 'Malcom', 'Kop', 'Human Sciences ',\n",
    "       'Biotechnology', 'Communication ', 'Diploma Nursing',\n",
    "       'Pendidikan Islam ', 'Radiography', 'psychology', 'Fiqh fatwa ',\n",
    "       'DIPLOMA TESL', 'Koe', 'Fiqh', 'Islamic Education', 'Nursing ',\n",
    "       'Pendidikan Islam'],[0, 1, 2, 3, 4,\n",
    "       5, 6, 7, 8,\n",
    "       9, 10, 11, 12, 13,\n",
    "       14,15, 16,3,\n",
    "       17, 18, 19, 20, 21,\n",
    "       22, 14, 17, 23, 23, 24, 25,\n",
    "       20, 26, 27, 28, 29, 30,\n",
    "       31, 32, 33,\n",
    "       5, 34, 9, 35,\n",
    "       36, 14, 35, 1, 33,\n",
    "       5],inplace=True)"
   ]
  },
  {
   "cell_type": "code",
   "execution_count": 11,
   "id": "dfde0702",
   "metadata": {
    "execution": {
     "iopub.execute_input": "2024-01-31T12:05:10.571076Z",
     "iopub.status.busy": "2024-01-31T12:05:10.570811Z",
     "iopub.status.idle": "2024-01-31T12:05:10.573395Z",
     "shell.execute_reply": "2024-01-31T12:05:10.573066Z"
    }
   },
   "outputs": [],
   "source": [
    "data['Choose your gender'].replace(['Female', 'Male'],[0, 1],inplace=True)"
   ]
  },
  {
   "cell_type": "code",
   "execution_count": 12,
   "id": "0dfdea3c",
   "metadata": {
    "execution": {
     "iopub.execute_input": "2024-01-31T12:05:10.575306Z",
     "iopub.status.busy": "2024-01-31T12:05:10.575025Z",
     "iopub.status.idle": "2024-01-31T12:05:10.577925Z",
     "shell.execute_reply": "2024-01-31T12:05:10.577545Z"
    }
   },
   "outputs": [
    {
     "data": {
      "text/plain": [
       "array([1, 0])"
      ]
     },
     "execution_count": 12,
     "metadata": {},
     "output_type": "execute_result"
    }
   ],
   "source": [
    "data['Choose your gender'].unique()"
   ]
  },
  {
   "cell_type": "code",
   "execution_count": 13,
   "id": "6ccf3fcd",
   "metadata": {
    "execution": {
     "iopub.execute_input": "2024-01-31T12:05:10.579821Z",
     "iopub.status.busy": "2024-01-31T12:05:10.579541Z",
     "iopub.status.idle": "2024-01-31T12:05:10.581931Z",
     "shell.execute_reply": "2024-01-31T12:05:10.581538Z"
    }
   },
   "outputs": [],
   "source": [
    "data['Choose your gender'].replace(['Female', 'Male'],[0, 1],inplace=True)"
   ]
  },
  {
   "cell_type": "code",
   "execution_count": 14,
   "id": "94f310cf",
   "metadata": {
    "execution": {
     "iopub.execute_input": "2024-01-31T12:05:10.583975Z",
     "iopub.status.busy": "2024-01-31T12:05:10.583662Z",
     "iopub.status.idle": "2024-01-31T12:05:10.586614Z",
     "shell.execute_reply": "2024-01-31T12:05:10.586291Z"
    }
   },
   "outputs": [
    {
     "data": {
      "text/plain": [
       "array(['year 1', 'Year 3', 'Year 2', 'year 2', 'year 4', 'year 3',\n",
       "       'Year 1'], dtype=object)"
      ]
     },
     "execution_count": 14,
     "metadata": {},
     "output_type": "execute_result"
    }
   ],
   "source": [
    "data['Your current year of Study'].unique()"
   ]
  },
  {
   "cell_type": "code",
   "execution_count": 15,
   "id": "b9354c86",
   "metadata": {
    "execution": {
     "iopub.execute_input": "2024-01-31T12:05:10.588480Z",
     "iopub.status.busy": "2024-01-31T12:05:10.588202Z",
     "iopub.status.idle": "2024-01-31T12:05:10.591227Z",
     "shell.execute_reply": "2024-01-31T12:05:10.590900Z"
    }
   },
   "outputs": [],
   "source": [
    "data['Your current year of Study'].replace(['year 1', 'year 2', 'Year 1', 'year 3', 'year 4', 'Year 2','Year 3'], [0,1,0,2,3,1,2], inplace=True)"
   ]
  },
  {
   "cell_type": "code",
   "execution_count": 16,
   "id": "5aa4ae90",
   "metadata": {
    "execution": {
     "iopub.execute_input": "2024-01-31T12:05:10.593083Z",
     "iopub.status.busy": "2024-01-31T12:05:10.592803Z",
     "iopub.status.idle": "2024-01-31T12:05:10.595674Z",
     "shell.execute_reply": "2024-01-31T12:05:10.595353Z"
    }
   },
   "outputs": [
    {
     "data": {
      "text/plain": [
       "array(['No', 'Yes'], dtype=object)"
      ]
     },
     "execution_count": 16,
     "metadata": {},
     "output_type": "execute_result"
    }
   ],
   "source": [
    "data['Marital status'].unique()"
   ]
  },
  {
   "cell_type": "code",
   "execution_count": 17,
   "id": "f6d43e63",
   "metadata": {
    "execution": {
     "iopub.execute_input": "2024-01-31T12:05:10.597527Z",
     "iopub.status.busy": "2024-01-31T12:05:10.597261Z",
     "iopub.status.idle": "2024-01-31T12:05:10.599912Z",
     "shell.execute_reply": "2024-01-31T12:05:10.599585Z"
    }
   },
   "outputs": [],
   "source": [
    "data['Marital status'].replace(['No', 'Yes'], [0,1], inplace=True)"
   ]
  },
  {
   "cell_type": "code",
   "execution_count": 18,
   "id": "0cfd4716",
   "metadata": {
    "execution": {
     "iopub.execute_input": "2024-01-31T12:05:10.601738Z",
     "iopub.status.busy": "2024-01-31T12:05:10.601487Z",
     "iopub.status.idle": "2024-01-31T12:05:10.604339Z",
     "shell.execute_reply": "2024-01-31T12:05:10.604017Z"
    }
   },
   "outputs": [
    {
     "data": {
      "text/plain": [
       "array(['No', 'Yes'], dtype=object)"
      ]
     },
     "execution_count": 18,
     "metadata": {},
     "output_type": "execute_result"
    }
   ],
   "source": [
    "data[ 'Did you seek any specialist for a treatment?'].unique()"
   ]
  },
  {
   "cell_type": "code",
   "execution_count": 19,
   "id": "ac871f18",
   "metadata": {
    "execution": {
     "iopub.execute_input": "2024-01-31T12:05:10.606193Z",
     "iopub.status.busy": "2024-01-31T12:05:10.605913Z",
     "iopub.status.idle": "2024-01-31T12:05:10.608517Z",
     "shell.execute_reply": "2024-01-31T12:05:10.608188Z"
    }
   },
   "outputs": [],
   "source": [
    "data['Did you seek any specialist for a treatment?'].replace(['No', 'Yes'], [0,1], inplace=True)"
   ]
  },
  {
   "cell_type": "code",
   "execution_count": 20,
   "id": "f58f984a",
   "metadata": {
    "execution": {
     "iopub.execute_input": "2024-01-31T12:05:10.610445Z",
     "iopub.status.busy": "2024-01-31T12:05:10.610164Z",
     "iopub.status.idle": "2024-01-31T12:05:10.612958Z",
     "shell.execute_reply": "2024-01-31T12:05:10.612640Z"
    }
   },
   "outputs": [
    {
     "data": {
      "text/plain": [
       "array(['No', 'Yes'], dtype=object)"
      ]
     },
     "execution_count": 20,
     "metadata": {},
     "output_type": "execute_result"
    }
   ],
   "source": [
    "data['Do you have Depression?'].unique()"
   ]
  },
  {
   "cell_type": "code",
   "execution_count": 21,
   "id": "24309b77",
   "metadata": {
    "execution": {
     "iopub.execute_input": "2024-01-31T12:05:10.614812Z",
     "iopub.status.busy": "2024-01-31T12:05:10.614561Z",
     "iopub.status.idle": "2024-01-31T12:05:10.617039Z",
     "shell.execute_reply": "2024-01-31T12:05:10.616707Z"
    }
   },
   "outputs": [],
   "source": [
    "data['Do you have Depression?'].replace(['Yes', 'No'], [1,0], inplace=True)"
   ]
  },
  {
   "cell_type": "code",
   "execution_count": 22,
   "id": "cbdcea5e",
   "metadata": {
    "execution": {
     "iopub.execute_input": "2024-01-31T12:05:10.618883Z",
     "iopub.status.busy": "2024-01-31T12:05:10.618630Z",
     "iopub.status.idle": "2024-01-31T12:05:10.621365Z",
     "shell.execute_reply": "2024-01-31T12:05:10.621039Z"
    }
   },
   "outputs": [
    {
     "data": {
      "text/plain": [
       "array(['No', 'Yes'], dtype=object)"
      ]
     },
     "execution_count": 22,
     "metadata": {},
     "output_type": "execute_result"
    }
   ],
   "source": [
    "data['Do you have Anxiety?'].unique()"
   ]
  },
  {
   "cell_type": "code",
   "execution_count": 23,
   "id": "df916ff2",
   "metadata": {
    "execution": {
     "iopub.execute_input": "2024-01-31T12:05:10.623175Z",
     "iopub.status.busy": "2024-01-31T12:05:10.622923Z",
     "iopub.status.idle": "2024-01-31T12:05:10.625406Z",
     "shell.execute_reply": "2024-01-31T12:05:10.625075Z"
    }
   },
   "outputs": [],
   "source": [
    "data['Do you have Anxiety?'].replace(['No', 'Yes'], [0,1], inplace=True)"
   ]
  },
  {
   "cell_type": "code",
   "execution_count": 24,
   "id": "2f3abf09",
   "metadata": {
    "execution": {
     "iopub.execute_input": "2024-01-31T12:05:10.627239Z",
     "iopub.status.busy": "2024-01-31T12:05:10.626988Z",
     "iopub.status.idle": "2024-01-31T12:05:10.629722Z",
     "shell.execute_reply": "2024-01-31T12:05:10.629392Z"
    }
   },
   "outputs": [
    {
     "data": {
      "text/plain": [
       "array(['No', 'Yes'], dtype=object)"
      ]
     },
     "execution_count": 24,
     "metadata": {},
     "output_type": "execute_result"
    }
   ],
   "source": [
    "data['Do you have Panic attack?'].unique()"
   ]
  },
  {
   "cell_type": "code",
   "execution_count": 25,
   "id": "419c5ce3",
   "metadata": {
    "execution": {
     "iopub.execute_input": "2024-01-31T12:05:10.631551Z",
     "iopub.status.busy": "2024-01-31T12:05:10.631300Z",
     "iopub.status.idle": "2024-01-31T12:05:10.633840Z",
     "shell.execute_reply": "2024-01-31T12:05:10.633500Z"
    }
   },
   "outputs": [],
   "source": [
    "data['Do you have Panic attack?'].replace(['No', 'Yes'], [0,1], inplace=True)"
   ]
  },
  {
   "cell_type": "code",
   "execution_count": 26,
   "id": "8331f326",
   "metadata": {
    "execution": {
     "iopub.execute_input": "2024-01-31T12:05:10.635663Z",
     "iopub.status.busy": "2024-01-31T12:05:10.635411Z",
     "iopub.status.idle": "2024-01-31T12:05:10.639338Z",
     "shell.execute_reply": "2024-01-31T12:05:10.639013Z"
    },
    "scrolled": true
   },
   "outputs": [
    {
     "data": {
      "text/plain": [
       "Choose your gender                              0\n",
       "Age                                             1\n",
       "What is your course?                            0\n",
       "Your current year of Study                      0\n",
       "What is your CGPA?                              0\n",
       "Marital status                                  0\n",
       "Do you have Depression?                         0\n",
       "Do you have Anxiety?                            0\n",
       "Do you have Panic attack?                       0\n",
       "Did you seek any specialist for a treatment?    0\n",
       "dtype: int64"
      ]
     },
     "execution_count": 26,
     "metadata": {},
     "output_type": "execute_result"
    }
   ],
   "source": [
    "data.isna().sum()"
   ]
  },
  {
   "cell_type": "code",
   "execution_count": 27,
   "id": "19f22380",
   "metadata": {
    "execution": {
     "iopub.execute_input": "2024-01-31T12:05:10.641153Z",
     "iopub.status.busy": "2024-01-31T12:05:10.640904Z",
     "iopub.status.idle": "2024-01-31T12:05:10.643334Z",
     "shell.execute_reply": "2024-01-31T12:05:10.642999Z"
    }
   },
   "outputs": [],
   "source": [
    "data['Age'].fillna(data['Age'].mean(),inplace=True)"
   ]
  },
  {
   "cell_type": "code",
   "execution_count": 28,
   "id": "c6a0759f",
   "metadata": {
    "execution": {
     "iopub.execute_input": "2024-01-31T12:05:10.645163Z",
     "iopub.status.busy": "2024-01-31T12:05:10.644913Z",
     "iopub.status.idle": "2024-01-31T12:05:10.648738Z",
     "shell.execute_reply": "2024-01-31T12:05:10.648411Z"
    }
   },
   "outputs": [
    {
     "data": {
      "text/plain": [
       "Choose your gender                              0\n",
       "Age                                             0\n",
       "What is your course?                            0\n",
       "Your current year of Study                      0\n",
       "What is your CGPA?                              0\n",
       "Marital status                                  0\n",
       "Do you have Depression?                         0\n",
       "Do you have Anxiety?                            0\n",
       "Do you have Panic attack?                       0\n",
       "Did you seek any specialist for a treatment?    0\n",
       "dtype: int64"
      ]
     },
     "execution_count": 28,
     "metadata": {},
     "output_type": "execute_result"
    }
   ],
   "source": [
    "data.isna().sum()"
   ]
  },
  {
   "cell_type": "code",
   "execution_count": 29,
   "id": "769e8056",
   "metadata": {
    "execution": {
     "iopub.execute_input": "2024-01-31T12:05:10.650588Z",
     "iopub.status.busy": "2024-01-31T12:05:10.650337Z",
     "iopub.status.idle": "2024-01-31T12:05:10.653096Z",
     "shell.execute_reply": "2024-01-31T12:05:10.652771Z"
    }
   },
   "outputs": [
    {
     "data": {
      "text/plain": [
       "array(['3.00 - 3.49', '3.50 - 4.00', '2.50 - 2.99', '0 - 1.99',\n",
       "       '2.00 - 2.49', '3.50 - 4.00 '], dtype=object)"
      ]
     },
     "execution_count": 29,
     "metadata": {},
     "output_type": "execute_result"
    }
   ],
   "source": [
    "data['What is your CGPA?'].unique()"
   ]
  },
  {
   "cell_type": "code",
   "execution_count": 30,
   "id": "cdedc63e",
   "metadata": {
    "execution": {
     "iopub.execute_input": "2024-01-31T12:05:10.654930Z",
     "iopub.status.busy": "2024-01-31T12:05:10.654680Z",
     "iopub.status.idle": "2024-01-31T12:05:10.658016Z",
     "shell.execute_reply": "2024-01-31T12:05:10.657677Z"
    }
   },
   "outputs": [],
   "source": [
    "replacement_dict = {\n",
    "    '3.00 - 3.49': np.mean([3.00, 3.49]),\n",
    "    '3.50 - 4.00': np.mean([3.50, 4.00]),\n",
    "    '3.50 - 4.00 ': np.mean([3.50, 4.00]),\n",
    "    '2.50 - 2.99': np.mean([2.50, 2.99]),\n",
    "    '2.00 - 2.49': np.mean([2.00, 2.49]),\n",
    "    '0 - 1.99': np.mean([0, 1.99])\n",
    "}\n",
    "\n",
    "data['What is your CGPA?'].replace(replacement_dict, inplace=True)\n"
   ]
  },
  {
   "cell_type": "code",
   "execution_count": 31,
   "id": "611fd533",
   "metadata": {
    "execution": {
     "iopub.execute_input": "2024-01-31T12:05:10.659846Z",
     "iopub.status.busy": "2024-01-31T12:05:10.659596Z",
     "iopub.status.idle": "2024-01-31T12:05:10.666702Z",
     "shell.execute_reply": "2024-01-31T12:05:10.666354Z"
    }
   },
   "outputs": [
    {
     "name": "stdout",
     "output_type": "stream",
     "text": [
      "<class 'pandas.core.frame.DataFrame'>\n",
      "Int64Index: 101 entries, 84 to 51\n",
      "Data columns (total 10 columns):\n",
      " #   Column                                        Non-Null Count  Dtype  \n",
      "---  ------                                        --------------  -----  \n",
      " 0   Choose your gender                            101 non-null    int64  \n",
      " 1   Age                                           101 non-null    float64\n",
      " 2   What is your course?                          101 non-null    int64  \n",
      " 3   Your current year of Study                    101 non-null    int64  \n",
      " 4   What is your CGPA?                            101 non-null    float64\n",
      " 5   Marital status                                101 non-null    int64  \n",
      " 6   Do you have Depression?                       101 non-null    int64  \n",
      " 7   Do you have Anxiety?                          101 non-null    int64  \n",
      " 8   Do you have Panic attack?                     101 non-null    int64  \n",
      " 9   Did you seek any specialist for a treatment?  101 non-null    int64  \n",
      "dtypes: float64(2), int64(8)\n",
      "memory usage: 8.7 KB\n"
     ]
    }
   ],
   "source": [
    "data.info()"
   ]
  },
  {
   "cell_type": "code",
   "execution_count": 32,
   "id": "e633073d-271c-450a-87f9-a61755e2f011",
   "metadata": {
    "execution": {
     "iopub.execute_input": "2024-01-31T12:05:10.668538Z",
     "iopub.status.busy": "2024-01-31T12:05:10.668286Z",
     "iopub.status.idle": "2024-01-31T12:05:10.671514Z",
     "shell.execute_reply": "2024-01-31T12:05:10.671132Z"
    }
   },
   "outputs": [],
   "source": [
    "data.drop_duplicates(inplace=True, ignore_index=True)"
   ]
  },
  {
   "cell_type": "markdown",
   "id": "cca5635c-52de-4588-bca9-602be951a774",
   "metadata": {
    "execution": {
     "iopub.execute_input": "2023-10-26T09:17:33.193322Z",
     "iopub.status.busy": "2023-10-26T09:17:33.193040Z",
     "iopub.status.idle": "2023-10-26T09:17:33.196216Z",
     "shell.execute_reply": "2023-10-26T09:17:33.195840Z"
    },
    "tags": []
   },
   "source": [
    "output_file_path=os.path.join(parent_directory,\"PreprocessedDatasets/StudentsMentalHealth.csv\")\n",
    "data.to_csv(output_file_path, index=False)"
   ]
  },
  {
   "cell_type": "code",
   "execution_count": 33,
   "id": "f6585796-c7c5-4f06-a1f4-5f5aea784e42",
   "metadata": {
    "execution": {
     "iopub.execute_input": "2024-01-31T12:05:10.673480Z",
     "iopub.status.busy": "2024-01-31T12:05:10.673180Z",
     "iopub.status.idle": "2024-01-31T12:05:10.675566Z",
     "shell.execute_reply": "2024-01-31T12:05:10.675203Z"
    }
   },
   "outputs": [],
   "source": [
    "np.random.seed(42)\n",
    "data=data.sample(frac=1)"
   ]
  },
  {
   "cell_type": "markdown",
   "id": "b660f1df-14b8-462c-a36c-5718f1881bda",
   "metadata": {},
   "source": [
    "### UMAP on entire data"
   ]
  },
  {
   "cell_type": "code",
   "execution_count": 34,
   "id": "2326c5ac-3967-4a6e-8488-dd1dd29796e3",
   "metadata": {
    "execution": {
     "iopub.execute_input": "2024-01-31T12:05:10.677499Z",
     "iopub.status.busy": "2024-01-31T12:05:10.677221Z",
     "iopub.status.idle": "2024-01-31T12:05:10.679313Z",
     "shell.execute_reply": "2024-01-31T12:05:10.678976Z"
    }
   },
   "outputs": [],
   "source": [
    "from fdc.fdc import feature_clustering"
   ]
  },
  {
   "cell_type": "code",
   "execution_count": 35,
   "id": "4f208ccd-b32d-4a0c-b8be-e6edf64b5664",
   "metadata": {
    "execution": {
     "iopub.execute_input": "2024-01-31T12:05:10.681167Z",
     "iopub.status.busy": "2024-01-31T12:05:10.680895Z",
     "iopub.status.idle": "2024-01-31T12:05:14.924409Z",
     "shell.execute_reply": "2024-01-31T12:05:14.923938Z"
    }
   },
   "outputs": [
    {
     "data": {
      "image/png": "[encoded data removed]",
      "text/plain": [
       "<Figure size 500x500 with 1 Axes>"
      ]
     },
     "metadata": {},
     "output_type": "display_data"
    }
   ],
   "source": [
    "np.random.seed(42)\n",
    "umap_emb=feature_clustering(30,0.1,'euclidean',data,True)"
   ]
  },
  {
   "cell_type": "markdown",
   "id": "f0068723-e652-4358-a2c4-761f5e1833d8",
   "metadata": {},
   "source": [
    "### Feature-type Distributed Clustering (FDC)"
   ]
  },
  {
   "cell_type": "code",
   "execution_count": 36,
   "id": "d91f3053-c382-490a-9c6a-e3925f5d0660",
   "metadata": {
    "execution": {
     "iopub.execute_input": "2024-01-31T12:05:14.926473Z",
     "iopub.status.busy": "2024-01-31T12:05:14.926328Z",
     "iopub.status.idle": "2024-01-31T12:05:14.929210Z",
     "shell.execute_reply": "2024-01-31T12:05:14.928762Z"
    }
   },
   "outputs": [],
   "source": [
    "cont_list=['Age','What is your CGPA?']\n",
    "\n",
    "nom_list=['What is your course?','Choose your gender','Your current year of Study','Marital status']\n",
    "\n",
    "ord_list=['Do you have Depression?','Do you have Anxiety?','Do you have Panic attack?', 'Did you seek any specialist for a treatment?']\n",
    "\n",
    "target = None\n"
   ]
  },
  {
   "cell_type": "code",
   "execution_count": 37,
   "id": "2e9a0102-2e1a-42ca-87e6-957f8c44e0b0",
   "metadata": {
    "execution": {
     "iopub.execute_input": "2024-01-31T12:05:14.931004Z",
     "iopub.status.busy": "2024-01-31T12:05:14.930841Z",
     "iopub.status.idle": "2024-01-31T12:05:14.932996Z",
     "shell.execute_reply": "2024-01-31T12:05:14.932663Z"
    }
   },
   "outputs": [],
   "source": [
    "output_file_path=os.path.join(parent_directory,\"PreprocessedDatasets/StudentsMentalHealth.json\")"
   ]
  },
  {
   "cell_type": "code",
   "execution_count": 38,
   "id": "e535f373-b83e-491b-bef9-70aa19eb2d72",
   "metadata": {
    "execution": {
     "iopub.execute_input": "2024-01-31T12:05:14.934905Z",
     "iopub.status.busy": "2024-01-31T12:05:14.934614Z",
     "iopub.status.idle": "2024-01-31T12:05:14.937170Z",
     "shell.execute_reply": "2024-01-31T12:05:14.936801Z"
    }
   },
   "outputs": [],
   "source": [
    "import json\n",
    "\n",
    "features = {\n",
    "    \"cont_list\": cont_list,\n",
    "    \"nom_list\": nom_list,\n",
    "    \"ord_list\": ord_list,\n",
    "    \"target\": target\n",
    "}\n",
    "\n",
    "with open(output_file_path, \"w\") as json_file:\n",
    "    json.dump(features, json_file)"
   ]
  },
  {
   "cell_type": "code",
   "execution_count": 39,
   "id": "8597d25f-470b-41c5-8353-05f15421e850",
   "metadata": {
    "execution": {
     "iopub.execute_input": "2024-01-31T12:05:14.939069Z",
     "iopub.status.busy": "2024-01-31T12:05:14.938763Z",
     "iopub.status.idle": "2024-01-31T12:05:17.676019Z",
     "shell.execute_reply": "2024-01-31T12:05:17.675543Z"
    }
   },
   "outputs": [
    {
     "name": "stdout",
     "output_type": "stream",
     "text": [
      "FDC.normalize (init): 0.00001 / 0.000s\n"
     ]
    },
    {
     "name": "stdout",
     "output_type": "stream",
     "text": [
      "FDC.normalize (clustering CONT): 0.90719 / 0.907s\n"
     ]
    },
    {
     "name": "stdout",
     "output_type": "stream",
     "text": [
      "FDC.normalize (clustering ORD): 1.33698 / 2.244s\n",
      "FDC.normalize (clustering NOM): 0.00004 / 2.244s\n",
      "FDC.normalize (concat): 0.00001 / 2.244s\n"
     ]
    },
    {
     "name": "stdout",
     "output_type": "stream",
     "text": [
      "FDC.normalize (umap 5 -> 2): 0.85839 / 3.103s\n",
      "FDC.normalize (array -> DataFrame): 0.00025 / 3.103s\n"
     ]
    },
    {
     "data": {
      "image/png": "[encoded data removed]",
      "text/plain": [
       "<Figure size 500x500 with 1 Axes>"
      ]
     },
     "metadata": {},
     "output_type": "display_data"
    },
    {
     "name": "stdout",
     "output_type": "stream",
     "text": [
      "FDC.normalize (plotting): 0.41193 / 3.515s\n",
      "FDC.normalize (array -> DataFrame): 0.00017 / 3.515s\n",
      "FDC.normalize (total): 0.00001 / 3.515s\n"
     ]
    }
   ],
   "source": [
    "from fdc.fdc import feature_clustering, canberra_modified, Clustering, FDC\n",
    "np.random.seed(42)\n",
    "\n",
    "fdc = FDC(clustering_cont=Clustering('euclidean',30,0.01)\n",
    "          , clustering_ord=Clustering(canberra_modified,30,0.01)\n",
    "          , visual=True\n",
    "          , use_pandas_output=True\n",
    "          , with_2d_embedding=True\n",
    "          )\n",
    "\n",
    "fdc.selectFeatures(continueous=cont_list, ordinal=ord_list)\n",
    "\n",
    "FDC_emb_high,FDC_emb_low = fdc.normalize(data,cont_list=cont_list, ord_list=ord_list,\n",
    "                  with_2d_embedding=True,\n",
    "                  visual=True)"
   ]
  },
  {
   "cell_type": "markdown",
   "id": "c463a715-9608-4325-b72b-b710e1ccb589",
   "metadata": {},
   "source": [
    "### Clustering using K-means"
   ]
  },
  {
   "cell_type": "code",
   "execution_count": 40,
   "id": "a134fdf7-6507-4a33-b163-23f72cc2a074",
   "metadata": {
    "execution": {
     "iopub.execute_input": "2024-01-31T12:05:17.678011Z",
     "iopub.status.busy": "2024-01-31T12:05:17.677867Z",
     "iopub.status.idle": "2024-01-31T12:05:17.967664Z",
     "shell.execute_reply": "2024-01-31T12:05:17.967137Z"
    },
    "tags": []
   },
   "outputs": [
    {
     "data": {
      "image/png": "[encoded data removed]",
      "text/plain": [
       "<Figure size 640x480 with 1 Axes>"
      ]
     },
     "metadata": {},
     "output_type": "display_data"
    }
   ],
   "source": [
    "kmeans_kwargs = {\n",
    "\"init\": \"random\",\n",
    "\"n_init\": 10,\n",
    "\"random_state\": 1,\n",
    "}\n",
    "\n",
    "#create list to hold SSE values for each k\n",
    "sse = []\n",
    "for k in range(1, 11):\n",
    "    kmeans = KMeans(n_clusters=k, **kmeans_kwargs)\n",
    "    kmeans.fit(FDC_emb_low)\n",
    "    sse.append(kmeans.inertia_)\n",
    "\n",
    "#visualize results\n",
    "plt.plot(range(1, 11), sse)\n",
    "plt.xticks(range(1, 11))\n",
    "plt.xlabel(\"Number of Clusters\")\n",
    "plt.ylabel(\"SSE\")\n",
    "plt.show()"
   ]
  },
  {
   "cell_type": "code",
   "execution_count": 41,
   "id": "dc0e649f",
   "metadata": {
    "execution": {
     "iopub.execute_input": "2024-01-31T12:05:17.969835Z",
     "iopub.status.busy": "2024-01-31T12:05:17.969663Z",
     "iopub.status.idle": "2024-01-31T12:05:17.973174Z",
     "shell.execute_reply": "2024-01-31T12:05:17.972724Z"
    }
   },
   "outputs": [],
   "source": [
    "def find_optimal_cluster(FDC_emb_low):\n",
    "    silhouette_scores = []\n",
    "\n",
    "    for n_clusters in list(range(2, 9)):\n",
    "        km = KMeans(n_clusters=n_clusters, init='k-means++', n_init=10, max_iter=100, random_state=42)\n",
    "\n",
    "        km.fit(FDC_emb_low)\n",
    "\n",
    "        labels = km.labels_\n",
    "\n",
    "        # Compute the silhouette score\n",
    "        silhouette_avg = silhouette_score(FDC_emb_low, labels)\n",
    "        silhouette_scores.append(silhouette_avg)\n",
    "    return silhouette_scores"
   ]
  },
  {
   "cell_type": "code",
   "execution_count": 42,
   "id": "3257ae7b",
   "metadata": {
    "execution": {
     "iopub.execute_input": "2024-01-31T12:05:17.975014Z",
     "iopub.status.busy": "2024-01-31T12:05:17.974847Z",
     "iopub.status.idle": "2024-01-31T12:05:18.086045Z",
     "shell.execute_reply": "2024-01-31T12:05:18.085619Z"
    },
    "scrolled": true,
    "tags": []
   },
   "outputs": [
    {
     "data": {
      "text/plain": [
       "[0.8213758,\n",
       " 0.69249207,\n",
       " 0.6252626,\n",
       " 0.6256647,\n",
       " 0.45149276,\n",
       " 0.4955291,\n",
       " 0.49156472]"
      ]
     },
     "execution_count": 42,
     "metadata": {},
     "output_type": "execute_result"
    }
   ],
   "source": [
    "find_optimal_cluster(FDC_emb_low)"
   ]
  },
  {
   "cell_type": "code",
   "execution_count": 43,
   "id": "80dbc9a4-8997-42d2-b4fd-49515bb2f8c1",
   "metadata": {
    "execution": {
     "iopub.execute_input": "2024-01-31T12:05:18.088166Z",
     "iopub.status.busy": "2024-01-31T12:05:18.087880Z",
     "iopub.status.idle": "2024-01-31T12:05:18.365059Z",
     "shell.execute_reply": "2024-01-31T12:05:18.364595Z"
    },
    "scrolled": true
   },
   "outputs": [
    {
     "data": {
      "image/png": "[encoded data removed]",
      "text/plain": [
       "<Figure size 560.361x500 with 1 Axes>"
      ]
     },
     "metadata": {},
     "output_type": "display_data"
    }
   ],
   "source": [
    "from fdc.clustering import *\n",
    "np.random.seed(42)\n",
    "clustering=Clustering(FDC_emb_low,FDC_emb_low,True)\n",
    "cluster_list,cluster_counts=clustering.K_means(2)"
   ]
  },
  {
   "cell_type": "code",
   "execution_count": 44,
   "id": "c2f410a1",
   "metadata": {
    "execution": {
     "iopub.execute_input": "2024-01-31T12:05:18.366975Z",
     "iopub.status.busy": "2024-01-31T12:05:18.366798Z",
     "iopub.status.idle": "2024-01-31T12:05:18.369915Z",
     "shell.execute_reply": "2024-01-31T12:05:18.369553Z"
    }
   },
   "outputs": [
    {
     "data": {
      "text/plain": [
       "array([63, 38])"
      ]
     },
     "execution_count": 44,
     "metadata": {},
     "output_type": "execute_result"
    }
   ],
   "source": [
    "cluster_counts"
   ]
  },
  {
   "cell_type": "code",
   "execution_count": 45,
   "id": "250dd725-ecae-4e4d-a125-45a3d64840ab",
   "metadata": {
    "execution": {
     "iopub.execute_input": "2024-01-31T12:05:18.371850Z",
     "iopub.status.busy": "2024-01-31T12:05:18.371499Z",
     "iopub.status.idle": "2024-01-31T12:05:18.374005Z",
     "shell.execute_reply": "2024-01-31T12:05:18.373635Z"
    }
   },
   "outputs": [],
   "source": [
    "data['Target']=cluster_list"
   ]
  },
  {
   "cell_type": "code",
   "execution_count": 46,
   "id": "45fb9cab-6d92-4db5-8db5-70a64bd4c979",
   "metadata": {
    "execution": {
     "iopub.execute_input": "2024-01-31T12:05:18.375917Z",
     "iopub.status.busy": "2024-01-31T12:05:18.375569Z",
     "iopub.status.idle": "2024-01-31T12:05:18.379127Z",
     "shell.execute_reply": "2024-01-31T12:05:18.378751Z"
    },
    "tags": []
   },
   "outputs": [],
   "source": [
    "output_file_path=os.path.join(parent_directory,\"PreprocessedDatasets/SSStudentsMentalHealth.csv\")\n",
    "data.to_csv(output_file_path, index=False)"
   ]
  },
  {
   "cell_type": "code",
   "execution_count": 47,
   "id": "7bf92e7b-36ed-4d66-8f6a-11beb2defba4",
   "metadata": {
    "execution": {
     "iopub.execute_input": "2024-01-31T12:05:18.381024Z",
     "iopub.status.busy": "2024-01-31T12:05:18.380696Z",
     "iopub.status.idle": "2024-01-31T12:05:18.390686Z",
     "shell.execute_reply": "2024-01-31T12:05:18.390327Z"
    }
   },
   "outputs": [
    {
     "data": {
      "text/html": [
       "<div>\n",
       "<style scoped>\n",
       "    .dataframe tbody tr th:only-of-type {\n",
       "        vertical-align: middle;\n",
       "    }\n",
       "\n",
       "    .dataframe tbody tr th {\n",
       "        vertical-align: top;\n",
       "    }\n",
       "\n",
       "    .dataframe thead th {\n",
       "        text-align: right;\n",
       "    }\n",
       "</style>\n",
       "<table border=\"1\" class=\"dataframe\">\n",
       "  <thead>\n",
       "    <tr style=\"text-align: right;\">\n",
       "      <th></th>\n",
       "      <th>Choose your gender</th>\n",
       "      <th>Age</th>\n",
       "      <th>What is your course?</th>\n",
       "      <th>Your current year of Study</th>\n",
       "      <th>What is your CGPA?</th>\n",
       "      <th>Marital status</th>\n",
       "      <th>Do you have Depression?</th>\n",
       "      <th>Do you have Anxiety?</th>\n",
       "      <th>Do you have Panic attack?</th>\n",
       "      <th>Did you seek any specialist for a treatment?</th>\n",
       "      <th>Target</th>\n",
       "    </tr>\n",
       "  </thead>\n",
       "  <tbody>\n",
       "    <tr>\n",
       "      <th>84</th>\n",
       "      <td>0</td>\n",
       "      <td>24.0</td>\n",
       "      <td>6</td>\n",
       "      <td>3</td>\n",
       "      <td>3.750</td>\n",
       "      <td>0</td>\n",
       "      <td>0</td>\n",
       "      <td>0</td>\n",
       "      <td>0</td>\n",
       "      <td>0</td>\n",
       "      <td>1</td>\n",
       "    </tr>\n",
       "    <tr>\n",
       "      <th>55</th>\n",
       "      <td>0</td>\n",
       "      <td>18.0</td>\n",
       "      <td>17</td>\n",
       "      <td>0</td>\n",
       "      <td>3.750</td>\n",
       "      <td>0</td>\n",
       "      <td>0</td>\n",
       "      <td>0</td>\n",
       "      <td>0</td>\n",
       "      <td>0</td>\n",
       "      <td>0</td>\n",
       "    </tr>\n",
       "    <tr>\n",
       "      <th>66</th>\n",
       "      <td>0</td>\n",
       "      <td>18.0</td>\n",
       "      <td>28</td>\n",
       "      <td>0</td>\n",
       "      <td>3.750</td>\n",
       "      <td>0</td>\n",
       "      <td>1</td>\n",
       "      <td>0</td>\n",
       "      <td>0</td>\n",
       "      <td>0</td>\n",
       "      <td>0</td>\n",
       "    </tr>\n",
       "    <tr>\n",
       "      <th>67</th>\n",
       "      <td>0</td>\n",
       "      <td>19.0</td>\n",
       "      <td>0</td>\n",
       "      <td>0</td>\n",
       "      <td>3.750</td>\n",
       "      <td>0</td>\n",
       "      <td>0</td>\n",
       "      <td>1</td>\n",
       "      <td>0</td>\n",
       "      <td>0</td>\n",
       "      <td>0</td>\n",
       "    </tr>\n",
       "    <tr>\n",
       "      <th>45</th>\n",
       "      <td>1</td>\n",
       "      <td>18.0</td>\n",
       "      <td>0</td>\n",
       "      <td>1</td>\n",
       "      <td>3.245</td>\n",
       "      <td>1</td>\n",
       "      <td>1</td>\n",
       "      <td>1</td>\n",
       "      <td>0</td>\n",
       "      <td>0</td>\n",
       "      <td>0</td>\n",
       "    </tr>\n",
       "    <tr>\n",
       "      <th>...</th>\n",
       "      <td>...</td>\n",
       "      <td>...</td>\n",
       "      <td>...</td>\n",
       "      <td>...</td>\n",
       "      <td>...</td>\n",
       "      <td>...</td>\n",
       "      <td>...</td>\n",
       "      <td>...</td>\n",
       "      <td>...</td>\n",
       "      <td>...</td>\n",
       "      <td>...</td>\n",
       "    </tr>\n",
       "    <tr>\n",
       "      <th>60</th>\n",
       "      <td>0</td>\n",
       "      <td>18.0</td>\n",
       "      <td>3</td>\n",
       "      <td>2</td>\n",
       "      <td>3.245</td>\n",
       "      <td>0</td>\n",
       "      <td>1</td>\n",
       "      <td>1</td>\n",
       "      <td>0</td>\n",
       "      <td>0</td>\n",
       "      <td>0</td>\n",
       "    </tr>\n",
       "    <tr>\n",
       "      <th>71</th>\n",
       "      <td>0</td>\n",
       "      <td>24.0</td>\n",
       "      <td>32</td>\n",
       "      <td>1</td>\n",
       "      <td>3.750</td>\n",
       "      <td>1</td>\n",
       "      <td>1</td>\n",
       "      <td>1</td>\n",
       "      <td>1</td>\n",
       "      <td>0</td>\n",
       "      <td>1</td>\n",
       "    </tr>\n",
       "    <tr>\n",
       "      <th>14</th>\n",
       "      <td>0</td>\n",
       "      <td>18.0</td>\n",
       "      <td>30</td>\n",
       "      <td>1</td>\n",
       "      <td>3.245</td>\n",
       "      <td>0</td>\n",
       "      <td>0</td>\n",
       "      <td>0</td>\n",
       "      <td>1</td>\n",
       "      <td>0</td>\n",
       "      <td>0</td>\n",
       "    </tr>\n",
       "    <tr>\n",
       "      <th>92</th>\n",
       "      <td>1</td>\n",
       "      <td>24.0</td>\n",
       "      <td>2</td>\n",
       "      <td>2</td>\n",
       "      <td>3.750</td>\n",
       "      <td>0</td>\n",
       "      <td>0</td>\n",
       "      <td>1</td>\n",
       "      <td>0</td>\n",
       "      <td>0</td>\n",
       "      <td>1</td>\n",
       "    </tr>\n",
       "    <tr>\n",
       "      <th>51</th>\n",
       "      <td>1</td>\n",
       "      <td>19.0</td>\n",
       "      <td>0</td>\n",
       "      <td>0</td>\n",
       "      <td>3.245</td>\n",
       "      <td>0</td>\n",
       "      <td>0</td>\n",
       "      <td>0</td>\n",
       "      <td>0</td>\n",
       "      <td>0</td>\n",
       "      <td>0</td>\n",
       "    </tr>\n",
       "  </tbody>\n",
       "</table>\n",
       "<p>101 rows × 11 columns</p>\n",
       "</div>"
      ],
      "text/plain": [
       "    Choose your gender   Age  What is your course?  \\\n",
       "84                   0  24.0                     6   \n",
       "55                   0  18.0                    17   \n",
       "66                   0  18.0                    28   \n",
       "67                   0  19.0                     0   \n",
       "45                   1  18.0                     0   \n",
       "..                 ...   ...                   ...   \n",
       "60                   0  18.0                     3   \n",
       "71                   0  24.0                    32   \n",
       "14                   0  18.0                    30   \n",
       "92                   1  24.0                     2   \n",
       "51                   1  19.0                     0   \n",
       "\n",
       "    Your current year of Study  What is your CGPA?  Marital status  \\\n",
       "84                           3               3.750               0   \n",
       "55                           0               3.750               0   \n",
       "66                           0               3.750               0   \n",
       "67                           0               3.750               0   \n",
       "45                           1               3.245               1   \n",
       "..                         ...                 ...             ...   \n",
       "60                           2               3.245               0   \n",
       "71                           1               3.750               1   \n",
       "14                           1               3.245               0   \n",
       "92                           2               3.750               0   \n",
       "51                           0               3.245               0   \n",
       "\n",
       "    Do you have Depression?  Do you have Anxiety?  Do you have Panic attack?  \\\n",
       "84                        0                     0                          0   \n",
       "55                        0                     0                          0   \n",
       "66                        1                     0                          0   \n",
       "67                        0                     1                          0   \n",
       "45                        1                     1                          0   \n",
       "..                      ...                   ...                        ...   \n",
       "60                        1                     1                          0   \n",
       "71                        1                     1                          1   \n",
       "14                        0                     0                          1   \n",
       "92                        0                     1                          0   \n",
       "51                        0                     0                          0   \n",
       "\n",
       "    Did you seek any specialist for a treatment?  Target  \n",
       "84                                             0       1  \n",
       "55                                             0       0  \n",
       "66                                             0       0  \n",
       "67                                             0       0  \n",
       "45                                             0       0  \n",
       "..                                           ...     ...  \n",
       "60                                             0       0  \n",
       "71                                             0       1  \n",
       "14                                             0       0  \n",
       "92                                             0       1  \n",
       "51                                             0       0  \n",
       "\n",
       "[101 rows x 11 columns]"
      ]
     },
     "execution_count": 47,
     "metadata": {},
     "output_type": "execute_result"
    }
   ],
   "source": [
    "data"
   ]
  },
  {
   "cell_type": "code",
   "execution_count": null,
   "id": "73e24fe9-2dd6-424d-8ec7-a312638085fa",
   "metadata": {},
   "outputs": [],
   "source": []
  }
 ],
 "metadata": {
  "kernelspec": {
   "display_name": "Python 3 (ipykernel)",
   "language": "python",
   "name": "python3"
  },
  "language_info": {
   "codemirror_mode": {
    "name": "ipython",
    "version": 3
   },
   "file_extension": ".py",
   "mimetype": "text/x-python",
   "name": "python",
   "nbconvert_exporter": "python",
   "pygments_lexer": "ipython3",
   "version": "3.8.15"
  }
 },
 "nbformat": 4,
 "nbformat_minor": 5
}
