{
 "cells": [
  {
   "cell_type": "markdown",
   "id": "a5ab3377-1363-4ab6-b4f1-564b2a386d40",
   "metadata": {},
   "source": [
    "## HeartFailure data preprocessing"
   ]
  },
  {
   "cell_type": "markdown",
   "id": "85f5f148-9358-459d-a023-3c3ab9b5bf38",
   "metadata": {},
   "source": [
    "### Importing necessary libraries"
   ]
  },
  {
   "cell_type": "code",
   "execution_count": 1,
   "id": "eff8b7a9-2ed9-46c3-a59f-6258ac1fd08b",
   "metadata": {
    "execution": {
     "iopub.execute_input": "2024-01-31T11:58:53.952147Z",
     "iopub.status.busy": "2024-01-31T11:58:53.951243Z",
     "iopub.status.idle": "2024-01-31T11:58:53.959352Z",
     "shell.execute_reply": "2024-01-31T11:58:53.958975Z"
    }
   },
   "outputs": [],
   "source": [
    "import os\n",
    "import sys\n",
    "current_directory=os.getcwd()\n",
    "parent_directory=os.path.dirname(current_directory)\n",
    "sys.path.append(parent_directory)\n"
   ]
  },
  {
   "cell_type": "code",
   "execution_count": 2,
   "id": "56b80e0e-b49b-4238-85be-28b96923aeb4",
   "metadata": {
    "execution": {
     "iopub.execute_input": "2024-01-31T11:58:53.961134Z",
     "iopub.status.busy": "2024-01-31T11:58:53.961006Z",
     "iopub.status.idle": "2024-01-31T11:58:55.517967Z",
     "shell.execute_reply": "2024-01-31T11:58:55.517423Z"
    },
    "tags": []
   },
   "outputs": [
    {
     "name": "stderr",
     "output_type": "stream",
     "text": [
      "2024-01-31 11:58:54.234651: W tensorflow/stream_executor/platform/default/dso_loader.cc:64] Could not load dynamic library 'libcudart.so.11.0'; dlerror: libcudart.so.11.0: cannot open shared object file: No such file or directory\n",
      "2024-01-31 11:58:54.234669: I tensorflow/stream_executor/cuda/cudart_stub.cc:29] Ignore above cudart dlerror if you do not have a GPU set up on your machine.\n"
     ]
    }
   ],
   "source": [
    "import numpy as np\n",
    "from library.generators.NextConvGeN import NextConvGeN\n"
   ]
  },
  {
   "cell_type": "code",
   "execution_count": 3,
   "id": "60a37ac3-8400-4930-9b8d-f50e51befb9f",
   "metadata": {
    "execution": {
     "iopub.execute_input": "2024-01-31T11:58:55.520244Z",
     "iopub.status.busy": "2024-01-31T11:58:55.519968Z",
     "iopub.status.idle": "2024-01-31T11:58:58.304442Z",
     "shell.execute_reply": "2024-01-31T11:58:58.303938Z"
    }
   },
   "outputs": [],
   "source": [
    "from fdc.fdc import feature_clustering, canberra_modified, Clustering, FDC\n",
    "from fdc.clustering import *"
   ]
  },
  {
   "cell_type": "code",
   "execution_count": 4,
   "id": "24a06985-a202-46b5-93db-f92a3ded0673",
   "metadata": {
    "execution": {
     "iopub.execute_input": "2024-01-31T11:58:58.306653Z",
     "iopub.status.busy": "2024-01-31T11:58:58.306476Z",
     "iopub.status.idle": "2024-01-31T11:58:58.308919Z",
     "shell.execute_reply": "2024-01-31T11:58:58.308471Z"
    }
   },
   "outputs": [],
   "source": [
    "import pandas as pd"
   ]
  },
  {
   "cell_type": "code",
   "execution_count": 5,
   "id": "c8588ee3-e794-4a68-af35-fe499261f72d",
   "metadata": {
    "execution": {
     "iopub.execute_input": "2024-01-31T11:58:58.310904Z",
     "iopub.status.busy": "2024-01-31T11:58:58.310592Z",
     "iopub.status.idle": "2024-01-31T11:58:58.313000Z",
     "shell.execute_reply": "2024-01-31T11:58:58.312556Z"
    }
   },
   "outputs": [],
   "source": [
    "import pandas as pd\n",
    "import matplotlib.pyplot as plt\n",
    "from sklearn.cluster import KMeans\n",
    "from sklearn.metrics import silhouette_score"
   ]
  },
  {
   "cell_type": "markdown",
   "id": "01d3d86f-4e08-4be3-bba9-e2f7b9202670",
   "metadata": {},
   "source": [
    "### Importing data"
   ]
  },
  {
   "cell_type": "code",
   "execution_count": 6,
   "id": "53e069b3-8bcc-46b0-852b-2a504e21197e",
   "metadata": {
    "execution": {
     "iopub.execute_input": "2024-01-31T11:58:58.315036Z",
     "iopub.status.busy": "2024-01-31T11:58:58.314725Z",
     "iopub.status.idle": "2024-01-31T11:58:58.318692Z",
     "shell.execute_reply": "2024-01-31T11:58:58.318311Z"
    }
   },
   "outputs": [],
   "source": [
    "data=pd.read_csv('diabetes.csv')"
   ]
  },
  {
   "cell_type": "code",
   "execution_count": 7,
   "id": "2df57461-99ed-4080-be92-9109d5913851",
   "metadata": {
    "execution": {
     "iopub.execute_input": "2024-01-31T11:58:58.320626Z",
     "iopub.status.busy": "2024-01-31T11:58:58.320298Z",
     "iopub.status.idle": "2024-01-31T11:58:58.322898Z",
     "shell.execute_reply": "2024-01-31T11:58:58.322520Z"
    }
   },
   "outputs": [],
   "source": [
    "np.random.seed(42)\n",
    "data=data.sample(frac=1)"
   ]
  },
  {
   "cell_type": "code",
   "execution_count": 8,
   "id": "e633073d-271c-450a-87f9-a61755e2f011",
   "metadata": {
    "execution": {
     "iopub.execute_input": "2024-01-31T11:58:58.324739Z",
     "iopub.status.busy": "2024-01-31T11:58:58.324446Z",
     "iopub.status.idle": "2024-01-31T11:58:58.327957Z",
     "shell.execute_reply": "2024-01-31T11:58:58.327579Z"
    }
   },
   "outputs": [],
   "source": [
    "data.drop_duplicates(inplace=True, ignore_index=True)"
   ]
  },
  {
   "cell_type": "code",
   "execution_count": 9,
   "id": "d81fd1ac-f5f9-4e12-8358-fbbbc70b10ca",
   "metadata": {
    "execution": {
     "iopub.execute_input": "2024-01-31T11:58:58.329845Z",
     "iopub.status.busy": "2024-01-31T11:58:58.329508Z",
     "iopub.status.idle": "2024-01-31T11:58:58.333955Z",
     "shell.execute_reply": "2024-01-31T11:58:58.333569Z"
    },
    "tags": []
   },
   "outputs": [],
   "source": [
    "output_file_path=os.path.join(parent_directory,\"PreprocessedDatasets/PimaIndianDiabetes.csv\")\n",
    "data.to_csv(output_file_path, index=False)"
   ]
  },
  {
   "cell_type": "code",
   "execution_count": 10,
   "id": "3f4a2bf7-eafe-425a-b47c-daa970b410cf",
   "metadata": {
    "execution": {
     "iopub.execute_input": "2024-01-31T11:58:58.335852Z",
     "iopub.status.busy": "2024-01-31T11:58:58.335546Z",
     "iopub.status.idle": "2024-01-31T11:58:58.339952Z",
     "shell.execute_reply": "2024-01-31T11:58:58.339627Z"
    }
   },
   "outputs": [
    {
     "data": {
      "text/plain": [
       "0    500\n",
       "1    268\n",
       "Name: Outcome, dtype: int64"
      ]
     },
     "execution_count": 10,
     "metadata": {},
     "output_type": "execute_result"
    }
   ],
   "source": [
    "data['Outcome'].value_counts()"
   ]
  },
  {
   "cell_type": "code",
   "execution_count": 11,
   "id": "8aebf9eb-e0b3-40db-bcd0-bfc400e004ce",
   "metadata": {
    "execution": {
     "iopub.execute_input": "2024-01-31T11:58:58.341921Z",
     "iopub.status.busy": "2024-01-31T11:58:58.341524Z",
     "iopub.status.idle": "2024-01-31T11:58:58.344149Z",
     "shell.execute_reply": "2024-01-31T11:58:58.343817Z"
    },
    "tags": []
   },
   "outputs": [],
   "source": [
    "data.drop(['Outcome'],axis=1, inplace=True)"
   ]
  },
  {
   "cell_type": "code",
   "execution_count": 12,
   "id": "f6585796-c7c5-4f06-a1f4-5f5aea784e42",
   "metadata": {
    "execution": {
     "iopub.execute_input": "2024-01-31T11:58:58.345940Z",
     "iopub.status.busy": "2024-01-31T11:58:58.345806Z",
     "iopub.status.idle": "2024-01-31T11:58:58.348238Z",
     "shell.execute_reply": "2024-01-31T11:58:58.347910Z"
    }
   },
   "outputs": [],
   "source": [
    "np.random.seed(42)\n",
    "data=data.sample(frac=1)"
   ]
  },
  {
   "cell_type": "markdown",
   "id": "b660f1df-14b8-462c-a36c-5718f1881bda",
   "metadata": {},
   "source": [
    "### UMAP on entire data"
   ]
  },
  {
   "cell_type": "code",
   "execution_count": 13,
   "id": "2326c5ac-3967-4a6e-8488-dd1dd29796e3",
   "metadata": {
    "execution": {
     "iopub.execute_input": "2024-01-31T11:58:58.350200Z",
     "iopub.status.busy": "2024-01-31T11:58:58.349910Z",
     "iopub.status.idle": "2024-01-31T11:58:58.351948Z",
     "shell.execute_reply": "2024-01-31T11:58:58.351622Z"
    }
   },
   "outputs": [],
   "source": [
    "from fdc.fdc import feature_clustering"
   ]
  },
  {
   "cell_type": "code",
   "execution_count": 14,
   "id": "4f208ccd-b32d-4a0c-b8be-e6edf64b5664",
   "metadata": {
    "execution": {
     "iopub.execute_input": "2024-01-31T11:58:58.353893Z",
     "iopub.status.busy": "2024-01-31T11:58:58.353560Z",
     "iopub.status.idle": "2024-01-31T11:59:03.500074Z",
     "shell.execute_reply": "2024-01-31T11:59:03.499595Z"
    }
   },
   "outputs": [
    {
     "data": {
      "image/png": "[encoded data removed]",
      "text/plain": [
       "<Figure size 500x500 with 1 Axes>"
      ]
     },
     "metadata": {},
     "output_type": "display_data"
    }
   ],
   "source": [
    "np.random.seed(42)\n",
    "umap_emb=feature_clustering(30,0.1,'euclidean',data,True)"
   ]
  },
  {
   "cell_type": "markdown",
   "id": "f0068723-e652-4358-a2c4-761f5e1833d8",
   "metadata": {},
   "source": [
    "### Feature-type Distributed Clustering (FDC)"
   ]
  },
  {
   "cell_type": "code",
   "execution_count": 15,
   "id": "d91f3053-c382-490a-9c6a-e3925f5d0660",
   "metadata": {
    "execution": {
     "iopub.execute_input": "2024-01-31T11:59:03.502126Z",
     "iopub.status.busy": "2024-01-31T11:59:03.501981Z",
     "iopub.status.idle": "2024-01-31T11:59:03.504706Z",
     "shell.execute_reply": "2024-01-31T11:59:03.504360Z"
    }
   },
   "outputs": [],
   "source": [
    "cont_list=[ 'Glucose', 'BloodPressure', 'SkinThickness', 'Insulin', 'BMI', 'DiabetesPedigreeFunction', 'Age']\n",
    "\n",
    "nom_list=None\n",
    "\n",
    "ord_list=['Pregnancies']\n",
    "\n",
    "target = ['Outcome']\n"
   ]
  },
  {
   "cell_type": "code",
   "execution_count": 16,
   "id": "2e9a0102-2e1a-42ca-87e6-957f8c44e0b0",
   "metadata": {
    "execution": {
     "iopub.execute_input": "2024-01-31T11:59:03.506667Z",
     "iopub.status.busy": "2024-01-31T11:59:03.506389Z",
     "iopub.status.idle": "2024-01-31T11:59:03.508641Z",
     "shell.execute_reply": "2024-01-31T11:59:03.508315Z"
    }
   },
   "outputs": [],
   "source": [
    "output_file_path=os.path.join(parent_directory,\"PreprocessedDatasets/PimaIndianDiabetes.json\")"
   ]
  },
  {
   "cell_type": "code",
   "execution_count": 17,
   "id": "e535f373-b83e-491b-bef9-70aa19eb2d72",
   "metadata": {
    "execution": {
     "iopub.execute_input": "2024-01-31T11:59:03.510576Z",
     "iopub.status.busy": "2024-01-31T11:59:03.510289Z",
     "iopub.status.idle": "2024-01-31T11:59:03.512937Z",
     "shell.execute_reply": "2024-01-31T11:59:03.512564Z"
    }
   },
   "outputs": [],
   "source": [
    "import json\n",
    "\n",
    "features = {\n",
    "    \"cont_list\": cont_list,\n",
    "    \"nom_list\": nom_list,\n",
    "    \"ord_list\": ord_list,\n",
    "    \"target\": target\n",
    "}\n",
    "\n",
    "with open(output_file_path, \"w\") as json_file:\n",
    "    json.dump(features, json_file)"
   ]
  },
  {
   "cell_type": "code",
   "execution_count": 18,
   "id": "8597d25f-470b-41c5-8353-05f15421e850",
   "metadata": {
    "execution": {
     "iopub.execute_input": "2024-01-31T11:59:03.514959Z",
     "iopub.status.busy": "2024-01-31T11:59:03.514652Z",
     "iopub.status.idle": "2024-01-31T11:59:12.436285Z",
     "shell.execute_reply": "2024-01-31T11:59:12.435802Z"
    }
   },
   "outputs": [
    {
     "name": "stdout",
     "output_type": "stream",
     "text": [
      "FDC.normalize (init): 0.00001 / 0.000s\n"
     ]
    },
    {
     "name": "stdout",
     "output_type": "stream",
     "text": [
      "FDC.normalize (clustering CONT): 3.34943 / 3.349s\n"
     ]
    },
    {
     "name": "stdout",
     "output_type": "stream",
     "text": [
      "FDC.normalize (clustering ORD): 5.95778 / 9.307s\n",
      "FDC.normalize (clustering NOM): 0.00005 / 9.307s\n",
      "FDC.normalize (concat): 0.00002 / 9.307s\n"
     ]
    },
    {
     "name": "stdout",
     "output_type": "stream",
     "text": [
      "FDC.normalize (umap 5 -> 2): 2.25400 / 11.561s\n",
      "FDC.normalize (array -> DataFrame): 0.00026 / 11.562s\n"
     ]
    },
    {
     "data": {
      "image/png": "[encoded data removed]",
      "text/plain": [
       "<Figure size 500x500 with 1 Axes>"
      ]
     },
     "metadata": {},
     "output_type": "display_data"
    },
    {
     "name": "stdout",
     "output_type": "stream",
     "text": [
      "FDC.normalize (plotting): 0.40732 / 11.969s\n",
      "FDC.normalize (array -> DataFrame): 0.00018 / 11.969s\n",
      "FDC.normalize (total): 0.00001 / 11.969s\n"
     ]
    }
   ],
   "source": [
    "from fdc.fdc import feature_clustering, canberra_modified, Clustering, FDC\n",
    "np.random.seed(42)\n",
    "\n",
    "fdc = FDC(clustering_cont=Clustering('euclidean',30,0.01)\n",
    "          , clustering_ord=Clustering(canberra_modified,30,0.01)\n",
    "          , visual=True\n",
    "          , use_pandas_output=True\n",
    "          , with_2d_embedding=True\n",
    "          )\n",
    "\n",
    "fdc.selectFeatures(continueous=cont_list, ordinal=ord_list)\n",
    "\n",
    "FDC_emb_high,FDC_emb_low = fdc.normalize(data,cont_list=cont_list, ord_list=ord_list,\n",
    "                  with_2d_embedding=True,\n",
    "                  visual=True)"
   ]
  },
  {
   "cell_type": "markdown",
   "id": "c463a715-9608-4325-b72b-b710e1ccb589",
   "metadata": {},
   "source": [
    "### Clustering using K-means"
   ]
  },
  {
   "cell_type": "code",
   "execution_count": 19,
   "id": "a134fdf7-6507-4a33-b163-23f72cc2a074",
   "metadata": {
    "execution": {
     "iopub.execute_input": "2024-01-31T11:59:12.438375Z",
     "iopub.status.busy": "2024-01-31T11:59:12.438228Z",
     "iopub.status.idle": "2024-01-31T11:59:12.781750Z",
     "shell.execute_reply": "2024-01-31T11:59:12.781152Z"
    },
    "tags": []
   },
   "outputs": [
    {
     "data": {
      "image/png": "[encoded data removed]",
      "text/plain": [
       "<Figure size 640x480 with 1 Axes>"
      ]
     },
     "metadata": {},
     "output_type": "display_data"
    }
   ],
   "source": [
    "kmeans_kwargs = {\n",
    "\"init\": \"random\",\n",
    "\"n_init\": 10,\n",
    "\"random_state\": 1,\n",
    "}\n",
    "\n",
    "#create list to hold SSE values for each k\n",
    "sse = []\n",
    "for k in range(1, 11):\n",
    "    kmeans = KMeans(n_clusters=k, **kmeans_kwargs)\n",
    "    kmeans.fit(FDC_emb_low)\n",
    "    sse.append(kmeans.inertia_)\n",
    "\n",
    "#visualize results\n",
    "plt.plot(range(1, 11), sse)\n",
    "plt.xticks(range(1, 11))\n",
    "plt.xlabel(\"Number of Clusters\")\n",
    "plt.ylabel(\"SSE\")\n",
    "plt.show()"
   ]
  },
  {
   "cell_type": "code",
   "execution_count": 20,
   "id": "dc0e649f",
   "metadata": {
    "execution": {
     "iopub.execute_input": "2024-01-31T11:59:12.783854Z",
     "iopub.status.busy": "2024-01-31T11:59:12.783705Z",
     "iopub.status.idle": "2024-01-31T11:59:12.786932Z",
     "shell.execute_reply": "2024-01-31T11:59:12.786538Z"
    }
   },
   "outputs": [],
   "source": [
    "def find_optimal_cluster(FDC_emb_low):\n",
    "    silhouette_scores = []\n",
    "\n",
    "    for n_clusters in list(range(2, 9)):\n",
    "        km = KMeans(n_clusters=n_clusters, init='k-means++', n_init=10, max_iter=100, random_state=42)\n",
    "\n",
    "        km.fit(FDC_emb_low)\n",
    "\n",
    "        labels = km.labels_\n",
    "\n",
    "        # Compute the silhouette score\n",
    "        silhouette_avg = silhouette_score(FDC_emb_low, labels)\n",
    "        silhouette_scores.append(silhouette_avg)\n",
    "    return silhouette_scores"
   ]
  },
  {
   "cell_type": "code",
   "execution_count": 21,
   "id": "3257ae7b",
   "metadata": {
    "execution": {
     "iopub.execute_input": "2024-01-31T11:59:12.788809Z",
     "iopub.status.busy": "2024-01-31T11:59:12.788549Z",
     "iopub.status.idle": "2024-01-31T11:59:13.624764Z",
     "shell.execute_reply": "2024-01-31T11:59:13.624189Z"
    },
    "scrolled": true,
    "tags": []
   },
   "outputs": [
    {
     "data": {
      "text/plain": [
       "[0.41994658,\n",
       " 0.46044818,\n",
       " 0.48790172,\n",
       " 0.5526744,\n",
       " 0.57846457,\n",
       " 0.63166255,\n",
       " 0.64932984]"
      ]
     },
     "execution_count": 21,
     "metadata": {},
     "output_type": "execute_result"
    }
   ],
   "source": [
    "find_optimal_cluster(FDC_emb_low)"
   ]
  },
  {
   "cell_type": "code",
   "execution_count": 22,
   "id": "80dbc9a4-8997-42d2-b4fd-49515bb2f8c1",
   "metadata": {
    "execution": {
     "iopub.execute_input": "2024-01-31T11:59:13.627659Z",
     "iopub.status.busy": "2024-01-31T11:59:13.627288Z",
     "iopub.status.idle": "2024-01-31T11:59:14.162330Z",
     "shell.execute_reply": "2024-01-31T11:59:14.161840Z"
    },
    "scrolled": true
   },
   "outputs": [
    {
     "data": {
      "image/png": "[encoded data removed]",
      "text/plain": [
       "<Figure size 560.361x500 with 1 Axes>"
      ]
     },
     "metadata": {},
     "output_type": "display_data"
    }
   ],
   "source": [
    "from fdc.clustering import *\n",
    "np.random.seed(42)\n",
    "clustering=Clustering(FDC_emb_low,FDC_emb_low,True)\n",
    "cluster_list,cluster_counts=clustering.K_means(8)"
   ]
  },
  {
   "cell_type": "code",
   "execution_count": 23,
   "id": "c2f410a1",
   "metadata": {
    "execution": {
     "iopub.execute_input": "2024-01-31T11:59:14.164338Z",
     "iopub.status.busy": "2024-01-31T11:59:14.164191Z",
     "iopub.status.idle": "2024-01-31T11:59:14.167329Z",
     "shell.execute_reply": "2024-01-31T11:59:14.166990Z"
    }
   },
   "outputs": [
    {
     "data": {
      "text/plain": [
       "array([133,  95,  94,  92, 107,  45, 160,  42])"
      ]
     },
     "execution_count": 23,
     "metadata": {},
     "output_type": "execute_result"
    }
   ],
   "source": [
    "cluster_counts"
   ]
  },
  {
   "cell_type": "code",
   "execution_count": 24,
   "id": "250dd725-ecae-4e4d-a125-45a3d64840ab",
   "metadata": {
    "execution": {
     "iopub.execute_input": "2024-01-31T11:59:14.169222Z",
     "iopub.status.busy": "2024-01-31T11:59:14.168954Z",
     "iopub.status.idle": "2024-01-31T11:59:14.171502Z",
     "shell.execute_reply": "2024-01-31T11:59:14.171165Z"
    }
   },
   "outputs": [],
   "source": [
    "data['Target']=cluster_list"
   ]
  },
  {
   "cell_type": "code",
   "execution_count": 25,
   "id": "45fb9cab-6d92-4db5-8db5-70a64bd4c979",
   "metadata": {
    "execution": {
     "iopub.execute_input": "2024-01-31T11:59:14.173404Z",
     "iopub.status.busy": "2024-01-31T11:59:14.173091Z",
     "iopub.status.idle": "2024-01-31T11:59:14.177605Z",
     "shell.execute_reply": "2024-01-31T11:59:14.177225Z"
    },
    "tags": []
   },
   "outputs": [],
   "source": [
    "output_file_path=os.path.join(parent_directory,\"PreprocessedDatasets/SSPimaIndianDiabetes.csv\")\n",
    "data.to_csv(output_file_path, index=False)"
   ]
  },
  {
   "cell_type": "code",
   "execution_count": 26,
   "id": "7bf92e7b-36ed-4d66-8f6a-11beb2defba4",
   "metadata": {
    "execution": {
     "iopub.execute_input": "2024-01-31T11:59:14.179462Z",
     "iopub.status.busy": "2024-01-31T11:59:14.179196Z",
     "iopub.status.idle": "2024-01-31T11:59:14.188213Z",
     "shell.execute_reply": "2024-01-31T11:59:14.187878Z"
    }
   },
   "outputs": [
    {
     "data": {
      "text/html": [
       "<div>\n",
       "<style scoped>\n",
       "    .dataframe tbody tr th:only-of-type {\n",
       "        vertical-align: middle;\n",
       "    }\n",
       "\n",
       "    .dataframe tbody tr th {\n",
       "        vertical-align: top;\n",
       "    }\n",
       "\n",
       "    .dataframe thead th {\n",
       "        text-align: right;\n",
       "    }\n",
       "</style>\n",
       "<table border=\"1\" class=\"dataframe\">\n",
       "  <thead>\n",
       "    <tr style=\"text-align: right;\">\n",
       "      <th></th>\n",
       "      <th>Pregnancies</th>\n",
       "      <th>Glucose</th>\n",
       "      <th>BloodPressure</th>\n",
       "      <th>SkinThickness</th>\n",
       "      <th>Insulin</th>\n",
       "      <th>BMI</th>\n",
       "      <th>DiabetesPedigreeFunction</th>\n",
       "      <th>Age</th>\n",
       "      <th>Target</th>\n",
       "    </tr>\n",
       "  </thead>\n",
       "  <tbody>\n",
       "    <tr>\n",
       "      <th>668</th>\n",
       "      <td>0</td>\n",
       "      <td>129</td>\n",
       "      <td>80</td>\n",
       "      <td>0</td>\n",
       "      <td>0</td>\n",
       "      <td>31.2</td>\n",
       "      <td>0.703</td>\n",
       "      <td>29</td>\n",
       "      <td>5</td>\n",
       "    </tr>\n",
       "    <tr>\n",
       "      <th>324</th>\n",
       "      <td>2</td>\n",
       "      <td>108</td>\n",
       "      <td>80</td>\n",
       "      <td>0</td>\n",
       "      <td>0</td>\n",
       "      <td>27.0</td>\n",
       "      <td>0.259</td>\n",
       "      <td>52</td>\n",
       "      <td>4</td>\n",
       "    </tr>\n",
       "    <tr>\n",
       "      <th>624</th>\n",
       "      <td>3</td>\n",
       "      <td>139</td>\n",
       "      <td>54</td>\n",
       "      <td>0</td>\n",
       "      <td>0</td>\n",
       "      <td>25.6</td>\n",
       "      <td>0.402</td>\n",
       "      <td>22</td>\n",
       "      <td>2</td>\n",
       "    </tr>\n",
       "    <tr>\n",
       "      <th>690</th>\n",
       "      <td>2</td>\n",
       "      <td>146</td>\n",
       "      <td>0</td>\n",
       "      <td>0</td>\n",
       "      <td>0</td>\n",
       "      <td>27.5</td>\n",
       "      <td>0.240</td>\n",
       "      <td>28</td>\n",
       "      <td>4</td>\n",
       "    </tr>\n",
       "    <tr>\n",
       "      <th>473</th>\n",
       "      <td>6</td>\n",
       "      <td>134</td>\n",
       "      <td>70</td>\n",
       "      <td>23</td>\n",
       "      <td>130</td>\n",
       "      <td>35.4</td>\n",
       "      <td>0.542</td>\n",
       "      <td>29</td>\n",
       "      <td>6</td>\n",
       "    </tr>\n",
       "    <tr>\n",
       "      <th>...</th>\n",
       "      <td>...</td>\n",
       "      <td>...</td>\n",
       "      <td>...</td>\n",
       "      <td>...</td>\n",
       "      <td>...</td>\n",
       "      <td>...</td>\n",
       "      <td>...</td>\n",
       "      <td>...</td>\n",
       "      <td>...</td>\n",
       "    </tr>\n",
       "    <tr>\n",
       "      <th>71</th>\n",
       "      <td>4</td>\n",
       "      <td>83</td>\n",
       "      <td>86</td>\n",
       "      <td>19</td>\n",
       "      <td>0</td>\n",
       "      <td>29.3</td>\n",
       "      <td>0.317</td>\n",
       "      <td>34</td>\n",
       "      <td>4</td>\n",
       "    </tr>\n",
       "    <tr>\n",
       "      <th>106</th>\n",
       "      <td>2</td>\n",
       "      <td>141</td>\n",
       "      <td>58</td>\n",
       "      <td>34</td>\n",
       "      <td>128</td>\n",
       "      <td>25.4</td>\n",
       "      <td>0.699</td>\n",
       "      <td>24</td>\n",
       "      <td>0</td>\n",
       "    </tr>\n",
       "    <tr>\n",
       "      <th>270</th>\n",
       "      <td>4</td>\n",
       "      <td>90</td>\n",
       "      <td>0</td>\n",
       "      <td>0</td>\n",
       "      <td>0</td>\n",
       "      <td>28.0</td>\n",
       "      <td>0.610</td>\n",
       "      <td>31</td>\n",
       "      <td>4</td>\n",
       "    </tr>\n",
       "    <tr>\n",
       "      <th>435</th>\n",
       "      <td>7</td>\n",
       "      <td>97</td>\n",
       "      <td>76</td>\n",
       "      <td>32</td>\n",
       "      <td>91</td>\n",
       "      <td>40.9</td>\n",
       "      <td>0.871</td>\n",
       "      <td>32</td>\n",
       "      <td>6</td>\n",
       "    </tr>\n",
       "    <tr>\n",
       "      <th>102</th>\n",
       "      <td>13</td>\n",
       "      <td>126</td>\n",
       "      <td>90</td>\n",
       "      <td>0</td>\n",
       "      <td>0</td>\n",
       "      <td>43.4</td>\n",
       "      <td>0.583</td>\n",
       "      <td>42</td>\n",
       "      <td>1</td>\n",
       "    </tr>\n",
       "  </tbody>\n",
       "</table>\n",
       "<p>768 rows × 9 columns</p>\n",
       "</div>"
      ],
      "text/plain": [
       "     Pregnancies  Glucose  BloodPressure  SkinThickness  Insulin   BMI  \\\n",
       "668            0      129             80              0        0  31.2   \n",
       "324            2      108             80              0        0  27.0   \n",
       "624            3      139             54              0        0  25.6   \n",
       "690            2      146              0              0        0  27.5   \n",
       "473            6      134             70             23      130  35.4   \n",
       "..           ...      ...            ...            ...      ...   ...   \n",
       "71             4       83             86             19        0  29.3   \n",
       "106            2      141             58             34      128  25.4   \n",
       "270            4       90              0              0        0  28.0   \n",
       "435            7       97             76             32       91  40.9   \n",
       "102           13      126             90              0        0  43.4   \n",
       "\n",
       "     DiabetesPedigreeFunction  Age  Target  \n",
       "668                     0.703   29       5  \n",
       "324                     0.259   52       4  \n",
       "624                     0.402   22       2  \n",
       "690                     0.240   28       4  \n",
       "473                     0.542   29       6  \n",
       "..                        ...  ...     ...  \n",
       "71                      0.317   34       4  \n",
       "106                     0.699   24       0  \n",
       "270                     0.610   31       4  \n",
       "435                     0.871   32       6  \n",
       "102                     0.583   42       1  \n",
       "\n",
       "[768 rows x 9 columns]"
      ]
     },
     "execution_count": 26,
     "metadata": {},
     "output_type": "execute_result"
    }
   ],
   "source": [
    "data"
   ]
  },
  {
   "cell_type": "code",
   "execution_count": null,
   "id": "73e24fe9-2dd6-424d-8ec7-a312638085fa",
   "metadata": {},
   "outputs": [],
   "source": []
  }
 ],
 "metadata": {
  "kernelspec": {
   "display_name": "Python 3 (ipykernel)",
   "language": "python",
   "name": "python3"
  },
  "language_info": {
   "codemirror_mode": {
    "name": "ipython",
    "version": 3
   },
   "file_extension": ".py",
   "mimetype": "text/x-python",
   "name": "python",
   "nbconvert_exporter": "python",
   "pygments_lexer": "ipython3",
   "version": "3.8.15"
  }
 },
 "nbformat": 4,
 "nbformat_minor": 5
}
