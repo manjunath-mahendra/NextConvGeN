{
 "cells": [
  {
   "cell_type": "markdown",
   "id": "a5ab3377-1363-4ab6-b4f1-564b2a386d40",
   "metadata": {},
   "source": [
    "## HeartFailure data preprocessing"
   ]
  },
  {
   "cell_type": "markdown",
   "id": "85f5f148-9358-459d-a023-3c3ab9b5bf38",
   "metadata": {},
   "source": [
    "### Importing necessary libraries"
   ]
  },
  {
   "cell_type": "code",
   "execution_count": 1,
   "id": "eff8b7a9-2ed9-46c3-a59f-6258ac1fd08b",
   "metadata": {
    "execution": {
     "iopub.execute_input": "2024-01-31T11:57:55.848575Z",
     "iopub.status.busy": "2024-01-31T11:57:55.847711Z",
     "iopub.status.idle": "2024-01-31T11:57:55.872823Z",
     "shell.execute_reply": "2024-01-31T11:57:55.870717Z"
    }
   },
   "outputs": [],
   "source": [
    "import os\n",
    "import sys\n",
    "current_directory=os.getcwd()\n",
    "parent_directory=os.path.dirname(current_directory)\n",
    "sys.path.append(parent_directory)\n"
   ]
  },
  {
   "cell_type": "code",
   "execution_count": 2,
   "id": "56b80e0e-b49b-4238-85be-28b96923aeb4",
   "metadata": {
    "execution": {
     "iopub.execute_input": "2024-01-31T11:57:55.881893Z",
     "iopub.status.busy": "2024-01-31T11:57:55.881184Z",
     "iopub.status.idle": "2024-01-31T11:57:57.455061Z",
     "shell.execute_reply": "2024-01-31T11:57:57.454519Z"
    },
    "tags": []
   },
   "outputs": [
    {
     "name": "stderr",
     "output_type": "stream",
     "text": [
      "2024-01-31 11:57:56.170671: W tensorflow/stream_executor/platform/default/dso_loader.cc:64] Could not load dynamic library 'libcudart.so.11.0'; dlerror: libcudart.so.11.0: cannot open shared object file: No such file or directory\n",
      "2024-01-31 11:57:56.170691: I tensorflow/stream_executor/cuda/cudart_stub.cc:29] Ignore above cudart dlerror if you do not have a GPU set up on your machine.\n"
     ]
    }
   ],
   "source": [
    "import numpy as np\n",
    "from library.generators.NextConvGeN import NextConvGeN\n"
   ]
  },
  {
   "cell_type": "code",
   "execution_count": 3,
   "id": "60a37ac3-8400-4930-9b8d-f50e51befb9f",
   "metadata": {
    "execution": {
     "iopub.execute_input": "2024-01-31T11:57:57.457289Z",
     "iopub.status.busy": "2024-01-31T11:57:57.457052Z",
     "iopub.status.idle": "2024-01-31T11:58:00.250203Z",
     "shell.execute_reply": "2024-01-31T11:58:00.249663Z"
    }
   },
   "outputs": [],
   "source": [
    "from fdc.fdc import feature_clustering, canberra_modified, Clustering, FDC\n",
    "from fdc.clustering import *"
   ]
  },
  {
   "cell_type": "code",
   "execution_count": 4,
   "id": "24a06985-a202-46b5-93db-f92a3ded0673",
   "metadata": {
    "execution": {
     "iopub.execute_input": "2024-01-31T11:58:00.252303Z",
     "iopub.status.busy": "2024-01-31T11:58:00.252162Z",
     "iopub.status.idle": "2024-01-31T11:58:00.254472Z",
     "shell.execute_reply": "2024-01-31T11:58:00.254131Z"
    }
   },
   "outputs": [],
   "source": [
    "import pandas as pd"
   ]
  },
  {
   "cell_type": "code",
   "execution_count": 5,
   "id": "c8588ee3-e794-4a68-af35-fe499261f72d",
   "metadata": {
    "execution": {
     "iopub.execute_input": "2024-01-31T11:58:00.256359Z",
     "iopub.status.busy": "2024-01-31T11:58:00.256065Z",
     "iopub.status.idle": "2024-01-31T11:58:00.258257Z",
     "shell.execute_reply": "2024-01-31T11:58:00.257928Z"
    }
   },
   "outputs": [],
   "source": [
    "import pandas as pd\n",
    "import matplotlib.pyplot as plt\n",
    "from sklearn.cluster import KMeans\n",
    "from sklearn.metrics import silhouette_score"
   ]
  },
  {
   "cell_type": "markdown",
   "id": "01d3d86f-4e08-4be3-bba9-e2f7b9202670",
   "metadata": {},
   "source": [
    "### Importing data"
   ]
  },
  {
   "cell_type": "code",
   "execution_count": 6,
   "id": "53e069b3-8bcc-46b0-852b-2a504e21197e",
   "metadata": {
    "execution": {
     "iopub.execute_input": "2024-01-31T11:58:00.260198Z",
     "iopub.status.busy": "2024-01-31T11:58:00.259898Z",
     "iopub.status.idle": "2024-01-31T11:58:00.264217Z",
     "shell.execute_reply": "2024-01-31T11:58:00.263839Z"
    }
   },
   "outputs": [],
   "source": [
    "data=pd.read_csv('preprocessed_cirrhosis.csv')"
   ]
  },
  {
   "cell_type": "code",
   "execution_count": 7,
   "id": "2bc657b4-245c-4f00-bf07-29e1eb1d53da",
   "metadata": {
    "execution": {
     "iopub.execute_input": "2024-01-31T11:58:00.265975Z",
     "iopub.status.busy": "2024-01-31T11:58:00.265842Z",
     "iopub.status.idle": "2024-01-31T11:58:00.268293Z",
     "shell.execute_reply": "2024-01-31T11:58:00.267965Z"
    }
   },
   "outputs": [],
   "source": [
    "np.random.seed(42)\n",
    "data=data.sample(frac=1)"
   ]
  },
  {
   "cell_type": "code",
   "execution_count": 8,
   "id": "e633073d-271c-450a-87f9-a61755e2f011",
   "metadata": {
    "execution": {
     "iopub.execute_input": "2024-01-31T11:58:00.270122Z",
     "iopub.status.busy": "2024-01-31T11:58:00.269853Z",
     "iopub.status.idle": "2024-01-31T11:58:00.274048Z",
     "shell.execute_reply": "2024-01-31T11:58:00.273674Z"
    }
   },
   "outputs": [],
   "source": [
    "data.drop_duplicates(inplace=True, ignore_index=True)"
   ]
  },
  {
   "cell_type": "code",
   "execution_count": 9,
   "id": "69821af6-4062-49c9-a345-5a83463e9d46",
   "metadata": {
    "execution": {
     "iopub.execute_input": "2024-01-31T11:58:00.275940Z",
     "iopub.status.busy": "2024-01-31T11:58:00.275617Z",
     "iopub.status.idle": "2024-01-31T11:58:00.280312Z",
     "shell.execute_reply": "2024-01-31T11:58:00.279987Z"
    }
   },
   "outputs": [
    {
     "data": {
      "text/plain": [
       "3.0    156\n",
       "4.0    148\n",
       "2.0     93\n",
       "1.0     21\n",
       "Name: Stage, dtype: int64"
      ]
     },
     "execution_count": 9,
     "metadata": {},
     "output_type": "execute_result"
    }
   ],
   "source": [
    "data['Stage'].value_counts()"
   ]
  },
  {
   "cell_type": "code",
   "execution_count": 10,
   "id": "a753d9ce-5033-40b9-b6b7-62f24c30735a",
   "metadata": {
    "execution": {
     "iopub.execute_input": "2024-01-31T11:58:00.282241Z",
     "iopub.status.busy": "2024-01-31T11:58:00.281936Z",
     "iopub.status.idle": "2024-01-31T11:58:00.284520Z",
     "shell.execute_reply": "2024-01-31T11:58:00.284191Z"
    }
   },
   "outputs": [],
   "source": [
    "data['Stage'].replace([1,2,3,4],[0,1,2,3], inplace=True)"
   ]
  },
  {
   "cell_type": "code",
   "execution_count": 11,
   "id": "d81fd1ac-f5f9-4e12-8358-fbbbc70b10ca",
   "metadata": {
    "execution": {
     "iopub.execute_input": "2024-01-31T11:58:00.286365Z",
     "iopub.status.busy": "2024-01-31T11:58:00.286096Z",
     "iopub.status.idle": "2024-01-31T11:58:00.291426Z",
     "shell.execute_reply": "2024-01-31T11:58:00.291053Z"
    },
    "tags": []
   },
   "outputs": [],
   "source": [
    "output_file_path=os.path.join(parent_directory,\"PreprocessedDatasets/LiverCirrhosis.csv\")\n",
    "data.to_csv(output_file_path, index=False)"
   ]
  },
  {
   "cell_type": "code",
   "execution_count": 12,
   "id": "8aebf9eb-e0b3-40db-bcd0-bfc400e004ce",
   "metadata": {
    "execution": {
     "iopub.execute_input": "2024-01-31T11:58:00.293303Z",
     "iopub.status.busy": "2024-01-31T11:58:00.292999Z",
     "iopub.status.idle": "2024-01-31T11:58:00.295661Z",
     "shell.execute_reply": "2024-01-31T11:58:00.295333Z"
    }
   },
   "outputs": [],
   "source": [
    "data.drop(['Stage'],axis=1, inplace=True)"
   ]
  },
  {
   "cell_type": "code",
   "execution_count": 13,
   "id": "f6585796-c7c5-4f06-a1f4-5f5aea784e42",
   "metadata": {
    "execution": {
     "iopub.execute_input": "2024-01-31T11:58:00.297569Z",
     "iopub.status.busy": "2024-01-31T11:58:00.297248Z",
     "iopub.status.idle": "2024-01-31T11:58:00.299641Z",
     "shell.execute_reply": "2024-01-31T11:58:00.299313Z"
    }
   },
   "outputs": [],
   "source": [
    "np.random.seed(42)\n",
    "data=data.sample(frac=1)"
   ]
  },
  {
   "cell_type": "code",
   "execution_count": 14,
   "id": "daf17014-4a05-4b90-9cc0-a83fdbb478db",
   "metadata": {
    "execution": {
     "iopub.execute_input": "2024-01-31T11:58:00.301357Z",
     "iopub.status.busy": "2024-01-31T11:58:00.301223Z",
     "iopub.status.idle": "2024-01-31T11:58:00.303495Z",
     "shell.execute_reply": "2024-01-31T11:58:00.303169Z"
    }
   },
   "outputs": [],
   "source": [
    "values=['N_Days','Age','Bilirubin','Cholesterol','Albumin','Copper','Alk_Phos',\n",
    "        'SGOT','Tryglicerides','Platelets','Prothrombin','Ascites','Hepatomegaly','Spiders','Edema',\n",
    "       'Status','Drug','Sex']"
   ]
  },
  {
   "cell_type": "code",
   "execution_count": 15,
   "id": "f6300ef8-de66-4ac7-81f9-4abeba0e2910",
   "metadata": {
    "execution": {
     "iopub.execute_input": "2024-01-31T11:58:00.305383Z",
     "iopub.status.busy": "2024-01-31T11:58:00.305061Z",
     "iopub.status.idle": "2024-01-31T11:58:00.307511Z",
     "shell.execute_reply": "2024-01-31T11:58:00.307184Z"
    }
   },
   "outputs": [],
   "source": [
    "data=data[values]"
   ]
  },
  {
   "cell_type": "markdown",
   "id": "b660f1df-14b8-462c-a36c-5718f1881bda",
   "metadata": {},
   "source": [
    "### UMAP on entire data"
   ]
  },
  {
   "cell_type": "code",
   "execution_count": 16,
   "id": "2326c5ac-3967-4a6e-8488-dd1dd29796e3",
   "metadata": {
    "execution": {
     "iopub.execute_input": "2024-01-31T11:58:00.309435Z",
     "iopub.status.busy": "2024-01-31T11:58:00.309148Z",
     "iopub.status.idle": "2024-01-31T11:58:00.311263Z",
     "shell.execute_reply": "2024-01-31T11:58:00.310937Z"
    }
   },
   "outputs": [],
   "source": [
    "from fdc.fdc import feature_clustering"
   ]
  },
  {
   "cell_type": "code",
   "execution_count": 17,
   "id": "4f208ccd-b32d-4a0c-b8be-e6edf64b5664",
   "metadata": {
    "execution": {
     "iopub.execute_input": "2024-01-31T11:58:00.312957Z",
     "iopub.status.busy": "2024-01-31T11:58:00.312824Z",
     "iopub.status.idle": "2024-01-31T11:58:04.914389Z",
     "shell.execute_reply": "2024-01-31T11:58:04.913908Z"
    }
   },
   "outputs": [
    {
     "data": {
      "image/png": "[encoded data removed]",
      "text/plain": [
       "<Figure size 500x500 with 1 Axes>"
      ]
     },
     "metadata": {},
     "output_type": "display_data"
    }
   ],
   "source": [
    "np.random.seed(42)\n",
    "umap_emb=feature_clustering(30,0.1,'euclidean',data,True)"
   ]
  },
  {
   "cell_type": "markdown",
   "id": "f0068723-e652-4358-a2c4-761f5e1833d8",
   "metadata": {},
   "source": [
    "### Feature-type Distributed Clustering (FDC)"
   ]
  },
  {
   "cell_type": "code",
   "execution_count": 18,
   "id": "d91f3053-c382-490a-9c6a-e3925f5d0660",
   "metadata": {
    "execution": {
     "iopub.execute_input": "2024-01-31T11:58:04.916404Z",
     "iopub.status.busy": "2024-01-31T11:58:04.916260Z",
     "iopub.status.idle": "2024-01-31T11:58:04.918843Z",
     "shell.execute_reply": "2024-01-31T11:58:04.918513Z"
    }
   },
   "outputs": [],
   "source": [
    "cont_list=['N_Days','Age','Bilirubin','Cholesterol','Albumin','Copper','Alk_Phos','SGOT','Tryglicerides','Platelets','Prothrombin']\n",
    "\n",
    "ord_list=['Ascites','Hepatomegaly','Spiders','Edema']\n",
    "\n",
    "nom_list=['Status','Drug','Sex']\n",
    "\n",
    "target = ['Stage']\n"
   ]
  },
  {
   "cell_type": "code",
   "execution_count": 19,
   "id": "2e9a0102-2e1a-42ca-87e6-957f8c44e0b0",
   "metadata": {
    "execution": {
     "iopub.execute_input": "2024-01-31T11:58:04.920698Z",
     "iopub.status.busy": "2024-01-31T11:58:04.920429Z",
     "iopub.status.idle": "2024-01-31T11:58:04.922592Z",
     "shell.execute_reply": "2024-01-31T11:58:04.922264Z"
    }
   },
   "outputs": [],
   "source": [
    "output_file_path=os.path.join(parent_directory,\"PreprocessedDatasets/LiverCirrhosis.json\")"
   ]
  },
  {
   "cell_type": "code",
   "execution_count": 20,
   "id": "e535f373-b83e-491b-bef9-70aa19eb2d72",
   "metadata": {
    "execution": {
     "iopub.execute_input": "2024-01-31T11:58:04.924474Z",
     "iopub.status.busy": "2024-01-31T11:58:04.924181Z",
     "iopub.status.idle": "2024-01-31T11:58:04.926791Z",
     "shell.execute_reply": "2024-01-31T11:58:04.926419Z"
    }
   },
   "outputs": [],
   "source": [
    "import json\n",
    "\n",
    "features = {\n",
    "    \"cont_list\": cont_list,\n",
    "    \"nom_list\": nom_list,\n",
    "    \"ord_list\": ord_list,\n",
    "    \"target\": target\n",
    "}\n",
    "\n",
    "with open(output_file_path, \"w\") as json_file:\n",
    "    json.dump(features, json_file)"
   ]
  },
  {
   "cell_type": "code",
   "execution_count": 21,
   "id": "8597d25f-470b-41c5-8353-05f15421e850",
   "metadata": {
    "execution": {
     "iopub.execute_input": "2024-01-31T11:58:04.928665Z",
     "iopub.status.busy": "2024-01-31T11:58:04.928362Z",
     "iopub.status.idle": "2024-01-31T11:58:13.780282Z",
     "shell.execute_reply": "2024-01-31T11:58:13.779912Z"
    }
   },
   "outputs": [
    {
     "name": "stdout",
     "output_type": "stream",
     "text": [
      "FDC.normalize (init): 0.00001 / 0.000s\n"
     ]
    },
    {
     "name": "stdout",
     "output_type": "stream",
     "text": [
      "FDC.normalize (clustering CONT): 1.59402 / 1.594s\n"
     ]
    },
    {
     "name": "stdout",
     "output_type": "stream",
     "text": [
      "FDC.normalize (clustering ORD): 4.00527 / 5.599s\n"
     ]
    },
    {
     "name": "stdout",
     "output_type": "stream",
     "text": [
      "FDC.normalize (clustering NOM): 4.09241 / 9.692s\n",
      "FDC.normalize (concat): 0.00006 / 9.692s\n"
     ]
    },
    {
     "name": "stdout",
     "output_type": "stream",
     "text": [
      "FDC.normalize (umap 5 -> 2): 1.52798 / 11.220s\n",
      "FDC.normalize (array -> DataFrame): 0.00025 / 11.220s\n"
     ]
    },
    {
     "data": {
      "image/png": "[encoded data removed]",
      "text/plain": [
       "<Figure size 500x500 with 1 Axes>"
      ]
     },
     "metadata": {},
     "output_type": "display_data"
    },
    {
     "name": "stdout",
     "output_type": "stream",
     "text": [
      "FDC.normalize (plotting): 0.39527 / 11.615s\n",
      "FDC.normalize (array -> DataFrame): 0.00017 / 11.615s\n",
      "FDC.normalize (total): 0.00001 / 11.615s\n"
     ]
    }
   ],
   "source": [
    "from fdc.fdc import feature_clustering, canberra_modified, Clustering, FDC\n",
    "\n",
    "np.random.seed(42)\n",
    "\n",
    "fdc = FDC(clustering_cont=Clustering('euclidean',30,0.01)\n",
    "          , clustering_ord=Clustering(canberra_modified,30,0.01)\n",
    "          , clustering_nom=Clustering('hamming',30,0.01)\n",
    "          , visual=True\n",
    "          , use_pandas_output=True\n",
    "          , with_2d_embedding=True\n",
    "          )\n",
    "\n",
    "fdc.selectFeatures(continueous=cont_list, nomial=nom_list, ordinal=ord_list)\n",
    "\n",
    "FDC_emb_high,FDC_emb_low = fdc.normalize(data,cont_list=cont_list, nom_list=nom_list, ord_list=ord_list,\n",
    "                  with_2d_embedding=True,\n",
    "                  visual=True)"
   ]
  },
  {
   "cell_type": "markdown",
   "id": "c463a715-9608-4325-b72b-b710e1ccb589",
   "metadata": {},
   "source": [
    "### Clustering using K-means"
   ]
  },
  {
   "cell_type": "code",
   "execution_count": 22,
   "id": "a134fdf7-6507-4a33-b163-23f72cc2a074",
   "metadata": {
    "execution": {
     "iopub.execute_input": "2024-01-31T11:58:13.782288Z",
     "iopub.status.busy": "2024-01-31T11:58:13.782143Z",
     "iopub.status.idle": "2024-01-31T11:58:14.127288Z",
     "shell.execute_reply": "2024-01-31T11:58:14.126763Z"
    },
    "tags": []
   },
   "outputs": [
    {
     "data": {
      "image/png": "[encoded data removed]",
      "text/plain": [
       "<Figure size 640x480 with 1 Axes>"
      ]
     },
     "metadata": {},
     "output_type": "display_data"
    }
   ],
   "source": [
    "kmeans_kwargs = {\n",
    "\"init\": \"random\",\n",
    "\"n_init\": 10,\n",
    "\"random_state\": 1,\n",
    "}\n",
    "\n",
    "#create list to hold SSE values for each k\n",
    "sse = []\n",
    "for k in range(1, 11):\n",
    "    kmeans = KMeans(n_clusters=k, **kmeans_kwargs)\n",
    "    kmeans.fit(FDC_emb_low)\n",
    "    sse.append(kmeans.inertia_)\n",
    "\n",
    "#visualize results\n",
    "plt.plot(range(1, 11), sse)\n",
    "plt.xticks(range(1, 11))\n",
    "plt.xlabel(\"Number of Clusters\")\n",
    "plt.ylabel(\"SSE\")\n",
    "plt.show()"
   ]
  },
  {
   "cell_type": "code",
   "execution_count": 23,
   "id": "dc0e649f",
   "metadata": {
    "execution": {
     "iopub.execute_input": "2024-01-31T11:58:14.129329Z",
     "iopub.status.busy": "2024-01-31T11:58:14.129146Z",
     "iopub.status.idle": "2024-01-31T11:58:14.132722Z",
     "shell.execute_reply": "2024-01-31T11:58:14.132246Z"
    }
   },
   "outputs": [],
   "source": [
    "def find_optimal_cluster(FDC_emb_low):\n",
    "    silhouette_scores = []\n",
    "\n",
    "    for n_clusters in list(range(2, 9)):\n",
    "        km = KMeans(n_clusters=n_clusters, init='k-means++', n_init=10, max_iter=100, random_state=42)\n",
    "\n",
    "        km.fit(FDC_emb_low)\n",
    "\n",
    "        labels = km.labels_\n",
    "\n",
    "        # Compute the silhouette score\n",
    "        silhouette_avg = silhouette_score(FDC_emb_low, labels)\n",
    "        silhouette_scores.append(silhouette_avg)\n",
    "    return silhouette_scores"
   ]
  },
  {
   "cell_type": "code",
   "execution_count": 24,
   "id": "3257ae7b",
   "metadata": {
    "execution": {
     "iopub.execute_input": "2024-01-31T11:58:14.134649Z",
     "iopub.status.busy": "2024-01-31T11:58:14.134351Z",
     "iopub.status.idle": "2024-01-31T11:58:14.957915Z",
     "shell.execute_reply": "2024-01-31T11:58:14.957350Z"
    },
    "scrolled": true,
    "tags": []
   },
   "outputs": [
    {
     "data": {
      "text/plain": [
       "[0.4540804, 0.5927589, 0.6602747, 0.77670383, 0.82607114, 0.7806594, 0.764576]"
      ]
     },
     "execution_count": 24,
     "metadata": {},
     "output_type": "execute_result"
    }
   ],
   "source": [
    "find_optimal_cluster(FDC_emb_low)"
   ]
  },
  {
   "cell_type": "code",
   "execution_count": 25,
   "id": "80dbc9a4-8997-42d2-b4fd-49515bb2f8c1",
   "metadata": {
    "execution": {
     "iopub.execute_input": "2024-01-31T11:58:14.960936Z",
     "iopub.status.busy": "2024-01-31T11:58:14.960439Z",
     "iopub.status.idle": "2024-01-31T11:58:15.388023Z",
     "shell.execute_reply": "2024-01-31T11:58:15.387552Z"
    },
    "scrolled": true
   },
   "outputs": [
    {
     "data": {
      "image/png": "[encoded data removed]",
      "text/plain": [
       "<Figure size 560.361x500 with 1 Axes>"
      ]
     },
     "metadata": {},
     "output_type": "display_data"
    }
   ],
   "source": [
    "from fdc.clustering import *\n",
    "np.random.seed(42)\n",
    "clustering=Clustering(FDC_emb_low,FDC_emb_low,True)\n",
    "cluster_list,cluster_counts=clustering.K_means(5)"
   ]
  },
  {
   "cell_type": "code",
   "execution_count": 26,
   "id": "c2f410a1",
   "metadata": {
    "execution": {
     "iopub.execute_input": "2024-01-31T11:58:15.389955Z",
     "iopub.status.busy": "2024-01-31T11:58:15.389810Z",
     "iopub.status.idle": "2024-01-31T11:58:15.393041Z",
     "shell.execute_reply": "2024-01-31T11:58:15.392589Z"
    }
   },
   "outputs": [
    {
     "data": {
      "text/plain": [
       "array([119,  79,  69,  62,  89])"
      ]
     },
     "execution_count": 26,
     "metadata": {},
     "output_type": "execute_result"
    }
   ],
   "source": [
    "cluster_counts"
   ]
  },
  {
   "cell_type": "code",
   "execution_count": 27,
   "id": "250dd725-ecae-4e4d-a125-45a3d64840ab",
   "metadata": {
    "execution": {
     "iopub.execute_input": "2024-01-31T11:58:15.394847Z",
     "iopub.status.busy": "2024-01-31T11:58:15.394712Z",
     "iopub.status.idle": "2024-01-31T11:58:15.397273Z",
     "shell.execute_reply": "2024-01-31T11:58:15.396934Z"
    }
   },
   "outputs": [],
   "source": [
    "data['Target']=cluster_list"
   ]
  },
  {
   "cell_type": "code",
   "execution_count": 28,
   "id": "7fb00206-d5c1-49de-8836-9bd1a6976dbc",
   "metadata": {
    "execution": {
     "iopub.execute_input": "2024-01-31T11:58:15.399340Z",
     "iopub.status.busy": "2024-01-31T11:58:15.399013Z",
     "iopub.status.idle": "2024-01-31T11:58:15.404565Z",
     "shell.execute_reply": "2024-01-31T11:58:15.404192Z"
    },
    "tags": []
   },
   "outputs": [],
   "source": [
    "output_file_path=os.path.join(parent_directory,\"PreprocessedDatasets/SSLiverCirrhosis.csv\")\n",
    "data.to_csv(output_file_path, index=False)"
   ]
  },
  {
   "cell_type": "code",
   "execution_count": null,
   "id": "7bf92e7b-36ed-4d66-8f6a-11beb2defba4",
   "metadata": {},
   "outputs": [],
   "source": []
  }
 ],
 "metadata": {
  "kernelspec": {
   "display_name": "Python 3 (ipykernel)",
   "language": "python",
   "name": "python3"
  },
  "language_info": {
   "codemirror_mode": {
    "name": "ipython",
    "version": 3
   },
   "file_extension": ".py",
   "mimetype": "text/x-python",
   "name": "python",
   "nbconvert_exporter": "python",
   "pygments_lexer": "ipython3",
   "version": "3.8.15"
  }
 },
 "nbformat": 4,
 "nbformat_minor": 5
}
