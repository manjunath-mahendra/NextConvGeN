{
 "cells": [
  {
   "cell_type": "markdown",
   "id": "a5ab3377-1363-4ab6-b4f1-564b2a386d40",
   "metadata": {},
   "source": [
    "## HeartFailure data preprocessing"
   ]
  },
  {
   "cell_type": "markdown",
   "id": "85f5f148-9358-459d-a023-3c3ab9b5bf38",
   "metadata": {},
   "source": [
    "### Importing necessary libraries"
   ]
  },
  {
   "cell_type": "code",
   "execution_count": 1,
   "id": "eff8b7a9-2ed9-46c3-a59f-6258ac1fd08b",
   "metadata": {
    "execution": {
     "iopub.execute_input": "2024-01-31T12:02:27.999796Z",
     "iopub.status.busy": "2024-01-31T12:02:27.998528Z",
     "iopub.status.idle": "2024-01-31T12:02:28.021866Z",
     "shell.execute_reply": "2024-01-31T12:02:28.019760Z"
    }
   },
   "outputs": [],
   "source": [
    "import os\n",
    "import sys\n",
    "current_directory=os.getcwd()\n",
    "parent_directory=os.path.dirname(current_directory)\n",
    "sys.path.append(parent_directory)\n"
   ]
  },
  {
   "cell_type": "code",
   "execution_count": 2,
   "id": "56b80e0e-b49b-4238-85be-28b96923aeb4",
   "metadata": {
    "execution": {
     "iopub.execute_input": "2024-01-31T12:02:28.030939Z",
     "iopub.status.busy": "2024-01-31T12:02:28.030259Z",
     "iopub.status.idle": "2024-01-31T12:02:29.609372Z",
     "shell.execute_reply": "2024-01-31T12:02:29.608838Z"
    },
    "tags": []
   },
   "outputs": [
    {
     "name": "stderr",
     "output_type": "stream",
     "text": [
      "2024-01-31 12:02:28.321661: W tensorflow/stream_executor/platform/default/dso_loader.cc:64] Could not load dynamic library 'libcudart.so.11.0'; dlerror: libcudart.so.11.0: cannot open shared object file: No such file or directory\n",
      "2024-01-31 12:02:28.321680: I tensorflow/stream_executor/cuda/cudart_stub.cc:29] Ignore above cudart dlerror if you do not have a GPU set up on your machine.\n"
     ]
    }
   ],
   "source": [
    "import numpy as np\n",
    "from library.generators.NextConvGeN import NextConvGeN\n"
   ]
  },
  {
   "cell_type": "code",
   "execution_count": 3,
   "id": "60a37ac3-8400-4930-9b8d-f50e51befb9f",
   "metadata": {
    "execution": {
     "iopub.execute_input": "2024-01-31T12:02:29.611642Z",
     "iopub.status.busy": "2024-01-31T12:02:29.611369Z",
     "iopub.status.idle": "2024-01-31T12:02:32.426076Z",
     "shell.execute_reply": "2024-01-31T12:02:32.425524Z"
    }
   },
   "outputs": [],
   "source": [
    "from fdc.fdc import feature_clustering, canberra_modified, Clustering, FDC\n",
    "from fdc.clustering import *"
   ]
  },
  {
   "cell_type": "code",
   "execution_count": 4,
   "id": "24a06985-a202-46b5-93db-f92a3ded0673",
   "metadata": {
    "execution": {
     "iopub.execute_input": "2024-01-31T12:02:32.428311Z",
     "iopub.status.busy": "2024-01-31T12:02:32.428071Z",
     "iopub.status.idle": "2024-01-31T12:02:32.430405Z",
     "shell.execute_reply": "2024-01-31T12:02:32.429956Z"
    }
   },
   "outputs": [],
   "source": [
    "import pandas as pd"
   ]
  },
  {
   "cell_type": "code",
   "execution_count": 5,
   "id": "c8588ee3-e794-4a68-af35-fe499261f72d",
   "metadata": {
    "execution": {
     "iopub.execute_input": "2024-01-31T12:02:32.432254Z",
     "iopub.status.busy": "2024-01-31T12:02:32.432030Z",
     "iopub.status.idle": "2024-01-31T12:02:32.434345Z",
     "shell.execute_reply": "2024-01-31T12:02:32.433896Z"
    }
   },
   "outputs": [],
   "source": [
    "import pandas as pd\n",
    "import matplotlib.pyplot as plt\n",
    "from sklearn.cluster import KMeans\n",
    "from sklearn.metrics import silhouette_score"
   ]
  },
  {
   "cell_type": "markdown",
   "id": "01d3d86f-4e08-4be3-bba9-e2f7b9202670",
   "metadata": {},
   "source": [
    "### Importing data"
   ]
  },
  {
   "cell_type": "code",
   "execution_count": 6,
   "id": "53e069b3-8bcc-46b0-852b-2a504e21197e",
   "metadata": {
    "execution": {
     "iopub.execute_input": "2024-01-31T12:02:32.436279Z",
     "iopub.status.busy": "2024-01-31T12:02:32.436057Z",
     "iopub.status.idle": "2024-01-31T12:02:32.441785Z",
     "shell.execute_reply": "2024-01-31T12:02:32.441402Z"
    }
   },
   "outputs": [],
   "source": [
    "data=pd.read_csv('preprocessed_stroke_data.csv')"
   ]
  },
  {
   "cell_type": "code",
   "execution_count": 7,
   "id": "2df57461-99ed-4080-be92-9109d5913851",
   "metadata": {
    "execution": {
     "iopub.execute_input": "2024-01-31T12:02:32.443584Z",
     "iopub.status.busy": "2024-01-31T12:02:32.443367Z",
     "iopub.status.idle": "2024-01-31T12:02:32.446018Z",
     "shell.execute_reply": "2024-01-31T12:02:32.445679Z"
    }
   },
   "outputs": [],
   "source": [
    "data=data.sample(frac=1, random_state=42)"
   ]
  },
  {
   "cell_type": "code",
   "execution_count": 8,
   "id": "01ddc1d9-e9a4-4fc5-ba3c-48ece0ab75fd",
   "metadata": {
    "execution": {
     "iopub.execute_input": "2024-01-31T12:02:32.447815Z",
     "iopub.status.busy": "2024-01-31T12:02:32.447599Z",
     "iopub.status.idle": "2024-01-31T12:02:32.458992Z",
     "shell.execute_reply": "2024-01-31T12:02:32.458663Z"
    }
   },
   "outputs": [
    {
     "data": {
      "text/html": [
       "<div>\n",
       "<style scoped>\n",
       "    .dataframe tbody tr th:only-of-type {\n",
       "        vertical-align: middle;\n",
       "    }\n",
       "\n",
       "    .dataframe tbody tr th {\n",
       "        vertical-align: top;\n",
       "    }\n",
       "\n",
       "    .dataframe thead th {\n",
       "        text-align: right;\n",
       "    }\n",
       "</style>\n",
       "<table border=\"1\" class=\"dataframe\">\n",
       "  <thead>\n",
       "    <tr style=\"text-align: right;\">\n",
       "      <th></th>\n",
       "      <th>Unnamed: 0</th>\n",
       "      <th>gender</th>\n",
       "      <th>age</th>\n",
       "      <th>hypertension</th>\n",
       "      <th>heart_disease</th>\n",
       "      <th>ever_married</th>\n",
       "      <th>work_type</th>\n",
       "      <th>Residence_type</th>\n",
       "      <th>avg_glucose_level</th>\n",
       "      <th>bmi</th>\n",
       "      <th>smoking_status</th>\n",
       "      <th>stroke</th>\n",
       "    </tr>\n",
       "  </thead>\n",
       "  <tbody>\n",
       "    <tr>\n",
       "      <th>4664</th>\n",
       "      <td>4857</td>\n",
       "      <td>1</td>\n",
       "      <td>32.0</td>\n",
       "      <td>0</td>\n",
       "      <td>0</td>\n",
       "      <td>1</td>\n",
       "      <td>0</td>\n",
       "      <td>0</td>\n",
       "      <td>102.13</td>\n",
       "      <td>32.3</td>\n",
       "      <td>0</td>\n",
       "      <td>0</td>\n",
       "    </tr>\n",
       "    <tr>\n",
       "      <th>3542</th>\n",
       "      <td>3709</td>\n",
       "      <td>0</td>\n",
       "      <td>42.0</td>\n",
       "      <td>0</td>\n",
       "      <td>0</td>\n",
       "      <td>0</td>\n",
       "      <td>0</td>\n",
       "      <td>1</td>\n",
       "      <td>84.03</td>\n",
       "      <td>31.4</td>\n",
       "      <td>0</td>\n",
       "      <td>0</td>\n",
       "    </tr>\n",
       "    <tr>\n",
       "      <th>907</th>\n",
       "      <td>964</td>\n",
       "      <td>1</td>\n",
       "      <td>66.0</td>\n",
       "      <td>1</td>\n",
       "      <td>0</td>\n",
       "      <td>1</td>\n",
       "      <td>0</td>\n",
       "      <td>0</td>\n",
       "      <td>74.90</td>\n",
       "      <td>32.1</td>\n",
       "      <td>0</td>\n",
       "      <td>0</td>\n",
       "    </tr>\n",
       "    <tr>\n",
       "      <th>2833</th>\n",
       "      <td>2971</td>\n",
       "      <td>0</td>\n",
       "      <td>21.0</td>\n",
       "      <td>0</td>\n",
       "      <td>0</td>\n",
       "      <td>0</td>\n",
       "      <td>0</td>\n",
       "      <td>0</td>\n",
       "      <td>71.06</td>\n",
       "      <td>25.3</td>\n",
       "      <td>1</td>\n",
       "      <td>0</td>\n",
       "    </tr>\n",
       "    <tr>\n",
       "      <th>3106</th>\n",
       "      <td>3262</td>\n",
       "      <td>1</td>\n",
       "      <td>47.0</td>\n",
       "      <td>0</td>\n",
       "      <td>0</td>\n",
       "      <td>1</td>\n",
       "      <td>0</td>\n",
       "      <td>0</td>\n",
       "      <td>88.49</td>\n",
       "      <td>22.2</td>\n",
       "      <td>2</td>\n",
       "      <td>0</td>\n",
       "    </tr>\n",
       "    <tr>\n",
       "      <th>...</th>\n",
       "      <td>...</td>\n",
       "      <td>...</td>\n",
       "      <td>...</td>\n",
       "      <td>...</td>\n",
       "      <td>...</td>\n",
       "      <td>...</td>\n",
       "      <td>...</td>\n",
       "      <td>...</td>\n",
       "      <td>...</td>\n",
       "      <td>...</td>\n",
       "      <td>...</td>\n",
       "      <td>...</td>\n",
       "    </tr>\n",
       "    <tr>\n",
       "      <th>4426</th>\n",
       "      <td>4614</td>\n",
       "      <td>0</td>\n",
       "      <td>78.0</td>\n",
       "      <td>0</td>\n",
       "      <td>0</td>\n",
       "      <td>1</td>\n",
       "      <td>3</td>\n",
       "      <td>0</td>\n",
       "      <td>61.38</td>\n",
       "      <td>24.3</td>\n",
       "      <td>-1</td>\n",
       "      <td>0</td>\n",
       "    </tr>\n",
       "    <tr>\n",
       "      <th>466</th>\n",
       "      <td>511</td>\n",
       "      <td>0</td>\n",
       "      <td>51.0</td>\n",
       "      <td>0</td>\n",
       "      <td>0</td>\n",
       "      <td>1</td>\n",
       "      <td>0</td>\n",
       "      <td>0</td>\n",
       "      <td>82.93</td>\n",
       "      <td>29.7</td>\n",
       "      <td>2</td>\n",
       "      <td>0</td>\n",
       "    </tr>\n",
       "    <tr>\n",
       "      <th>3092</th>\n",
       "      <td>3248</td>\n",
       "      <td>0</td>\n",
       "      <td>35.0</td>\n",
       "      <td>1</td>\n",
       "      <td>0</td>\n",
       "      <td>1</td>\n",
       "      <td>0</td>\n",
       "      <td>1</td>\n",
       "      <td>94.20</td>\n",
       "      <td>34.4</td>\n",
       "      <td>2</td>\n",
       "      <td>0</td>\n",
       "    </tr>\n",
       "    <tr>\n",
       "      <th>3772</th>\n",
       "      <td>3947</td>\n",
       "      <td>1</td>\n",
       "      <td>61.0</td>\n",
       "      <td>0</td>\n",
       "      <td>0</td>\n",
       "      <td>1</td>\n",
       "      <td>1</td>\n",
       "      <td>1</td>\n",
       "      <td>116.78</td>\n",
       "      <td>39.8</td>\n",
       "      <td>1</td>\n",
       "      <td>0</td>\n",
       "    </tr>\n",
       "    <tr>\n",
       "      <th>860</th>\n",
       "      <td>916</td>\n",
       "      <td>1</td>\n",
       "      <td>63.0</td>\n",
       "      <td>0</td>\n",
       "      <td>0</td>\n",
       "      <td>1</td>\n",
       "      <td>0</td>\n",
       "      <td>0</td>\n",
       "      <td>57.82</td>\n",
       "      <td>28.8</td>\n",
       "      <td>1</td>\n",
       "      <td>0</td>\n",
       "    </tr>\n",
       "  </tbody>\n",
       "</table>\n",
       "<p>4908 rows × 12 columns</p>\n",
       "</div>"
      ],
      "text/plain": [
       "      Unnamed: 0  gender   age  hypertension  heart_disease  ever_married  \\\n",
       "4664        4857       1  32.0             0              0             1   \n",
       "3542        3709       0  42.0             0              0             0   \n",
       "907          964       1  66.0             1              0             1   \n",
       "2833        2971       0  21.0             0              0             0   \n",
       "3106        3262       1  47.0             0              0             1   \n",
       "...          ...     ...   ...           ...            ...           ...   \n",
       "4426        4614       0  78.0             0              0             1   \n",
       "466          511       0  51.0             0              0             1   \n",
       "3092        3248       0  35.0             1              0             1   \n",
       "3772        3947       1  61.0             0              0             1   \n",
       "860          916       1  63.0             0              0             1   \n",
       "\n",
       "      work_type  Residence_type  avg_glucose_level   bmi  smoking_status  \\\n",
       "4664          0               0             102.13  32.3               0   \n",
       "3542          0               1              84.03  31.4               0   \n",
       "907           0               0              74.90  32.1               0   \n",
       "2833          0               0              71.06  25.3               1   \n",
       "3106          0               0              88.49  22.2               2   \n",
       "...         ...             ...                ...   ...             ...   \n",
       "4426          3               0              61.38  24.3              -1   \n",
       "466           0               0              82.93  29.7               2   \n",
       "3092          0               1              94.20  34.4               2   \n",
       "3772          1               1             116.78  39.8               1   \n",
       "860           0               0              57.82  28.8               1   \n",
       "\n",
       "      stroke  \n",
       "4664       0  \n",
       "3542       0  \n",
       "907        0  \n",
       "2833       0  \n",
       "3106       0  \n",
       "...      ...  \n",
       "4426       0  \n",
       "466        0  \n",
       "3092       0  \n",
       "3772       0  \n",
       "860        0  \n",
       "\n",
       "[4908 rows x 12 columns]"
      ]
     },
     "execution_count": 8,
     "metadata": {},
     "output_type": "execute_result"
    }
   ],
   "source": [
    "data"
   ]
  },
  {
   "cell_type": "code",
   "execution_count": 9,
   "id": "e633073d-271c-450a-87f9-a61755e2f011",
   "metadata": {
    "execution": {
     "iopub.execute_input": "2024-01-31T12:02:32.460790Z",
     "iopub.status.busy": "2024-01-31T12:02:32.460572Z",
     "iopub.status.idle": "2024-01-31T12:02:32.464673Z",
     "shell.execute_reply": "2024-01-31T12:02:32.464299Z"
    }
   },
   "outputs": [],
   "source": [
    "data.drop_duplicates(inplace=True, ignore_index=True)"
   ]
  },
  {
   "cell_type": "code",
   "execution_count": 10,
   "id": "9ffacd7f-b3fb-4115-89e0-dafba14f26fe",
   "metadata": {
    "execution": {
     "iopub.execute_input": "2024-01-31T12:02:32.466569Z",
     "iopub.status.busy": "2024-01-31T12:02:32.466352Z",
     "iopub.status.idle": "2024-01-31T12:02:32.468822Z",
     "shell.execute_reply": "2024-01-31T12:02:32.468489Z"
    }
   },
   "outputs": [],
   "source": [
    "data.drop(['Unnamed: 0'],axis=1, inplace=True)"
   ]
  },
  {
   "cell_type": "code",
   "execution_count": 11,
   "id": "d81fd1ac-f5f9-4e12-8358-fbbbc70b10ca",
   "metadata": {
    "execution": {
     "iopub.execute_input": "2024-01-31T12:02:32.470620Z",
     "iopub.status.busy": "2024-01-31T12:02:32.470404Z",
     "iopub.status.idle": "2024-01-31T12:02:32.484240Z",
     "shell.execute_reply": "2024-01-31T12:02:32.483745Z"
    },
    "tags": []
   },
   "outputs": [],
   "source": [
    "output_file_path=os.path.join(parent_directory,\"PreprocessedDatasets/Stroke.csv\")\n",
    "data.to_csv(output_file_path, index=False)"
   ]
  },
  {
   "cell_type": "code",
   "execution_count": 12,
   "id": "59e36d17-22dc-4067-b89c-d695eb056fa0",
   "metadata": {
    "execution": {
     "iopub.execute_input": "2024-01-31T12:02:32.486112Z",
     "iopub.status.busy": "2024-01-31T12:02:32.485886Z",
     "iopub.status.idle": "2024-01-31T12:02:32.489347Z",
     "shell.execute_reply": "2024-01-31T12:02:32.489022Z"
    }
   },
   "outputs": [
    {
     "data": {
      "text/plain": [
       "0    4699\n",
       "1     209\n",
       "Name: stroke, dtype: int64"
      ]
     },
     "execution_count": 12,
     "metadata": {},
     "output_type": "execute_result"
    }
   ],
   "source": [
    "data['stroke'].value_counts()"
   ]
  },
  {
   "cell_type": "code",
   "execution_count": 13,
   "id": "8aebf9eb-e0b3-40db-bcd0-bfc400e004ce",
   "metadata": {
    "execution": {
     "iopub.execute_input": "2024-01-31T12:02:32.491118Z",
     "iopub.status.busy": "2024-01-31T12:02:32.490955Z",
     "iopub.status.idle": "2024-01-31T12:02:32.493393Z",
     "shell.execute_reply": "2024-01-31T12:02:32.493062Z"
    }
   },
   "outputs": [],
   "source": [
    "data.drop(['stroke'],axis=1, inplace=True)"
   ]
  },
  {
   "cell_type": "code",
   "execution_count": 14,
   "id": "f6585796-c7c5-4f06-a1f4-5f5aea784e42",
   "metadata": {
    "execution": {
     "iopub.execute_input": "2024-01-31T12:02:32.495229Z",
     "iopub.status.busy": "2024-01-31T12:02:32.495012Z",
     "iopub.status.idle": "2024-01-31T12:02:32.497435Z",
     "shell.execute_reply": "2024-01-31T12:02:32.497105Z"
    }
   },
   "outputs": [],
   "source": [
    "np.random.seed(42)\n",
    "data=data.sample(frac=1)"
   ]
  },
  {
   "cell_type": "markdown",
   "id": "b660f1df-14b8-462c-a36c-5718f1881bda",
   "metadata": {},
   "source": [
    "### UMAP on entire data"
   ]
  },
  {
   "cell_type": "code",
   "execution_count": 15,
   "id": "2326c5ac-3967-4a6e-8488-dd1dd29796e3",
   "metadata": {
    "execution": {
     "iopub.execute_input": "2024-01-31T12:02:32.499315Z",
     "iopub.status.busy": "2024-01-31T12:02:32.499100Z",
     "iopub.status.idle": "2024-01-31T12:02:32.501052Z",
     "shell.execute_reply": "2024-01-31T12:02:32.500725Z"
    }
   },
   "outputs": [],
   "source": [
    "from fdc.fdc import feature_clustering"
   ]
  },
  {
   "cell_type": "code",
   "execution_count": 16,
   "id": "4f208ccd-b32d-4a0c-b8be-e6edf64b5664",
   "metadata": {
    "execution": {
     "iopub.execute_input": "2024-01-31T12:02:32.502862Z",
     "iopub.status.busy": "2024-01-31T12:02:32.502647Z",
     "iopub.status.idle": "2024-01-31T12:03:23.220090Z",
     "shell.execute_reply": "2024-01-31T12:03:23.219598Z"
    }
   },
   "outputs": [
    {
     "data": {
      "image/png": "[encoded data removed]",
      "text/plain": [
       "<Figure size 500x500 with 1 Axes>"
      ]
     },
     "metadata": {},
     "output_type": "display_data"
    }
   ],
   "source": [
    "np.random.seed(42)\n",
    "umap_emb=feature_clustering(30,0.1,'euclidean',data,True)"
   ]
  },
  {
   "cell_type": "markdown",
   "id": "f0068723-e652-4358-a2c4-761f5e1833d8",
   "metadata": {},
   "source": [
    "### Feature-type Distributed Clustering (FDC)"
   ]
  },
  {
   "cell_type": "code",
   "execution_count": 17,
   "id": "d91f3053-c382-490a-9c6a-e3925f5d0660",
   "metadata": {
    "execution": {
     "iopub.execute_input": "2024-01-31T12:03:23.222192Z",
     "iopub.status.busy": "2024-01-31T12:03:23.222043Z",
     "iopub.status.idle": "2024-01-31T12:03:23.224632Z",
     "shell.execute_reply": "2024-01-31T12:03:23.224286Z"
    }
   },
   "outputs": [],
   "source": [
    "nom_list=['gender','ever_married','work_type','Residence_type']\n",
    "\n",
    "ord_list=['hypertension','heart_disease','smoking_status']\n",
    "\n",
    "cont_list=['age','avg_glucose_level', 'bmi']\n",
    "\n",
    "target = ['stroke']\n"
   ]
  },
  {
   "cell_type": "code",
   "execution_count": 18,
   "id": "2e9a0102-2e1a-42ca-87e6-957f8c44e0b0",
   "metadata": {
    "execution": {
     "iopub.execute_input": "2024-01-31T12:03:23.226500Z",
     "iopub.status.busy": "2024-01-31T12:03:23.226276Z",
     "iopub.status.idle": "2024-01-31T12:03:23.228391Z",
     "shell.execute_reply": "2024-01-31T12:03:23.228055Z"
    }
   },
   "outputs": [],
   "source": [
    "output_file_path=os.path.join(parent_directory,\"PreprocessedDatasets/Stroke.json\")"
   ]
  },
  {
   "cell_type": "code",
   "execution_count": 19,
   "id": "e535f373-b83e-491b-bef9-70aa19eb2d72",
   "metadata": {
    "execution": {
     "iopub.execute_input": "2024-01-31T12:03:23.230248Z",
     "iopub.status.busy": "2024-01-31T12:03:23.230027Z",
     "iopub.status.idle": "2024-01-31T12:03:23.232540Z",
     "shell.execute_reply": "2024-01-31T12:03:23.232205Z"
    }
   },
   "outputs": [],
   "source": [
    "import json\n",
    "\n",
    "features = {\n",
    "    \"cont_list\": cont_list,\n",
    "    \"nom_list\": nom_list,\n",
    "    \"ord_list\": ord_list,\n",
    "    \"target\": target\n",
    "}\n",
    "\n",
    "with open(output_file_path, \"w\") as json_file:\n",
    "    json.dump(features, json_file)"
   ]
  },
  {
   "cell_type": "code",
   "execution_count": 20,
   "id": "8597d25f-470b-41c5-8353-05f15421e850",
   "metadata": {
    "execution": {
     "iopub.execute_input": "2024-01-31T12:03:23.234390Z",
     "iopub.status.busy": "2024-01-31T12:03:23.234171Z",
     "iopub.status.idle": "2024-01-31T12:04:40.455061Z",
     "shell.execute_reply": "2024-01-31T12:04:40.454581Z"
    }
   },
   "outputs": [
    {
     "name": "stdout",
     "output_type": "stream",
     "text": [
      "FDC.normalize (init): 0.00001 / 0.000s\n"
     ]
    },
    {
     "name": "stdout",
     "output_type": "stream",
     "text": [
      "FDC.normalize (clustering CONT): 10.08787 / 10.088s\n"
     ]
    },
    {
     "name": "stdout",
     "output_type": "stream",
     "text": [
      "FDC.normalize (clustering ORD): 77.39436 / 87.482s\n",
      "FDC.normalize (clustering NOM): 0.00007 / 87.482s\n",
      "FDC.normalize (concat): 0.00020 / 87.483s\n"
     ]
    },
    {
     "name": "stdout",
     "output_type": "stream",
     "text": [
      "FDC.normalize (umap 5 -> 2): 11.25196 / 98.734s\n",
      "FDC.normalize (array -> DataFrame): 0.00027 / 98.735s\n"
     ]
    },
    {
     "data": {
      "image/png": "[encoded data removed]",
      "text/plain": [
       "<Figure size 500x500 with 1 Axes>"
      ]
     },
     "metadata": {},
     "output_type": "display_data"
    },
    {
     "name": "stdout",
     "output_type": "stream",
     "text": [
      "FDC.normalize (plotting): 0.41777 / 99.153s\n",
      "FDC.normalize (array -> DataFrame): 0.00018 / 99.153s\n",
      "FDC.normalize (total): 0.00001 / 99.153s\n"
     ]
    }
   ],
   "source": [
    "from fdc.fdc import feature_clustering, canberra_modified, Clustering, FDC\n",
    "np.random.seed(42)\n",
    "\n",
    "fdc = FDC(clustering_cont=Clustering('euclidean',30,0.01)\n",
    "          , clustering_ord=Clustering(canberra_modified,30,0.01)\n",
    "          , visual=True\n",
    "          , use_pandas_output=True\n",
    "          , with_2d_embedding=True\n",
    "          )\n",
    "\n",
    "fdc.selectFeatures(continueous=cont_list, ordinal=ord_list)\n",
    "\n",
    "FDC_emb_high,FDC_emb_low = fdc.normalize(data,cont_list=cont_list, ord_list=ord_list,\n",
    "                  with_2d_embedding=True,\n",
    "                  visual=True)"
   ]
  },
  {
   "cell_type": "markdown",
   "id": "c463a715-9608-4325-b72b-b710e1ccb589",
   "metadata": {},
   "source": [
    "### Clustering using K-means"
   ]
  },
  {
   "cell_type": "code",
   "execution_count": 21,
   "id": "a134fdf7-6507-4a33-b163-23f72cc2a074",
   "metadata": {
    "execution": {
     "iopub.execute_input": "2024-01-31T12:04:40.457131Z",
     "iopub.status.busy": "2024-01-31T12:04:40.456889Z",
     "iopub.status.idle": "2024-01-31T12:04:40.889804Z",
     "shell.execute_reply": "2024-01-31T12:04:40.889386Z"
    },
    "tags": []
   },
   "outputs": [
    {
     "data": {
      "image/png": "[encoded data removed]",
      "text/plain": [
       "<Figure size 640x480 with 1 Axes>"
      ]
     },
     "metadata": {},
     "output_type": "display_data"
    }
   ],
   "source": [
    "kmeans_kwargs = {\n",
    "\"init\": \"random\",\n",
    "\"n_init\": 10,\n",
    "\"random_state\": 1,\n",
    "}\n",
    "\n",
    "#create list to hold SSE values for each k\n",
    "sse = []\n",
    "for k in range(1, 11):\n",
    "    kmeans = KMeans(n_clusters=k, **kmeans_kwargs)\n",
    "    kmeans.fit(FDC_emb_low)\n",
    "    sse.append(kmeans.inertia_)\n",
    "\n",
    "#visualize results\n",
    "plt.plot(range(1, 11), sse)\n",
    "plt.xticks(range(1, 11))\n",
    "plt.xlabel(\"Number of Clusters\")\n",
    "plt.ylabel(\"SSE\")\n",
    "plt.show()"
   ]
  },
  {
   "cell_type": "code",
   "execution_count": 22,
   "id": "dc0e649f",
   "metadata": {
    "execution": {
     "iopub.execute_input": "2024-01-31T12:04:40.891769Z",
     "iopub.status.busy": "2024-01-31T12:04:40.891580Z",
     "iopub.status.idle": "2024-01-31T12:04:40.894691Z",
     "shell.execute_reply": "2024-01-31T12:04:40.894352Z"
    }
   },
   "outputs": [],
   "source": [
    "def find_optimal_cluster(FDC_emb_low):\n",
    "    silhouette_scores = []\n",
    "\n",
    "    for n_clusters in list(range(2, 9)):\n",
    "        km = KMeans(n_clusters=n_clusters, init='k-means++', n_init=10, max_iter=100, random_state=42)\n",
    "\n",
    "        km.fit(FDC_emb_low)\n",
    "\n",
    "        labels = km.labels_\n",
    "\n",
    "        # Compute the silhouette score\n",
    "        silhouette_avg = silhouette_score(FDC_emb_low, labels)\n",
    "        silhouette_scores.append(silhouette_avg)\n",
    "    return silhouette_scores"
   ]
  },
  {
   "cell_type": "code",
   "execution_count": 23,
   "id": "3257ae7b",
   "metadata": {
    "execution": {
     "iopub.execute_input": "2024-01-31T12:04:40.896442Z",
     "iopub.status.busy": "2024-01-31T12:04:40.896221Z",
     "iopub.status.idle": "2024-01-31T12:04:43.180560Z",
     "shell.execute_reply": "2024-01-31T12:04:43.180070Z"
    },
    "scrolled": true,
    "tags": []
   },
   "outputs": [
    {
     "data": {
      "text/plain": [
       "[0.44019127,\n",
       " 0.47069055,\n",
       " 0.51529866,\n",
       " 0.5420453,\n",
       " 0.5370034,\n",
       " 0.5488177,\n",
       " 0.5475534]"
      ]
     },
     "execution_count": 23,
     "metadata": {},
     "output_type": "execute_result"
    }
   ],
   "source": [
    "find_optimal_cluster(FDC_emb_low)"
   ]
  },
  {
   "cell_type": "code",
   "execution_count": 24,
   "id": "80dbc9a4-8997-42d2-b4fd-49515bb2f8c1",
   "metadata": {
    "execution": {
     "iopub.execute_input": "2024-01-31T12:04:43.182623Z",
     "iopub.status.busy": "2024-01-31T12:04:43.182306Z",
     "iopub.status.idle": "2024-01-31T12:04:43.578590Z",
     "shell.execute_reply": "2024-01-31T12:04:43.578097Z"
    },
    "scrolled": true
   },
   "outputs": [
    {
     "data": {
      "image/png": "[encoded data removed]",
      "text/plain": [
       "<Figure size 560.361x500 with 1 Axes>"
      ]
     },
     "metadata": {},
     "output_type": "display_data"
    }
   ],
   "source": [
    "from fdc.clustering import *\n",
    "np.random.seed(42)\n",
    "clustering=Clustering(FDC_emb_low,FDC_emb_low,True)\n",
    "cluster_list,cluster_counts=clustering.K_means(5)"
   ]
  },
  {
   "cell_type": "code",
   "execution_count": 25,
   "id": "c2f410a1",
   "metadata": {
    "execution": {
     "iopub.execute_input": "2024-01-31T12:04:43.580597Z",
     "iopub.status.busy": "2024-01-31T12:04:43.580310Z",
     "iopub.status.idle": "2024-01-31T12:04:43.583249Z",
     "shell.execute_reply": "2024-01-31T12:04:43.582914Z"
    }
   },
   "outputs": [
    {
     "data": {
      "text/plain": [
       "array([ 583, 1141, 1351, 1358,  475])"
      ]
     },
     "execution_count": 25,
     "metadata": {},
     "output_type": "execute_result"
    }
   ],
   "source": [
    "cluster_counts"
   ]
  },
  {
   "cell_type": "code",
   "execution_count": 26,
   "id": "250dd725-ecae-4e4d-a125-45a3d64840ab",
   "metadata": {
    "execution": {
     "iopub.execute_input": "2024-01-31T12:04:43.585063Z",
     "iopub.status.busy": "2024-01-31T12:04:43.584802Z",
     "iopub.status.idle": "2024-01-31T12:04:43.587849Z",
     "shell.execute_reply": "2024-01-31T12:04:43.587512Z"
    }
   },
   "outputs": [],
   "source": [
    "data['Target']=cluster_list"
   ]
  },
  {
   "cell_type": "code",
   "execution_count": 27,
   "id": "45fb9cab-6d92-4db5-8db5-70a64bd4c979",
   "metadata": {
    "execution": {
     "iopub.execute_input": "2024-01-31T12:04:43.589708Z",
     "iopub.status.busy": "2024-01-31T12:04:43.589428Z",
     "iopub.status.idle": "2024-01-31T12:04:43.604017Z",
     "shell.execute_reply": "2024-01-31T12:04:43.603510Z"
    },
    "tags": []
   },
   "outputs": [],
   "source": [
    "output_file_path=os.path.join(parent_directory,\"PreprocessedDatasets/SSStroke.csv\")\n",
    "data.to_csv(output_file_path, index=False)"
   ]
  },
  {
   "cell_type": "code",
   "execution_count": 28,
   "id": "7bf92e7b-36ed-4d66-8f6a-11beb2defba4",
   "metadata": {
    "execution": {
     "iopub.execute_input": "2024-01-31T12:04:43.605889Z",
     "iopub.status.busy": "2024-01-31T12:04:43.605648Z",
     "iopub.status.idle": "2024-01-31T12:04:43.615477Z",
     "shell.execute_reply": "2024-01-31T12:04:43.615024Z"
    }
   },
   "outputs": [
    {
     "data": {
      "text/html": [
       "<div>\n",
       "<style scoped>\n",
       "    .dataframe tbody tr th:only-of-type {\n",
       "        vertical-align: middle;\n",
       "    }\n",
       "\n",
       "    .dataframe tbody tr th {\n",
       "        vertical-align: top;\n",
       "    }\n",
       "\n",
       "    .dataframe thead th {\n",
       "        text-align: right;\n",
       "    }\n",
       "</style>\n",
       "<table border=\"1\" class=\"dataframe\">\n",
       "  <thead>\n",
       "    <tr style=\"text-align: right;\">\n",
       "      <th></th>\n",
       "      <th>gender</th>\n",
       "      <th>age</th>\n",
       "      <th>hypertension</th>\n",
       "      <th>heart_disease</th>\n",
       "      <th>ever_married</th>\n",
       "      <th>work_type</th>\n",
       "      <th>Residence_type</th>\n",
       "      <th>avg_glucose_level</th>\n",
       "      <th>bmi</th>\n",
       "      <th>smoking_status</th>\n",
       "      <th>Target</th>\n",
       "    </tr>\n",
       "  </thead>\n",
       "  <tbody>\n",
       "    <tr>\n",
       "      <th>4664</th>\n",
       "      <td>0</td>\n",
       "      <td>18.00</td>\n",
       "      <td>0</td>\n",
       "      <td>0</td>\n",
       "      <td>0</td>\n",
       "      <td>0</td>\n",
       "      <td>0</td>\n",
       "      <td>80.06</td>\n",
       "      <td>31.8</td>\n",
       "      <td>-1</td>\n",
       "      <td>2</td>\n",
       "    </tr>\n",
       "    <tr>\n",
       "      <th>3542</th>\n",
       "      <td>0</td>\n",
       "      <td>54.00</td>\n",
       "      <td>0</td>\n",
       "      <td>0</td>\n",
       "      <td>1</td>\n",
       "      <td>0</td>\n",
       "      <td>0</td>\n",
       "      <td>111.41</td>\n",
       "      <td>31.1</td>\n",
       "      <td>0</td>\n",
       "      <td>3</td>\n",
       "    </tr>\n",
       "    <tr>\n",
       "      <th>907</th>\n",
       "      <td>1</td>\n",
       "      <td>0.32</td>\n",
       "      <td>0</td>\n",
       "      <td>0</td>\n",
       "      <td>0</td>\n",
       "      <td>2</td>\n",
       "      <td>1</td>\n",
       "      <td>89.04</td>\n",
       "      <td>17.8</td>\n",
       "      <td>-1</td>\n",
       "      <td>2</td>\n",
       "    </tr>\n",
       "    <tr>\n",
       "      <th>2833</th>\n",
       "      <td>1</td>\n",
       "      <td>23.00</td>\n",
       "      <td>0</td>\n",
       "      <td>0</td>\n",
       "      <td>0</td>\n",
       "      <td>0</td>\n",
       "      <td>0</td>\n",
       "      <td>67.76</td>\n",
       "      <td>26.0</td>\n",
       "      <td>0</td>\n",
       "      <td>3</td>\n",
       "    </tr>\n",
       "    <tr>\n",
       "      <th>3106</th>\n",
       "      <td>0</td>\n",
       "      <td>82.00</td>\n",
       "      <td>1</td>\n",
       "      <td>0</td>\n",
       "      <td>1</td>\n",
       "      <td>0</td>\n",
       "      <td>1</td>\n",
       "      <td>115.71</td>\n",
       "      <td>31.1</td>\n",
       "      <td>1</td>\n",
       "      <td>0</td>\n",
       "    </tr>\n",
       "    <tr>\n",
       "      <th>...</th>\n",
       "      <td>...</td>\n",
       "      <td>...</td>\n",
       "      <td>...</td>\n",
       "      <td>...</td>\n",
       "      <td>...</td>\n",
       "      <td>...</td>\n",
       "      <td>...</td>\n",
       "      <td>...</td>\n",
       "      <td>...</td>\n",
       "      <td>...</td>\n",
       "      <td>...</td>\n",
       "    </tr>\n",
       "    <tr>\n",
       "      <th>4426</th>\n",
       "      <td>0</td>\n",
       "      <td>50.00</td>\n",
       "      <td>0</td>\n",
       "      <td>0</td>\n",
       "      <td>1</td>\n",
       "      <td>0</td>\n",
       "      <td>0</td>\n",
       "      <td>217.39</td>\n",
       "      <td>50.6</td>\n",
       "      <td>-1</td>\n",
       "      <td>4</td>\n",
       "    </tr>\n",
       "    <tr>\n",
       "      <th>466</th>\n",
       "      <td>1</td>\n",
       "      <td>49.00</td>\n",
       "      <td>1</td>\n",
       "      <td>0</td>\n",
       "      <td>1</td>\n",
       "      <td>1</td>\n",
       "      <td>0</td>\n",
       "      <td>92.26</td>\n",
       "      <td>33.1</td>\n",
       "      <td>1</td>\n",
       "      <td>0</td>\n",
       "    </tr>\n",
       "    <tr>\n",
       "      <th>3092</th>\n",
       "      <td>0</td>\n",
       "      <td>5.00</td>\n",
       "      <td>0</td>\n",
       "      <td>0</td>\n",
       "      <td>0</td>\n",
       "      <td>2</td>\n",
       "      <td>0</td>\n",
       "      <td>92.00</td>\n",
       "      <td>17.9</td>\n",
       "      <td>-1</td>\n",
       "      <td>2</td>\n",
       "    </tr>\n",
       "    <tr>\n",
       "      <th>3772</th>\n",
       "      <td>1</td>\n",
       "      <td>71.00</td>\n",
       "      <td>1</td>\n",
       "      <td>0</td>\n",
       "      <td>1</td>\n",
       "      <td>0</td>\n",
       "      <td>0</td>\n",
       "      <td>186.95</td>\n",
       "      <td>33.3</td>\n",
       "      <td>0</td>\n",
       "      <td>4</td>\n",
       "    </tr>\n",
       "    <tr>\n",
       "      <th>860</th>\n",
       "      <td>0</td>\n",
       "      <td>14.00</td>\n",
       "      <td>0</td>\n",
       "      <td>0</td>\n",
       "      <td>0</td>\n",
       "      <td>0</td>\n",
       "      <td>0</td>\n",
       "      <td>83.56</td>\n",
       "      <td>33.1</td>\n",
       "      <td>-1</td>\n",
       "      <td>2</td>\n",
       "    </tr>\n",
       "  </tbody>\n",
       "</table>\n",
       "<p>4908 rows × 11 columns</p>\n",
       "</div>"
      ],
      "text/plain": [
       "      gender    age  hypertension  heart_disease  ever_married  work_type  \\\n",
       "4664       0  18.00             0              0             0          0   \n",
       "3542       0  54.00             0              0             1          0   \n",
       "907        1   0.32             0              0             0          2   \n",
       "2833       1  23.00             0              0             0          0   \n",
       "3106       0  82.00             1              0             1          0   \n",
       "...      ...    ...           ...            ...           ...        ...   \n",
       "4426       0  50.00             0              0             1          0   \n",
       "466        1  49.00             1              0             1          1   \n",
       "3092       0   5.00             0              0             0          2   \n",
       "3772       1  71.00             1              0             1          0   \n",
       "860        0  14.00             0              0             0          0   \n",
       "\n",
       "      Residence_type  avg_glucose_level   bmi  smoking_status  Target  \n",
       "4664               0              80.06  31.8              -1       2  \n",
       "3542               0             111.41  31.1               0       3  \n",
       "907                1              89.04  17.8              -1       2  \n",
       "2833               0              67.76  26.0               0       3  \n",
       "3106               1             115.71  31.1               1       0  \n",
       "...              ...                ...   ...             ...     ...  \n",
       "4426               0             217.39  50.6              -1       4  \n",
       "466                0              92.26  33.1               1       0  \n",
       "3092               0              92.00  17.9              -1       2  \n",
       "3772               0             186.95  33.3               0       4  \n",
       "860                0              83.56  33.1              -1       2  \n",
       "\n",
       "[4908 rows x 11 columns]"
      ]
     },
     "execution_count": 28,
     "metadata": {},
     "output_type": "execute_result"
    }
   ],
   "source": [
    "data"
   ]
  },
  {
   "cell_type": "code",
   "execution_count": null,
   "id": "73e24fe9-2dd6-424d-8ec7-a312638085fa",
   "metadata": {},
   "outputs": [],
   "source": []
  }
 ],
 "metadata": {
  "kernelspec": {
   "display_name": "Python 3 (ipykernel)",
   "language": "python",
   "name": "python3"
  },
  "language_info": {
   "codemirror_mode": {
    "name": "ipython",
    "version": 3
   },
   "file_extension": ".py",
   "mimetype": "text/x-python",
   "name": "python",
   "nbconvert_exporter": "python",
   "pygments_lexer": "ipython3",
   "version": "3.8.15"
  }
 },
 "nbformat": 4,
 "nbformat_minor": 5
}
