{
 "cells": [
  {
   "cell_type": "markdown",
   "id": "a5ab3377-1363-4ab6-b4f1-564b2a386d40",
   "metadata": {},
   "source": [
    "## HeartFailure data preprocessing"
   ]
  },
  {
   "cell_type": "markdown",
   "id": "85f5f148-9358-459d-a023-3c3ab9b5bf38",
   "metadata": {},
   "source": [
    "### Importing necessary libraries"
   ]
  },
  {
   "cell_type": "code",
   "execution_count": 1,
   "id": "eff8b7a9-2ed9-46c3-a59f-6258ac1fd08b",
   "metadata": {
    "execution": {
     "iopub.execute_input": "2024-01-31T12:01:31.950957Z",
     "iopub.status.busy": "2024-01-31T12:01:31.950792Z",
     "iopub.status.idle": "2024-01-31T12:01:31.956028Z",
     "shell.execute_reply": "2024-01-31T12:01:31.955602Z"
    }
   },
   "outputs": [],
   "source": [
    "import os\n",
    "import sys\n",
    "current_directory=os.getcwd()\n",
    "parent_directory=os.path.dirname(current_directory)\n",
    "sys.path.append(parent_directory)\n"
   ]
  },
  {
   "cell_type": "code",
   "execution_count": 2,
   "id": "56b80e0e-b49b-4238-85be-28b96923aeb4",
   "metadata": {
    "execution": {
     "iopub.execute_input": "2024-01-31T12:01:31.957928Z",
     "iopub.status.busy": "2024-01-31T12:01:31.957789Z",
     "iopub.status.idle": "2024-01-31T12:01:33.517046Z",
     "shell.execute_reply": "2024-01-31T12:01:33.516508Z"
    },
    "tags": []
   },
   "outputs": [
    {
     "name": "stderr",
     "output_type": "stream",
     "text": [
      "2024-01-31 12:01:32.230599: W tensorflow/stream_executor/platform/default/dso_loader.cc:64] Could not load dynamic library 'libcudart.so.11.0'; dlerror: libcudart.so.11.0: cannot open shared object file: No such file or directory\n",
      "2024-01-31 12:01:32.230617: I tensorflow/stream_executor/cuda/cudart_stub.cc:29] Ignore above cudart dlerror if you do not have a GPU set up on your machine.\n"
     ]
    }
   ],
   "source": [
    "import numpy as np\n",
    "from library.generators.NextConvGeN import NextConvGeN\n"
   ]
  },
  {
   "cell_type": "code",
   "execution_count": 3,
   "id": "60a37ac3-8400-4930-9b8d-f50e51befb9f",
   "metadata": {
    "execution": {
     "iopub.execute_input": "2024-01-31T12:01:33.519215Z",
     "iopub.status.busy": "2024-01-31T12:01:33.518973Z",
     "iopub.status.idle": "2024-01-31T12:01:36.319735Z",
     "shell.execute_reply": "2024-01-31T12:01:36.319199Z"
    }
   },
   "outputs": [],
   "source": [
    "from fdc.fdc import feature_clustering, canberra_modified, Clustering, FDC\n",
    "from fdc.clustering import *"
   ]
  },
  {
   "cell_type": "code",
   "execution_count": 4,
   "id": "24a06985-a202-46b5-93db-f92a3ded0673",
   "metadata": {
    "execution": {
     "iopub.execute_input": "2024-01-31T12:01:36.321794Z",
     "iopub.status.busy": "2024-01-31T12:01:36.321644Z",
     "iopub.status.idle": "2024-01-31T12:01:36.324061Z",
     "shell.execute_reply": "2024-01-31T12:01:36.323652Z"
    }
   },
   "outputs": [],
   "source": [
    "import pandas as pd"
   ]
  },
  {
   "cell_type": "code",
   "execution_count": 5,
   "id": "c8588ee3-e794-4a68-af35-fe499261f72d",
   "metadata": {
    "execution": {
     "iopub.execute_input": "2024-01-31T12:01:36.325955Z",
     "iopub.status.busy": "2024-01-31T12:01:36.325619Z",
     "iopub.status.idle": "2024-01-31T12:01:36.328248Z",
     "shell.execute_reply": "2024-01-31T12:01:36.327776Z"
    }
   },
   "outputs": [],
   "source": [
    "import pandas as pd\n",
    "import matplotlib.pyplot as plt\n",
    "from sklearn.cluster import KMeans\n",
    "from sklearn.metrics import silhouette_score"
   ]
  },
  {
   "cell_type": "markdown",
   "id": "01d3d86f-4e08-4be3-bba9-e2f7b9202670",
   "metadata": {},
   "source": [
    "### Importing data"
   ]
  },
  {
   "cell_type": "code",
   "execution_count": 6,
   "id": "53e069b3-8bcc-46b0-852b-2a504e21197e",
   "metadata": {
    "execution": {
     "iopub.execute_input": "2024-01-31T12:01:36.330094Z",
     "iopub.status.busy": "2024-01-31T12:01:36.329959Z",
     "iopub.status.idle": "2024-01-31T12:01:36.334128Z",
     "shell.execute_reply": "2024-01-31T12:01:36.333715Z"
    }
   },
   "outputs": [],
   "source": [
    "data=pd.read_csv('preprocessed_migraine_data.csv')"
   ]
  },
  {
   "cell_type": "code",
   "execution_count": 7,
   "id": "131748d5-737b-48ef-984e-9445e24cd054",
   "metadata": {
    "execution": {
     "iopub.execute_input": "2024-01-31T12:01:36.335992Z",
     "iopub.status.busy": "2024-01-31T12:01:36.335702Z",
     "iopub.status.idle": "2024-01-31T12:01:36.338258Z",
     "shell.execute_reply": "2024-01-31T12:01:36.337927Z"
    }
   },
   "outputs": [],
   "source": [
    "data.drop(['Unnamed: 0'],axis=1,inplace=True)"
   ]
  },
  {
   "cell_type": "code",
   "execution_count": 8,
   "id": "2df57461-99ed-4080-be92-9109d5913851",
   "metadata": {
    "execution": {
     "iopub.execute_input": "2024-01-31T12:01:36.339964Z",
     "iopub.status.busy": "2024-01-31T12:01:36.339796Z",
     "iopub.status.idle": "2024-01-31T12:01:36.342217Z",
     "shell.execute_reply": "2024-01-31T12:01:36.341887Z"
    }
   },
   "outputs": [],
   "source": [
    "np.random.seed(42)\n",
    "data=data.sample(frac=1)"
   ]
  },
  {
   "cell_type": "code",
   "execution_count": 9,
   "id": "e633073d-271c-450a-87f9-a61755e2f011",
   "metadata": {
    "execution": {
     "iopub.execute_input": "2024-01-31T12:01:36.344048Z",
     "iopub.status.busy": "2024-01-31T12:01:36.343740Z",
     "iopub.status.idle": "2024-01-31T12:01:36.347919Z",
     "shell.execute_reply": "2024-01-31T12:01:36.347542Z"
    }
   },
   "outputs": [],
   "source": [
    "data.drop_duplicates(inplace=True, ignore_index=True)"
   ]
  },
  {
   "cell_type": "code",
   "execution_count": 10,
   "id": "1844be9f-2cb9-47d9-86f2-0f65bdd28785",
   "metadata": {
    "execution": {
     "iopub.execute_input": "2024-01-31T12:01:36.349806Z",
     "iopub.status.busy": "2024-01-31T12:01:36.349457Z",
     "iopub.status.idle": "2024-01-31T12:01:36.354101Z",
     "shell.execute_reply": "2024-01-31T12:01:36.353778Z"
    },
    "tags": []
   },
   "outputs": [
    {
     "data": {
      "text/plain": [
       " 0    241\n",
       " 1     60\n",
       " 2     24\n",
       " 3     20\n",
       " 4     18\n",
       "-1     17\n",
       " 5     14\n",
       "Name: Type, dtype: int64"
      ]
     },
     "execution_count": 10,
     "metadata": {},
     "output_type": "execute_result"
    }
   ],
   "source": [
    "data['Type'].value_counts()"
   ]
  },
  {
   "cell_type": "code",
   "execution_count": 11,
   "id": "74631129-39e8-4b9d-bef4-a4c3cafb250e",
   "metadata": {
    "execution": {
     "iopub.execute_input": "2024-01-31T12:01:36.355985Z",
     "iopub.status.busy": "2024-01-31T12:01:36.355659Z",
     "iopub.status.idle": "2024-01-31T12:01:36.358249Z",
     "shell.execute_reply": "2024-01-31T12:01:36.357922Z"
    }
   },
   "outputs": [],
   "source": [
    "data = data.drop(data[data.Type == -1].index)"
   ]
  },
  {
   "cell_type": "code",
   "execution_count": 12,
   "id": "51b6a560-c2d1-49d8-ab02-7445c7586657",
   "metadata": {
    "execution": {
     "iopub.execute_input": "2024-01-31T12:01:36.360086Z",
     "iopub.status.busy": "2024-01-31T12:01:36.359777Z",
     "iopub.status.idle": "2024-01-31T12:01:36.363026Z",
     "shell.execute_reply": "2024-01-31T12:01:36.362704Z"
    }
   },
   "outputs": [
    {
     "data": {
      "text/plain": [
       "0    241\n",
       "1     60\n",
       "2     24\n",
       "3     20\n",
       "4     18\n",
       "5     14\n",
       "Name: Type, dtype: int64"
      ]
     },
     "execution_count": 12,
     "metadata": {},
     "output_type": "execute_result"
    }
   ],
   "source": [
    "data['Type'].value_counts()"
   ]
  },
  {
   "cell_type": "code",
   "execution_count": 13,
   "id": "d81fd1ac-f5f9-4e12-8358-fbbbc70b10ca",
   "metadata": {
    "execution": {
     "iopub.execute_input": "2024-01-31T12:01:36.364906Z",
     "iopub.status.busy": "2024-01-31T12:01:36.364576Z",
     "iopub.status.idle": "2024-01-31T12:01:36.368508Z",
     "shell.execute_reply": "2024-01-31T12:01:36.368137Z"
    },
    "tags": []
   },
   "outputs": [],
   "source": [
    "output_file_path=os.path.join(parent_directory,\"PreprocessedDatasets/Migraine.csv\")\n",
    "data.to_csv(output_file_path, index=False)"
   ]
  },
  {
   "cell_type": "code",
   "execution_count": 14,
   "id": "8aebf9eb-e0b3-40db-bcd0-bfc400e004ce",
   "metadata": {
    "execution": {
     "iopub.execute_input": "2024-01-31T12:01:36.370388Z",
     "iopub.status.busy": "2024-01-31T12:01:36.370075Z",
     "iopub.status.idle": "2024-01-31T12:01:36.372474Z",
     "shell.execute_reply": "2024-01-31T12:01:36.372145Z"
    }
   },
   "outputs": [],
   "source": [
    "data.drop(['Type'],axis=1, inplace=True)"
   ]
  },
  {
   "cell_type": "code",
   "execution_count": 15,
   "id": "f6585796-c7c5-4f06-a1f4-5f5aea784e42",
   "metadata": {
    "execution": {
     "iopub.execute_input": "2024-01-31T12:01:36.374345Z",
     "iopub.status.busy": "2024-01-31T12:01:36.374035Z",
     "iopub.status.idle": "2024-01-31T12:01:36.376276Z",
     "shell.execute_reply": "2024-01-31T12:01:36.375952Z"
    }
   },
   "outputs": [],
   "source": [
    "np.random.seed(42)\n",
    "data=data.sample(frac=1)"
   ]
  },
  {
   "cell_type": "code",
   "execution_count": 16,
   "id": "daf17014-4a05-4b90-9cc0-a83fdbb478db",
   "metadata": {
    "execution": {
     "iopub.execute_input": "2024-01-31T12:01:36.377998Z",
     "iopub.status.busy": "2024-01-31T12:01:36.377864Z",
     "iopub.status.idle": "2024-01-31T12:01:36.380254Z",
     "shell.execute_reply": "2024-01-31T12:01:36.379926Z"
    }
   },
   "outputs": [],
   "source": [
    "values=['Age','Duration','Frequency','Intensity','Visual','Nausea', 'Vomit','Location','Character','Dysphasia', 'Vertigo', 'Tinnitus','Sensory','Phonophobia','Photophobia', 'Hypoacusis', 'Diplopia', 'Defect','Conscience', 'Paresthesia', 'DPF']"
   ]
  },
  {
   "cell_type": "code",
   "execution_count": 17,
   "id": "f6300ef8-de66-4ac7-81f9-4abeba0e2910",
   "metadata": {
    "execution": {
     "iopub.execute_input": "2024-01-31T12:01:36.382170Z",
     "iopub.status.busy": "2024-01-31T12:01:36.381870Z",
     "iopub.status.idle": "2024-01-31T12:01:36.384438Z",
     "shell.execute_reply": "2024-01-31T12:01:36.384110Z"
    }
   },
   "outputs": [],
   "source": [
    "data=data[values]"
   ]
  },
  {
   "cell_type": "markdown",
   "id": "b660f1df-14b8-462c-a36c-5718f1881bda",
   "metadata": {},
   "source": [
    "### UMAP on entire data"
   ]
  },
  {
   "cell_type": "code",
   "execution_count": 18,
   "id": "2326c5ac-3967-4a6e-8488-dd1dd29796e3",
   "metadata": {
    "execution": {
     "iopub.execute_input": "2024-01-31T12:01:36.386440Z",
     "iopub.status.busy": "2024-01-31T12:01:36.386141Z",
     "iopub.status.idle": "2024-01-31T12:01:36.388144Z",
     "shell.execute_reply": "2024-01-31T12:01:36.387819Z"
    }
   },
   "outputs": [],
   "source": [
    "from fdc.fdc import feature_clustering"
   ]
  },
  {
   "cell_type": "code",
   "execution_count": 19,
   "id": "4f208ccd-b32d-4a0c-b8be-e6edf64b5664",
   "metadata": {
    "execution": {
     "iopub.execute_input": "2024-01-31T12:01:36.390053Z",
     "iopub.status.busy": "2024-01-31T12:01:36.389764Z",
     "iopub.status.idle": "2024-01-31T12:01:40.933923Z",
     "shell.execute_reply": "2024-01-31T12:01:40.933436Z"
    }
   },
   "outputs": [
    {
     "data": {
      "image/png": "[encoded data removed]",
      "text/plain": [
       "<Figure size 500x500 with 1 Axes>"
      ]
     },
     "metadata": {},
     "output_type": "display_data"
    }
   ],
   "source": [
    "np.random.seed(42)\n",
    "umap_emb=feature_clustering(30,0.1,'euclidean',data,True)"
   ]
  },
  {
   "cell_type": "markdown",
   "id": "f0068723-e652-4358-a2c4-761f5e1833d8",
   "metadata": {},
   "source": [
    "### Feature-type Distributed Clustering (FDC)"
   ]
  },
  {
   "cell_type": "code",
   "execution_count": 20,
   "id": "d91f3053-c382-490a-9c6a-e3925f5d0660",
   "metadata": {
    "execution": {
     "iopub.execute_input": "2024-01-31T12:01:40.935881Z",
     "iopub.status.busy": "2024-01-31T12:01:40.935740Z",
     "iopub.status.idle": "2024-01-31T12:01:40.938461Z",
     "shell.execute_reply": "2024-01-31T12:01:40.938125Z"
    }
   },
   "outputs": [],
   "source": [
    "cont_list=['Age']\n",
    "\n",
    "ord_list=['Duration','Frequency','Intensity','Visual','Nausea', 'Vomit']\n",
    "\n",
    "nom_list=['Location','Character','Dysphasia', 'Vertigo', 'Tinnitus','Sensory','Phonophobia','Photophobia', 'Hypoacusis', 'Diplopia', 'Defect','Conscience', 'Paresthesia', 'DPF']\n",
    "\n",
    "target = ['Type']\n"
   ]
  },
  {
   "cell_type": "code",
   "execution_count": 21,
   "id": "2e9a0102-2e1a-42ca-87e6-957f8c44e0b0",
   "metadata": {
    "execution": {
     "iopub.execute_input": "2024-01-31T12:01:40.940132Z",
     "iopub.status.busy": "2024-01-31T12:01:40.939998Z",
     "iopub.status.idle": "2024-01-31T12:01:40.942161Z",
     "shell.execute_reply": "2024-01-31T12:01:40.941833Z"
    }
   },
   "outputs": [],
   "source": [
    "output_file_path=os.path.join(parent_directory,\"PreprocessedDatasets/Migraine.json\")"
   ]
  },
  {
   "cell_type": "code",
   "execution_count": 22,
   "id": "e535f373-b83e-491b-bef9-70aa19eb2d72",
   "metadata": {
    "execution": {
     "iopub.execute_input": "2024-01-31T12:01:40.944003Z",
     "iopub.status.busy": "2024-01-31T12:01:40.943731Z",
     "iopub.status.idle": "2024-01-31T12:01:40.946401Z",
     "shell.execute_reply": "2024-01-31T12:01:40.946072Z"
    }
   },
   "outputs": [],
   "source": [
    "import json\n",
    "\n",
    "features = {\n",
    "    \"cont_list\": cont_list,\n",
    "    \"nom_list\": nom_list,\n",
    "    \"ord_list\": ord_list,\n",
    "    \"target\": target\n",
    "}\n",
    "\n",
    "with open(output_file_path, \"w\") as json_file:\n",
    "    json.dump(features, json_file)"
   ]
  },
  {
   "cell_type": "code",
   "execution_count": 23,
   "id": "8597d25f-470b-41c5-8353-05f15421e850",
   "metadata": {
    "execution": {
     "iopub.execute_input": "2024-01-31T12:01:40.948290Z",
     "iopub.status.busy": "2024-01-31T12:01:40.947966Z",
     "iopub.status.idle": "2024-01-31T12:01:45.765969Z",
     "shell.execute_reply": "2024-01-31T12:01:45.765488Z"
    }
   },
   "outputs": [
    {
     "name": "stdout",
     "output_type": "stream",
     "text": [
      "FDC.normalize (init): 0.00001 / 0.000s\n"
     ]
    },
    {
     "name": "stdout",
     "output_type": "stream",
     "text": [
      "FDC.normalize (clustering CONT): 2.14630 / 2.146s\n"
     ]
    },
    {
     "name": "stdout",
     "output_type": "stream",
     "text": [
      "FDC.normalize (clustering ORD): 2.04515 / 4.191s\n",
      "FDC.normalize (clustering NOM): 0.00005 / 4.192s\n",
      "FDC.normalize (concat): 0.00002 / 4.192s\n"
     ]
    },
    {
     "name": "stdout",
     "output_type": "stream",
     "text": [
      "FDC.normalize (umap 5 -> 2): 1.18695 / 5.378s\n",
      "FDC.normalize (array -> DataFrame): 0.00026 / 5.379s\n"
     ]
    },
    {
     "data": {
      "image/png": "[encoded data removed]",
      "text/plain": [
       "<Figure size 500x500 with 1 Axes>"
      ]
     },
     "metadata": {},
     "output_type": "display_data"
    },
    {
     "name": "stdout",
     "output_type": "stream",
     "text": [
      "FDC.normalize (plotting): 0.40254 / 5.781s\n",
      "FDC.normalize (array -> DataFrame): 0.00017 / 5.781s\n",
      "FDC.normalize (total): 0.00001 / 5.781s\n"
     ]
    }
   ],
   "source": [
    "from fdc.fdc import feature_clustering, canberra_modified, Clustering, FDC\n",
    "np.random.seed(42)\n",
    "\n",
    "fdc = FDC(clustering_cont=Clustering('euclidean',30,0.01)\n",
    "          , clustering_ord=Clustering(canberra_modified,30,0.01)\n",
    "          , visual=True\n",
    "          , use_pandas_output=True\n",
    "          , with_2d_embedding=True\n",
    "          )\n",
    "\n",
    "fdc.selectFeatures(continueous=cont_list, ordinal=ord_list)\n",
    "\n",
    "FDC_emb_high,FDC_emb_low = fdc.normalize(data,cont_list=cont_list, ord_list=ord_list,\n",
    "                  with_2d_embedding=True,\n",
    "                  visual=True)"
   ]
  },
  {
   "cell_type": "markdown",
   "id": "c463a715-9608-4325-b72b-b710e1ccb589",
   "metadata": {},
   "source": [
    "### Clustering using K-means"
   ]
  },
  {
   "cell_type": "code",
   "execution_count": 24,
   "id": "a134fdf7-6507-4a33-b163-23f72cc2a074",
   "metadata": {
    "execution": {
     "iopub.execute_input": "2024-01-31T12:01:45.767908Z",
     "iopub.status.busy": "2024-01-31T12:01:45.767764Z",
     "iopub.status.idle": "2024-01-31T12:01:46.094198Z",
     "shell.execute_reply": "2024-01-31T12:01:46.093627Z"
    },
    "tags": []
   },
   "outputs": [
    {
     "data": {
      "image/png": "[encoded data removed]",
      "text/plain": [
       "<Figure size 640x480 with 1 Axes>"
      ]
     },
     "metadata": {},
     "output_type": "display_data"
    }
   ],
   "source": [
    "kmeans_kwargs = {\n",
    "\"init\": \"random\",\n",
    "\"n_init\": 10,\n",
    "\"random_state\": 1,\n",
    "}\n",
    "\n",
    "#create list to hold SSE values for each k\n",
    "sse = []\n",
    "for k in range(1, 11):\n",
    "    kmeans = KMeans(n_clusters=k, **kmeans_kwargs)\n",
    "    kmeans.fit(FDC_emb_low)\n",
    "    sse.append(kmeans.inertia_)\n",
    "\n",
    "#visualize results\n",
    "plt.plot(range(1, 11), sse)\n",
    "plt.xticks(range(1, 11))\n",
    "plt.xlabel(\"Number of Clusters\")\n",
    "plt.ylabel(\"SSE\")\n",
    "plt.show()"
   ]
  },
  {
   "cell_type": "code",
   "execution_count": 25,
   "id": "dc0e649f",
   "metadata": {
    "execution": {
     "iopub.execute_input": "2024-01-31T12:01:46.096595Z",
     "iopub.status.busy": "2024-01-31T12:01:46.096267Z",
     "iopub.status.idle": "2024-01-31T12:01:46.099827Z",
     "shell.execute_reply": "2024-01-31T12:01:46.099382Z"
    }
   },
   "outputs": [],
   "source": [
    "def find_optimal_cluster(FDC_emb_low):\n",
    "    silhouette_scores = []\n",
    "\n",
    "    for n_clusters in list(range(2, 9)):\n",
    "        km = KMeans(n_clusters=n_clusters, init='k-means++', n_init=10, max_iter=100, random_state=42)\n",
    "\n",
    "        km.fit(FDC_emb_low)\n",
    "\n",
    "        labels = km.labels_\n",
    "\n",
    "        # Compute the silhouette score\n",
    "        silhouette_avg = silhouette_score(FDC_emb_low, labels)\n",
    "        silhouette_scores.append(silhouette_avg)\n",
    "    return silhouette_scores"
   ]
  },
  {
   "cell_type": "code",
   "execution_count": 26,
   "id": "3257ae7b",
   "metadata": {
    "execution": {
     "iopub.execute_input": "2024-01-31T12:01:46.101704Z",
     "iopub.status.busy": "2024-01-31T12:01:46.101494Z",
     "iopub.status.idle": "2024-01-31T12:01:46.920659Z",
     "shell.execute_reply": "2024-01-31T12:01:46.920074Z"
    },
    "scrolled": true,
    "tags": []
   },
   "outputs": [
    {
     "data": {
      "text/plain": [
       "[0.50990045,\n",
       " 0.59335613,\n",
       " 0.64083356,\n",
       " 0.6717999,\n",
       " 0.7620563,\n",
       " 0.80570585,\n",
       " 0.8318305]"
      ]
     },
     "execution_count": 26,
     "metadata": {},
     "output_type": "execute_result"
    }
   ],
   "source": [
    "find_optimal_cluster(FDC_emb_low)"
   ]
  },
  {
   "cell_type": "code",
   "execution_count": 27,
   "id": "80dbc9a4-8997-42d2-b4fd-49515bb2f8c1",
   "metadata": {
    "execution": {
     "iopub.execute_input": "2024-01-31T12:01:46.923653Z",
     "iopub.status.busy": "2024-01-31T12:01:46.923160Z",
     "iopub.status.idle": "2024-01-31T12:01:47.306383Z",
     "shell.execute_reply": "2024-01-31T12:01:47.305901Z"
    },
    "scrolled": true
   },
   "outputs": [
    {
     "data": {
      "image/png": "[encoded data removed]",
      "text/plain": [
       "<Figure size 560.361x500 with 1 Axes>"
      ]
     },
     "metadata": {},
     "output_type": "display_data"
    }
   ],
   "source": [
    "from fdc.clustering import *\n",
    "np.random.seed(42)\n",
    "clustering=Clustering(FDC_emb_low,FDC_emb_low,True)\n",
    "cluster_list,cluster_counts=clustering.K_means(3)"
   ]
  },
  {
   "cell_type": "code",
   "execution_count": 28,
   "id": "c2f410a1",
   "metadata": {
    "execution": {
     "iopub.execute_input": "2024-01-31T12:01:47.308314Z",
     "iopub.status.busy": "2024-01-31T12:01:47.308170Z",
     "iopub.status.idle": "2024-01-31T12:01:47.311230Z",
     "shell.execute_reply": "2024-01-31T12:01:47.310903Z"
    }
   },
   "outputs": [
    {
     "data": {
      "text/plain": [
       "array([171, 131,  75])"
      ]
     },
     "execution_count": 28,
     "metadata": {},
     "output_type": "execute_result"
    }
   ],
   "source": [
    "cluster_counts"
   ]
  },
  {
   "cell_type": "code",
   "execution_count": 29,
   "id": "250dd725-ecae-4e4d-a125-45a3d64840ab",
   "metadata": {
    "execution": {
     "iopub.execute_input": "2024-01-31T12:01:47.313098Z",
     "iopub.status.busy": "2024-01-31T12:01:47.312802Z",
     "iopub.status.idle": "2024-01-31T12:01:47.315215Z",
     "shell.execute_reply": "2024-01-31T12:01:47.314887Z"
    }
   },
   "outputs": [],
   "source": [
    "data['Target']=cluster_list"
   ]
  },
  {
   "cell_type": "code",
   "execution_count": 30,
   "id": "45fb9cab-6d92-4db5-8db5-70a64bd4c979",
   "metadata": {
    "execution": {
     "iopub.execute_input": "2024-01-31T12:01:47.316923Z",
     "iopub.status.busy": "2024-01-31T12:01:47.316787Z",
     "iopub.status.idle": "2024-01-31T12:01:47.320701Z",
     "shell.execute_reply": "2024-01-31T12:01:47.320316Z"
    },
    "tags": []
   },
   "outputs": [],
   "source": [
    "output_file_path=os.path.join(parent_directory,\"PreprocessedDatasets/SSMigraine.csv\")\n",
    "data.to_csv(output_file_path, index=False)"
   ]
  },
  {
   "cell_type": "code",
   "execution_count": 31,
   "id": "7bf92e7b-36ed-4d66-8f6a-11beb2defba4",
   "metadata": {
    "execution": {
     "iopub.execute_input": "2024-01-31T12:01:47.322566Z",
     "iopub.status.busy": "2024-01-31T12:01:47.322265Z",
     "iopub.status.idle": "2024-01-31T12:01:47.333410Z",
     "shell.execute_reply": "2024-01-31T12:01:47.333083Z"
    }
   },
   "outputs": [
    {
     "data": {
      "text/html": [
       "<div>\n",
       "<style scoped>\n",
       "    .dataframe tbody tr th:only-of-type {\n",
       "        vertical-align: middle;\n",
       "    }\n",
       "\n",
       "    .dataframe tbody tr th {\n",
       "        vertical-align: top;\n",
       "    }\n",
       "\n",
       "    .dataframe thead th {\n",
       "        text-align: right;\n",
       "    }\n",
       "</style>\n",
       "<table border=\"1\" class=\"dataframe\">\n",
       "  <thead>\n",
       "    <tr style=\"text-align: right;\">\n",
       "      <th></th>\n",
       "      <th>Age</th>\n",
       "      <th>Duration</th>\n",
       "      <th>Frequency</th>\n",
       "      <th>Intensity</th>\n",
       "      <th>Visual</th>\n",
       "      <th>Nausea</th>\n",
       "      <th>Vomit</th>\n",
       "      <th>Location</th>\n",
       "      <th>Character</th>\n",
       "      <th>Dysphasia</th>\n",
       "      <th>...</th>\n",
       "      <th>Sensory</th>\n",
       "      <th>Phonophobia</th>\n",
       "      <th>Photophobia</th>\n",
       "      <th>Hypoacusis</th>\n",
       "      <th>Diplopia</th>\n",
       "      <th>Defect</th>\n",
       "      <th>Conscience</th>\n",
       "      <th>Paresthesia</th>\n",
       "      <th>DPF</th>\n",
       "      <th>Target</th>\n",
       "    </tr>\n",
       "  </thead>\n",
       "  <tbody>\n",
       "    <tr>\n",
       "      <th>300</th>\n",
       "      <td>28</td>\n",
       "      <td>3</td>\n",
       "      <td>5</td>\n",
       "      <td>3</td>\n",
       "      <td>0</td>\n",
       "      <td>1</td>\n",
       "      <td>1</td>\n",
       "      <td>1</td>\n",
       "      <td>1</td>\n",
       "      <td>0</td>\n",
       "      <td>...</td>\n",
       "      <td>0</td>\n",
       "      <td>1</td>\n",
       "      <td>1</td>\n",
       "      <td>0</td>\n",
       "      <td>0</td>\n",
       "      <td>0</td>\n",
       "      <td>0</td>\n",
       "      <td>0</td>\n",
       "      <td>0</td>\n",
       "      <td>1</td>\n",
       "    </tr>\n",
       "    <tr>\n",
       "      <th>272</th>\n",
       "      <td>26</td>\n",
       "      <td>2</td>\n",
       "      <td>3</td>\n",
       "      <td>3</td>\n",
       "      <td>0</td>\n",
       "      <td>1</td>\n",
       "      <td>0</td>\n",
       "      <td>1</td>\n",
       "      <td>1</td>\n",
       "      <td>0</td>\n",
       "      <td>...</td>\n",
       "      <td>0</td>\n",
       "      <td>1</td>\n",
       "      <td>1</td>\n",
       "      <td>0</td>\n",
       "      <td>0</td>\n",
       "      <td>0</td>\n",
       "      <td>0</td>\n",
       "      <td>0</td>\n",
       "      <td>1</td>\n",
       "      <td>0</td>\n",
       "    </tr>\n",
       "    <tr>\n",
       "      <th>276</th>\n",
       "      <td>21</td>\n",
       "      <td>1</td>\n",
       "      <td>2</td>\n",
       "      <td>2</td>\n",
       "      <td>1</td>\n",
       "      <td>1</td>\n",
       "      <td>0</td>\n",
       "      <td>1</td>\n",
       "      <td>1</td>\n",
       "      <td>0</td>\n",
       "      <td>...</td>\n",
       "      <td>2</td>\n",
       "      <td>1</td>\n",
       "      <td>1</td>\n",
       "      <td>0</td>\n",
       "      <td>0</td>\n",
       "      <td>0</td>\n",
       "      <td>0</td>\n",
       "      <td>0</td>\n",
       "      <td>1</td>\n",
       "      <td>0</td>\n",
       "    </tr>\n",
       "    <tr>\n",
       "      <th>151</th>\n",
       "      <td>21</td>\n",
       "      <td>1</td>\n",
       "      <td>2</td>\n",
       "      <td>3</td>\n",
       "      <td>1</td>\n",
       "      <td>1</td>\n",
       "      <td>0</td>\n",
       "      <td>1</td>\n",
       "      <td>1</td>\n",
       "      <td>0</td>\n",
       "      <td>...</td>\n",
       "      <td>0</td>\n",
       "      <td>1</td>\n",
       "      <td>1</td>\n",
       "      <td>0</td>\n",
       "      <td>0</td>\n",
       "      <td>0</td>\n",
       "      <td>0</td>\n",
       "      <td>0</td>\n",
       "      <td>0</td>\n",
       "      <td>0</td>\n",
       "    </tr>\n",
       "    <tr>\n",
       "      <th>59</th>\n",
       "      <td>28</td>\n",
       "      <td>2</td>\n",
       "      <td>3</td>\n",
       "      <td>3</td>\n",
       "      <td>2</td>\n",
       "      <td>1</td>\n",
       "      <td>0</td>\n",
       "      <td>1</td>\n",
       "      <td>1</td>\n",
       "      <td>0</td>\n",
       "      <td>...</td>\n",
       "      <td>0</td>\n",
       "      <td>1</td>\n",
       "      <td>1</td>\n",
       "      <td>0</td>\n",
       "      <td>0</td>\n",
       "      <td>0</td>\n",
       "      <td>0</td>\n",
       "      <td>0</td>\n",
       "      <td>1</td>\n",
       "      <td>0</td>\n",
       "    </tr>\n",
       "    <tr>\n",
       "      <th>...</th>\n",
       "      <td>...</td>\n",
       "      <td>...</td>\n",
       "      <td>...</td>\n",
       "      <td>...</td>\n",
       "      <td>...</td>\n",
       "      <td>...</td>\n",
       "      <td>...</td>\n",
       "      <td>...</td>\n",
       "      <td>...</td>\n",
       "      <td>...</td>\n",
       "      <td>...</td>\n",
       "      <td>...</td>\n",
       "      <td>...</td>\n",
       "      <td>...</td>\n",
       "      <td>...</td>\n",
       "      <td>...</td>\n",
       "      <td>...</td>\n",
       "      <td>...</td>\n",
       "      <td>...</td>\n",
       "      <td>...</td>\n",
       "      <td>...</td>\n",
       "    </tr>\n",
       "    <tr>\n",
       "      <th>75</th>\n",
       "      <td>20</td>\n",
       "      <td>1</td>\n",
       "      <td>2</td>\n",
       "      <td>2</td>\n",
       "      <td>2</td>\n",
       "      <td>1</td>\n",
       "      <td>0</td>\n",
       "      <td>1</td>\n",
       "      <td>1</td>\n",
       "      <td>0</td>\n",
       "      <td>...</td>\n",
       "      <td>0</td>\n",
       "      <td>1</td>\n",
       "      <td>1</td>\n",
       "      <td>0</td>\n",
       "      <td>0</td>\n",
       "      <td>0</td>\n",
       "      <td>0</td>\n",
       "      <td>0</td>\n",
       "      <td>0</td>\n",
       "      <td>0</td>\n",
       "    </tr>\n",
       "    <tr>\n",
       "      <th>112</th>\n",
       "      <td>16</td>\n",
       "      <td>1</td>\n",
       "      <td>1</td>\n",
       "      <td>3</td>\n",
       "      <td>0</td>\n",
       "      <td>1</td>\n",
       "      <td>0</td>\n",
       "      <td>1</td>\n",
       "      <td>1</td>\n",
       "      <td>0</td>\n",
       "      <td>...</td>\n",
       "      <td>0</td>\n",
       "      <td>1</td>\n",
       "      <td>1</td>\n",
       "      <td>0</td>\n",
       "      <td>0</td>\n",
       "      <td>0</td>\n",
       "      <td>0</td>\n",
       "      <td>0</td>\n",
       "      <td>0</td>\n",
       "      <td>0</td>\n",
       "    </tr>\n",
       "    <tr>\n",
       "      <th>284</th>\n",
       "      <td>28</td>\n",
       "      <td>2</td>\n",
       "      <td>4</td>\n",
       "      <td>3</td>\n",
       "      <td>2</td>\n",
       "      <td>1</td>\n",
       "      <td>1</td>\n",
       "      <td>1</td>\n",
       "      <td>1</td>\n",
       "      <td>0</td>\n",
       "      <td>...</td>\n",
       "      <td>0</td>\n",
       "      <td>1</td>\n",
       "      <td>1</td>\n",
       "      <td>0</td>\n",
       "      <td>0</td>\n",
       "      <td>0</td>\n",
       "      <td>0</td>\n",
       "      <td>0</td>\n",
       "      <td>1</td>\n",
       "      <td>1</td>\n",
       "    </tr>\n",
       "    <tr>\n",
       "      <th>364</th>\n",
       "      <td>19</td>\n",
       "      <td>1</td>\n",
       "      <td>2</td>\n",
       "      <td>1</td>\n",
       "      <td>3</td>\n",
       "      <td>1</td>\n",
       "      <td>1</td>\n",
       "      <td>1</td>\n",
       "      <td>1</td>\n",
       "      <td>0</td>\n",
       "      <td>...</td>\n",
       "      <td>2</td>\n",
       "      <td>1</td>\n",
       "      <td>1</td>\n",
       "      <td>0</td>\n",
       "      <td>0</td>\n",
       "      <td>0</td>\n",
       "      <td>0</td>\n",
       "      <td>0</td>\n",
       "      <td>0</td>\n",
       "      <td>0</td>\n",
       "    </tr>\n",
       "    <tr>\n",
       "      <th>108</th>\n",
       "      <td>25</td>\n",
       "      <td>1</td>\n",
       "      <td>1</td>\n",
       "      <td>2</td>\n",
       "      <td>2</td>\n",
       "      <td>1</td>\n",
       "      <td>1</td>\n",
       "      <td>1</td>\n",
       "      <td>1</td>\n",
       "      <td>0</td>\n",
       "      <td>...</td>\n",
       "      <td>0</td>\n",
       "      <td>1</td>\n",
       "      <td>1</td>\n",
       "      <td>0</td>\n",
       "      <td>0</td>\n",
       "      <td>0</td>\n",
       "      <td>0</td>\n",
       "      <td>0</td>\n",
       "      <td>1</td>\n",
       "      <td>0</td>\n",
       "    </tr>\n",
       "  </tbody>\n",
       "</table>\n",
       "<p>377 rows × 22 columns</p>\n",
       "</div>"
      ],
      "text/plain": [
       "     Age  Duration  Frequency  Intensity  Visual  Nausea  Vomit  Location  \\\n",
       "300   28         3          5          3       0       1      1         1   \n",
       "272   26         2          3          3       0       1      0         1   \n",
       "276   21         1          2          2       1       1      0         1   \n",
       "151   21         1          2          3       1       1      0         1   \n",
       "59    28         2          3          3       2       1      0         1   \n",
       "..   ...       ...        ...        ...     ...     ...    ...       ...   \n",
       "75    20         1          2          2       2       1      0         1   \n",
       "112   16         1          1          3       0       1      0         1   \n",
       "284   28         2          4          3       2       1      1         1   \n",
       "364   19         1          2          1       3       1      1         1   \n",
       "108   25         1          1          2       2       1      1         1   \n",
       "\n",
       "     Character  Dysphasia  ...  Sensory  Phonophobia  Photophobia  Hypoacusis  \\\n",
       "300          1          0  ...        0            1            1           0   \n",
       "272          1          0  ...        0            1            1           0   \n",
       "276          1          0  ...        2            1            1           0   \n",
       "151          1          0  ...        0            1            1           0   \n",
       "59           1          0  ...        0            1            1           0   \n",
       "..         ...        ...  ...      ...          ...          ...         ...   \n",
       "75           1          0  ...        0            1            1           0   \n",
       "112          1          0  ...        0            1            1           0   \n",
       "284          1          0  ...        0            1            1           0   \n",
       "364          1          0  ...        2            1            1           0   \n",
       "108          1          0  ...        0            1            1           0   \n",
       "\n",
       "     Diplopia  Defect  Conscience  Paresthesia  DPF  Target  \n",
       "300         0       0           0            0    0       1  \n",
       "272         0       0           0            0    1       0  \n",
       "276         0       0           0            0    1       0  \n",
       "151         0       0           0            0    0       0  \n",
       "59          0       0           0            0    1       0  \n",
       "..        ...     ...         ...          ...  ...     ...  \n",
       "75          0       0           0            0    0       0  \n",
       "112         0       0           0            0    0       0  \n",
       "284         0       0           0            0    1       1  \n",
       "364         0       0           0            0    0       0  \n",
       "108         0       0           0            0    1       0  \n",
       "\n",
       "[377 rows x 22 columns]"
      ]
     },
     "execution_count": 31,
     "metadata": {},
     "output_type": "execute_result"
    }
   ],
   "source": [
    "data"
   ]
  },
  {
   "cell_type": "code",
   "execution_count": null,
   "id": "73e24fe9-2dd6-424d-8ec7-a312638085fa",
   "metadata": {},
   "outputs": [],
   "source": []
  }
 ],
 "metadata": {
  "kernelspec": {
   "display_name": "Python 3 (ipykernel)",
   "language": "python",
   "name": "python3"
  },
  "language_info": {
   "codemirror_mode": {
    "name": "ipython",
    "version": 3
   },
   "file_extension": ".py",
   "mimetype": "text/x-python",
   "name": "python",
   "nbconvert_exporter": "python",
   "pygments_lexer": "ipython3",
   "version": "3.8.15"
  }
 },
 "nbformat": 4,
 "nbformat_minor": 5
}
