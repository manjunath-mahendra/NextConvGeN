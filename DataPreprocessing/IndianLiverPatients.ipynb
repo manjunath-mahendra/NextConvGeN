{
 "cells": [
  {
   "cell_type": "markdown",
   "id": "a5ab3377-1363-4ab6-b4f1-564b2a386d40",
   "metadata": {},
   "source": [
    "## HeartFailure data preprocessing"
   ]
  },
  {
   "cell_type": "markdown",
   "id": "85f5f148-9358-459d-a023-3c3ab9b5bf38",
   "metadata": {},
   "source": [
    "### Importing necessary libraries"
   ]
  },
  {
   "cell_type": "code",
   "execution_count": 1,
   "id": "eff8b7a9-2ed9-46c3-a59f-6258ac1fd08b",
   "metadata": {
    "execution": {
     "iopub.execute_input": "2024-01-31T11:57:36.873857Z",
     "iopub.status.busy": "2024-01-31T11:57:36.872095Z",
     "iopub.status.idle": "2024-01-31T11:57:36.897845Z",
     "shell.execute_reply": "2024-01-31T11:57:36.895600Z"
    }
   },
   "outputs": [],
   "source": [
    "import os\n",
    "import sys\n",
    "current_directory=os.getcwd()\n",
    "parent_directory=os.path.dirname(current_directory)\n",
    "sys.path.append(parent_directory)\n"
   ]
  },
  {
   "cell_type": "code",
   "execution_count": 2,
   "id": "56b80e0e-b49b-4238-85be-28b96923aeb4",
   "metadata": {
    "execution": {
     "iopub.execute_input": "2024-01-31T11:57:36.906794Z",
     "iopub.status.busy": "2024-01-31T11:57:36.906087Z",
     "iopub.status.idle": "2024-01-31T11:57:38.503960Z",
     "shell.execute_reply": "2024-01-31T11:57:38.503394Z"
    },
    "tags": []
   },
   "outputs": [
    {
     "name": "stderr",
     "output_type": "stream",
     "text": [
      "2024-01-31 11:57:37.199125: W tensorflow/stream_executor/platform/default/dso_loader.cc:64] Could not load dynamic library 'libcudart.so.11.0'; dlerror: libcudart.so.11.0: cannot open shared object file: No such file or directory\n",
      "2024-01-31 11:57:37.199144: I tensorflow/stream_executor/cuda/cudart_stub.cc:29] Ignore above cudart dlerror if you do not have a GPU set up on your machine.\n"
     ]
    }
   ],
   "source": [
    "import numpy as np\n",
    "from library.generators.NextConvGeN import NextConvGeN\n"
   ]
  },
  {
   "cell_type": "code",
   "execution_count": 3,
   "id": "60a37ac3-8400-4930-9b8d-f50e51befb9f",
   "metadata": {
    "execution": {
     "iopub.execute_input": "2024-01-31T11:57:38.506336Z",
     "iopub.status.busy": "2024-01-31T11:57:38.506084Z",
     "iopub.status.idle": "2024-01-31T11:57:41.321761Z",
     "shell.execute_reply": "2024-01-31T11:57:41.321201Z"
    }
   },
   "outputs": [],
   "source": [
    "from fdc.fdc import feature_clustering, canberra_modified, Clustering, FDC\n",
    "from fdc.clustering import *"
   ]
  },
  {
   "cell_type": "code",
   "execution_count": 4,
   "id": "24a06985-a202-46b5-93db-f92a3ded0673",
   "metadata": {
    "execution": {
     "iopub.execute_input": "2024-01-31T11:57:41.324026Z",
     "iopub.status.busy": "2024-01-31T11:57:41.323848Z",
     "iopub.status.idle": "2024-01-31T11:57:41.326213Z",
     "shell.execute_reply": "2024-01-31T11:57:41.325870Z"
    }
   },
   "outputs": [],
   "source": [
    "import pandas as pd"
   ]
  },
  {
   "cell_type": "code",
   "execution_count": 5,
   "id": "c8588ee3-e794-4a68-af35-fe499261f72d",
   "metadata": {
    "execution": {
     "iopub.execute_input": "2024-01-31T11:57:41.328078Z",
     "iopub.status.busy": "2024-01-31T11:57:41.327825Z",
     "iopub.status.idle": "2024-01-31T11:57:41.330027Z",
     "shell.execute_reply": "2024-01-31T11:57:41.329674Z"
    }
   },
   "outputs": [],
   "source": [
    "import pandas as pd\n",
    "import matplotlib.pyplot as plt\n",
    "from sklearn.cluster import KMeans\n",
    "from sklearn.metrics import silhouette_score"
   ]
  },
  {
   "cell_type": "markdown",
   "id": "01d3d86f-4e08-4be3-bba9-e2f7b9202670",
   "metadata": {},
   "source": [
    "### Importing data"
   ]
  },
  {
   "cell_type": "code",
   "execution_count": 6,
   "id": "c407d4d9-ca6e-400a-a5d9-70cac91f89d9",
   "metadata": {
    "execution": {
     "iopub.execute_input": "2024-01-31T11:57:41.331993Z",
     "iopub.status.busy": "2024-01-31T11:57:41.331741Z",
     "iopub.status.idle": "2024-01-31T11:57:43.201344Z",
     "shell.execute_reply": "2024-01-31T11:57:43.198972Z"
    }
   },
   "outputs": [],
   "source": [
    "from ucimlrepo import fetch_ucirepo \n",
    "ilpd_indian_liver_patient_dataset = fetch_ucirepo(id=225) "
   ]
  },
  {
   "cell_type": "code",
   "execution_count": 7,
   "id": "d62a358d-4927-441a-89b3-109f4e29c577",
   "metadata": {
    "execution": {
     "iopub.execute_input": "2024-01-31T11:57:43.208545Z",
     "iopub.status.busy": "2024-01-31T11:57:43.208399Z",
     "iopub.status.idle": "2024-01-31T11:57:43.210830Z",
     "shell.execute_reply": "2024-01-31T11:57:43.210345Z"
    }
   },
   "outputs": [],
   "source": [
    "X = ilpd_indian_liver_patient_dataset.data.features \n",
    "y = ilpd_indian_liver_patient_dataset.data.targets "
   ]
  },
  {
   "cell_type": "code",
   "execution_count": 8,
   "id": "f2bf4613-76e1-47d7-8616-59e5fec0b457",
   "metadata": {
    "execution": {
     "iopub.execute_input": "2024-01-31T11:57:43.212801Z",
     "iopub.status.busy": "2024-01-31T11:57:43.212530Z",
     "iopub.status.idle": "2024-01-31T11:57:43.215200Z",
     "shell.execute_reply": "2024-01-31T11:57:43.214833Z"
    }
   },
   "outputs": [],
   "source": [
    "data=X\n",
    "data['Selector']=y"
   ]
  },
  {
   "cell_type": "code",
   "execution_count": 9,
   "id": "2df57461-99ed-4080-be92-9109d5913851",
   "metadata": {
    "execution": {
     "iopub.execute_input": "2024-01-31T11:57:43.217083Z",
     "iopub.status.busy": "2024-01-31T11:57:43.216829Z",
     "iopub.status.idle": "2024-01-31T11:57:43.219496Z",
     "shell.execute_reply": "2024-01-31T11:57:43.219120Z"
    },
    "tags": []
   },
   "outputs": [],
   "source": [
    "np.random.seed(42)\n",
    "data=data.sample(frac=1)"
   ]
  },
  {
   "cell_type": "code",
   "execution_count": 10,
   "id": "9ce94d38-ad97-48c2-a79d-b0fbf829ae88",
   "metadata": {
    "execution": {
     "iopub.execute_input": "2024-01-31T11:57:43.221312Z",
     "iopub.status.busy": "2024-01-31T11:57:43.221053Z",
     "iopub.status.idle": "2024-01-31T11:57:43.223860Z",
     "shell.execute_reply": "2024-01-31T11:57:43.223484Z"
    }
   },
   "outputs": [],
   "source": [
    "data.dropna(inplace=True)"
   ]
  },
  {
   "cell_type": "code",
   "execution_count": 11,
   "id": "cbb812e4-1e5a-4a14-a719-f2fb94aeed6a",
   "metadata": {
    "execution": {
     "iopub.execute_input": "2024-01-31T11:57:43.225747Z",
     "iopub.status.busy": "2024-01-31T11:57:43.225457Z",
     "iopub.status.idle": "2024-01-31T11:57:43.229387Z",
     "shell.execute_reply": "2024-01-31T11:57:43.229058Z"
    }
   },
   "outputs": [
    {
     "data": {
      "text/plain": [
       "array(['Male', 'Female'], dtype=object)"
      ]
     },
     "execution_count": 11,
     "metadata": {},
     "output_type": "execute_result"
    }
   ],
   "source": [
    "data.Gender.unique()"
   ]
  },
  {
   "cell_type": "code",
   "execution_count": 12,
   "id": "f4c11107-bd24-4f9e-9779-3f114cab41c4",
   "metadata": {
    "execution": {
     "iopub.execute_input": "2024-01-31T11:57:43.231239Z",
     "iopub.status.busy": "2024-01-31T11:57:43.230992Z",
     "iopub.status.idle": "2024-01-31T11:57:43.233762Z",
     "shell.execute_reply": "2024-01-31T11:57:43.233420Z"
    }
   },
   "outputs": [],
   "source": [
    "data['Gender'].replace(['Female', 'Male'],[0,1],inplace=True)"
   ]
  },
  {
   "cell_type": "code",
   "execution_count": 13,
   "id": "e633073d-271c-450a-87f9-a61755e2f011",
   "metadata": {
    "execution": {
     "iopub.execute_input": "2024-01-31T11:57:43.235577Z",
     "iopub.status.busy": "2024-01-31T11:57:43.235326Z",
     "iopub.status.idle": "2024-01-31T11:57:43.238890Z",
     "shell.execute_reply": "2024-01-31T11:57:43.238516Z"
    },
    "tags": []
   },
   "outputs": [],
   "source": [
    "data.drop_duplicates(inplace=True, ignore_index=True)"
   ]
  },
  {
   "cell_type": "code",
   "execution_count": 14,
   "id": "0eba608f-104f-48a3-ace9-6ee91d425f27",
   "metadata": {
    "execution": {
     "iopub.execute_input": "2024-01-31T11:57:43.240727Z",
     "iopub.status.busy": "2024-01-31T11:57:43.240476Z",
     "iopub.status.idle": "2024-01-31T11:57:43.243851Z",
     "shell.execute_reply": "2024-01-31T11:57:43.243525Z"
    }
   },
   "outputs": [
    {
     "data": {
      "text/plain": [
       "1    404\n",
       "2    162\n",
       "Name: Selector, dtype: int64"
      ]
     },
     "execution_count": 14,
     "metadata": {},
     "output_type": "execute_result"
    }
   ],
   "source": [
    "data['Selector'].value_counts()"
   ]
  },
  {
   "cell_type": "code",
   "execution_count": 15,
   "id": "9686a5ad-21c0-4a12-ab71-e72212bf71ab",
   "metadata": {
    "execution": {
     "iopub.execute_input": "2024-01-31T11:57:43.245770Z",
     "iopub.status.busy": "2024-01-31T11:57:43.245453Z",
     "iopub.status.idle": "2024-01-31T11:57:43.248100Z",
     "shell.execute_reply": "2024-01-31T11:57:43.247763Z"
    }
   },
   "outputs": [],
   "source": [
    "data['Selector'].replace([1,2],[0,1], inplace=True)"
   ]
  },
  {
   "cell_type": "code",
   "execution_count": 16,
   "id": "d81fd1ac-f5f9-4e12-8358-fbbbc70b10ca",
   "metadata": {
    "execution": {
     "iopub.execute_input": "2024-01-31T11:57:43.249980Z",
     "iopub.status.busy": "2024-01-31T11:57:43.249679Z",
     "iopub.status.idle": "2024-01-31T11:57:43.254192Z",
     "shell.execute_reply": "2024-01-31T11:57:43.253851Z"
    },
    "tags": []
   },
   "outputs": [],
   "source": [
    "output_file_path=os.path.join(parent_directory,\"PreprocessedDatasets/IndianLiverPatients.csv\")\n",
    "data.to_csv(output_file_path, index=False)"
   ]
  },
  {
   "cell_type": "code",
   "execution_count": 17,
   "id": "c7a9366e-3734-45ff-8c7e-832c1869214b",
   "metadata": {
    "execution": {
     "iopub.execute_input": "2024-01-31T11:57:43.256030Z",
     "iopub.status.busy": "2024-01-31T11:57:43.255778Z",
     "iopub.status.idle": "2024-01-31T11:57:43.258231Z",
     "shell.execute_reply": "2024-01-31T11:57:43.257893Z"
    }
   },
   "outputs": [],
   "source": [
    "data.drop(['Selector'],axis=1, inplace=True)"
   ]
  },
  {
   "cell_type": "code",
   "execution_count": 18,
   "id": "52edeeec",
   "metadata": {
    "execution": {
     "iopub.execute_input": "2024-01-31T11:57:43.260093Z",
     "iopub.status.busy": "2024-01-31T11:57:43.259841Z",
     "iopub.status.idle": "2024-01-31T11:57:43.262191Z",
     "shell.execute_reply": "2024-01-31T11:57:43.261856Z"
    }
   },
   "outputs": [],
   "source": [
    "np.random.seed(42)\n",
    "data=data.sample(frac=1)"
   ]
  },
  {
   "cell_type": "markdown",
   "id": "b660f1df-14b8-462c-a36c-5718f1881bda",
   "metadata": {},
   "source": [
    "### UMAP on entire data"
   ]
  },
  {
   "cell_type": "code",
   "execution_count": 19,
   "id": "2326c5ac-3967-4a6e-8488-dd1dd29796e3",
   "metadata": {
    "execution": {
     "iopub.execute_input": "2024-01-31T11:57:43.264095Z",
     "iopub.status.busy": "2024-01-31T11:57:43.263844Z",
     "iopub.status.idle": "2024-01-31T11:57:43.265891Z",
     "shell.execute_reply": "2024-01-31T11:57:43.265514Z"
    }
   },
   "outputs": [],
   "source": [
    "from fdc.fdc import feature_clustering"
   ]
  },
  {
   "cell_type": "code",
   "execution_count": 20,
   "id": "4f208ccd-b32d-4a0c-b8be-e6edf64b5664",
   "metadata": {
    "execution": {
     "iopub.execute_input": "2024-01-31T11:57:43.267750Z",
     "iopub.status.busy": "2024-01-31T11:57:43.267497Z",
     "iopub.status.idle": "2024-01-31T11:57:48.138630Z",
     "shell.execute_reply": "2024-01-31T11:57:48.138138Z"
    }
   },
   "outputs": [
    {
     "data": {
      "image/png": "[encoded data removed]",
      "text/plain": [
       "<Figure size 500x500 with 1 Axes>"
      ]
     },
     "metadata": {},
     "output_type": "display_data"
    }
   ],
   "source": [
    "np.random.seed(42)\n",
    "umap_emb=feature_clustering(30,0.1,'euclidean',data,True)"
   ]
  },
  {
   "cell_type": "markdown",
   "id": "f0068723-e652-4358-a2c4-761f5e1833d8",
   "metadata": {},
   "source": [
    "### Feature-type Distributed Clustering (FDC)"
   ]
  },
  {
   "cell_type": "code",
   "execution_count": 21,
   "id": "d91f3053-c382-490a-9c6a-e3925f5d0660",
   "metadata": {
    "execution": {
     "iopub.execute_input": "2024-01-31T11:57:48.140730Z",
     "iopub.status.busy": "2024-01-31T11:57:48.140581Z",
     "iopub.status.idle": "2024-01-31T11:57:48.143101Z",
     "shell.execute_reply": "2024-01-31T11:57:48.142760Z"
    }
   },
   "outputs": [],
   "source": [
    "cont_list=['Age', 'TB', 'DB', 'Alkphos', 'Sgpt', 'Sgot', 'TP', 'ALB','A/G Ratio']\n",
    "\n",
    "nom_list=['Gender']\n",
    "\n",
    "ord_list=None\n",
    "\n",
    "target = ['Selector']\n"
   ]
  },
  {
   "cell_type": "code",
   "execution_count": 22,
   "id": "2e9a0102-2e1a-42ca-87e6-957f8c44e0b0",
   "metadata": {
    "execution": {
     "iopub.execute_input": "2024-01-31T11:57:48.144956Z",
     "iopub.status.busy": "2024-01-31T11:57:48.144702Z",
     "iopub.status.idle": "2024-01-31T11:57:48.146982Z",
     "shell.execute_reply": "2024-01-31T11:57:48.146611Z"
    }
   },
   "outputs": [],
   "source": [
    "output_file_path=os.path.join(parent_directory,\"PreprocessedDatasets/IndianLiverPatients.json\")"
   ]
  },
  {
   "cell_type": "code",
   "execution_count": 23,
   "id": "e535f373-b83e-491b-bef9-70aa19eb2d72",
   "metadata": {
    "execution": {
     "iopub.execute_input": "2024-01-31T11:57:48.148827Z",
     "iopub.status.busy": "2024-01-31T11:57:48.148571Z",
     "iopub.status.idle": "2024-01-31T11:57:48.151195Z",
     "shell.execute_reply": "2024-01-31T11:57:48.150817Z"
    }
   },
   "outputs": [],
   "source": [
    "import json\n",
    "\n",
    "features = {\n",
    "    \"cont_list\": cont_list,\n",
    "    \"nom_list\": nom_list,\n",
    "    \"ord_list\": ord_list,\n",
    "    \"target\": target\n",
    "}\n",
    "\n",
    "with open(output_file_path, \"w\") as json_file:\n",
    "    json.dump(features, json_file)"
   ]
  },
  {
   "cell_type": "code",
   "execution_count": 24,
   "id": "8597d25f-470b-41c5-8353-05f15421e850",
   "metadata": {
    "execution": {
     "iopub.execute_input": "2024-01-31T11:57:48.153111Z",
     "iopub.status.busy": "2024-01-31T11:57:48.152768Z",
     "iopub.status.idle": "2024-01-31T11:57:50.616919Z",
     "shell.execute_reply": "2024-01-31T11:57:50.616542Z"
    }
   },
   "outputs": [
    {
     "name": "stdout",
     "output_type": "stream",
     "text": [
      "FDC.normalize (init): 0.00001 / 0.000s\n"
     ]
    },
    {
     "name": "stdout",
     "output_type": "stream",
     "text": [
      "FDC.normalize (clustering CONT): 2.63841 / 2.638s\n",
      "FDC.normalize (clustering ORD): 0.00006 / 2.638s\n",
      "FDC.normalize (clustering NOM): 0.00001 / 2.638s\n",
      "FDC.normalize (concat): 0.00002 / 2.639s\n"
     ]
    },
    {
     "name": "stdout",
     "output_type": "stream",
     "text": [
      "FDC.normalize (umap 5 -> 2): 2.85534 / 5.494s\n",
      "FDC.normalize (array -> DataFrame): 0.00029 / 5.494s\n"
     ]
    },
    {
     "data": {
      "image/png": "[encoded data removed]",
      "text/plain": [
       "<Figure size 500x500 with 1 Axes>"
      ]
     },
     "metadata": {},
     "output_type": "display_data"
    },
    {
     "name": "stdout",
     "output_type": "stream",
     "text": [
      "FDC.normalize (plotting): 0.39851 / 5.893s\n",
      "FDC.normalize (array -> DataFrame): 0.00019 / 5.893s\n",
      "FDC.normalize (total): 0.00001 / 5.893s\n"
     ]
    }
   ],
   "source": [
    "from fdc.fdc import feature_clustering, canberra_modified, Clustering, FDC\n",
    "np.random.seed(42)\n",
    "\n",
    "fdc = FDC(clustering_cont=Clustering('euclidean',30,0.01)\n",
    "          , clustering_ord=Clustering(canberra_modified,30,0.01)\n",
    "          , visual=True\n",
    "          , use_pandas_output=True\n",
    "          , with_2d_embedding=True\n",
    "          )\n",
    "\n",
    "fdc.selectFeatures(continueous=cont_list, ordinal=ord_list)\n",
    "\n",
    "FDC_emb_high,FDC_emb_low = fdc.normalize(data,cont_list=cont_list, ord_list=ord_list,\n",
    "                  with_2d_embedding=True,\n",
    "                  visual=True)"
   ]
  },
  {
   "cell_type": "markdown",
   "id": "c463a715-9608-4325-b72b-b710e1ccb589",
   "metadata": {},
   "source": [
    "### Clustering using K-means"
   ]
  },
  {
   "cell_type": "code",
   "execution_count": 25,
   "id": "a134fdf7-6507-4a33-b163-23f72cc2a074",
   "metadata": {
    "execution": {
     "iopub.execute_input": "2024-01-31T11:57:50.618918Z",
     "iopub.status.busy": "2024-01-31T11:57:50.618772Z",
     "iopub.status.idle": "2024-01-31T11:57:50.954465Z",
     "shell.execute_reply": "2024-01-31T11:57:50.953896Z"
    },
    "tags": []
   },
   "outputs": [
    {
     "data": {
      "image/png": "[encoded data removed]",
      "text/plain": [
       "<Figure size 640x480 with 1 Axes>"
      ]
     },
     "metadata": {},
     "output_type": "display_data"
    }
   ],
   "source": [
    "kmeans_kwargs = {\n",
    "\"init\": \"random\",\n",
    "\"n_init\": 10,\n",
    "\"random_state\": 1,\n",
    "}\n",
    "\n",
    "#create list to hold SSE values for each k\n",
    "sse = []\n",
    "for k in range(1, 11):\n",
    "    kmeans = KMeans(n_clusters=k, **kmeans_kwargs)\n",
    "    kmeans.fit(FDC_emb_low)\n",
    "    sse.append(kmeans.inertia_)\n",
    "\n",
    "#visualize results\n",
    "plt.plot(range(1, 11), sse)\n",
    "plt.xticks(range(1, 11))\n",
    "plt.xlabel(\"Number of Clusters\")\n",
    "plt.ylabel(\"SSE\")\n",
    "plt.show()"
   ]
  },
  {
   "cell_type": "code",
   "execution_count": 26,
   "id": "dc0e649f",
   "metadata": {
    "execution": {
     "iopub.execute_input": "2024-01-31T11:57:50.956645Z",
     "iopub.status.busy": "2024-01-31T11:57:50.956462Z",
     "iopub.status.idle": "2024-01-31T11:57:50.960046Z",
     "shell.execute_reply": "2024-01-31T11:57:50.959592Z"
    }
   },
   "outputs": [],
   "source": [
    "def find_optimal_cluster(FDC_emb_low):\n",
    "    silhouette_scores = []\n",
    "\n",
    "    for n_clusters in list(range(2, 9)):\n",
    "        km = KMeans(n_clusters=n_clusters, init='k-means++', n_init=10, max_iter=100, random_state=42)\n",
    "\n",
    "        km.fit(FDC_emb_low)\n",
    "\n",
    "        labels = km.labels_\n",
    "\n",
    "        # Compute the silhouette score\n",
    "        silhouette_avg = silhouette_score(FDC_emb_low, labels)\n",
    "        silhouette_scores.append(silhouette_avg)\n",
    "    return silhouette_scores"
   ]
  },
  {
   "cell_type": "code",
   "execution_count": 27,
   "id": "3257ae7b",
   "metadata": {
    "execution": {
     "iopub.execute_input": "2024-01-31T11:57:50.961847Z",
     "iopub.status.busy": "2024-01-31T11:57:50.961660Z",
     "iopub.status.idle": "2024-01-31T11:57:51.723706Z",
     "shell.execute_reply": "2024-01-31T11:57:51.723158Z"
    },
    "scrolled": true,
    "tags": []
   },
   "outputs": [
    {
     "data": {
      "text/plain": [
       "[0.58930933, 0.649795, 0.5050439, 0.5507401, 0.5830061, 0.61576074, 0.6787701]"
      ]
     },
     "execution_count": 27,
     "metadata": {},
     "output_type": "execute_result"
    }
   ],
   "source": [
    "find_optimal_cluster(FDC_emb_low)"
   ]
  },
  {
   "cell_type": "code",
   "execution_count": 28,
   "id": "80dbc9a4-8997-42d2-b4fd-49515bb2f8c1",
   "metadata": {
    "execution": {
     "iopub.execute_input": "2024-01-31T11:57:51.726434Z",
     "iopub.status.busy": "2024-01-31T11:57:51.726176Z",
     "iopub.status.idle": "2024-01-31T11:57:52.118945Z",
     "shell.execute_reply": "2024-01-31T11:57:52.118426Z"
    },
    "scrolled": true
   },
   "outputs": [
    {
     "data": {
      "image/png": "[encoded data removed]",
      "text/plain": [
       "<Figure size 560.361x500 with 1 Axes>"
      ]
     },
     "metadata": {},
     "output_type": "display_data"
    }
   ],
   "source": [
    "from fdc.clustering import *\n",
    "np.random.seed(42)\n",
    "clustering=Clustering(FDC_emb_low,FDC_emb_low,True)\n",
    "cluster_list,cluster_counts=clustering.K_means(4)"
   ]
  },
  {
   "cell_type": "code",
   "execution_count": 29,
   "id": "c2f410a1",
   "metadata": {
    "execution": {
     "iopub.execute_input": "2024-01-31T11:57:52.120990Z",
     "iopub.status.busy": "2024-01-31T11:57:52.120819Z",
     "iopub.status.idle": "2024-01-31T11:57:52.123931Z",
     "shell.execute_reply": "2024-01-31T11:57:52.123599Z"
    }
   },
   "outputs": [
    {
     "data": {
      "text/plain": [
       "array([240,  76,  64, 186])"
      ]
     },
     "execution_count": 29,
     "metadata": {},
     "output_type": "execute_result"
    }
   ],
   "source": [
    "cluster_counts"
   ]
  },
  {
   "cell_type": "code",
   "execution_count": 30,
   "id": "250dd725-ecae-4e4d-a125-45a3d64840ab",
   "metadata": {
    "execution": {
     "iopub.execute_input": "2024-01-31T11:57:52.125620Z",
     "iopub.status.busy": "2024-01-31T11:57:52.125455Z",
     "iopub.status.idle": "2024-01-31T11:57:52.128187Z",
     "shell.execute_reply": "2024-01-31T11:57:52.127718Z"
    }
   },
   "outputs": [],
   "source": [
    "data['Target']=cluster_list"
   ]
  },
  {
   "cell_type": "code",
   "execution_count": 31,
   "id": "45fb9cab-6d92-4db5-8db5-70a64bd4c979",
   "metadata": {
    "execution": {
     "iopub.execute_input": "2024-01-31T11:57:52.129957Z",
     "iopub.status.busy": "2024-01-31T11:57:52.129823Z",
     "iopub.status.idle": "2024-01-31T11:57:52.134278Z",
     "shell.execute_reply": "2024-01-31T11:57:52.133940Z"
    },
    "tags": []
   },
   "outputs": [],
   "source": [
    "output_file_path=os.path.join(parent_directory,\"PreprocessedDatasets/SSIndianLiverPatients.csv\")\n",
    "data.to_csv(output_file_path, index=False)"
   ]
  },
  {
   "cell_type": "code",
   "execution_count": 32,
   "id": "7bf92e7b-36ed-4d66-8f6a-11beb2defba4",
   "metadata": {
    "execution": {
     "iopub.execute_input": "2024-01-31T11:57:52.136006Z",
     "iopub.status.busy": "2024-01-31T11:57:52.135870Z",
     "iopub.status.idle": "2024-01-31T11:57:52.147008Z",
     "shell.execute_reply": "2024-01-31T11:57:52.146673Z"
    }
   },
   "outputs": [
    {
     "data": {
      "text/html": [
       "<div>\n",
       "<style scoped>\n",
       "    .dataframe tbody tr th:only-of-type {\n",
       "        vertical-align: middle;\n",
       "    }\n",
       "\n",
       "    .dataframe tbody tr th {\n",
       "        vertical-align: top;\n",
       "    }\n",
       "\n",
       "    .dataframe thead th {\n",
       "        text-align: right;\n",
       "    }\n",
       "</style>\n",
       "<table border=\"1\" class=\"dataframe\">\n",
       "  <thead>\n",
       "    <tr style=\"text-align: right;\">\n",
       "      <th></th>\n",
       "      <th>Age</th>\n",
       "      <th>Gender</th>\n",
       "      <th>TB</th>\n",
       "      <th>DB</th>\n",
       "      <th>Alkphos</th>\n",
       "      <th>Sgpt</th>\n",
       "      <th>Sgot</th>\n",
       "      <th>TP</th>\n",
       "      <th>ALB</th>\n",
       "      <th>A/G Ratio</th>\n",
       "      <th>Target</th>\n",
       "    </tr>\n",
       "  </thead>\n",
       "  <tbody>\n",
       "    <tr>\n",
       "      <th>539</th>\n",
       "      <td>35</td>\n",
       "      <td>1</td>\n",
       "      <td>2.0</td>\n",
       "      <td>1.1</td>\n",
       "      <td>226</td>\n",
       "      <td>33</td>\n",
       "      <td>135</td>\n",
       "      <td>6.0</td>\n",
       "      <td>2.7</td>\n",
       "      <td>0.80</td>\n",
       "      <td>3</td>\n",
       "    </tr>\n",
       "    <tr>\n",
       "      <th>524</th>\n",
       "      <td>60</td>\n",
       "      <td>1</td>\n",
       "      <td>2.9</td>\n",
       "      <td>1.3</td>\n",
       "      <td>230</td>\n",
       "      <td>32</td>\n",
       "      <td>44</td>\n",
       "      <td>5.6</td>\n",
       "      <td>2.0</td>\n",
       "      <td>0.50</td>\n",
       "      <td>0</td>\n",
       "    </tr>\n",
       "    <tr>\n",
       "      <th>234</th>\n",
       "      <td>40</td>\n",
       "      <td>1</td>\n",
       "      <td>1.9</td>\n",
       "      <td>1.0</td>\n",
       "      <td>231</td>\n",
       "      <td>16</td>\n",
       "      <td>55</td>\n",
       "      <td>4.3</td>\n",
       "      <td>1.6</td>\n",
       "      <td>0.60</td>\n",
       "      <td>0</td>\n",
       "    </tr>\n",
       "    <tr>\n",
       "      <th>525</th>\n",
       "      <td>74</td>\n",
       "      <td>0</td>\n",
       "      <td>1.1</td>\n",
       "      <td>0.4</td>\n",
       "      <td>214</td>\n",
       "      <td>22</td>\n",
       "      <td>30</td>\n",
       "      <td>8.1</td>\n",
       "      <td>4.1</td>\n",
       "      <td>1.00</td>\n",
       "      <td>0</td>\n",
       "    </tr>\n",
       "    <tr>\n",
       "      <th>489</th>\n",
       "      <td>17</td>\n",
       "      <td>1</td>\n",
       "      <td>0.9</td>\n",
       "      <td>0.3</td>\n",
       "      <td>202</td>\n",
       "      <td>22</td>\n",
       "      <td>19</td>\n",
       "      <td>7.4</td>\n",
       "      <td>4.1</td>\n",
       "      <td>1.20</td>\n",
       "      <td>0</td>\n",
       "    </tr>\n",
       "    <tr>\n",
       "      <th>...</th>\n",
       "      <td>...</td>\n",
       "      <td>...</td>\n",
       "      <td>...</td>\n",
       "      <td>...</td>\n",
       "      <td>...</td>\n",
       "      <td>...</td>\n",
       "      <td>...</td>\n",
       "      <td>...</td>\n",
       "      <td>...</td>\n",
       "      <td>...</td>\n",
       "      <td>...</td>\n",
       "    </tr>\n",
       "    <tr>\n",
       "      <th>71</th>\n",
       "      <td>72</td>\n",
       "      <td>1</td>\n",
       "      <td>0.7</td>\n",
       "      <td>0.1</td>\n",
       "      <td>196</td>\n",
       "      <td>20</td>\n",
       "      <td>35</td>\n",
       "      <td>5.8</td>\n",
       "      <td>2.0</td>\n",
       "      <td>0.50</td>\n",
       "      <td>0</td>\n",
       "    </tr>\n",
       "    <tr>\n",
       "      <th>106</th>\n",
       "      <td>60</td>\n",
       "      <td>1</td>\n",
       "      <td>2.0</td>\n",
       "      <td>0.8</td>\n",
       "      <td>190</td>\n",
       "      <td>45</td>\n",
       "      <td>40</td>\n",
       "      <td>6.0</td>\n",
       "      <td>2.8</td>\n",
       "      <td>0.80</td>\n",
       "      <td>3</td>\n",
       "    </tr>\n",
       "    <tr>\n",
       "      <th>270</th>\n",
       "      <td>70</td>\n",
       "      <td>1</td>\n",
       "      <td>1.3</td>\n",
       "      <td>0.4</td>\n",
       "      <td>358</td>\n",
       "      <td>19</td>\n",
       "      <td>14</td>\n",
       "      <td>6.1</td>\n",
       "      <td>2.8</td>\n",
       "      <td>0.80</td>\n",
       "      <td>0</td>\n",
       "    </tr>\n",
       "    <tr>\n",
       "      <th>435</th>\n",
       "      <td>32</td>\n",
       "      <td>1</td>\n",
       "      <td>0.7</td>\n",
       "      <td>0.2</td>\n",
       "      <td>276</td>\n",
       "      <td>102</td>\n",
       "      <td>190</td>\n",
       "      <td>6.0</td>\n",
       "      <td>2.9</td>\n",
       "      <td>0.93</td>\n",
       "      <td>3</td>\n",
       "    </tr>\n",
       "    <tr>\n",
       "      <th>102</th>\n",
       "      <td>32</td>\n",
       "      <td>1</td>\n",
       "      <td>0.6</td>\n",
       "      <td>0.1</td>\n",
       "      <td>237</td>\n",
       "      <td>45</td>\n",
       "      <td>31</td>\n",
       "      <td>7.5</td>\n",
       "      <td>4.3</td>\n",
       "      <td>1.34</td>\n",
       "      <td>0</td>\n",
       "    </tr>\n",
       "  </tbody>\n",
       "</table>\n",
       "<p>566 rows × 11 columns</p>\n",
       "</div>"
      ],
      "text/plain": [
       "     Age  Gender   TB   DB  Alkphos  Sgpt  Sgot   TP  ALB  A/G Ratio  Target\n",
       "539   35       1  2.0  1.1      226    33   135  6.0  2.7       0.80       3\n",
       "524   60       1  2.9  1.3      230    32    44  5.6  2.0       0.50       0\n",
       "234   40       1  1.9  1.0      231    16    55  4.3  1.6       0.60       0\n",
       "525   74       0  1.1  0.4      214    22    30  8.1  4.1       1.00       0\n",
       "489   17       1  0.9  0.3      202    22    19  7.4  4.1       1.20       0\n",
       "..   ...     ...  ...  ...      ...   ...   ...  ...  ...        ...     ...\n",
       "71    72       1  0.7  0.1      196    20    35  5.8  2.0       0.50       0\n",
       "106   60       1  2.0  0.8      190    45    40  6.0  2.8       0.80       3\n",
       "270   70       1  1.3  0.4      358    19    14  6.1  2.8       0.80       0\n",
       "435   32       1  0.7  0.2      276   102   190  6.0  2.9       0.93       3\n",
       "102   32       1  0.6  0.1      237    45    31  7.5  4.3       1.34       0\n",
       "\n",
       "[566 rows x 11 columns]"
      ]
     },
     "execution_count": 32,
     "metadata": {},
     "output_type": "execute_result"
    }
   ],
   "source": [
    "data"
   ]
  },
  {
   "cell_type": "code",
   "execution_count": null,
   "id": "73e24fe9-2dd6-424d-8ec7-a312638085fa",
   "metadata": {},
   "outputs": [],
   "source": []
  }
 ],
 "metadata": {
  "kernelspec": {
   "display_name": "Python 3 (ipykernel)",
   "language": "python",
   "name": "python3"
  },
  "language_info": {
   "codemirror_mode": {
    "name": "ipython",
    "version": 3
   },
   "file_extension": ".py",
   "mimetype": "text/x-python",
   "name": "python",
   "nbconvert_exporter": "python",
   "pygments_lexer": "ipython3",
   "version": "3.8.15"
  }
 },
 "nbformat": 4,
 "nbformat_minor": 5
}
