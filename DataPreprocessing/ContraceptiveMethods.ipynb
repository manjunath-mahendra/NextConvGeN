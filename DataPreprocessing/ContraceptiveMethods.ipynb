{
 "cells": [
  {
   "cell_type": "markdown",
   "id": "a5ab3377-1363-4ab6-b4f1-564b2a386d40",
   "metadata": {},
   "source": [
    "## HeartFailure data preprocessing"
   ]
  },
  {
   "cell_type": "markdown",
   "id": "85f5f148-9358-459d-a023-3c3ab9b5bf38",
   "metadata": {},
   "source": [
    "### Importing necessary libraries"
   ]
  },
  {
   "cell_type": "code",
   "execution_count": 1,
   "id": "eff8b7a9-2ed9-46c3-a59f-6258ac1fd08b",
   "metadata": {
    "execution": {
     "iopub.execute_input": "2024-01-31T11:58:18.711222Z",
     "iopub.status.busy": "2024-01-31T11:58:18.711058Z",
     "iopub.status.idle": "2024-01-31T11:58:18.716484Z",
     "shell.execute_reply": "2024-01-31T11:58:18.715997Z"
    }
   },
   "outputs": [],
   "source": [
    "import os\n",
    "import sys\n",
    "current_directory=os.getcwd()\n",
    "parent_directory=os.path.dirname(current_directory)\n",
    "sys.path.append(parent_directory)\n"
   ]
  },
  {
   "cell_type": "code",
   "execution_count": 2,
   "id": "56b80e0e-b49b-4238-85be-28b96923aeb4",
   "metadata": {
    "execution": {
     "iopub.execute_input": "2024-01-31T11:58:18.718481Z",
     "iopub.status.busy": "2024-01-31T11:58:18.718198Z",
     "iopub.status.idle": "2024-01-31T11:58:20.277822Z",
     "shell.execute_reply": "2024-01-31T11:58:20.277338Z"
    },
    "tags": []
   },
   "outputs": [
    {
     "name": "stderr",
     "output_type": "stream",
     "text": [
      "2024-01-31 11:58:18.990973: W tensorflow/stream_executor/platform/default/dso_loader.cc:64] Could not load dynamic library 'libcudart.so.11.0'; dlerror: libcudart.so.11.0: cannot open shared object file: No such file or directory\n",
      "2024-01-31 11:58:18.990992: I tensorflow/stream_executor/cuda/cudart_stub.cc:29] Ignore above cudart dlerror if you do not have a GPU set up on your machine.\n"
     ]
    }
   ],
   "source": [
    "import numpy as np\n",
    "from library.generators.NextConvGeN import NextConvGeN\n"
   ]
  },
  {
   "cell_type": "code",
   "execution_count": 3,
   "id": "60a37ac3-8400-4930-9b8d-f50e51befb9f",
   "metadata": {
    "execution": {
     "iopub.execute_input": "2024-01-31T11:58:20.280058Z",
     "iopub.status.busy": "2024-01-31T11:58:20.279814Z",
     "iopub.status.idle": "2024-01-31T11:58:23.065659Z",
     "shell.execute_reply": "2024-01-31T11:58:23.065187Z"
    }
   },
   "outputs": [],
   "source": [
    "from fdc.fdc import feature_clustering, canberra_modified, Clustering, FDC\n",
    "from fdc.clustering import *"
   ]
  },
  {
   "cell_type": "code",
   "execution_count": 4,
   "id": "24a06985-a202-46b5-93db-f92a3ded0673",
   "metadata": {
    "execution": {
     "iopub.execute_input": "2024-01-31T11:58:23.067815Z",
     "iopub.status.busy": "2024-01-31T11:58:23.067634Z",
     "iopub.status.idle": "2024-01-31T11:58:23.070056Z",
     "shell.execute_reply": "2024-01-31T11:58:23.069586Z"
    }
   },
   "outputs": [],
   "source": [
    "import pandas as pd"
   ]
  },
  {
   "cell_type": "code",
   "execution_count": 5,
   "id": "c8588ee3-e794-4a68-af35-fe499261f72d",
   "metadata": {
    "execution": {
     "iopub.execute_input": "2024-01-31T11:58:23.072005Z",
     "iopub.status.busy": "2024-01-31T11:58:23.071669Z",
     "iopub.status.idle": "2024-01-31T11:58:23.073885Z",
     "shell.execute_reply": "2024-01-31T11:58:23.073535Z"
    }
   },
   "outputs": [],
   "source": [
    "import pandas as pd\n",
    "import matplotlib.pyplot as plt\n",
    "from sklearn.cluster import KMeans\n",
    "from sklearn.metrics import silhouette_score"
   ]
  },
  {
   "cell_type": "markdown",
   "id": "01d3d86f-4e08-4be3-bba9-e2f7b9202670",
   "metadata": {},
   "source": [
    "### Importing data"
   ]
  },
  {
   "cell_type": "code",
   "execution_count": 6,
   "id": "53e069b3-8bcc-46b0-852b-2a504e21197e",
   "metadata": {
    "execution": {
     "iopub.execute_input": "2024-01-31T11:58:23.075888Z",
     "iopub.status.busy": "2024-01-31T11:58:23.075577Z",
     "iopub.status.idle": "2024-01-31T11:58:23.079590Z",
     "shell.execute_reply": "2024-01-31T11:58:23.079213Z"
    }
   },
   "outputs": [],
   "source": [
    "data=pd.read_csv('cmc.data', sep=',')"
   ]
  },
  {
   "cell_type": "code",
   "execution_count": 7,
   "id": "2df57461-99ed-4080-be92-9109d5913851",
   "metadata": {
    "execution": {
     "iopub.execute_input": "2024-01-31T11:58:23.081504Z",
     "iopub.status.busy": "2024-01-31T11:58:23.081175Z",
     "iopub.status.idle": "2024-01-31T11:58:23.083820Z",
     "shell.execute_reply": "2024-01-31T11:58:23.083443Z"
    }
   },
   "outputs": [],
   "source": [
    "data=data.sample(frac=1, random_state=42)"
   ]
  },
  {
   "cell_type": "code",
   "execution_count": 8,
   "id": "e633073d-271c-450a-87f9-a61755e2f011",
   "metadata": {
    "execution": {
     "iopub.execute_input": "2024-01-31T11:58:23.085746Z",
     "iopub.status.busy": "2024-01-31T11:58:23.085411Z",
     "iopub.status.idle": "2024-01-31T11:58:23.088989Z",
     "shell.execute_reply": "2024-01-31T11:58:23.088618Z"
    }
   },
   "outputs": [],
   "source": [
    "data.drop_duplicates(inplace=True, ignore_index=True)"
   ]
  },
  {
   "cell_type": "code",
   "execution_count": 9,
   "id": "a4271934-043e-451f-b961-062ffbaaf807",
   "metadata": {
    "execution": {
     "iopub.execute_input": "2024-01-31T11:58:23.090866Z",
     "iopub.status.busy": "2024-01-31T11:58:23.090553Z",
     "iopub.status.idle": "2024-01-31T11:58:23.095066Z",
     "shell.execute_reply": "2024-01-31T11:58:23.094736Z"
    }
   },
   "outputs": [
    {
     "data": {
      "text/plain": [
       "1    614\n",
       "3    495\n",
       "2    316\n",
       "Name: ContraceptiveMethod, dtype: int64"
      ]
     },
     "execution_count": 9,
     "metadata": {},
     "output_type": "execute_result"
    }
   ],
   "source": [
    "data['ContraceptiveMethod'].value_counts()"
   ]
  },
  {
   "cell_type": "code",
   "execution_count": 10,
   "id": "d086ec5e-030d-4cec-bfd4-a2101da8af0e",
   "metadata": {
    "execution": {
     "iopub.execute_input": "2024-01-31T11:58:23.096708Z",
     "iopub.status.busy": "2024-01-31T11:58:23.096565Z",
     "iopub.status.idle": "2024-01-31T11:58:23.099310Z",
     "shell.execute_reply": "2024-01-31T11:58:23.098940Z"
    }
   },
   "outputs": [],
   "source": [
    "data['ContraceptiveMethod'].replace([1,2,3],[0,1,2], inplace=True)"
   ]
  },
  {
   "cell_type": "code",
   "execution_count": 11,
   "id": "d81fd1ac-f5f9-4e12-8358-fbbbc70b10ca",
   "metadata": {
    "execution": {
     "iopub.execute_input": "2024-01-31T11:58:23.101207Z",
     "iopub.status.busy": "2024-01-31T11:58:23.100890Z",
     "iopub.status.idle": "2024-01-31T11:58:23.105701Z",
     "shell.execute_reply": "2024-01-31T11:58:23.105324Z"
    },
    "tags": []
   },
   "outputs": [],
   "source": [
    "output_file_path=os.path.join(parent_directory,\"PreprocessedDatasets/ContraceptiveMethods.csv\")\n",
    "data.to_csv(output_file_path, index=False)"
   ]
  },
  {
   "cell_type": "code",
   "execution_count": 12,
   "id": "8aebf9eb-e0b3-40db-bcd0-bfc400e004ce",
   "metadata": {
    "execution": {
     "iopub.execute_input": "2024-01-31T11:58:23.107539Z",
     "iopub.status.busy": "2024-01-31T11:58:23.107241Z",
     "iopub.status.idle": "2024-01-31T11:58:23.109813Z",
     "shell.execute_reply": "2024-01-31T11:58:23.109440Z"
    }
   },
   "outputs": [],
   "source": [
    "data.drop(['ContraceptiveMethod'],axis=1, inplace=True)"
   ]
  },
  {
   "cell_type": "code",
   "execution_count": 13,
   "id": "f6585796-c7c5-4f06-a1f4-5f5aea784e42",
   "metadata": {
    "execution": {
     "iopub.execute_input": "2024-01-31T11:58:23.111642Z",
     "iopub.status.busy": "2024-01-31T11:58:23.111349Z",
     "iopub.status.idle": "2024-01-31T11:58:23.113642Z",
     "shell.execute_reply": "2024-01-31T11:58:23.113309Z"
    }
   },
   "outputs": [],
   "source": [
    "np.random.seed(42)\n",
    "data=data.sample(frac=1)"
   ]
  },
  {
   "cell_type": "markdown",
   "id": "b660f1df-14b8-462c-a36c-5718f1881bda",
   "metadata": {},
   "source": [
    "### UMAP on entire data"
   ]
  },
  {
   "cell_type": "code",
   "execution_count": 14,
   "id": "2326c5ac-3967-4a6e-8488-dd1dd29796e3",
   "metadata": {
    "execution": {
     "iopub.execute_input": "2024-01-31T11:58:23.115629Z",
     "iopub.status.busy": "2024-01-31T11:58:23.115335Z",
     "iopub.status.idle": "2024-01-31T11:58:23.117381Z",
     "shell.execute_reply": "2024-01-31T11:58:23.117049Z"
    }
   },
   "outputs": [],
   "source": [
    "from fdc.fdc import feature_clustering"
   ]
  },
  {
   "cell_type": "code",
   "execution_count": 15,
   "id": "4f208ccd-b32d-4a0c-b8be-e6edf64b5664",
   "metadata": {
    "execution": {
     "iopub.execute_input": "2024-01-31T11:58:23.119171Z",
     "iopub.status.busy": "2024-01-31T11:58:23.118909Z",
     "iopub.status.idle": "2024-01-31T11:58:29.283091Z",
     "shell.execute_reply": "2024-01-31T11:58:29.282593Z"
    }
   },
   "outputs": [
    {
     "data": {
      "image/png": "[encoded data removed]",
      "text/plain": [
       "<Figure size 500x500 with 1 Axes>"
      ]
     },
     "metadata": {},
     "output_type": "display_data"
    }
   ],
   "source": [
    "np.random.seed(42)\n",
    "umap_emb=feature_clustering(30,0.1,'euclidean',data,True)"
   ]
  },
  {
   "cell_type": "markdown",
   "id": "f0068723-e652-4358-a2c4-761f5e1833d8",
   "metadata": {},
   "source": [
    "### Feature-type Distributed Clustering (FDC)"
   ]
  },
  {
   "cell_type": "code",
   "execution_count": 16,
   "id": "d91f3053-c382-490a-9c6a-e3925f5d0660",
   "metadata": {
    "execution": {
     "iopub.execute_input": "2024-01-31T11:58:29.285122Z",
     "iopub.status.busy": "2024-01-31T11:58:29.284978Z",
     "iopub.status.idle": "2024-01-31T11:58:29.287818Z",
     "shell.execute_reply": "2024-01-31T11:58:29.287351Z"
    }
   },
   "outputs": [],
   "source": [
    "cont_list=['WifeAge' ]\n",
    "\n",
    "nom_list=['WifeReligion', 'WifeWorking','MediaExposure', 'HusbandOccupation']\n",
    "\n",
    "ord_list=['WifeEducation', 'HusbandEducation', 'StandardOfLiving','NumberOfChildren']\n",
    "\n",
    "target = ['ContraceptiveMethod']\n"
   ]
  },
  {
   "cell_type": "code",
   "execution_count": 17,
   "id": "2e9a0102-2e1a-42ca-87e6-957f8c44e0b0",
   "metadata": {
    "execution": {
     "iopub.execute_input": "2024-01-31T11:58:29.289769Z",
     "iopub.status.busy": "2024-01-31T11:58:29.289446Z",
     "iopub.status.idle": "2024-01-31T11:58:29.291811Z",
     "shell.execute_reply": "2024-01-31T11:58:29.291406Z"
    }
   },
   "outputs": [],
   "source": [
    "output_file_path=os.path.join(parent_directory,\"PreprocessedDatasets/ContraceptiveMethods.json\")"
   ]
  },
  {
   "cell_type": "code",
   "execution_count": 18,
   "id": "e535f373-b83e-491b-bef9-70aa19eb2d72",
   "metadata": {
    "execution": {
     "iopub.execute_input": "2024-01-31T11:58:29.293737Z",
     "iopub.status.busy": "2024-01-31T11:58:29.293420Z",
     "iopub.status.idle": "2024-01-31T11:58:29.296042Z",
     "shell.execute_reply": "2024-01-31T11:58:29.295689Z"
    }
   },
   "outputs": [],
   "source": [
    "import json\n",
    "\n",
    "features = {\n",
    "    \"cont_list\": cont_list,\n",
    "    \"nom_list\": nom_list,\n",
    "    \"ord_list\": ord_list,\n",
    "    \"target\": target\n",
    "}\n",
    "\n",
    "with open(output_file_path, \"w\") as json_file:\n",
    "    json.dump(features, json_file)"
   ]
  },
  {
   "cell_type": "code",
   "execution_count": 19,
   "id": "8597d25f-470b-41c5-8353-05f15421e850",
   "metadata": {
    "execution": {
     "iopub.execute_input": "2024-01-31T11:58:29.297930Z",
     "iopub.status.busy": "2024-01-31T11:58:29.297618Z",
     "iopub.status.idle": "2024-01-31T11:58:48.096214Z",
     "shell.execute_reply": "2024-01-31T11:58:48.095739Z"
    }
   },
   "outputs": [
    {
     "name": "stdout",
     "output_type": "stream",
     "text": [
      "FDC.normalize (init): 0.00001 / 0.000s\n"
     ]
    },
    {
     "name": "stdout",
     "output_type": "stream",
     "text": [
      "FDC.normalize (clustering CONT): 9.14898 / 9.149s\n"
     ]
    },
    {
     "name": "stdout",
     "output_type": "stream",
     "text": [
      "FDC.normalize (clustering ORD): 9.33665 / 18.486s\n",
      "FDC.normalize (clustering NOM): 0.00005 / 18.486s\n",
      "FDC.normalize (concat): 0.00003 / 18.486s\n"
     ]
    },
    {
     "name": "stdout",
     "output_type": "stream",
     "text": [
      "FDC.normalize (umap 5 -> 2): 4.77835 / 23.264s\n",
      "FDC.normalize (array -> DataFrame): 0.00026 / 23.264s\n"
     ]
    },
    {
     "data": {
      "image/png": "[encoded data removed]",
      "text/plain": [
       "<Figure size 500x500 with 1 Axes>"
      ]
     },
     "metadata": {},
     "output_type": "display_data"
    },
    {
     "name": "stdout",
     "output_type": "stream",
     "text": [
      "FDC.normalize (plotting): 0.40125 / 23.666s\n",
      "FDC.normalize (array -> DataFrame): 0.00017 / 23.666s\n",
      "FDC.normalize (total): 0.00001 / 23.666s\n"
     ]
    }
   ],
   "source": [
    "from fdc.fdc import feature_clustering, canberra_modified, Clustering, FDC\n",
    "np.random.seed(42)\n",
    "\n",
    "fdc = FDC(clustering_cont=Clustering('euclidean',30,0.01)\n",
    "          , clustering_ord=Clustering(canberra_modified,30,0.01)\n",
    "          , visual=True\n",
    "          , use_pandas_output=True\n",
    "          , with_2d_embedding=True\n",
    "          )\n",
    "\n",
    "fdc.selectFeatures(continueous=cont_list, ordinal=ord_list)\n",
    "\n",
    "FDC_emb_high,FDC_emb_low = fdc.normalize(data,cont_list=cont_list, ord_list=ord_list,\n",
    "                  with_2d_embedding=True,\n",
    "                  visual=True)"
   ]
  },
  {
   "cell_type": "markdown",
   "id": "c463a715-9608-4325-b72b-b710e1ccb589",
   "metadata": {},
   "source": [
    "### Clustering using K-means"
   ]
  },
  {
   "cell_type": "code",
   "execution_count": 20,
   "id": "a134fdf7-6507-4a33-b163-23f72cc2a074",
   "metadata": {
    "execution": {
     "iopub.execute_input": "2024-01-31T11:58:48.098242Z",
     "iopub.status.busy": "2024-01-31T11:58:48.098098Z",
     "iopub.status.idle": "2024-01-31T11:58:48.436579Z",
     "shell.execute_reply": "2024-01-31T11:58:48.435908Z"
    },
    "tags": []
   },
   "outputs": [
    {
     "data": {
      "image/png": "[encoded data removed]",
      "text/plain": [
       "<Figure size 640x480 with 1 Axes>"
      ]
     },
     "metadata": {},
     "output_type": "display_data"
    }
   ],
   "source": [
    "kmeans_kwargs = {\n",
    "\"init\": \"random\",\n",
    "\"n_init\": 10,\n",
    "\"random_state\": 1,\n",
    "}\n",
    "\n",
    "#create list to hold SSE values for each k\n",
    "sse = []\n",
    "for k in range(1, 11):\n",
    "    kmeans = KMeans(n_clusters=k, **kmeans_kwargs)\n",
    "    kmeans.fit(FDC_emb_low)\n",
    "    sse.append(kmeans.inertia_)\n",
    "\n",
    "#visualize results\n",
    "plt.plot(range(1, 11), sse)\n",
    "plt.xticks(range(1, 11))\n",
    "plt.xlabel(\"Number of Clusters\")\n",
    "plt.ylabel(\"SSE\")\n",
    "plt.show()"
   ]
  },
  {
   "cell_type": "code",
   "execution_count": 21,
   "id": "dc0e649f",
   "metadata": {
    "execution": {
     "iopub.execute_input": "2024-01-31T11:58:48.438855Z",
     "iopub.status.busy": "2024-01-31T11:58:48.438668Z",
     "iopub.status.idle": "2024-01-31T11:58:48.442118Z",
     "shell.execute_reply": "2024-01-31T11:58:48.441719Z"
    }
   },
   "outputs": [],
   "source": [
    "def find_optimal_cluster(FDC_emb_low):\n",
    "    silhouette_scores = []\n",
    "\n",
    "    for n_clusters in list(range(2, 9)):\n",
    "        km = KMeans(n_clusters=n_clusters, init='k-means++', n_init=10, max_iter=100, random_state=42)\n",
    "\n",
    "        km.fit(FDC_emb_low)\n",
    "\n",
    "        labels = km.labels_\n",
    "\n",
    "        # Compute the silhouette score\n",
    "        silhouette_avg = silhouette_score(FDC_emb_low, labels)\n",
    "        silhouette_scores.append(silhouette_avg)\n",
    "    return silhouette_scores"
   ]
  },
  {
   "cell_type": "code",
   "execution_count": 22,
   "id": "3257ae7b",
   "metadata": {
    "execution": {
     "iopub.execute_input": "2024-01-31T11:58:48.444049Z",
     "iopub.status.busy": "2024-01-31T11:58:48.443878Z",
     "iopub.status.idle": "2024-01-31T11:58:49.306557Z",
     "shell.execute_reply": "2024-01-31T11:58:49.305984Z"
    },
    "scrolled": true,
    "tags": []
   },
   "outputs": [
    {
     "data": {
      "text/plain": [
       "[0.5705229,\n",
       " 0.6461959,\n",
       " 0.5810627,\n",
       " 0.5700747,\n",
       " 0.55133843,\n",
       " 0.59914225,\n",
       " 0.60684156]"
      ]
     },
     "execution_count": 22,
     "metadata": {},
     "output_type": "execute_result"
    }
   ],
   "source": [
    "find_optimal_cluster(FDC_emb_low)"
   ]
  },
  {
   "cell_type": "code",
   "execution_count": 23,
   "id": "80dbc9a4-8997-42d2-b4fd-49515bb2f8c1",
   "metadata": {
    "execution": {
     "iopub.execute_input": "2024-01-31T11:58:49.309625Z",
     "iopub.status.busy": "2024-01-31T11:58:49.309300Z",
     "iopub.status.idle": "2024-01-31T11:58:49.671326Z",
     "shell.execute_reply": "2024-01-31T11:58:49.670889Z"
    },
    "scrolled": true
   },
   "outputs": [
    {
     "data": {
      "image/png": "[encoded data removed]",
      "text/plain": [
       "<Figure size 560.361x500 with 1 Axes>"
      ]
     },
     "metadata": {},
     "output_type": "display_data"
    }
   ],
   "source": [
    "from fdc.clustering import *\n",
    "np.random.seed(42)\n",
    "clustering=Clustering(FDC_emb_low,FDC_emb_low,True)\n",
    "cluster_list,cluster_counts=clustering.K_means(3)"
   ]
  },
  {
   "cell_type": "code",
   "execution_count": 24,
   "id": "c2f410a1",
   "metadata": {
    "execution": {
     "iopub.execute_input": "2024-01-31T11:58:49.673323Z",
     "iopub.status.busy": "2024-01-31T11:58:49.673134Z",
     "iopub.status.idle": "2024-01-31T11:58:49.676428Z",
     "shell.execute_reply": "2024-01-31T11:58:49.676084Z"
    }
   },
   "outputs": [
    {
     "data": {
      "text/plain": [
       "array([663, 510, 252])"
      ]
     },
     "execution_count": 24,
     "metadata": {},
     "output_type": "execute_result"
    }
   ],
   "source": [
    "cluster_counts"
   ]
  },
  {
   "cell_type": "code",
   "execution_count": 25,
   "id": "250dd725-ecae-4e4d-a125-45a3d64840ab",
   "metadata": {
    "execution": {
     "iopub.execute_input": "2024-01-31T11:58:49.678317Z",
     "iopub.status.busy": "2024-01-31T11:58:49.678025Z",
     "iopub.status.idle": "2024-01-31T11:58:49.680721Z",
     "shell.execute_reply": "2024-01-31T11:58:49.680326Z"
    }
   },
   "outputs": [],
   "source": [
    "data['Target']=cluster_list"
   ]
  },
  {
   "cell_type": "code",
   "execution_count": 26,
   "id": "45fb9cab-6d92-4db5-8db5-70a64bd4c979",
   "metadata": {
    "execution": {
     "iopub.execute_input": "2024-01-31T11:58:49.682551Z",
     "iopub.status.busy": "2024-01-31T11:58:49.682260Z",
     "iopub.status.idle": "2024-01-31T11:58:49.690403Z",
     "shell.execute_reply": "2024-01-31T11:58:49.690060Z"
    },
    "tags": []
   },
   "outputs": [],
   "source": [
    "output_file_path=os.path.join(parent_directory,\"PreprocessedDatasets/SSContraceptiveMethods.csv\")\n",
    "data.to_csv(output_file_path, index=False)"
   ]
  },
  {
   "cell_type": "code",
   "execution_count": 27,
   "id": "7bf92e7b-36ed-4d66-8f6a-11beb2defba4",
   "metadata": {
    "execution": {
     "iopub.execute_input": "2024-01-31T11:58:49.692211Z",
     "iopub.status.busy": "2024-01-31T11:58:49.691923Z",
     "iopub.status.idle": "2024-01-31T11:58:49.699644Z",
     "shell.execute_reply": "2024-01-31T11:58:49.699314Z"
    }
   },
   "outputs": [
    {
     "data": {
      "text/html": [
       "<div>\n",
       "<style scoped>\n",
       "    .dataframe tbody tr th:only-of-type {\n",
       "        vertical-align: middle;\n",
       "    }\n",
       "\n",
       "    .dataframe tbody tr th {\n",
       "        vertical-align: top;\n",
       "    }\n",
       "\n",
       "    .dataframe thead th {\n",
       "        text-align: right;\n",
       "    }\n",
       "</style>\n",
       "<table border=\"1\" class=\"dataframe\">\n",
       "  <thead>\n",
       "    <tr style=\"text-align: right;\">\n",
       "      <th></th>\n",
       "      <th>WifeAge</th>\n",
       "      <th>WifeEducation</th>\n",
       "      <th>HusbandEducation</th>\n",
       "      <th>NumberOfChildren</th>\n",
       "      <th>WifeReligion</th>\n",
       "      <th>WifeWorking</th>\n",
       "      <th>HusbandOccupation</th>\n",
       "      <th>StandardOfLiving</th>\n",
       "      <th>MediaExposure</th>\n",
       "      <th>Target</th>\n",
       "    </tr>\n",
       "  </thead>\n",
       "  <tbody>\n",
       "    <tr>\n",
       "      <th>628</th>\n",
       "      <td>28</td>\n",
       "      <td>4</td>\n",
       "      <td>4</td>\n",
       "      <td>5</td>\n",
       "      <td>1</td>\n",
       "      <td>1</td>\n",
       "      <td>2</td>\n",
       "      <td>4</td>\n",
       "      <td>0</td>\n",
       "      <td>1</td>\n",
       "    </tr>\n",
       "    <tr>\n",
       "      <th>680</th>\n",
       "      <td>44</td>\n",
       "      <td>4</td>\n",
       "      <td>4</td>\n",
       "      <td>7</td>\n",
       "      <td>1</td>\n",
       "      <td>1</td>\n",
       "      <td>2</td>\n",
       "      <td>4</td>\n",
       "      <td>0</td>\n",
       "      <td>1</td>\n",
       "    </tr>\n",
       "    <tr>\n",
       "      <th>1085</th>\n",
       "      <td>33</td>\n",
       "      <td>1</td>\n",
       "      <td>1</td>\n",
       "      <td>5</td>\n",
       "      <td>1</td>\n",
       "      <td>1</td>\n",
       "      <td>3</td>\n",
       "      <td>1</td>\n",
       "      <td>1</td>\n",
       "      <td>1</td>\n",
       "    </tr>\n",
       "    <tr>\n",
       "      <th>578</th>\n",
       "      <td>46</td>\n",
       "      <td>4</td>\n",
       "      <td>4</td>\n",
       "      <td>2</td>\n",
       "      <td>1</td>\n",
       "      <td>0</td>\n",
       "      <td>1</td>\n",
       "      <td>4</td>\n",
       "      <td>0</td>\n",
       "      <td>0</td>\n",
       "    </tr>\n",
       "    <tr>\n",
       "      <th>1010</th>\n",
       "      <td>38</td>\n",
       "      <td>3</td>\n",
       "      <td>4</td>\n",
       "      <td>3</td>\n",
       "      <td>1</td>\n",
       "      <td>1</td>\n",
       "      <td>3</td>\n",
       "      <td>2</td>\n",
       "      <td>0</td>\n",
       "      <td>1</td>\n",
       "    </tr>\n",
       "    <tr>\n",
       "      <th>...</th>\n",
       "      <td>...</td>\n",
       "      <td>...</td>\n",
       "      <td>...</td>\n",
       "      <td>...</td>\n",
       "      <td>...</td>\n",
       "      <td>...</td>\n",
       "      <td>...</td>\n",
       "      <td>...</td>\n",
       "      <td>...</td>\n",
       "      <td>...</td>\n",
       "    </tr>\n",
       "    <tr>\n",
       "      <th>1095</th>\n",
       "      <td>21</td>\n",
       "      <td>4</td>\n",
       "      <td>4</td>\n",
       "      <td>1</td>\n",
       "      <td>1</td>\n",
       "      <td>1</td>\n",
       "      <td>3</td>\n",
       "      <td>4</td>\n",
       "      <td>0</td>\n",
       "      <td>0</td>\n",
       "    </tr>\n",
       "    <tr>\n",
       "      <th>1130</th>\n",
       "      <td>34</td>\n",
       "      <td>3</td>\n",
       "      <td>4</td>\n",
       "      <td>3</td>\n",
       "      <td>0</td>\n",
       "      <td>0</td>\n",
       "      <td>3</td>\n",
       "      <td>4</td>\n",
       "      <td>0</td>\n",
       "      <td>0</td>\n",
       "    </tr>\n",
       "    <tr>\n",
       "      <th>1294</th>\n",
       "      <td>23</td>\n",
       "      <td>3</td>\n",
       "      <td>3</td>\n",
       "      <td>1</td>\n",
       "      <td>1</td>\n",
       "      <td>0</td>\n",
       "      <td>2</td>\n",
       "      <td>4</td>\n",
       "      <td>0</td>\n",
       "      <td>0</td>\n",
       "    </tr>\n",
       "    <tr>\n",
       "      <th>860</th>\n",
       "      <td>27</td>\n",
       "      <td>4</td>\n",
       "      <td>4</td>\n",
       "      <td>1</td>\n",
       "      <td>0</td>\n",
       "      <td>1</td>\n",
       "      <td>3</td>\n",
       "      <td>4</td>\n",
       "      <td>0</td>\n",
       "      <td>0</td>\n",
       "    </tr>\n",
       "    <tr>\n",
       "      <th>1126</th>\n",
       "      <td>26</td>\n",
       "      <td>3</td>\n",
       "      <td>4</td>\n",
       "      <td>3</td>\n",
       "      <td>1</td>\n",
       "      <td>1</td>\n",
       "      <td>3</td>\n",
       "      <td>2</td>\n",
       "      <td>0</td>\n",
       "      <td>1</td>\n",
       "    </tr>\n",
       "  </tbody>\n",
       "</table>\n",
       "<p>1425 rows × 10 columns</p>\n",
       "</div>"
      ],
      "text/plain": [
       "      WifeAge  WifeEducation  HusbandEducation  NumberOfChildren  \\\n",
       "628        28              4                 4                 5   \n",
       "680        44              4                 4                 7   \n",
       "1085       33              1                 1                 5   \n",
       "578        46              4                 4                 2   \n",
       "1010       38              3                 4                 3   \n",
       "...       ...            ...               ...               ...   \n",
       "1095       21              4                 4                 1   \n",
       "1130       34              3                 4                 3   \n",
       "1294       23              3                 3                 1   \n",
       "860        27              4                 4                 1   \n",
       "1126       26              3                 4                 3   \n",
       "\n",
       "      WifeReligion  WifeWorking  HusbandOccupation  StandardOfLiving  \\\n",
       "628              1            1                  2                 4   \n",
       "680              1            1                  2                 4   \n",
       "1085             1            1                  3                 1   \n",
       "578              1            0                  1                 4   \n",
       "1010             1            1                  3                 2   \n",
       "...            ...          ...                ...               ...   \n",
       "1095             1            1                  3                 4   \n",
       "1130             0            0                  3                 4   \n",
       "1294             1            0                  2                 4   \n",
       "860              0            1                  3                 4   \n",
       "1126             1            1                  3                 2   \n",
       "\n",
       "      MediaExposure  Target  \n",
       "628               0       1  \n",
       "680               0       1  \n",
       "1085              1       1  \n",
       "578               0       0  \n",
       "1010              0       1  \n",
       "...             ...     ...  \n",
       "1095              0       0  \n",
       "1130              0       0  \n",
       "1294              0       0  \n",
       "860               0       0  \n",
       "1126              0       1  \n",
       "\n",
       "[1425 rows x 10 columns]"
      ]
     },
     "execution_count": 27,
     "metadata": {},
     "output_type": "execute_result"
    }
   ],
   "source": [
    "data"
   ]
  },
  {
   "cell_type": "code",
   "execution_count": null,
   "id": "73e24fe9-2dd6-424d-8ec7-a312638085fa",
   "metadata": {},
   "outputs": [],
   "source": []
  }
 ],
 "metadata": {
  "kernelspec": {
   "display_name": "Python 3 (ipykernel)",
   "language": "python",
   "name": "python3"
  },
  "language_info": {
   "codemirror_mode": {
    "name": "ipython",
    "version": 3
   },
   "file_extension": ".py",
   "mimetype": "text/x-python",
   "name": "python",
   "nbconvert_exporter": "python",
   "pygments_lexer": "ipython3",
   "version": "3.8.15"
  }
 },
 "nbformat": 4,
 "nbformat_minor": 5
}
