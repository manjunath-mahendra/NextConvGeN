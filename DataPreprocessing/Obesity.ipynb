{
 "cells": [
  {
   "cell_type": "markdown",
   "id": "a5ab3377-1363-4ab6-b4f1-564b2a386d40",
   "metadata": {},
   "source": [
    "## HeartFailure data preprocessing"
   ]
  },
  {
   "cell_type": "markdown",
   "id": "85f5f148-9358-459d-a023-3c3ab9b5bf38",
   "metadata": {},
   "source": [
    "### Importing necessary libraries"
   ]
  },
  {
   "cell_type": "code",
   "execution_count": 1,
   "id": "eff8b7a9-2ed9-46c3-a59f-6258ac1fd08b",
   "metadata": {
    "execution": {
     "iopub.execute_input": "2024-01-31T12:01:51.123883Z",
     "iopub.status.busy": "2024-01-31T12:01:51.122979Z",
     "iopub.status.idle": "2024-01-31T12:01:51.130988Z",
     "shell.execute_reply": "2024-01-31T12:01:51.130505Z"
    }
   },
   "outputs": [],
   "source": [
    "import os\n",
    "import sys\n",
    "current_directory=os.getcwd()\n",
    "parent_directory=os.path.dirname(current_directory)\n",
    "sys.path.append(parent_directory)\n"
   ]
  },
  {
   "cell_type": "code",
   "execution_count": 2,
   "id": "56b80e0e-b49b-4238-85be-28b96923aeb4",
   "metadata": {
    "execution": {
     "iopub.execute_input": "2024-01-31T12:01:51.132870Z",
     "iopub.status.busy": "2024-01-31T12:01:51.132558Z",
     "iopub.status.idle": "2024-01-31T12:01:52.697628Z",
     "shell.execute_reply": "2024-01-31T12:01:52.697090Z"
    },
    "tags": []
   },
   "outputs": [
    {
     "name": "stderr",
     "output_type": "stream",
     "text": [
      "2024-01-31 12:01:51.405585: W tensorflow/stream_executor/platform/default/dso_loader.cc:64] Could not load dynamic library 'libcudart.so.11.0'; dlerror: libcudart.so.11.0: cannot open shared object file: No such file or directory\n",
      "2024-01-31 12:01:51.405605: I tensorflow/stream_executor/cuda/cudart_stub.cc:29] Ignore above cudart dlerror if you do not have a GPU set up on your machine.\n"
     ]
    }
   ],
   "source": [
    "import numpy as np\n",
    "from library.generators.NextConvGeN import NextConvGeN\n"
   ]
  },
  {
   "cell_type": "code",
   "execution_count": 3,
   "id": "60a37ac3-8400-4930-9b8d-f50e51befb9f",
   "metadata": {
    "execution": {
     "iopub.execute_input": "2024-01-31T12:01:52.699816Z",
     "iopub.status.busy": "2024-01-31T12:01:52.699567Z",
     "iopub.status.idle": "2024-01-31T12:01:55.512718Z",
     "shell.execute_reply": "2024-01-31T12:01:55.512184Z"
    }
   },
   "outputs": [],
   "source": [
    "from fdc.fdc import feature_clustering, canberra_modified, Clustering, FDC\n",
    "from fdc.clustering import *"
   ]
  },
  {
   "cell_type": "code",
   "execution_count": 4,
   "id": "24a06985-a202-46b5-93db-f92a3ded0673",
   "metadata": {
    "execution": {
     "iopub.execute_input": "2024-01-31T12:01:55.514790Z",
     "iopub.status.busy": "2024-01-31T12:01:55.514640Z",
     "iopub.status.idle": "2024-01-31T12:01:55.517099Z",
     "shell.execute_reply": "2024-01-31T12:01:55.516644Z"
    }
   },
   "outputs": [],
   "source": [
    "import pandas as pd"
   ]
  },
  {
   "cell_type": "code",
   "execution_count": 5,
   "id": "c8588ee3-e794-4a68-af35-fe499261f72d",
   "metadata": {
    "execution": {
     "iopub.execute_input": "2024-01-31T12:01:55.518931Z",
     "iopub.status.busy": "2024-01-31T12:01:55.518670Z",
     "iopub.status.idle": "2024-01-31T12:01:55.521016Z",
     "shell.execute_reply": "2024-01-31T12:01:55.520642Z"
    }
   },
   "outputs": [],
   "source": [
    "import pandas as pd\n",
    "import matplotlib.pyplot as plt\n",
    "from sklearn.cluster import KMeans\n",
    "from sklearn.metrics import silhouette_score"
   ]
  },
  {
   "cell_type": "markdown",
   "id": "01d3d86f-4e08-4be3-bba9-e2f7b9202670",
   "metadata": {},
   "source": [
    "### Importing data"
   ]
  },
  {
   "cell_type": "code",
   "execution_count": 6,
   "id": "53e069b3-8bcc-46b0-852b-2a504e21197e",
   "metadata": {
    "execution": {
     "iopub.execute_input": "2024-01-31T12:01:55.522896Z",
     "iopub.status.busy": "2024-01-31T12:01:55.522634Z",
     "iopub.status.idle": "2024-01-31T12:01:55.530160Z",
     "shell.execute_reply": "2024-01-31T12:01:55.529778Z"
    }
   },
   "outputs": [],
   "source": [
    "data=pd.read_csv('ObesityDataSet_raw_and_data_sinthetic.csv')"
   ]
  },
  {
   "cell_type": "code",
   "execution_count": 7,
   "id": "4e933fa8-19ee-4119-8565-43fdb2aa66c7",
   "metadata": {
    "execution": {
     "iopub.execute_input": "2024-01-31T12:01:55.531921Z",
     "iopub.status.busy": "2024-01-31T12:01:55.531664Z",
     "iopub.status.idle": "2024-01-31T12:01:55.547496Z",
     "shell.execute_reply": "2024-01-31T12:01:55.547044Z"
    }
   },
   "outputs": [
    {
     "data": {
      "text/html": [
       "<div>\n",
       "<style scoped>\n",
       "    .dataframe tbody tr th:only-of-type {\n",
       "        vertical-align: middle;\n",
       "    }\n",
       "\n",
       "    .dataframe tbody tr th {\n",
       "        vertical-align: top;\n",
       "    }\n",
       "\n",
       "    .dataframe thead th {\n",
       "        text-align: right;\n",
       "    }\n",
       "</style>\n",
       "<table border=\"1\" class=\"dataframe\">\n",
       "  <thead>\n",
       "    <tr style=\"text-align: right;\">\n",
       "      <th></th>\n",
       "      <th>Gender</th>\n",
       "      <th>Age</th>\n",
       "      <th>Height</th>\n",
       "      <th>Weight</th>\n",
       "      <th>family_history_with_overweight</th>\n",
       "      <th>FAVC</th>\n",
       "      <th>FCVC</th>\n",
       "      <th>NCP</th>\n",
       "      <th>CAEC</th>\n",
       "      <th>SMOKE</th>\n",
       "      <th>CH2O</th>\n",
       "      <th>SCC</th>\n",
       "      <th>FAF</th>\n",
       "      <th>TUE</th>\n",
       "      <th>CALC</th>\n",
       "      <th>MTRANS</th>\n",
       "      <th>NObeyesdad</th>\n",
       "    </tr>\n",
       "  </thead>\n",
       "  <tbody>\n",
       "    <tr>\n",
       "      <th>0</th>\n",
       "      <td>Female</td>\n",
       "      <td>21.000000</td>\n",
       "      <td>1.620000</td>\n",
       "      <td>64.000000</td>\n",
       "      <td>yes</td>\n",
       "      <td>no</td>\n",
       "      <td>2.0</td>\n",
       "      <td>3.0</td>\n",
       "      <td>Sometimes</td>\n",
       "      <td>no</td>\n",
       "      <td>2.000000</td>\n",
       "      <td>no</td>\n",
       "      <td>0.000000</td>\n",
       "      <td>1.000000</td>\n",
       "      <td>no</td>\n",
       "      <td>Public_Transportation</td>\n",
       "      <td>Normal_Weight</td>\n",
       "    </tr>\n",
       "    <tr>\n",
       "      <th>1</th>\n",
       "      <td>Female</td>\n",
       "      <td>21.000000</td>\n",
       "      <td>1.520000</td>\n",
       "      <td>56.000000</td>\n",
       "      <td>yes</td>\n",
       "      <td>no</td>\n",
       "      <td>3.0</td>\n",
       "      <td>3.0</td>\n",
       "      <td>Sometimes</td>\n",
       "      <td>yes</td>\n",
       "      <td>3.000000</td>\n",
       "      <td>yes</td>\n",
       "      <td>3.000000</td>\n",
       "      <td>0.000000</td>\n",
       "      <td>Sometimes</td>\n",
       "      <td>Public_Transportation</td>\n",
       "      <td>Normal_Weight</td>\n",
       "    </tr>\n",
       "    <tr>\n",
       "      <th>2</th>\n",
       "      <td>Male</td>\n",
       "      <td>23.000000</td>\n",
       "      <td>1.800000</td>\n",
       "      <td>77.000000</td>\n",
       "      <td>yes</td>\n",
       "      <td>no</td>\n",
       "      <td>2.0</td>\n",
       "      <td>3.0</td>\n",
       "      <td>Sometimes</td>\n",
       "      <td>no</td>\n",
       "      <td>2.000000</td>\n",
       "      <td>no</td>\n",
       "      <td>2.000000</td>\n",
       "      <td>1.000000</td>\n",
       "      <td>Frequently</td>\n",
       "      <td>Public_Transportation</td>\n",
       "      <td>Normal_Weight</td>\n",
       "    </tr>\n",
       "    <tr>\n",
       "      <th>3</th>\n",
       "      <td>Male</td>\n",
       "      <td>27.000000</td>\n",
       "      <td>1.800000</td>\n",
       "      <td>87.000000</td>\n",
       "      <td>no</td>\n",
       "      <td>no</td>\n",
       "      <td>3.0</td>\n",
       "      <td>3.0</td>\n",
       "      <td>Sometimes</td>\n",
       "      <td>no</td>\n",
       "      <td>2.000000</td>\n",
       "      <td>no</td>\n",
       "      <td>2.000000</td>\n",
       "      <td>0.000000</td>\n",
       "      <td>Frequently</td>\n",
       "      <td>Walking</td>\n",
       "      <td>Overweight_Level_I</td>\n",
       "    </tr>\n",
       "    <tr>\n",
       "      <th>4</th>\n",
       "      <td>Male</td>\n",
       "      <td>22.000000</td>\n",
       "      <td>1.780000</td>\n",
       "      <td>89.800000</td>\n",
       "      <td>no</td>\n",
       "      <td>no</td>\n",
       "      <td>2.0</td>\n",
       "      <td>1.0</td>\n",
       "      <td>Sometimes</td>\n",
       "      <td>no</td>\n",
       "      <td>2.000000</td>\n",
       "      <td>no</td>\n",
       "      <td>0.000000</td>\n",
       "      <td>0.000000</td>\n",
       "      <td>Sometimes</td>\n",
       "      <td>Public_Transportation</td>\n",
       "      <td>Overweight_Level_II</td>\n",
       "    </tr>\n",
       "    <tr>\n",
       "      <th>...</th>\n",
       "      <td>...</td>\n",
       "      <td>...</td>\n",
       "      <td>...</td>\n",
       "      <td>...</td>\n",
       "      <td>...</td>\n",
       "      <td>...</td>\n",
       "      <td>...</td>\n",
       "      <td>...</td>\n",
       "      <td>...</td>\n",
       "      <td>...</td>\n",
       "      <td>...</td>\n",
       "      <td>...</td>\n",
       "      <td>...</td>\n",
       "      <td>...</td>\n",
       "      <td>...</td>\n",
       "      <td>...</td>\n",
       "      <td>...</td>\n",
       "    </tr>\n",
       "    <tr>\n",
       "      <th>2106</th>\n",
       "      <td>Female</td>\n",
       "      <td>20.976842</td>\n",
       "      <td>1.710730</td>\n",
       "      <td>131.408528</td>\n",
       "      <td>yes</td>\n",
       "      <td>yes</td>\n",
       "      <td>3.0</td>\n",
       "      <td>3.0</td>\n",
       "      <td>Sometimes</td>\n",
       "      <td>no</td>\n",
       "      <td>1.728139</td>\n",
       "      <td>no</td>\n",
       "      <td>1.676269</td>\n",
       "      <td>0.906247</td>\n",
       "      <td>Sometimes</td>\n",
       "      <td>Public_Transportation</td>\n",
       "      <td>Obesity_Type_III</td>\n",
       "    </tr>\n",
       "    <tr>\n",
       "      <th>2107</th>\n",
       "      <td>Female</td>\n",
       "      <td>21.982942</td>\n",
       "      <td>1.748584</td>\n",
       "      <td>133.742943</td>\n",
       "      <td>yes</td>\n",
       "      <td>yes</td>\n",
       "      <td>3.0</td>\n",
       "      <td>3.0</td>\n",
       "      <td>Sometimes</td>\n",
       "      <td>no</td>\n",
       "      <td>2.005130</td>\n",
       "      <td>no</td>\n",
       "      <td>1.341390</td>\n",
       "      <td>0.599270</td>\n",
       "      <td>Sometimes</td>\n",
       "      <td>Public_Transportation</td>\n",
       "      <td>Obesity_Type_III</td>\n",
       "    </tr>\n",
       "    <tr>\n",
       "      <th>2108</th>\n",
       "      <td>Female</td>\n",
       "      <td>22.524036</td>\n",
       "      <td>1.752206</td>\n",
       "      <td>133.689352</td>\n",
       "      <td>yes</td>\n",
       "      <td>yes</td>\n",
       "      <td>3.0</td>\n",
       "      <td>3.0</td>\n",
       "      <td>Sometimes</td>\n",
       "      <td>no</td>\n",
       "      <td>2.054193</td>\n",
       "      <td>no</td>\n",
       "      <td>1.414209</td>\n",
       "      <td>0.646288</td>\n",
       "      <td>Sometimes</td>\n",
       "      <td>Public_Transportation</td>\n",
       "      <td>Obesity_Type_III</td>\n",
       "    </tr>\n",
       "    <tr>\n",
       "      <th>2109</th>\n",
       "      <td>Female</td>\n",
       "      <td>24.361936</td>\n",
       "      <td>1.739450</td>\n",
       "      <td>133.346641</td>\n",
       "      <td>yes</td>\n",
       "      <td>yes</td>\n",
       "      <td>3.0</td>\n",
       "      <td>3.0</td>\n",
       "      <td>Sometimes</td>\n",
       "      <td>no</td>\n",
       "      <td>2.852339</td>\n",
       "      <td>no</td>\n",
       "      <td>1.139107</td>\n",
       "      <td>0.586035</td>\n",
       "      <td>Sometimes</td>\n",
       "      <td>Public_Transportation</td>\n",
       "      <td>Obesity_Type_III</td>\n",
       "    </tr>\n",
       "    <tr>\n",
       "      <th>2110</th>\n",
       "      <td>Female</td>\n",
       "      <td>23.664709</td>\n",
       "      <td>1.738836</td>\n",
       "      <td>133.472641</td>\n",
       "      <td>yes</td>\n",
       "      <td>yes</td>\n",
       "      <td>3.0</td>\n",
       "      <td>3.0</td>\n",
       "      <td>Sometimes</td>\n",
       "      <td>no</td>\n",
       "      <td>2.863513</td>\n",
       "      <td>no</td>\n",
       "      <td>1.026452</td>\n",
       "      <td>0.714137</td>\n",
       "      <td>Sometimes</td>\n",
       "      <td>Public_Transportation</td>\n",
       "      <td>Obesity_Type_III</td>\n",
       "    </tr>\n",
       "  </tbody>\n",
       "</table>\n",
       "<p>2111 rows × 17 columns</p>\n",
       "</div>"
      ],
      "text/plain": [
       "      Gender        Age    Height      Weight family_history_with_overweight  \\\n",
       "0     Female  21.000000  1.620000   64.000000                            yes   \n",
       "1     Female  21.000000  1.520000   56.000000                            yes   \n",
       "2       Male  23.000000  1.800000   77.000000                            yes   \n",
       "3       Male  27.000000  1.800000   87.000000                             no   \n",
       "4       Male  22.000000  1.780000   89.800000                             no   \n",
       "...      ...        ...       ...         ...                            ...   \n",
       "2106  Female  20.976842  1.710730  131.408528                            yes   \n",
       "2107  Female  21.982942  1.748584  133.742943                            yes   \n",
       "2108  Female  22.524036  1.752206  133.689352                            yes   \n",
       "2109  Female  24.361936  1.739450  133.346641                            yes   \n",
       "2110  Female  23.664709  1.738836  133.472641                            yes   \n",
       "\n",
       "     FAVC  FCVC  NCP       CAEC SMOKE      CH2O  SCC       FAF       TUE  \\\n",
       "0      no   2.0  3.0  Sometimes    no  2.000000   no  0.000000  1.000000   \n",
       "1      no   3.0  3.0  Sometimes   yes  3.000000  yes  3.000000  0.000000   \n",
       "2      no   2.0  3.0  Sometimes    no  2.000000   no  2.000000  1.000000   \n",
       "3      no   3.0  3.0  Sometimes    no  2.000000   no  2.000000  0.000000   \n",
       "4      no   2.0  1.0  Sometimes    no  2.000000   no  0.000000  0.000000   \n",
       "...   ...   ...  ...        ...   ...       ...  ...       ...       ...   \n",
       "2106  yes   3.0  3.0  Sometimes    no  1.728139   no  1.676269  0.906247   \n",
       "2107  yes   3.0  3.0  Sometimes    no  2.005130   no  1.341390  0.599270   \n",
       "2108  yes   3.0  3.0  Sometimes    no  2.054193   no  1.414209  0.646288   \n",
       "2109  yes   3.0  3.0  Sometimes    no  2.852339   no  1.139107  0.586035   \n",
       "2110  yes   3.0  3.0  Sometimes    no  2.863513   no  1.026452  0.714137   \n",
       "\n",
       "            CALC                 MTRANS           NObeyesdad  \n",
       "0             no  Public_Transportation        Normal_Weight  \n",
       "1      Sometimes  Public_Transportation        Normal_Weight  \n",
       "2     Frequently  Public_Transportation        Normal_Weight  \n",
       "3     Frequently                Walking   Overweight_Level_I  \n",
       "4      Sometimes  Public_Transportation  Overweight_Level_II  \n",
       "...          ...                    ...                  ...  \n",
       "2106   Sometimes  Public_Transportation     Obesity_Type_III  \n",
       "2107   Sometimes  Public_Transportation     Obesity_Type_III  \n",
       "2108   Sometimes  Public_Transportation     Obesity_Type_III  \n",
       "2109   Sometimes  Public_Transportation     Obesity_Type_III  \n",
       "2110   Sometimes  Public_Transportation     Obesity_Type_III  \n",
       "\n",
       "[2111 rows x 17 columns]"
      ]
     },
     "execution_count": 7,
     "metadata": {},
     "output_type": "execute_result"
    }
   ],
   "source": [
    "data"
   ]
  },
  {
   "cell_type": "code",
   "execution_count": 8,
   "id": "2df57461-99ed-4080-be92-9109d5913851",
   "metadata": {
    "execution": {
     "iopub.execute_input": "2024-01-31T12:01:55.549281Z",
     "iopub.status.busy": "2024-01-31T12:01:55.549020Z",
     "iopub.status.idle": "2024-01-31T12:01:55.551646Z",
     "shell.execute_reply": "2024-01-31T12:01:55.551264Z"
    }
   },
   "outputs": [],
   "source": [
    "np.random.seed(42)\n",
    "data=data.sample(frac=1)"
   ]
  },
  {
   "cell_type": "code",
   "execution_count": 9,
   "id": "8d44943c",
   "metadata": {
    "execution": {
     "iopub.execute_input": "2024-01-31T12:01:55.553404Z",
     "iopub.status.busy": "2024-01-31T12:01:55.553147Z",
     "iopub.status.idle": "2024-01-31T12:01:55.556066Z",
     "shell.execute_reply": "2024-01-31T12:01:55.555739Z"
    }
   },
   "outputs": [
    {
     "data": {
      "text/plain": [
       "array(['Female', 'Male'], dtype=object)"
      ]
     },
     "execution_count": 9,
     "metadata": {},
     "output_type": "execute_result"
    }
   ],
   "source": [
    "data.Gender.unique()"
   ]
  },
  {
   "cell_type": "code",
   "execution_count": 10,
   "id": "0536a4cb",
   "metadata": {
    "execution": {
     "iopub.execute_input": "2024-01-31T12:01:55.557875Z",
     "iopub.status.busy": "2024-01-31T12:01:55.557575Z",
     "iopub.status.idle": "2024-01-31T12:01:55.560740Z",
     "shell.execute_reply": "2024-01-31T12:01:55.560359Z"
    }
   },
   "outputs": [],
   "source": [
    "data['Gender'].replace(['Female', 'Male'],[0,1],inplace=True)"
   ]
  },
  {
   "cell_type": "code",
   "execution_count": 11,
   "id": "847768ba",
   "metadata": {
    "execution": {
     "iopub.execute_input": "2024-01-31T12:01:55.562392Z",
     "iopub.status.busy": "2024-01-31T12:01:55.562253Z",
     "iopub.status.idle": "2024-01-31T12:01:55.565094Z",
     "shell.execute_reply": "2024-01-31T12:01:55.564770Z"
    }
   },
   "outputs": [
    {
     "data": {
      "text/plain": [
       "array(['yes', 'no'], dtype=object)"
      ]
     },
     "execution_count": 11,
     "metadata": {},
     "output_type": "execute_result"
    }
   ],
   "source": [
    "data.family_history_with_overweight.unique()"
   ]
  },
  {
   "cell_type": "code",
   "execution_count": 12,
   "id": "7fa861b9",
   "metadata": {
    "execution": {
     "iopub.execute_input": "2024-01-31T12:01:55.566895Z",
     "iopub.status.busy": "2024-01-31T12:01:55.566638Z",
     "iopub.status.idle": "2024-01-31T12:01:55.569668Z",
     "shell.execute_reply": "2024-01-31T12:01:55.569290Z"
    }
   },
   "outputs": [],
   "source": [
    "data['family_history_with_overweight'].replace(['yes', 'no'],[1,0],inplace=True)"
   ]
  },
  {
   "cell_type": "code",
   "execution_count": 13,
   "id": "4581ac0d",
   "metadata": {
    "execution": {
     "iopub.execute_input": "2024-01-31T12:01:55.571472Z",
     "iopub.status.busy": "2024-01-31T12:01:55.571215Z",
     "iopub.status.idle": "2024-01-31T12:01:55.574082Z",
     "shell.execute_reply": "2024-01-31T12:01:55.573710Z"
    }
   },
   "outputs": [
    {
     "data": {
      "text/plain": [
       "array(['yes', 'no'], dtype=object)"
      ]
     },
     "execution_count": 13,
     "metadata": {},
     "output_type": "execute_result"
    }
   ],
   "source": [
    "data.FAVC.unique()"
   ]
  },
  {
   "cell_type": "code",
   "execution_count": 14,
   "id": "fca14b9b",
   "metadata": {
    "execution": {
     "iopub.execute_input": "2024-01-31T12:01:55.575820Z",
     "iopub.status.busy": "2024-01-31T12:01:55.575563Z",
     "iopub.status.idle": "2024-01-31T12:01:55.578575Z",
     "shell.execute_reply": "2024-01-31T12:01:55.578197Z"
    }
   },
   "outputs": [],
   "source": [
    "data['FAVC'].replace(['yes', 'no'],[1,0],inplace=True)"
   ]
  },
  {
   "cell_type": "code",
   "execution_count": 15,
   "id": "2df87a3c",
   "metadata": {
    "execution": {
     "iopub.execute_input": "2024-01-31T12:01:55.580316Z",
     "iopub.status.busy": "2024-01-31T12:01:55.580059Z",
     "iopub.status.idle": "2024-01-31T12:01:55.582885Z",
     "shell.execute_reply": "2024-01-31T12:01:55.582561Z"
    }
   },
   "outputs": [
    {
     "data": {
      "text/plain": [
       "array(['Frequently', 'Sometimes', 'Always', 'no'], dtype=object)"
      ]
     },
     "execution_count": 15,
     "metadata": {},
     "output_type": "execute_result"
    }
   ],
   "source": [
    "data.CAEC.unique()"
   ]
  },
  {
   "cell_type": "code",
   "execution_count": 16,
   "id": "a0dec82b",
   "metadata": {
    "execution": {
     "iopub.execute_input": "2024-01-31T12:01:55.584628Z",
     "iopub.status.busy": "2024-01-31T12:01:55.584372Z",
     "iopub.status.idle": "2024-01-31T12:01:55.587652Z",
     "shell.execute_reply": "2024-01-31T12:01:55.587274Z"
    }
   },
   "outputs": [],
   "source": [
    "data['CAEC'].replace(['Sometimes', 'Frequently', 'Always', 'no'],[1,2,3,0],inplace=True)"
   ]
  },
  {
   "cell_type": "code",
   "execution_count": 17,
   "id": "b73eec84",
   "metadata": {
    "execution": {
     "iopub.execute_input": "2024-01-31T12:01:55.589412Z",
     "iopub.status.busy": "2024-01-31T12:01:55.589155Z",
     "iopub.status.idle": "2024-01-31T12:01:55.592021Z",
     "shell.execute_reply": "2024-01-31T12:01:55.591695Z"
    }
   },
   "outputs": [
    {
     "data": {
      "text/plain": [
       "array(['no', 'yes'], dtype=object)"
      ]
     },
     "execution_count": 17,
     "metadata": {},
     "output_type": "execute_result"
    }
   ],
   "source": [
    "data.SMOKE.unique()"
   ]
  },
  {
   "cell_type": "code",
   "execution_count": 18,
   "id": "d00a8b30",
   "metadata": {
    "execution": {
     "iopub.execute_input": "2024-01-31T12:01:55.593763Z",
     "iopub.status.busy": "2024-01-31T12:01:55.593468Z",
     "iopub.status.idle": "2024-01-31T12:01:55.596508Z",
     "shell.execute_reply": "2024-01-31T12:01:55.596131Z"
    }
   },
   "outputs": [],
   "source": [
    "data['SMOKE'].replace(['yes', 'no'],[1,0],inplace=True)"
   ]
  },
  {
   "cell_type": "code",
   "execution_count": 19,
   "id": "4cd80f91",
   "metadata": {
    "execution": {
     "iopub.execute_input": "2024-01-31T12:01:55.598163Z",
     "iopub.status.busy": "2024-01-31T12:01:55.598025Z",
     "iopub.status.idle": "2024-01-31T12:01:55.600832Z",
     "shell.execute_reply": "2024-01-31T12:01:55.600507Z"
    }
   },
   "outputs": [
    {
     "data": {
      "text/plain": [
       "array(['no', 'yes'], dtype=object)"
      ]
     },
     "execution_count": 19,
     "metadata": {},
     "output_type": "execute_result"
    }
   ],
   "source": [
    "data.SCC.unique()"
   ]
  },
  {
   "cell_type": "code",
   "execution_count": 20,
   "id": "5a4d52d1",
   "metadata": {
    "execution": {
     "iopub.execute_input": "2024-01-31T12:01:55.602573Z",
     "iopub.status.busy": "2024-01-31T12:01:55.602317Z",
     "iopub.status.idle": "2024-01-31T12:01:55.605314Z",
     "shell.execute_reply": "2024-01-31T12:01:55.604933Z"
    }
   },
   "outputs": [],
   "source": [
    "data['SCC'].replace(['yes', 'no'],[1,0],inplace=True)"
   ]
  },
  {
   "cell_type": "code",
   "execution_count": 21,
   "id": "f57083cb",
   "metadata": {
    "execution": {
     "iopub.execute_input": "2024-01-31T12:01:55.607111Z",
     "iopub.status.busy": "2024-01-31T12:01:55.606851Z",
     "iopub.status.idle": "2024-01-31T12:01:55.609676Z",
     "shell.execute_reply": "2024-01-31T12:01:55.609351Z"
    }
   },
   "outputs": [
    {
     "data": {
      "text/plain": [
       "array(['no', 'Sometimes', 'Frequently', 'Always'], dtype=object)"
      ]
     },
     "execution_count": 21,
     "metadata": {},
     "output_type": "execute_result"
    }
   ],
   "source": [
    "data.CALC.unique()"
   ]
  },
  {
   "cell_type": "code",
   "execution_count": 22,
   "id": "c3789601",
   "metadata": {
    "execution": {
     "iopub.execute_input": "2024-01-31T12:01:55.611464Z",
     "iopub.status.busy": "2024-01-31T12:01:55.611205Z",
     "iopub.status.idle": "2024-01-31T12:01:55.614328Z",
     "shell.execute_reply": "2024-01-31T12:01:55.613994Z"
    }
   },
   "outputs": [],
   "source": [
    "data['CALC'].replace(['Sometimes', 'Frequently', 'Always', 'no'],[1,2,3,0],inplace=True)"
   ]
  },
  {
   "cell_type": "code",
   "execution_count": 23,
   "id": "3ab3dad6",
   "metadata": {
    "execution": {
     "iopub.execute_input": "2024-01-31T12:01:55.615952Z",
     "iopub.status.busy": "2024-01-31T12:01:55.615816Z",
     "iopub.status.idle": "2024-01-31T12:01:55.618660Z",
     "shell.execute_reply": "2024-01-31T12:01:55.618333Z"
    }
   },
   "outputs": [
    {
     "data": {
      "text/plain": [
       "array(['Public_Transportation', 'Automobile', 'Bike', 'Walking',\n",
       "       'Motorbike'], dtype=object)"
      ]
     },
     "execution_count": 23,
     "metadata": {},
     "output_type": "execute_result"
    }
   ],
   "source": [
    "data.MTRANS.unique()"
   ]
  },
  {
   "cell_type": "code",
   "execution_count": 24,
   "id": "5086a1bb",
   "metadata": {
    "execution": {
     "iopub.execute_input": "2024-01-31T12:01:55.620434Z",
     "iopub.status.busy": "2024-01-31T12:01:55.620149Z",
     "iopub.status.idle": "2024-01-31T12:01:55.623498Z",
     "shell.execute_reply": "2024-01-31T12:01:55.623120Z"
    }
   },
   "outputs": [],
   "source": [
    "data['MTRANS'].replace(['Public_Transportation', 'Walking', 'Automobile', 'Motorbike','Bike'],[0,1,2,3,4],inplace=True)"
   ]
  },
  {
   "cell_type": "code",
   "execution_count": 25,
   "id": "ae9d4e96",
   "metadata": {
    "execution": {
     "iopub.execute_input": "2024-01-31T12:01:55.625243Z",
     "iopub.status.busy": "2024-01-31T12:01:55.624983Z",
     "iopub.status.idle": "2024-01-31T12:01:55.627869Z",
     "shell.execute_reply": "2024-01-31T12:01:55.627543Z"
    }
   },
   "outputs": [
    {
     "data": {
      "text/plain": [
       "array(['Insufficient_Weight', 'Obesity_Type_III', 'Normal_Weight',\n",
       "       'Obesity_Type_II', 'Overweight_Level_I', 'Obesity_Type_I',\n",
       "       'Overweight_Level_II'], dtype=object)"
      ]
     },
     "execution_count": 25,
     "metadata": {},
     "output_type": "execute_result"
    }
   ],
   "source": [
    "data.NObeyesdad.unique()"
   ]
  },
  {
   "cell_type": "code",
   "execution_count": 26,
   "id": "940e6eb6",
   "metadata": {
    "execution": {
     "iopub.execute_input": "2024-01-31T12:01:55.629465Z",
     "iopub.status.busy": "2024-01-31T12:01:55.629329Z",
     "iopub.status.idle": "2024-01-31T12:01:55.632856Z",
     "shell.execute_reply": "2024-01-31T12:01:55.632480Z"
    }
   },
   "outputs": [],
   "source": [
    "data['NObeyesdad'].replace(['Insufficient_Weight', 'Normal_Weight', 'Overweight_Level_I', 'Overweight_Level_II','Obesity_Type_I', 'Obesity_Type_II','Obesity_Type_III'],[0,1,2,3,4,5,6],inplace=True)"
   ]
  },
  {
   "cell_type": "code",
   "execution_count": 27,
   "id": "d91f3053-c382-490a-9c6a-e3925f5d0660",
   "metadata": {
    "execution": {
     "iopub.execute_input": "2024-01-31T12:01:55.634650Z",
     "iopub.status.busy": "2024-01-31T12:01:55.634391Z",
     "iopub.status.idle": "2024-01-31T12:01:55.636826Z",
     "shell.execute_reply": "2024-01-31T12:01:55.636496Z"
    }
   },
   "outputs": [],
   "source": [
    "cont_list=['Age', 'Height', 'Weight' ]\n",
    "\n",
    "nom_list=['Gender', 'MTRANS','FAVC','SMOKE']\n",
    "\n",
    "ord_list=['family_history_with_overweight', 'FCVC', 'NCP', 'CAEC', 'CH2O', 'FAF', 'TUE', 'CALC','SCC']\n",
    "\n",
    "target = ['NObeyesdad']\n"
   ]
  },
  {
   "cell_type": "code",
   "execution_count": 28,
   "id": "3689af04",
   "metadata": {
    "execution": {
     "iopub.execute_input": "2024-01-31T12:01:55.638572Z",
     "iopub.status.busy": "2024-01-31T12:01:55.638316Z",
     "iopub.status.idle": "2024-01-31T12:01:55.643812Z",
     "shell.execute_reply": "2024-01-31T12:01:55.643434Z"
    },
    "scrolled": true
   },
   "outputs": [],
   "source": [
    "data[nom_list]=data[nom_list].astype('int64')\n",
    "data[ord_list]=data[ord_list].astype('int64')"
   ]
  },
  {
   "cell_type": "code",
   "execution_count": 29,
   "id": "e633073d-271c-450a-87f9-a61755e2f011",
   "metadata": {
    "execution": {
     "iopub.execute_input": "2024-01-31T12:01:55.645564Z",
     "iopub.status.busy": "2024-01-31T12:01:55.645309Z",
     "iopub.status.idle": "2024-01-31T12:01:55.649569Z",
     "shell.execute_reply": "2024-01-31T12:01:55.649191Z"
    }
   },
   "outputs": [],
   "source": [
    "data.drop_duplicates(inplace=True, ignore_index=True)"
   ]
  },
  {
   "cell_type": "code",
   "execution_count": 30,
   "id": "d81fd1ac-f5f9-4e12-8358-fbbbc70b10ca",
   "metadata": {
    "execution": {
     "iopub.execute_input": "2024-01-31T12:01:55.651387Z",
     "iopub.status.busy": "2024-01-31T12:01:55.651127Z",
     "iopub.status.idle": "2024-01-31T12:01:55.660208Z",
     "shell.execute_reply": "2024-01-31T12:01:55.659830Z"
    },
    "tags": []
   },
   "outputs": [],
   "source": [
    "output_file_path=os.path.join(parent_directory,\"PreprocessedDatasets/Obesity.csv\")\n",
    "data.to_csv(output_file_path, index=False)"
   ]
  },
  {
   "cell_type": "code",
   "execution_count": 31,
   "id": "344713db-499f-4492-8fe3-9b6180d6b74c",
   "metadata": {
    "execution": {
     "iopub.execute_input": "2024-01-31T12:01:55.661960Z",
     "iopub.status.busy": "2024-01-31T12:01:55.661695Z",
     "iopub.status.idle": "2024-01-31T12:01:55.665052Z",
     "shell.execute_reply": "2024-01-31T12:01:55.664726Z"
    }
   },
   "outputs": [
    {
     "data": {
      "text/plain": [
       "4    351\n",
       "6    324\n",
       "5    297\n",
       "3    290\n",
       "1    282\n",
       "2    276\n",
       "0    267\n",
       "Name: NObeyesdad, dtype: int64"
      ]
     },
     "execution_count": 31,
     "metadata": {},
     "output_type": "execute_result"
    }
   ],
   "source": [
    "data['NObeyesdad'].value_counts()"
   ]
  },
  {
   "cell_type": "code",
   "execution_count": 32,
   "id": "8aebf9eb-e0b3-40db-bcd0-bfc400e004ce",
   "metadata": {
    "execution": {
     "iopub.execute_input": "2024-01-31T12:01:55.666823Z",
     "iopub.status.busy": "2024-01-31T12:01:55.666568Z",
     "iopub.status.idle": "2024-01-31T12:01:55.669142Z",
     "shell.execute_reply": "2024-01-31T12:01:55.668764Z"
    }
   },
   "outputs": [],
   "source": [
    "data.drop(['NObeyesdad'],axis=1, inplace=True)"
   ]
  },
  {
   "cell_type": "code",
   "execution_count": 33,
   "id": "f6585796-c7c5-4f06-a1f4-5f5aea784e42",
   "metadata": {
    "execution": {
     "iopub.execute_input": "2024-01-31T12:01:55.670930Z",
     "iopub.status.busy": "2024-01-31T12:01:55.670676Z",
     "iopub.status.idle": "2024-01-31T12:01:55.673148Z",
     "shell.execute_reply": "2024-01-31T12:01:55.672772Z"
    }
   },
   "outputs": [],
   "source": [
    "np.random.seed(42)\n",
    "data=data.sample(frac=1)"
   ]
  },
  {
   "cell_type": "markdown",
   "id": "b660f1df-14b8-462c-a36c-5718f1881bda",
   "metadata": {},
   "source": [
    "### UMAP on entire data"
   ]
  },
  {
   "cell_type": "code",
   "execution_count": 34,
   "id": "2326c5ac-3967-4a6e-8488-dd1dd29796e3",
   "metadata": {
    "execution": {
     "iopub.execute_input": "2024-01-31T12:01:55.674996Z",
     "iopub.status.busy": "2024-01-31T12:01:55.674738Z",
     "iopub.status.idle": "2024-01-31T12:01:55.676852Z",
     "shell.execute_reply": "2024-01-31T12:01:55.676479Z"
    }
   },
   "outputs": [],
   "source": [
    "from fdc.fdc import feature_clustering"
   ]
  },
  {
   "cell_type": "code",
   "execution_count": 35,
   "id": "4f208ccd-b32d-4a0c-b8be-e6edf64b5664",
   "metadata": {
    "execution": {
     "iopub.execute_input": "2024-01-31T12:01:55.678595Z",
     "iopub.status.busy": "2024-01-31T12:01:55.678340Z",
     "iopub.status.idle": "2024-01-31T12:02:03.240537Z",
     "shell.execute_reply": "2024-01-31T12:02:03.240062Z"
    }
   },
   "outputs": [
    {
     "data": {
      "image/png": "[encoded data removed]",
      "text/plain": [
       "<Figure size 500x500 with 1 Axes>"
      ]
     },
     "metadata": {},
     "output_type": "display_data"
    }
   ],
   "source": [
    "np.random.seed(42)\n",
    "umap_emb=feature_clustering(30,0.1,'euclidean',data,True)"
   ]
  },
  {
   "cell_type": "markdown",
   "id": "f0068723-e652-4358-a2c4-761f5e1833d8",
   "metadata": {},
   "source": [
    "### Feature-type Distributed Clustering (FDC)"
   ]
  },
  {
   "cell_type": "code",
   "execution_count": 36,
   "id": "2e9a0102-2e1a-42ca-87e6-957f8c44e0b0",
   "metadata": {
    "execution": {
     "iopub.execute_input": "2024-01-31T12:02:03.242486Z",
     "iopub.status.busy": "2024-01-31T12:02:03.242338Z",
     "iopub.status.idle": "2024-01-31T12:02:03.244791Z",
     "shell.execute_reply": "2024-01-31T12:02:03.244336Z"
    }
   },
   "outputs": [],
   "source": [
    "output_file_path=os.path.join(parent_directory,\"PreprocessedDatasets/Obesity.json\")"
   ]
  },
  {
   "cell_type": "code",
   "execution_count": 37,
   "id": "e535f373-b83e-491b-bef9-70aa19eb2d72",
   "metadata": {
    "execution": {
     "iopub.execute_input": "2024-01-31T12:02:03.246476Z",
     "iopub.status.busy": "2024-01-31T12:02:03.246338Z",
     "iopub.status.idle": "2024-01-31T12:02:03.249128Z",
     "shell.execute_reply": "2024-01-31T12:02:03.248749Z"
    }
   },
   "outputs": [],
   "source": [
    "import json\n",
    "\n",
    "features = {\n",
    "    \"cont_list\": cont_list,\n",
    "    \"nom_list\": nom_list,\n",
    "    \"ord_list\": ord_list,\n",
    "    \"target\": target\n",
    "}\n",
    "\n",
    "with open(output_file_path, \"w\") as json_file:\n",
    "    json.dump(features, json_file)"
   ]
  },
  {
   "cell_type": "code",
   "execution_count": 38,
   "id": "8597d25f-470b-41c5-8353-05f15421e850",
   "metadata": {
    "execution": {
     "iopub.execute_input": "2024-01-31T12:02:03.250938Z",
     "iopub.status.busy": "2024-01-31T12:02:03.250678Z",
     "iopub.status.idle": "2024-01-31T12:02:22.677972Z",
     "shell.execute_reply": "2024-01-31T12:02:22.677394Z"
    }
   },
   "outputs": [
    {
     "name": "stdout",
     "output_type": "stream",
     "text": [
      "FDC.normalize (init): 0.00001 / 0.000s\n"
     ]
    },
    {
     "name": "stdout",
     "output_type": "stream",
     "text": [
      "FDC.normalize (clustering CONT): 6.55955 / 6.560s\n"
     ]
    },
    {
     "name": "stdout",
     "output_type": "stream",
     "text": [
      "FDC.normalize (clustering ORD): 13.63316 / 20.193s\n",
      "FDC.normalize (clustering NOM): 0.00005 / 20.193s\n",
      "FDC.normalize (concat): 0.00003 / 20.193s\n"
     ]
    },
    {
     "name": "stdout",
     "output_type": "stream",
     "text": [
      "FDC.normalize (umap 5 -> 2): 7.05628 / 27.249s\n",
      "FDC.normalize (array -> DataFrame): 0.00026 / 27.249s\n"
     ]
    },
    {
     "data": {
      "image/png": "[encoded data removed]",
      "text/plain": [
       "<Figure size 500x500 with 1 Axes>"
      ]
     },
     "metadata": {},
     "output_type": "display_data"
    },
    {
     "name": "stdout",
     "output_type": "stream",
     "text": [
      "FDC.normalize (plotting): 0.39535 / 27.645s\n",
      "FDC.normalize (array -> DataFrame): 0.00017 / 27.645s\n",
      "FDC.normalize (total): 0.00001 / 27.645s\n"
     ]
    }
   ],
   "source": [
    "from fdc.fdc import feature_clustering, canberra_modified, Clustering, FDC\n",
    "np.random.seed(42)\n",
    "\n",
    "fdc = FDC(clustering_cont=Clustering('euclidean',30,0.01)\n",
    "          , clustering_ord=Clustering(canberra_modified,30,0.01)\n",
    "          , visual=True\n",
    "          , use_pandas_output=True\n",
    "          , with_2d_embedding=True\n",
    "          )\n",
    "\n",
    "fdc.selectFeatures(continueous=cont_list, ordinal=ord_list)\n",
    "\n",
    "FDC_emb_high,FDC_emb_low = fdc.normalize(data,cont_list=cont_list, ord_list=ord_list,\n",
    "                  with_2d_embedding=True,\n",
    "                  visual=True)"
   ]
  },
  {
   "cell_type": "markdown",
   "id": "c463a715-9608-4325-b72b-b710e1ccb589",
   "metadata": {},
   "source": [
    "### Clustering using K-means"
   ]
  },
  {
   "cell_type": "code",
   "execution_count": 39,
   "id": "a134fdf7-6507-4a33-b163-23f72cc2a074",
   "metadata": {
    "execution": {
     "iopub.execute_input": "2024-01-31T12:02:22.680087Z",
     "iopub.status.busy": "2024-01-31T12:02:22.679861Z",
     "iopub.status.idle": "2024-01-31T12:02:23.025381Z",
     "shell.execute_reply": "2024-01-31T12:02:23.024839Z"
    },
    "tags": []
   },
   "outputs": [
    {
     "data": {
      "image/png": "[encoded data removed]",
      "text/plain": [
       "<Figure size 640x480 with 1 Axes>"
      ]
     },
     "metadata": {},
     "output_type": "display_data"
    }
   ],
   "source": [
    "kmeans_kwargs = {\n",
    "\"init\": \"random\",\n",
    "\"n_init\": 10,\n",
    "\"random_state\": 1,\n",
    "}\n",
    "\n",
    "#create list to hold SSE values for each k\n",
    "sse = []\n",
    "for k in range(1, 11):\n",
    "    kmeans = KMeans(n_clusters=k, **kmeans_kwargs)\n",
    "    kmeans.fit(FDC_emb_low)\n",
    "    sse.append(kmeans.inertia_)\n",
    "\n",
    "#visualize results\n",
    "plt.plot(range(1, 11), sse)\n",
    "plt.xticks(range(1, 11))\n",
    "plt.xlabel(\"Number of Clusters\")\n",
    "plt.ylabel(\"SSE\")\n",
    "plt.show()"
   ]
  },
  {
   "cell_type": "code",
   "execution_count": 40,
   "id": "dc0e649f",
   "metadata": {
    "execution": {
     "iopub.execute_input": "2024-01-31T12:02:23.027371Z",
     "iopub.status.busy": "2024-01-31T12:02:23.027216Z",
     "iopub.status.idle": "2024-01-31T12:02:23.030612Z",
     "shell.execute_reply": "2024-01-31T12:02:23.030133Z"
    }
   },
   "outputs": [],
   "source": [
    "def find_optimal_cluster(FDC_emb_low):\n",
    "    silhouette_scores = []\n",
    "\n",
    "    for n_clusters in list(range(2, 9)):\n",
    "        km = KMeans(n_clusters=n_clusters, init='k-means++', n_init=10, max_iter=100, random_state=42)\n",
    "\n",
    "        km.fit(FDC_emb_low)\n",
    "\n",
    "        labels = km.labels_\n",
    "\n",
    "        # Compute the silhouette score\n",
    "        silhouette_avg = silhouette_score(FDC_emb_low, labels)\n",
    "        silhouette_scores.append(silhouette_avg)\n",
    "    return silhouette_scores"
   ]
  },
  {
   "cell_type": "code",
   "execution_count": 41,
   "id": "3257ae7b",
   "metadata": {
    "execution": {
     "iopub.execute_input": "2024-01-31T12:02:23.032582Z",
     "iopub.status.busy": "2024-01-31T12:02:23.032277Z",
     "iopub.status.idle": "2024-01-31T12:02:24.079362Z",
     "shell.execute_reply": "2024-01-31T12:02:24.078787Z"
    },
    "scrolled": true,
    "tags": []
   },
   "outputs": [
    {
     "data": {
      "text/plain": [
       "[0.40364823,\n",
       " 0.49932793,\n",
       " 0.4855681,\n",
       " 0.48562372,\n",
       " 0.49968654,\n",
       " 0.51280916,\n",
       " 0.54165787]"
      ]
     },
     "execution_count": 41,
     "metadata": {},
     "output_type": "execute_result"
    }
   ],
   "source": [
    "find_optimal_cluster(FDC_emb_low)"
   ]
  },
  {
   "cell_type": "code",
   "execution_count": 42,
   "id": "80dbc9a4-8997-42d2-b4fd-49515bb2f8c1",
   "metadata": {
    "execution": {
     "iopub.execute_input": "2024-01-31T12:02:24.082220Z",
     "iopub.status.busy": "2024-01-31T12:02:24.081842Z",
     "iopub.status.idle": "2024-01-31T12:02:24.423425Z",
     "shell.execute_reply": "2024-01-31T12:02:24.422932Z"
    },
    "scrolled": true
   },
   "outputs": [
    {
     "data": {
      "image/png": "[encoded data removed]",
      "text/plain": [
       "<Figure size 560.361x500 with 1 Axes>"
      ]
     },
     "metadata": {},
     "output_type": "display_data"
    }
   ],
   "source": [
    "from fdc.clustering import *\n",
    "np.random.seed(42)\n",
    "clustering=Clustering(FDC_emb_low,FDC_emb_low,True)\n",
    "cluster_list,cluster_counts=clustering.K_means(3)"
   ]
  },
  {
   "cell_type": "code",
   "execution_count": 43,
   "id": "c2f410a1",
   "metadata": {
    "execution": {
     "iopub.execute_input": "2024-01-31T12:02:24.425281Z",
     "iopub.status.busy": "2024-01-31T12:02:24.425100Z",
     "iopub.status.idle": "2024-01-31T12:02:24.428188Z",
     "shell.execute_reply": "2024-01-31T12:02:24.427853Z"
    }
   },
   "outputs": [
    {
     "data": {
      "text/plain": [
       "array([790, 835, 462])"
      ]
     },
     "execution_count": 43,
     "metadata": {},
     "output_type": "execute_result"
    }
   ],
   "source": [
    "cluster_counts"
   ]
  },
  {
   "cell_type": "code",
   "execution_count": 44,
   "id": "250dd725-ecae-4e4d-a125-45a3d64840ab",
   "metadata": {
    "execution": {
     "iopub.execute_input": "2024-01-31T12:02:24.429897Z",
     "iopub.status.busy": "2024-01-31T12:02:24.429716Z",
     "iopub.status.idle": "2024-01-31T12:02:24.432641Z",
     "shell.execute_reply": "2024-01-31T12:02:24.432305Z"
    }
   },
   "outputs": [],
   "source": [
    "data['Target']=cluster_list"
   ]
  },
  {
   "cell_type": "code",
   "execution_count": 45,
   "id": "45fb9cab-6d92-4db5-8db5-70a64bd4c979",
   "metadata": {
    "execution": {
     "iopub.execute_input": "2024-01-31T12:02:24.434442Z",
     "iopub.status.busy": "2024-01-31T12:02:24.434125Z",
     "iopub.status.idle": "2024-01-31T12:02:24.443564Z",
     "shell.execute_reply": "2024-01-31T12:02:24.443174Z"
    },
    "tags": []
   },
   "outputs": [],
   "source": [
    "output_file_path=os.path.join(parent_directory,\"PreprocessedDatasets/SSObesity.csv\")\n",
    "data.to_csv(output_file_path, index=False)"
   ]
  },
  {
   "cell_type": "code",
   "execution_count": 46,
   "id": "7bf92e7b-36ed-4d66-8f6a-11beb2defba4",
   "metadata": {
    "execution": {
     "iopub.execute_input": "2024-01-31T12:02:24.445378Z",
     "iopub.status.busy": "2024-01-31T12:02:24.445064Z",
     "iopub.status.idle": "2024-01-31T12:02:24.455421Z",
     "shell.execute_reply": "2024-01-31T12:02:24.455086Z"
    }
   },
   "outputs": [
    {
     "data": {
      "text/html": [
       "<div>\n",
       "<style scoped>\n",
       "    .dataframe tbody tr th:only-of-type {\n",
       "        vertical-align: middle;\n",
       "    }\n",
       "\n",
       "    .dataframe tbody tr th {\n",
       "        vertical-align: top;\n",
       "    }\n",
       "\n",
       "    .dataframe thead th {\n",
       "        text-align: right;\n",
       "    }\n",
       "</style>\n",
       "<table border=\"1\" class=\"dataframe\">\n",
       "  <thead>\n",
       "    <tr style=\"text-align: right;\">\n",
       "      <th></th>\n",
       "      <th>Gender</th>\n",
       "      <th>Age</th>\n",
       "      <th>Height</th>\n",
       "      <th>Weight</th>\n",
       "      <th>family_history_with_overweight</th>\n",
       "      <th>FAVC</th>\n",
       "      <th>FCVC</th>\n",
       "      <th>NCP</th>\n",
       "      <th>CAEC</th>\n",
       "      <th>SMOKE</th>\n",
       "      <th>CH2O</th>\n",
       "      <th>SCC</th>\n",
       "      <th>FAF</th>\n",
       "      <th>TUE</th>\n",
       "      <th>CALC</th>\n",
       "      <th>MTRANS</th>\n",
       "      <th>Target</th>\n",
       "    </tr>\n",
       "  </thead>\n",
       "  <tbody>\n",
       "    <tr>\n",
       "      <th>1313</th>\n",
       "      <td>0</td>\n",
       "      <td>18.000000</td>\n",
       "      <td>1.630000</td>\n",
       "      <td>63.000000</td>\n",
       "      <td>1</td>\n",
       "      <td>1</td>\n",
       "      <td>1</td>\n",
       "      <td>3</td>\n",
       "      <td>1</td>\n",
       "      <td>0</td>\n",
       "      <td>2</td>\n",
       "      <td>0</td>\n",
       "      <td>2</td>\n",
       "      <td>2</td>\n",
       "      <td>1</td>\n",
       "      <td>0</td>\n",
       "      <td>1</td>\n",
       "    </tr>\n",
       "    <tr>\n",
       "      <th>1739</th>\n",
       "      <td>0</td>\n",
       "      <td>22.847618</td>\n",
       "      <td>1.669136</td>\n",
       "      <td>85.568385</td>\n",
       "      <td>1</td>\n",
       "      <td>1</td>\n",
       "      <td>2</td>\n",
       "      <td>1</td>\n",
       "      <td>1</td>\n",
       "      <td>0</td>\n",
       "      <td>2</td>\n",
       "      <td>0</td>\n",
       "      <td>0</td>\n",
       "      <td>1</td>\n",
       "      <td>0</td>\n",
       "      <td>0</td>\n",
       "      <td>0</td>\n",
       "    </tr>\n",
       "    <tr>\n",
       "      <th>382</th>\n",
       "      <td>0</td>\n",
       "      <td>18.530840</td>\n",
       "      <td>1.573816</td>\n",
       "      <td>39.850137</td>\n",
       "      <td>0</td>\n",
       "      <td>1</td>\n",
       "      <td>1</td>\n",
       "      <td>1</td>\n",
       "      <td>1</td>\n",
       "      <td>0</td>\n",
       "      <td>1</td>\n",
       "      <td>0</td>\n",
       "      <td>0</td>\n",
       "      <td>2</td>\n",
       "      <td>1</td>\n",
       "      <td>0</td>\n",
       "      <td>1</td>\n",
       "    </tr>\n",
       "    <tr>\n",
       "      <th>584</th>\n",
       "      <td>0</td>\n",
       "      <td>25.999636</td>\n",
       "      <td>1.610126</td>\n",
       "      <td>102.686908</td>\n",
       "      <td>1</td>\n",
       "      <td>1</td>\n",
       "      <td>3</td>\n",
       "      <td>3</td>\n",
       "      <td>1</td>\n",
       "      <td>0</td>\n",
       "      <td>1</td>\n",
       "      <td>0</td>\n",
       "      <td>0</td>\n",
       "      <td>1</td>\n",
       "      <td>1</td>\n",
       "      <td>0</td>\n",
       "      <td>2</td>\n",
       "    </tr>\n",
       "    <tr>\n",
       "      <th>1711</th>\n",
       "      <td>1</td>\n",
       "      <td>27.000000</td>\n",
       "      <td>1.930000</td>\n",
       "      <td>102.000000</td>\n",
       "      <td>1</td>\n",
       "      <td>1</td>\n",
       "      <td>2</td>\n",
       "      <td>1</td>\n",
       "      <td>1</td>\n",
       "      <td>0</td>\n",
       "      <td>1</td>\n",
       "      <td>0</td>\n",
       "      <td>1</td>\n",
       "      <td>0</td>\n",
       "      <td>1</td>\n",
       "      <td>0</td>\n",
       "      <td>0</td>\n",
       "    </tr>\n",
       "    <tr>\n",
       "      <th>...</th>\n",
       "      <td>...</td>\n",
       "      <td>...</td>\n",
       "      <td>...</td>\n",
       "      <td>...</td>\n",
       "      <td>...</td>\n",
       "      <td>...</td>\n",
       "      <td>...</td>\n",
       "      <td>...</td>\n",
       "      <td>...</td>\n",
       "      <td>...</td>\n",
       "      <td>...</td>\n",
       "      <td>...</td>\n",
       "      <td>...</td>\n",
       "      <td>...</td>\n",
       "      <td>...</td>\n",
       "      <td>...</td>\n",
       "      <td>...</td>\n",
       "    </tr>\n",
       "    <tr>\n",
       "      <th>1638</th>\n",
       "      <td>0</td>\n",
       "      <td>26.208134</td>\n",
       "      <td>1.700000</td>\n",
       "      <td>78.041338</td>\n",
       "      <td>1</td>\n",
       "      <td>1</td>\n",
       "      <td>2</td>\n",
       "      <td>3</td>\n",
       "      <td>1</td>\n",
       "      <td>0</td>\n",
       "      <td>2</td>\n",
       "      <td>0</td>\n",
       "      <td>0</td>\n",
       "      <td>0</td>\n",
       "      <td>2</td>\n",
       "      <td>2</td>\n",
       "      <td>0</td>\n",
       "    </tr>\n",
       "    <tr>\n",
       "      <th>1095</th>\n",
       "      <td>0</td>\n",
       "      <td>21.000000</td>\n",
       "      <td>1.754497</td>\n",
       "      <td>77.956921</td>\n",
       "      <td>1</td>\n",
       "      <td>1</td>\n",
       "      <td>2</td>\n",
       "      <td>2</td>\n",
       "      <td>1</td>\n",
       "      <td>0</td>\n",
       "      <td>1</td>\n",
       "      <td>0</td>\n",
       "      <td>0</td>\n",
       "      <td>1</td>\n",
       "      <td>1</td>\n",
       "      <td>0</td>\n",
       "      <td>0</td>\n",
       "    </tr>\n",
       "    <tr>\n",
       "      <th>1130</th>\n",
       "      <td>1</td>\n",
       "      <td>23.254934</td>\n",
       "      <td>1.847530</td>\n",
       "      <td>122.062610</td>\n",
       "      <td>1</td>\n",
       "      <td>1</td>\n",
       "      <td>3</td>\n",
       "      <td>2</td>\n",
       "      <td>1</td>\n",
       "      <td>0</td>\n",
       "      <td>1</td>\n",
       "      <td>0</td>\n",
       "      <td>0</td>\n",
       "      <td>0</td>\n",
       "      <td>1</td>\n",
       "      <td>0</td>\n",
       "      <td>2</td>\n",
       "    </tr>\n",
       "    <tr>\n",
       "      <th>1294</th>\n",
       "      <td>0</td>\n",
       "      <td>40.000000</td>\n",
       "      <td>1.561109</td>\n",
       "      <td>62.871794</td>\n",
       "      <td>1</td>\n",
       "      <td>1</td>\n",
       "      <td>2</td>\n",
       "      <td>3</td>\n",
       "      <td>1</td>\n",
       "      <td>0</td>\n",
       "      <td>2</td>\n",
       "      <td>0</td>\n",
       "      <td>0</td>\n",
       "      <td>0</td>\n",
       "      <td>1</td>\n",
       "      <td>2</td>\n",
       "      <td>1</td>\n",
       "    </tr>\n",
       "    <tr>\n",
       "      <th>860</th>\n",
       "      <td>1</td>\n",
       "      <td>33.000000</td>\n",
       "      <td>1.850000</td>\n",
       "      <td>93.000000</td>\n",
       "      <td>1</td>\n",
       "      <td>1</td>\n",
       "      <td>2</td>\n",
       "      <td>3</td>\n",
       "      <td>1</td>\n",
       "      <td>0</td>\n",
       "      <td>1</td>\n",
       "      <td>0</td>\n",
       "      <td>1</td>\n",
       "      <td>1</td>\n",
       "      <td>1</td>\n",
       "      <td>1</td>\n",
       "      <td>0</td>\n",
       "    </tr>\n",
       "  </tbody>\n",
       "</table>\n",
       "<p>2087 rows × 17 columns</p>\n",
       "</div>"
      ],
      "text/plain": [
       "      Gender        Age    Height      Weight  family_history_with_overweight  \\\n",
       "1313       0  18.000000  1.630000   63.000000                               1   \n",
       "1739       0  22.847618  1.669136   85.568385                               1   \n",
       "382        0  18.530840  1.573816   39.850137                               0   \n",
       "584        0  25.999636  1.610126  102.686908                               1   \n",
       "1711       1  27.000000  1.930000  102.000000                               1   \n",
       "...      ...        ...       ...         ...                             ...   \n",
       "1638       0  26.208134  1.700000   78.041338                               1   \n",
       "1095       0  21.000000  1.754497   77.956921                               1   \n",
       "1130       1  23.254934  1.847530  122.062610                               1   \n",
       "1294       0  40.000000  1.561109   62.871794                               1   \n",
       "860        1  33.000000  1.850000   93.000000                               1   \n",
       "\n",
       "      FAVC  FCVC  NCP  CAEC  SMOKE  CH2O  SCC  FAF  TUE  CALC  MTRANS  Target  \n",
       "1313     1     1    3     1      0     2    0    2    2     1       0       1  \n",
       "1739     1     2    1     1      0     2    0    0    1     0       0       0  \n",
       "382      1     1    1     1      0     1    0    0    2     1       0       1  \n",
       "584      1     3    3     1      0     1    0    0    1     1       0       2  \n",
       "1711     1     2    1     1      0     1    0    1    0     1       0       0  \n",
       "...    ...   ...  ...   ...    ...   ...  ...  ...  ...   ...     ...     ...  \n",
       "1638     1     2    3     1      0     2    0    0    0     2       2       0  \n",
       "1095     1     2    2     1      0     1    0    0    1     1       0       0  \n",
       "1130     1     3    2     1      0     1    0    0    0     1       0       2  \n",
       "1294     1     2    3     1      0     2    0    0    0     1       2       1  \n",
       "860      1     2    3     1      0     1    0    1    1     1       1       0  \n",
       "\n",
       "[2087 rows x 17 columns]"
      ]
     },
     "execution_count": 46,
     "metadata": {},
     "output_type": "execute_result"
    }
   ],
   "source": [
    "data"
   ]
  },
  {
   "cell_type": "code",
   "execution_count": null,
   "id": "73e24fe9-2dd6-424d-8ec7-a312638085fa",
   "metadata": {},
   "outputs": [],
   "source": []
  }
 ],
 "metadata": {
  "kernelspec": {
   "display_name": "Python 3 (ipykernel)",
   "language": "python",
   "name": "python3"
  },
  "language_info": {
   "codemirror_mode": {
    "name": "ipython",
    "version": 3
   },
   "file_extension": ".py",
   "mimetype": "text/x-python",
   "name": "python",
   "nbconvert_exporter": "python",
   "pygments_lexer": "ipython3",
   "version": "3.8.15"
  }
 },
 "nbformat": 4,
 "nbformat_minor": 5
}
