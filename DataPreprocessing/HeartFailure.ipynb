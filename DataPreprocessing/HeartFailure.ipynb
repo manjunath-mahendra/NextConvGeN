{
 "cells": [
  {
   "cell_type": "markdown",
   "id": "a5ab3377-1363-4ab6-b4f1-564b2a386d40",
   "metadata": {},
   "source": [
    "## HeartFailure data preprocessing"
   ]
  },
  {
   "cell_type": "markdown",
   "id": "85f5f148-9358-459d-a023-3c3ab9b5bf38",
   "metadata": {},
   "source": [
    "### Importing necessary libraries"
   ]
  },
  {
   "cell_type": "code",
   "execution_count": 1,
   "id": "eff8b7a9-2ed9-46c3-a59f-6258ac1fd08b",
   "metadata": {
    "execution": {
     "iopub.execute_input": "2024-01-31T11:57:00.722806Z",
     "iopub.status.busy": "2024-01-31T11:57:00.721903Z",
     "iopub.status.idle": "2024-01-31T11:57:00.742084Z",
     "shell.execute_reply": "2024-01-31T11:57:00.741616Z"
    }
   },
   "outputs": [],
   "source": [
    "import os\n",
    "import sys\n",
    "current_directory=os.getcwd()\n",
    "parent_directory=os.path.dirname(current_directory)\n",
    "sys.path.append(parent_directory)\n"
   ]
  },
  {
   "cell_type": "code",
   "execution_count": 2,
   "id": "56b80e0e-b49b-4238-85be-28b96923aeb4",
   "metadata": {
    "execution": {
     "iopub.execute_input": "2024-01-31T11:57:00.744441Z",
     "iopub.status.busy": "2024-01-31T11:57:00.744290Z",
     "iopub.status.idle": "2024-01-31T11:57:02.326824Z",
     "shell.execute_reply": "2024-01-31T11:57:02.326269Z"
    },
    "tags": []
   },
   "outputs": [
    {
     "name": "stderr",
     "output_type": "stream",
     "text": [
      "2024-01-31 11:57:01.020188: W tensorflow/stream_executor/platform/default/dso_loader.cc:64] Could not load dynamic library 'libcudart.so.11.0'; dlerror: libcudart.so.11.0: cannot open shared object file: No such file or directory\n",
      "2024-01-31 11:57:01.020207: I tensorflow/stream_executor/cuda/cudart_stub.cc:29] Ignore above cudart dlerror if you do not have a GPU set up on your machine.\n"
     ]
    }
   ],
   "source": [
    "import numpy as np\n",
    "from library.generators.NextConvGeN import NextConvGeN\n"
   ]
  },
  {
   "cell_type": "code",
   "execution_count": 3,
   "id": "60a37ac3-8400-4930-9b8d-f50e51befb9f",
   "metadata": {
    "execution": {
     "iopub.execute_input": "2024-01-31T11:57:02.329119Z",
     "iopub.status.busy": "2024-01-31T11:57:02.328875Z",
     "iopub.status.idle": "2024-01-31T11:57:05.138372Z",
     "shell.execute_reply": "2024-01-31T11:57:05.137849Z"
    }
   },
   "outputs": [],
   "source": [
    "from fdc.fdc import feature_clustering, canberra_modified, Clustering, FDC\n",
    "from fdc.clustering import *"
   ]
  },
  {
   "cell_type": "code",
   "execution_count": 4,
   "id": "24a06985-a202-46b5-93db-f92a3ded0673",
   "metadata": {
    "execution": {
     "iopub.execute_input": "2024-01-31T11:57:05.140551Z",
     "iopub.status.busy": "2024-01-31T11:57:05.140403Z",
     "iopub.status.idle": "2024-01-31T11:57:05.142688Z",
     "shell.execute_reply": "2024-01-31T11:57:05.142351Z"
    }
   },
   "outputs": [],
   "source": [
    "import pandas as pd"
   ]
  },
  {
   "cell_type": "code",
   "execution_count": 5,
   "id": "c8588ee3-e794-4a68-af35-fe499261f72d",
   "metadata": {
    "execution": {
     "iopub.execute_input": "2024-01-31T11:57:05.144609Z",
     "iopub.status.busy": "2024-01-31T11:57:05.144305Z",
     "iopub.status.idle": "2024-01-31T11:57:05.146635Z",
     "shell.execute_reply": "2024-01-31T11:57:05.146302Z"
    }
   },
   "outputs": [],
   "source": [
    "import pandas as pd\n",
    "import matplotlib.pyplot as plt\n",
    "from sklearn.cluster import KMeans\n",
    "from sklearn.metrics import silhouette_score"
   ]
  },
  {
   "cell_type": "markdown",
   "id": "01d3d86f-4e08-4be3-bba9-e2f7b9202670",
   "metadata": {},
   "source": [
    "### Importing data"
   ]
  },
  {
   "cell_type": "code",
   "execution_count": 6,
   "id": "53e069b3-8bcc-46b0-852b-2a504e21197e",
   "metadata": {
    "execution": {
     "iopub.execute_input": "2024-01-31T11:57:05.148574Z",
     "iopub.status.busy": "2024-01-31T11:57:05.148309Z",
     "iopub.status.idle": "2024-01-31T11:57:05.152333Z",
     "shell.execute_reply": "2024-01-31T11:57:05.151957Z"
    }
   },
   "outputs": [],
   "source": [
    "data=pd.read_csv('heart_failure_clinical_records_dataset.csv')"
   ]
  },
  {
   "cell_type": "code",
   "execution_count": 7,
   "id": "2df57461-99ed-4080-be92-9109d5913851",
   "metadata": {
    "execution": {
     "iopub.execute_input": "2024-01-31T11:57:05.154236Z",
     "iopub.status.busy": "2024-01-31T11:57:05.153940Z",
     "iopub.status.idle": "2024-01-31T11:57:05.156345Z",
     "shell.execute_reply": "2024-01-31T11:57:05.156013Z"
    }
   },
   "outputs": [],
   "source": [
    "np.random.seed(42)\n",
    "data=data.sample(frac=1)"
   ]
  },
  {
   "cell_type": "code",
   "execution_count": 8,
   "id": "e633073d-271c-450a-87f9-a61755e2f011",
   "metadata": {
    "execution": {
     "iopub.execute_input": "2024-01-31T11:57:05.158294Z",
     "iopub.status.busy": "2024-01-31T11:57:05.157980Z",
     "iopub.status.idle": "2024-01-31T11:57:05.161690Z",
     "shell.execute_reply": "2024-01-31T11:57:05.161319Z"
    }
   },
   "outputs": [],
   "source": [
    "data.drop_duplicates(inplace=True, ignore_index=True)"
   ]
  },
  {
   "cell_type": "code",
   "execution_count": 9,
   "id": "d81fd1ac-f5f9-4e12-8358-fbbbc70b10ca",
   "metadata": {
    "execution": {
     "iopub.execute_input": "2024-01-31T11:57:05.163707Z",
     "iopub.status.busy": "2024-01-31T11:57:05.163338Z",
     "iopub.status.idle": "2024-01-31T11:57:05.167186Z",
     "shell.execute_reply": "2024-01-31T11:57:05.166813Z"
    },
    "tags": []
   },
   "outputs": [],
   "source": [
    "output_file_path=os.path.join(parent_directory,\"PreprocessedDatasets/HeartFailure.csv\")\n",
    "data.to_csv(output_file_path, index=False)"
   ]
  },
  {
   "cell_type": "code",
   "execution_count": 10,
   "id": "66aba52c-45d5-4708-a1d1-875deb72d191",
   "metadata": {
    "execution": {
     "iopub.execute_input": "2024-01-31T11:57:05.169127Z",
     "iopub.status.busy": "2024-01-31T11:57:05.168793Z",
     "iopub.status.idle": "2024-01-31T11:57:05.173268Z",
     "shell.execute_reply": "2024-01-31T11:57:05.172940Z"
    }
   },
   "outputs": [
    {
     "data": {
      "text/plain": [
       "0    203\n",
       "1     96\n",
       "Name: DEATH_EVENT, dtype: int64"
      ]
     },
     "execution_count": 10,
     "metadata": {},
     "output_type": "execute_result"
    }
   ],
   "source": [
    "data['DEATH_EVENT'].value_counts()"
   ]
  },
  {
   "cell_type": "code",
   "execution_count": 11,
   "id": "8aebf9eb-e0b3-40db-bcd0-bfc400e004ce",
   "metadata": {
    "execution": {
     "iopub.execute_input": "2024-01-31T11:57:05.193014Z",
     "iopub.status.busy": "2024-01-31T11:57:05.192429Z",
     "iopub.status.idle": "2024-01-31T11:57:05.201563Z",
     "shell.execute_reply": "2024-01-31T11:57:05.199973Z"
    }
   },
   "outputs": [],
   "source": [
    "data.drop(['DEATH_EVENT'],axis=1, inplace=True)"
   ]
  },
  {
   "cell_type": "code",
   "execution_count": 12,
   "id": "f6585796-c7c5-4f06-a1f4-5f5aea784e42",
   "metadata": {
    "execution": {
     "iopub.execute_input": "2024-01-31T11:57:05.208004Z",
     "iopub.status.busy": "2024-01-31T11:57:05.207480Z",
     "iopub.status.idle": "2024-01-31T11:57:05.215198Z",
     "shell.execute_reply": "2024-01-31T11:57:05.213651Z"
    }
   },
   "outputs": [],
   "source": [
    "np.random.seed(42)\n",
    "data=data.sample(frac=1)"
   ]
  },
  {
   "cell_type": "code",
   "execution_count": 13,
   "id": "daf17014-4a05-4b90-9cc0-a83fdbb478db",
   "metadata": {
    "execution": {
     "iopub.execute_input": "2024-01-31T11:57:05.221336Z",
     "iopub.status.busy": "2024-01-31T11:57:05.220823Z",
     "iopub.status.idle": "2024-01-31T11:57:05.227704Z",
     "shell.execute_reply": "2024-01-31T11:57:05.226359Z"
    }
   },
   "outputs": [],
   "source": [
    "values= ['age','creatinine_phosphokinase','ejection_fraction','platelets','serum_creatinine','serum_sodium','time','anaemia','diabetes','high_blood_pressure','sex','smoking']"
   ]
  },
  {
   "cell_type": "code",
   "execution_count": 14,
   "id": "f6300ef8-de66-4ac7-81f9-4abeba0e2910",
   "metadata": {
    "execution": {
     "iopub.execute_input": "2024-01-31T11:57:05.233875Z",
     "iopub.status.busy": "2024-01-31T11:57:05.233339Z",
     "iopub.status.idle": "2024-01-31T11:57:05.241504Z",
     "shell.execute_reply": "2024-01-31T11:57:05.239986Z"
    }
   },
   "outputs": [],
   "source": [
    "data=data[values]"
   ]
  },
  {
   "cell_type": "markdown",
   "id": "b660f1df-14b8-462c-a36c-5718f1881bda",
   "metadata": {},
   "source": [
    "### UMAP on entire data"
   ]
  },
  {
   "cell_type": "code",
   "execution_count": 15,
   "id": "2326c5ac-3967-4a6e-8488-dd1dd29796e3",
   "metadata": {
    "execution": {
     "iopub.execute_input": "2024-01-31T11:57:05.247929Z",
     "iopub.status.busy": "2024-01-31T11:57:05.247407Z",
     "iopub.status.idle": "2024-01-31T11:57:05.253740Z",
     "shell.execute_reply": "2024-01-31T11:57:05.252404Z"
    }
   },
   "outputs": [],
   "source": [
    "from fdc.fdc import feature_clustering"
   ]
  },
  {
   "cell_type": "code",
   "execution_count": 16,
   "id": "4f208ccd-b32d-4a0c-b8be-e6edf64b5664",
   "metadata": {
    "execution": {
     "iopub.execute_input": "2024-01-31T11:57:05.259763Z",
     "iopub.status.busy": "2024-01-31T11:57:05.259246Z",
     "iopub.status.idle": "2024-01-31T11:57:09.728067Z",
     "shell.execute_reply": "2024-01-31T11:57:09.727588Z"
    }
   },
   "outputs": [
    {
     "data": {
      "image/png": "[encoded data removed]",
      "text/plain": [
       "<Figure size 500x500 with 1 Axes>"
      ]
     },
     "metadata": {},
     "output_type": "display_data"
    }
   ],
   "source": [
    "np.random.seed(42)\n",
    "umap_emb=feature_clustering(30,0.1,'euclidean',data,True)"
   ]
  },
  {
   "cell_type": "markdown",
   "id": "f0068723-e652-4358-a2c4-761f5e1833d8",
   "metadata": {},
   "source": [
    "### Feature-type Distributed Clustering (FDC)"
   ]
  },
  {
   "cell_type": "code",
   "execution_count": 17,
   "id": "d91f3053-c382-490a-9c6a-e3925f5d0660",
   "metadata": {
    "execution": {
     "iopub.execute_input": "2024-01-31T11:57:09.730184Z",
     "iopub.status.busy": "2024-01-31T11:57:09.730021Z",
     "iopub.status.idle": "2024-01-31T11:57:09.732843Z",
     "shell.execute_reply": "2024-01-31T11:57:09.732398Z"
    }
   },
   "outputs": [],
   "source": [
    "cont_list = ['age','creatinine_phosphokinase','ejection_fraction','platelets','serum_creatinine','serum_sodium','time']\n",
    "\n",
    "ord_list = ['anaemia','diabetes','high_blood_pressure','sex','smoking']\n",
    "\n",
    "nom_list = None\n",
    "\n",
    "target = ['DEATH_EVENT']\n"
   ]
  },
  {
   "cell_type": "code",
   "execution_count": 18,
   "id": "2e9a0102-2e1a-42ca-87e6-957f8c44e0b0",
   "metadata": {
    "execution": {
     "iopub.execute_input": "2024-01-31T11:57:09.734780Z",
     "iopub.status.busy": "2024-01-31T11:57:09.734524Z",
     "iopub.status.idle": "2024-01-31T11:57:09.736812Z",
     "shell.execute_reply": "2024-01-31T11:57:09.736477Z"
    }
   },
   "outputs": [],
   "source": [
    "output_file_path=os.path.join(parent_directory,\"PreprocessedDatasets/HeartFailure.json\")"
   ]
  },
  {
   "cell_type": "code",
   "execution_count": 19,
   "id": "e535f373-b83e-491b-bef9-70aa19eb2d72",
   "metadata": {
    "execution": {
     "iopub.execute_input": "2024-01-31T11:57:09.738608Z",
     "iopub.status.busy": "2024-01-31T11:57:09.738469Z",
     "iopub.status.idle": "2024-01-31T11:57:09.741230Z",
     "shell.execute_reply": "2024-01-31T11:57:09.740897Z"
    }
   },
   "outputs": [],
   "source": [
    "import json\n",
    "\n",
    "features = {\n",
    "    \"cont_list\": cont_list,\n",
    "    \"nom_list\": nom_list,\n",
    "    \"ord_list\": ord_list,\n",
    "    \"target\": target\n",
    "}\n",
    "\n",
    "with open(output_file_path, \"w\") as json_file:\n",
    "    json.dump(features, json_file)"
   ]
  },
  {
   "cell_type": "code",
   "execution_count": 20,
   "id": "8597d25f-470b-41c5-8353-05f15421e850",
   "metadata": {
    "execution": {
     "iopub.execute_input": "2024-01-31T11:57:09.743165Z",
     "iopub.status.busy": "2024-01-31T11:57:09.742855Z",
     "iopub.status.idle": "2024-01-31T11:57:13.814659Z",
     "shell.execute_reply": "2024-01-31T11:57:13.814162Z"
    }
   },
   "outputs": [
    {
     "name": "stdout",
     "output_type": "stream",
     "text": [
      "FDC.normalize (init): 0.00001 / 0.000s\n"
     ]
    },
    {
     "name": "stdout",
     "output_type": "stream",
     "text": [
      "FDC.normalize (clustering CONT): 0.97407 / 0.974s\n"
     ]
    },
    {
     "name": "stdout",
     "output_type": "stream",
     "text": [
      "FDC.normalize (clustering ORD): 2.46024 / 3.434s\n",
      "FDC.normalize (clustering NOM): 0.00006 / 3.434s\n",
      "FDC.normalize (concat): 0.00002 / 3.434s\n"
     ]
    },
    {
     "name": "stdout",
     "output_type": "stream",
     "text": [
      "FDC.normalize (umap 5 -> 2): 1.07814 / 4.513s\n",
      "FDC.normalize (array -> DataFrame): 0.00029 / 4.513s\n"
     ]
    },
    {
     "data": {
      "image/png": "[encoded data removed]",
      "text/plain": [
       "<Figure size 500x500 with 1 Axes>"
      ]
     },
     "metadata": {},
     "output_type": "display_data"
    },
    {
     "name": "stdout",
     "output_type": "stream",
     "text": [
      "FDC.normalize (plotting): 0.42537 / 4.938s\n",
      "FDC.normalize (array -> DataFrame): 0.00019 / 4.938s\n",
      "FDC.normalize (total): 0.00001 / 4.938s\n"
     ]
    }
   ],
   "source": [
    "from fdc.fdc import feature_clustering, canberra_modified, Clustering, FDC\n",
    "np.random.seed(42)\n",
    "\n",
    "fdc = FDC(clustering_cont=Clustering('euclidean',30,0.01)\n",
    "          , clustering_ord=Clustering(canberra_modified,30,0.01)\n",
    "          , visual=True\n",
    "          , use_pandas_output=True\n",
    "          , with_2d_embedding=True\n",
    "          )\n",
    "\n",
    "fdc.selectFeatures(continueous=cont_list, ordinal=ord_list)\n",
    "\n",
    "FDC_emb_high,FDC_emb_low = fdc.normalize(data,cont_list=cont_list, ord_list=ord_list,\n",
    "                  with_2d_embedding=True,\n",
    "                  visual=True)"
   ]
  },
  {
   "cell_type": "markdown",
   "id": "c463a715-9608-4325-b72b-b710e1ccb589",
   "metadata": {},
   "source": [
    "### Clustering using K-means"
   ]
  },
  {
   "cell_type": "code",
   "execution_count": 21,
   "id": "a134fdf7-6507-4a33-b163-23f72cc2a074",
   "metadata": {
    "execution": {
     "iopub.execute_input": "2024-01-31T11:57:13.816746Z",
     "iopub.status.busy": "2024-01-31T11:57:13.816598Z",
     "iopub.status.idle": "2024-01-31T11:57:14.152052Z",
     "shell.execute_reply": "2024-01-31T11:57:14.151512Z"
    },
    "tags": []
   },
   "outputs": [
    {
     "data": {
      "image/png": "[encoded data removed]",
      "text/plain": [
       "<Figure size 640x480 with 1 Axes>"
      ]
     },
     "metadata": {},
     "output_type": "display_data"
    }
   ],
   "source": [
    "kmeans_kwargs = {\n",
    "\"init\": \"random\",\n",
    "\"n_init\": 10,\n",
    "\"random_state\": 1,\n",
    "}\n",
    "\n",
    "#create list to hold SSE values for each k\n",
    "sse = []\n",
    "for k in range(1, 11):\n",
    "    kmeans = KMeans(n_clusters=k, **kmeans_kwargs)\n",
    "    kmeans.fit(FDC_emb_low)\n",
    "    sse.append(kmeans.inertia_)\n",
    "\n",
    "#visualize results\n",
    "plt.plot(range(1, 11), sse)\n",
    "plt.xticks(range(1, 11))\n",
    "plt.xlabel(\"Number of Clusters\")\n",
    "plt.ylabel(\"SSE\")\n",
    "plt.show()"
   ]
  },
  {
   "cell_type": "code",
   "execution_count": 22,
   "id": "dc0e649f",
   "metadata": {
    "execution": {
     "iopub.execute_input": "2024-01-31T11:57:14.154081Z",
     "iopub.status.busy": "2024-01-31T11:57:14.153893Z",
     "iopub.status.idle": "2024-01-31T11:57:14.157428Z",
     "shell.execute_reply": "2024-01-31T11:57:14.156985Z"
    }
   },
   "outputs": [],
   "source": [
    "def find_optimal_cluster(FDC_emb_low):\n",
    "    silhouette_scores = []\n",
    "\n",
    "    for n_clusters in list(range(2, 9)):\n",
    "        km = KMeans(n_clusters=n_clusters, init='k-means++', n_init=10, max_iter=100, random_state=42)\n",
    "\n",
    "        km.fit(FDC_emb_low)\n",
    "\n",
    "        labels = km.labels_\n",
    "\n",
    "        # Compute the silhouette score\n",
    "        silhouette_avg = silhouette_score(FDC_emb_low, labels)\n",
    "        silhouette_scores.append(silhouette_avg)\n",
    "    return silhouette_scores"
   ]
  },
  {
   "cell_type": "code",
   "execution_count": 23,
   "id": "3257ae7b",
   "metadata": {
    "execution": {
     "iopub.execute_input": "2024-01-31T11:57:14.159185Z",
     "iopub.status.busy": "2024-01-31T11:57:14.159012Z",
     "iopub.status.idle": "2024-01-31T11:57:14.324856Z",
     "shell.execute_reply": "2024-01-31T11:57:14.324387Z"
    },
    "scrolled": true,
    "tags": []
   },
   "outputs": [
    {
     "data": {
      "text/plain": [
       "[0.8093839,\n",
       " 0.7952037,\n",
       " 0.6016418,\n",
       " 0.57500845,\n",
       " 0.60027826,\n",
       " 0.5727354,\n",
       " 0.57474554]"
      ]
     },
     "execution_count": 23,
     "metadata": {},
     "output_type": "execute_result"
    }
   ],
   "source": [
    "find_optimal_cluster(FDC_emb_low)"
   ]
  },
  {
   "cell_type": "code",
   "execution_count": 24,
   "id": "80dbc9a4-8997-42d2-b4fd-49515bb2f8c1",
   "metadata": {
    "execution": {
     "iopub.execute_input": "2024-01-31T11:57:14.327211Z",
     "iopub.status.busy": "2024-01-31T11:57:14.326904Z",
     "iopub.status.idle": "2024-01-31T11:57:14.626482Z",
     "shell.execute_reply": "2024-01-31T11:57:14.625991Z"
    },
    "scrolled": true
   },
   "outputs": [
    {
     "data": {
      "image/png": "[encoded data removed]",
      "text/plain": [
       "<Figure size 560.361x500 with 1 Axes>"
      ]
     },
     "metadata": {},
     "output_type": "display_data"
    }
   ],
   "source": [
    "from fdc.clustering import *\n",
    "np.random.seed(42)\n",
    "clustering=Clustering(FDC_emb_low,FDC_emb_low,True)\n",
    "cluster_list,cluster_counts=clustering.K_means(2)"
   ]
  },
  {
   "cell_type": "code",
   "execution_count": 25,
   "id": "c2f410a1",
   "metadata": {
    "execution": {
     "iopub.execute_input": "2024-01-31T11:57:14.628474Z",
     "iopub.status.busy": "2024-01-31T11:57:14.628295Z",
     "iopub.status.idle": "2024-01-31T11:57:14.631238Z",
     "shell.execute_reply": "2024-01-31T11:57:14.630901Z"
    }
   },
   "outputs": [
    {
     "data": {
      "text/plain": [
       "array([146, 153])"
      ]
     },
     "execution_count": 25,
     "metadata": {},
     "output_type": "execute_result"
    }
   ],
   "source": [
    "cluster_counts"
   ]
  },
  {
   "cell_type": "code",
   "execution_count": 26,
   "id": "250dd725-ecae-4e4d-a125-45a3d64840ab",
   "metadata": {
    "execution": {
     "iopub.execute_input": "2024-01-31T11:57:14.633145Z",
     "iopub.status.busy": "2024-01-31T11:57:14.632841Z",
     "iopub.status.idle": "2024-01-31T11:57:14.635254Z",
     "shell.execute_reply": "2024-01-31T11:57:14.634915Z"
    }
   },
   "outputs": [],
   "source": [
    "data['Target']=cluster_list"
   ]
  },
  {
   "cell_type": "code",
   "execution_count": 27,
   "id": "45fb9cab-6d92-4db5-8db5-70a64bd4c979",
   "metadata": {
    "execution": {
     "iopub.execute_input": "2024-01-31T11:57:14.637056Z",
     "iopub.status.busy": "2024-01-31T11:57:14.636833Z",
     "iopub.status.idle": "2024-01-31T11:57:14.640531Z",
     "shell.execute_reply": "2024-01-31T11:57:14.640152Z"
    },
    "tags": []
   },
   "outputs": [],
   "source": [
    "output_file_path=os.path.join(parent_directory,\"PreprocessedDatasets/SSHeartFailure.csv\")\n",
    "data.to_csv(output_file_path, index=False)"
   ]
  },
  {
   "cell_type": "code",
   "execution_count": 28,
   "id": "7bf92e7b-36ed-4d66-8f6a-11beb2defba4",
   "metadata": {
    "execution": {
     "iopub.execute_input": "2024-01-31T11:57:14.642398Z",
     "iopub.status.busy": "2024-01-31T11:57:14.642175Z",
     "iopub.status.idle": "2024-01-31T11:57:14.653046Z",
     "shell.execute_reply": "2024-01-31T11:57:14.652705Z"
    }
   },
   "outputs": [
    {
     "data": {
      "text/html": [
       "<div>\n",
       "<style scoped>\n",
       "    .dataframe tbody tr th:only-of-type {\n",
       "        vertical-align: middle;\n",
       "    }\n",
       "\n",
       "    .dataframe tbody tr th {\n",
       "        vertical-align: top;\n",
       "    }\n",
       "\n",
       "    .dataframe thead th {\n",
       "        text-align: right;\n",
       "    }\n",
       "</style>\n",
       "<table border=\"1\" class=\"dataframe\">\n",
       "  <thead>\n",
       "    <tr style=\"text-align: right;\">\n",
       "      <th></th>\n",
       "      <th>age</th>\n",
       "      <th>creatinine_phosphokinase</th>\n",
       "      <th>ejection_fraction</th>\n",
       "      <th>platelets</th>\n",
       "      <th>serum_creatinine</th>\n",
       "      <th>serum_sodium</th>\n",
       "      <th>time</th>\n",
       "      <th>anaemia</th>\n",
       "      <th>diabetes</th>\n",
       "      <th>high_blood_pressure</th>\n",
       "      <th>sex</th>\n",
       "      <th>smoking</th>\n",
       "      <th>Target</th>\n",
       "    </tr>\n",
       "  </thead>\n",
       "  <tbody>\n",
       "    <tr>\n",
       "      <th>281</th>\n",
       "      <td>66.0</td>\n",
       "      <td>72</td>\n",
       "      <td>40</td>\n",
       "      <td>242000.0</td>\n",
       "      <td>1.2</td>\n",
       "      <td>134</td>\n",
       "      <td>121</td>\n",
       "      <td>1</td>\n",
       "      <td>0</td>\n",
       "      <td>1</td>\n",
       "      <td>1</td>\n",
       "      <td>0</td>\n",
       "      <td>0</td>\n",
       "    </tr>\n",
       "    <tr>\n",
       "      <th>265</th>\n",
       "      <td>63.0</td>\n",
       "      <td>103</td>\n",
       "      <td>35</td>\n",
       "      <td>179000.0</td>\n",
       "      <td>0.9</td>\n",
       "      <td>136</td>\n",
       "      <td>270</td>\n",
       "      <td>1</td>\n",
       "      <td>1</td>\n",
       "      <td>0</td>\n",
       "      <td>1</td>\n",
       "      <td>1</td>\n",
       "      <td>0</td>\n",
       "    </tr>\n",
       "    <tr>\n",
       "      <th>164</th>\n",
       "      <td>72.0</td>\n",
       "      <td>211</td>\n",
       "      <td>25</td>\n",
       "      <td>274000.0</td>\n",
       "      <td>1.2</td>\n",
       "      <td>134</td>\n",
       "      <td>207</td>\n",
       "      <td>0</td>\n",
       "      <td>0</td>\n",
       "      <td>0</td>\n",
       "      <td>0</td>\n",
       "      <td>0</td>\n",
       "      <td>1</td>\n",
       "    </tr>\n",
       "    <tr>\n",
       "      <th>9</th>\n",
       "      <td>50.0</td>\n",
       "      <td>115</td>\n",
       "      <td>20</td>\n",
       "      <td>189000.0</td>\n",
       "      <td>0.8</td>\n",
       "      <td>139</td>\n",
       "      <td>146</td>\n",
       "      <td>1</td>\n",
       "      <td>0</td>\n",
       "      <td>0</td>\n",
       "      <td>1</td>\n",
       "      <td>0</td>\n",
       "      <td>0</td>\n",
       "    </tr>\n",
       "    <tr>\n",
       "      <th>77</th>\n",
       "      <td>42.0</td>\n",
       "      <td>250</td>\n",
       "      <td>15</td>\n",
       "      <td>213000.0</td>\n",
       "      <td>1.3</td>\n",
       "      <td>136</td>\n",
       "      <td>65</td>\n",
       "      <td>1</td>\n",
       "      <td>1</td>\n",
       "      <td>0</td>\n",
       "      <td>0</td>\n",
       "      <td>0</td>\n",
       "      <td>0</td>\n",
       "    </tr>\n",
       "    <tr>\n",
       "      <th>...</th>\n",
       "      <td>...</td>\n",
       "      <td>...</td>\n",
       "      <td>...</td>\n",
       "      <td>...</td>\n",
       "      <td>...</td>\n",
       "      <td>...</td>\n",
       "      <td>...</td>\n",
       "      <td>...</td>\n",
       "      <td>...</td>\n",
       "      <td>...</td>\n",
       "      <td>...</td>\n",
       "      <td>...</td>\n",
       "      <td>...</td>\n",
       "    </tr>\n",
       "    <tr>\n",
       "      <th>188</th>\n",
       "      <td>50.0</td>\n",
       "      <td>318</td>\n",
       "      <td>40</td>\n",
       "      <td>216000.0</td>\n",
       "      <td>2.3</td>\n",
       "      <td>131</td>\n",
       "      <td>60</td>\n",
       "      <td>0</td>\n",
       "      <td>0</td>\n",
       "      <td>1</td>\n",
       "      <td>0</td>\n",
       "      <td>0</td>\n",
       "      <td>0</td>\n",
       "    </tr>\n",
       "    <tr>\n",
       "      <th>71</th>\n",
       "      <td>65.0</td>\n",
       "      <td>56</td>\n",
       "      <td>25</td>\n",
       "      <td>237000.0</td>\n",
       "      <td>5.0</td>\n",
       "      <td>130</td>\n",
       "      <td>207</td>\n",
       "      <td>0</td>\n",
       "      <td>0</td>\n",
       "      <td>0</td>\n",
       "      <td>0</td>\n",
       "      <td>0</td>\n",
       "      <td>0</td>\n",
       "    </tr>\n",
       "    <tr>\n",
       "      <th>106</th>\n",
       "      <td>70.0</td>\n",
       "      <td>125</td>\n",
       "      <td>25</td>\n",
       "      <td>237000.0</td>\n",
       "      <td>1.0</td>\n",
       "      <td>140</td>\n",
       "      <td>15</td>\n",
       "      <td>1</td>\n",
       "      <td>0</td>\n",
       "      <td>1</td>\n",
       "      <td>0</td>\n",
       "      <td>0</td>\n",
       "      <td>0</td>\n",
       "    </tr>\n",
       "    <tr>\n",
       "      <th>270</th>\n",
       "      <td>68.0</td>\n",
       "      <td>577</td>\n",
       "      <td>25</td>\n",
       "      <td>166000.0</td>\n",
       "      <td>1.0</td>\n",
       "      <td>138</td>\n",
       "      <td>43</td>\n",
       "      <td>1</td>\n",
       "      <td>0</td>\n",
       "      <td>1</td>\n",
       "      <td>1</td>\n",
       "      <td>0</td>\n",
       "      <td>0</td>\n",
       "    </tr>\n",
       "    <tr>\n",
       "      <th>102</th>\n",
       "      <td>70.0</td>\n",
       "      <td>171</td>\n",
       "      <td>60</td>\n",
       "      <td>176000.0</td>\n",
       "      <td>1.1</td>\n",
       "      <td>145</td>\n",
       "      <td>146</td>\n",
       "      <td>1</td>\n",
       "      <td>0</td>\n",
       "      <td>1</td>\n",
       "      <td>1</td>\n",
       "      <td>1</td>\n",
       "      <td>0</td>\n",
       "    </tr>\n",
       "  </tbody>\n",
       "</table>\n",
       "<p>299 rows × 13 columns</p>\n",
       "</div>"
      ],
      "text/plain": [
       "      age  creatinine_phosphokinase  ejection_fraction  platelets  \\\n",
       "281  66.0                        72                 40   242000.0   \n",
       "265  63.0                       103                 35   179000.0   \n",
       "164  72.0                       211                 25   274000.0   \n",
       "9    50.0                       115                 20   189000.0   \n",
       "77   42.0                       250                 15   213000.0   \n",
       "..    ...                       ...                ...        ...   \n",
       "188  50.0                       318                 40   216000.0   \n",
       "71   65.0                        56                 25   237000.0   \n",
       "106  70.0                       125                 25   237000.0   \n",
       "270  68.0                       577                 25   166000.0   \n",
       "102  70.0                       171                 60   176000.0   \n",
       "\n",
       "     serum_creatinine  serum_sodium  time  anaemia  diabetes  \\\n",
       "281               1.2           134   121        1         0   \n",
       "265               0.9           136   270        1         1   \n",
       "164               1.2           134   207        0         0   \n",
       "9                 0.8           139   146        1         0   \n",
       "77                1.3           136    65        1         1   \n",
       "..                ...           ...   ...      ...       ...   \n",
       "188               2.3           131    60        0         0   \n",
       "71                5.0           130   207        0         0   \n",
       "106               1.0           140    15        1         0   \n",
       "270               1.0           138    43        1         0   \n",
       "102               1.1           145   146        1         0   \n",
       "\n",
       "     high_blood_pressure  sex  smoking  Target  \n",
       "281                    1    1        0       0  \n",
       "265                    0    1        1       0  \n",
       "164                    0    0        0       1  \n",
       "9                      0    1        0       0  \n",
       "77                     0    0        0       0  \n",
       "..                   ...  ...      ...     ...  \n",
       "188                    1    0        0       0  \n",
       "71                     0    0        0       0  \n",
       "106                    1    0        0       0  \n",
       "270                    1    1        0       0  \n",
       "102                    1    1        1       0  \n",
       "\n",
       "[299 rows x 13 columns]"
      ]
     },
     "execution_count": 28,
     "metadata": {},
     "output_type": "execute_result"
    }
   ],
   "source": [
    "data"
   ]
  },
  {
   "cell_type": "code",
   "execution_count": null,
   "id": "73e24fe9-2dd6-424d-8ec7-a312638085fa",
   "metadata": {},
   "outputs": [],
   "source": []
  }
 ],
 "metadata": {
  "kernelspec": {
   "display_name": "Python 3 (ipykernel)",
   "language": "python",
   "name": "python3"
  },
  "language_info": {
   "codemirror_mode": {
    "name": "ipython",
    "version": 3
   },
   "file_extension": ".py",
   "mimetype": "text/x-python",
   "name": "python",
   "nbconvert_exporter": "python",
   "pygments_lexer": "ipython3",
   "version": "3.8.15"
  }
 },
 "nbformat": 4,
 "nbformat_minor": 5
}
