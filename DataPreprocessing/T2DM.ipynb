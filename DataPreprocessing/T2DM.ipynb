{
 "cells": [
  {
   "cell_type": "markdown",
   "id": "a5ab3377-1363-4ab6-b4f1-564b2a386d40",
   "metadata": {},
   "source": [
    "## HeartFailure data preprocessing"
   ]
  },
  {
   "cell_type": "markdown",
   "id": "85f5f148-9358-459d-a023-3c3ab9b5bf38",
   "metadata": {},
   "source": [
    "### Importing necessary libraries"
   ]
  },
  {
   "cell_type": "code",
   "execution_count": 1,
   "id": "eff8b7a9-2ed9-46c3-a59f-6258ac1fd08b",
   "metadata": {
    "execution": {
     "iopub.execute_input": "2024-01-31T11:59:17.807433Z",
     "iopub.status.busy": "2024-01-31T11:59:17.806613Z",
     "iopub.status.idle": "2024-01-31T11:59:17.830287Z",
     "shell.execute_reply": "2024-01-31T11:59:17.828111Z"
    }
   },
   "outputs": [],
   "source": [
    "import os\n",
    "import sys\n",
    "current_directory=os.getcwd()\n",
    "parent_directory=os.path.dirname(current_directory)\n",
    "sys.path.append(parent_directory)\n"
   ]
  },
  {
   "cell_type": "code",
   "execution_count": 2,
   "id": "5eebe76b-f5c1-4693-b474-bb28a7a7d947",
   "metadata": {
    "execution": {
     "iopub.execute_input": "2024-01-31T11:59:17.839291Z",
     "iopub.status.busy": "2024-01-31T11:59:17.838599Z",
     "iopub.status.idle": "2024-01-31T11:59:17.864086Z",
     "shell.execute_reply": "2024-01-31T11:59:17.862963Z"
    }
   },
   "outputs": [
    {
     "data": {
      "text/plain": [
       "'/home/sbigast1/private/NextConvGeN_benchmarking/NextConvGeN_benchmark'"
      ]
     },
     "execution_count": 2,
     "metadata": {},
     "output_type": "execute_result"
    }
   ],
   "source": [
    "parent_directory"
   ]
  },
  {
   "cell_type": "code",
   "execution_count": 3,
   "id": "56b80e0e-b49b-4238-85be-28b96923aeb4",
   "metadata": {
    "execution": {
     "iopub.execute_input": "2024-01-31T11:59:17.868093Z",
     "iopub.status.busy": "2024-01-31T11:59:17.867799Z",
     "iopub.status.idle": "2024-01-31T11:59:19.430861Z",
     "shell.execute_reply": "2024-01-31T11:59:19.430306Z"
    },
    "tags": []
   },
   "outputs": [
    {
     "name": "stderr",
     "output_type": "stream",
     "text": [
      "2024-01-31 11:59:18.145116: W tensorflow/stream_executor/platform/default/dso_loader.cc:64] Could not load dynamic library 'libcudart.so.11.0'; dlerror: libcudart.so.11.0: cannot open shared object file: No such file or directory\n",
      "2024-01-31 11:59:18.145135: I tensorflow/stream_executor/cuda/cudart_stub.cc:29] Ignore above cudart dlerror if you do not have a GPU set up on your machine.\n"
     ]
    }
   ],
   "source": [
    "import numpy as np\n",
    "from library.generators.NextConvGeN import NextConvGeN\n"
   ]
  },
  {
   "cell_type": "code",
   "execution_count": 4,
   "id": "60a37ac3-8400-4930-9b8d-f50e51befb9f",
   "metadata": {
    "execution": {
     "iopub.execute_input": "2024-01-31T11:59:19.433128Z",
     "iopub.status.busy": "2024-01-31T11:59:19.432883Z",
     "iopub.status.idle": "2024-01-31T11:59:22.247924Z",
     "shell.execute_reply": "2024-01-31T11:59:22.247379Z"
    }
   },
   "outputs": [],
   "source": [
    "from fdc.fdc import feature_clustering, canberra_modified, Clustering, FDC\n",
    "from fdc.clustering import *"
   ]
  },
  {
   "cell_type": "code",
   "execution_count": 5,
   "id": "24a06985-a202-46b5-93db-f92a3ded0673",
   "metadata": {
    "execution": {
     "iopub.execute_input": "2024-01-31T11:59:22.250059Z",
     "iopub.status.busy": "2024-01-31T11:59:22.249916Z",
     "iopub.status.idle": "2024-01-31T11:59:22.252364Z",
     "shell.execute_reply": "2024-01-31T11:59:22.251900Z"
    }
   },
   "outputs": [],
   "source": [
    "import pandas as pd"
   ]
  },
  {
   "cell_type": "code",
   "execution_count": 6,
   "id": "c8588ee3-e794-4a68-af35-fe499261f72d",
   "metadata": {
    "execution": {
     "iopub.execute_input": "2024-01-31T11:59:22.254144Z",
     "iopub.status.busy": "2024-01-31T11:59:22.254009Z",
     "iopub.status.idle": "2024-01-31T11:59:22.256219Z",
     "shell.execute_reply": "2024-01-31T11:59:22.255884Z"
    }
   },
   "outputs": [],
   "source": [
    "import pandas as pd\n",
    "import matplotlib.pyplot as plt\n",
    "from sklearn.cluster import KMeans\n",
    "from sklearn.metrics import silhouette_score"
   ]
  },
  {
   "cell_type": "markdown",
   "id": "01d3d86f-4e08-4be3-bba9-e2f7b9202670",
   "metadata": {},
   "source": [
    "### Importing data"
   ]
  },
  {
   "cell_type": "code",
   "execution_count": 7,
   "id": "53e069b3-8bcc-46b0-852b-2a504e21197e",
   "metadata": {
    "execution": {
     "iopub.execute_input": "2024-01-31T11:59:22.258007Z",
     "iopub.status.busy": "2024-01-31T11:59:22.257874Z",
     "iopub.status.idle": "2024-01-31T11:59:23.459804Z",
     "shell.execute_reply": "2024-01-31T11:59:23.459252Z"
    }
   },
   "outputs": [],
   "source": [
    "data=pd.read_csv('Preprocessed_DM_xx.csv')"
   ]
  },
  {
   "cell_type": "code",
   "execution_count": 8,
   "id": "131748d5-737b-48ef-984e-9445e24cd054",
   "metadata": {
    "execution": {
     "iopub.execute_input": "2024-01-31T11:59:23.461995Z",
     "iopub.status.busy": "2024-01-31T11:59:23.461852Z",
     "iopub.status.idle": "2024-01-31T11:59:24.102097Z",
     "shell.execute_reply": "2024-01-31T11:59:24.101543Z"
    }
   },
   "outputs": [],
   "source": [
    "np.random.seed(42)\n",
    "HTN_indexes=data.loc[(data['Currently.taking.a.prescribed.medicine.to.lower.BP'] != 0) | (data['First.SYSTOLIC.reading'] >= 140) | (data['First.DIASTOLIC.reading'] >= 90) ].index.values\n",
    "HTN_cols=np.zeros(data.shape[0])\n",
    "HTN_cols[[HTN_indexes]]=1\n",
    "data['HTN']=HTN_cols\n",
    "data=data.drop([\"First.SYSTOLIC.reading\",\"First.DIASTOLIC.reading\",\"Currently.taking.a.prescribed.medicine.to.lower.BP\"], axis=1)\n",
    "data=data.reset_index(drop=True)\n",
    "data.columns\n",
    "data=data.drop([\"Hb_adjust_alt_smok\",\"Second.SYSTOLIC.reading\",\"Second.DIASTOLIC.reading\",\"Third.SYSTOLIC.reading\",\"Third.DIASTOLIC.reading\",\"Hb_status\",\"Glucose.level\",'SBP_status'], axis=1)\n",
    "data=data.loc[data['BMI'] != 99.99]\n",
    "data=data.loc[data['Hemoglobin.level..g.dl...1.decimal.'] != 99.99]\n",
    "data=data.loc[data['Currently.has.asthma'] != .5]\n",
    "data=data.loc[data['Currently.has.thyroid.disorder'] != .5]\n",
    "data=data.loc[data['Currently.has.heart.disease'] != .5]\n",
    "data=data.loc[data['Currently.has.cancer'] != .5]\n",
    "data=data.loc[data['DM_history'] == 1]\n",
    "data=data.loc[data['Type.of.caste.or.tribe.of.the.household.head'] != 0]\n",
    "data=data.loc[data['Time.to.get.to.water.source..minutes.'] != -1]\n",
    "data=data.drop([\"Unnamed: 0\",\"DM_status\",\"DM_history\"], axis=1)"
   ]
  },
  {
   "cell_type": "code",
   "execution_count": 9,
   "id": "2df57461-99ed-4080-be92-9109d5913851",
   "metadata": {
    "execution": {
     "iopub.execute_input": "2024-01-31T11:59:24.104239Z",
     "iopub.status.busy": "2024-01-31T11:59:24.104092Z",
     "iopub.status.idle": "2024-01-31T11:59:24.107510Z",
     "shell.execute_reply": "2024-01-31T11:59:24.107051Z"
    }
   },
   "outputs": [],
   "source": [
    "np.random.seed(42)\n",
    "data=data.sample(frac=1)"
   ]
  },
  {
   "cell_type": "code",
   "execution_count": 10,
   "id": "6001d062-ecad-436f-8725-ca8f908e90a7",
   "metadata": {
    "execution": {
     "iopub.execute_input": "2024-01-31T11:59:24.109266Z",
     "iopub.status.busy": "2024-01-31T11:59:24.109130Z",
     "iopub.status.idle": "2024-01-31T11:59:24.125204Z",
     "shell.execute_reply": "2024-01-31T11:59:24.124739Z"
    }
   },
   "outputs": [
    {
     "data": {
      "text/html": [
       "<div>\n",
       "<style scoped>\n",
       "    .dataframe tbody tr th:only-of-type {\n",
       "        vertical-align: middle;\n",
       "    }\n",
       "\n",
       "    .dataframe tbody tr th {\n",
       "        vertical-align: top;\n",
       "    }\n",
       "\n",
       "    .dataframe thead th {\n",
       "        text-align: right;\n",
       "    }\n",
       "</style>\n",
       "<table border=\"1\" class=\"dataframe\">\n",
       "  <thead>\n",
       "    <tr style=\"text-align: right;\">\n",
       "      <th></th>\n",
       "      <th>Current.age</th>\n",
       "      <th>Sex</th>\n",
       "      <th>Currently.has.asthma</th>\n",
       "      <th>Currently.has.thyroid.disorder</th>\n",
       "      <th>Currently.has.heart.disease</th>\n",
       "      <th>Currently.has.cancer</th>\n",
       "      <th>Suffers.from.TB</th>\n",
       "      <th>BMI</th>\n",
       "      <th>Hemoglobin.level..g.dl...1.decimal.</th>\n",
       "      <th>Frequency.takes.milk.or.curd</th>\n",
       "      <th>...</th>\n",
       "      <th>Has.refrigerator</th>\n",
       "      <th>Has.bicycle</th>\n",
       "      <th>Has.motorcycle.scooter</th>\n",
       "      <th>Has.car.truck</th>\n",
       "      <th>Type.of.cooking.fuel</th>\n",
       "      <th>Household.structure</th>\n",
       "      <th>Owns.livestock..herds.or.farm.animals</th>\n",
       "      <th>Source.of.drinking.water</th>\n",
       "      <th>Time.to.get.to.water.source..minutes.</th>\n",
       "      <th>HTN</th>\n",
       "    </tr>\n",
       "  </thead>\n",
       "  <tbody>\n",
       "    <tr>\n",
       "      <th>258196</th>\n",
       "      <td>34</td>\n",
       "      <td>1</td>\n",
       "      <td>0.0</td>\n",
       "      <td>0.0</td>\n",
       "      <td>0.0</td>\n",
       "      <td>0.0</td>\n",
       "      <td>0</td>\n",
       "      <td>35.24</td>\n",
       "      <td>11.1</td>\n",
       "      <td>2</td>\n",
       "      <td>...</td>\n",
       "      <td>1</td>\n",
       "      <td>1</td>\n",
       "      <td>1</td>\n",
       "      <td>0</td>\n",
       "      <td>3</td>\n",
       "      <td>0</td>\n",
       "      <td>0</td>\n",
       "      <td>4</td>\n",
       "      <td>10</td>\n",
       "      <td>0.0</td>\n",
       "    </tr>\n",
       "    <tr>\n",
       "      <th>188164</th>\n",
       "      <td>48</td>\n",
       "      <td>1</td>\n",
       "      <td>0.0</td>\n",
       "      <td>0.0</td>\n",
       "      <td>0.0</td>\n",
       "      <td>1.0</td>\n",
       "      <td>0</td>\n",
       "      <td>20.50</td>\n",
       "      <td>10.9</td>\n",
       "      <td>2</td>\n",
       "      <td>...</td>\n",
       "      <td>0</td>\n",
       "      <td>0</td>\n",
       "      <td>1</td>\n",
       "      <td>0</td>\n",
       "      <td>1</td>\n",
       "      <td>0</td>\n",
       "      <td>1</td>\n",
       "      <td>3</td>\n",
       "      <td>30</td>\n",
       "      <td>0.0</td>\n",
       "    </tr>\n",
       "    <tr>\n",
       "      <th>348270</th>\n",
       "      <td>30</td>\n",
       "      <td>1</td>\n",
       "      <td>0.0</td>\n",
       "      <td>0.0</td>\n",
       "      <td>0.0</td>\n",
       "      <td>0.0</td>\n",
       "      <td>0</td>\n",
       "      <td>30.34</td>\n",
       "      <td>12.3</td>\n",
       "      <td>2</td>\n",
       "      <td>...</td>\n",
       "      <td>1</td>\n",
       "      <td>1</td>\n",
       "      <td>1</td>\n",
       "      <td>0</td>\n",
       "      <td>3</td>\n",
       "      <td>0</td>\n",
       "      <td>0</td>\n",
       "      <td>3</td>\n",
       "      <td>0</td>\n",
       "      <td>0.0</td>\n",
       "    </tr>\n",
       "    <tr>\n",
       "      <th>469410</th>\n",
       "      <td>43</td>\n",
       "      <td>1</td>\n",
       "      <td>0.0</td>\n",
       "      <td>0.0</td>\n",
       "      <td>0.0</td>\n",
       "      <td>0.0</td>\n",
       "      <td>0</td>\n",
       "      <td>22.51</td>\n",
       "      <td>7.8</td>\n",
       "      <td>2</td>\n",
       "      <td>...</td>\n",
       "      <td>1</td>\n",
       "      <td>1</td>\n",
       "      <td>1</td>\n",
       "      <td>0</td>\n",
       "      <td>3</td>\n",
       "      <td>0</td>\n",
       "      <td>1</td>\n",
       "      <td>2</td>\n",
       "      <td>10</td>\n",
       "      <td>0.0</td>\n",
       "    </tr>\n",
       "    <tr>\n",
       "      <th>45365</th>\n",
       "      <td>30</td>\n",
       "      <td>1</td>\n",
       "      <td>0.0</td>\n",
       "      <td>0.0</td>\n",
       "      <td>0.0</td>\n",
       "      <td>0.0</td>\n",
       "      <td>0</td>\n",
       "      <td>24.39</td>\n",
       "      <td>12.6</td>\n",
       "      <td>0</td>\n",
       "      <td>...</td>\n",
       "      <td>1</td>\n",
       "      <td>0</td>\n",
       "      <td>0</td>\n",
       "      <td>0</td>\n",
       "      <td>3</td>\n",
       "      <td>1</td>\n",
       "      <td>0</td>\n",
       "      <td>3</td>\n",
       "      <td>0</td>\n",
       "      <td>0.0</td>\n",
       "    </tr>\n",
       "    <tr>\n",
       "      <th>...</th>\n",
       "      <td>...</td>\n",
       "      <td>...</td>\n",
       "      <td>...</td>\n",
       "      <td>...</td>\n",
       "      <td>...</td>\n",
       "      <td>...</td>\n",
       "      <td>...</td>\n",
       "      <td>...</td>\n",
       "      <td>...</td>\n",
       "      <td>...</td>\n",
       "      <td>...</td>\n",
       "      <td>...</td>\n",
       "      <td>...</td>\n",
       "      <td>...</td>\n",
       "      <td>...</td>\n",
       "      <td>...</td>\n",
       "      <td>...</td>\n",
       "      <td>...</td>\n",
       "      <td>...</td>\n",
       "      <td>...</td>\n",
       "      <td>...</td>\n",
       "    </tr>\n",
       "    <tr>\n",
       "      <th>398124</th>\n",
       "      <td>30</td>\n",
       "      <td>0</td>\n",
       "      <td>0.0</td>\n",
       "      <td>0.0</td>\n",
       "      <td>0.0</td>\n",
       "      <td>0.0</td>\n",
       "      <td>0</td>\n",
       "      <td>22.11</td>\n",
       "      <td>15.4</td>\n",
       "      <td>3</td>\n",
       "      <td>...</td>\n",
       "      <td>1</td>\n",
       "      <td>0</td>\n",
       "      <td>0</td>\n",
       "      <td>0</td>\n",
       "      <td>3</td>\n",
       "      <td>0</td>\n",
       "      <td>0</td>\n",
       "      <td>4</td>\n",
       "      <td>10</td>\n",
       "      <td>1.0</td>\n",
       "    </tr>\n",
       "    <tr>\n",
       "      <th>351146</th>\n",
       "      <td>44</td>\n",
       "      <td>1</td>\n",
       "      <td>0.0</td>\n",
       "      <td>0.0</td>\n",
       "      <td>0.0</td>\n",
       "      <td>0.0</td>\n",
       "      <td>0</td>\n",
       "      <td>28.94</td>\n",
       "      <td>12.9</td>\n",
       "      <td>3</td>\n",
       "      <td>...</td>\n",
       "      <td>1</td>\n",
       "      <td>1</td>\n",
       "      <td>1</td>\n",
       "      <td>0</td>\n",
       "      <td>1</td>\n",
       "      <td>0</td>\n",
       "      <td>1</td>\n",
       "      <td>3</td>\n",
       "      <td>0</td>\n",
       "      <td>0.0</td>\n",
       "    </tr>\n",
       "    <tr>\n",
       "      <th>363318</th>\n",
       "      <td>48</td>\n",
       "      <td>1</td>\n",
       "      <td>0.0</td>\n",
       "      <td>1.0</td>\n",
       "      <td>0.0</td>\n",
       "      <td>0.0</td>\n",
       "      <td>0</td>\n",
       "      <td>25.71</td>\n",
       "      <td>15.5</td>\n",
       "      <td>3</td>\n",
       "      <td>...</td>\n",
       "      <td>1</td>\n",
       "      <td>1</td>\n",
       "      <td>0</td>\n",
       "      <td>0</td>\n",
       "      <td>3</td>\n",
       "      <td>0</td>\n",
       "      <td>0</td>\n",
       "      <td>2</td>\n",
       "      <td>0</td>\n",
       "      <td>1.0</td>\n",
       "    </tr>\n",
       "    <tr>\n",
       "      <th>62518</th>\n",
       "      <td>48</td>\n",
       "      <td>1</td>\n",
       "      <td>0.0</td>\n",
       "      <td>0.0</td>\n",
       "      <td>0.0</td>\n",
       "      <td>0.0</td>\n",
       "      <td>0</td>\n",
       "      <td>27.71</td>\n",
       "      <td>13.4</td>\n",
       "      <td>3</td>\n",
       "      <td>...</td>\n",
       "      <td>1</td>\n",
       "      <td>0</td>\n",
       "      <td>1</td>\n",
       "      <td>1</td>\n",
       "      <td>3</td>\n",
       "      <td>1</td>\n",
       "      <td>0</td>\n",
       "      <td>3</td>\n",
       "      <td>0</td>\n",
       "      <td>0.0</td>\n",
       "    </tr>\n",
       "    <tr>\n",
       "      <th>471491</th>\n",
       "      <td>48</td>\n",
       "      <td>1</td>\n",
       "      <td>1.0</td>\n",
       "      <td>0.0</td>\n",
       "      <td>1.0</td>\n",
       "      <td>0.0</td>\n",
       "      <td>0</td>\n",
       "      <td>22.94</td>\n",
       "      <td>12.7</td>\n",
       "      <td>2</td>\n",
       "      <td>...</td>\n",
       "      <td>0</td>\n",
       "      <td>0</td>\n",
       "      <td>0</td>\n",
       "      <td>0</td>\n",
       "      <td>1</td>\n",
       "      <td>0</td>\n",
       "      <td>1</td>\n",
       "      <td>2</td>\n",
       "      <td>0</td>\n",
       "      <td>0.0</td>\n",
       "    </tr>\n",
       "  </tbody>\n",
       "</table>\n",
       "<p>10125 rows × 41 columns</p>\n",
       "</div>"
      ],
      "text/plain": [
       "        Current.age  Sex  Currently.has.asthma  \\\n",
       "258196           34    1                   0.0   \n",
       "188164           48    1                   0.0   \n",
       "348270           30    1                   0.0   \n",
       "469410           43    1                   0.0   \n",
       "45365            30    1                   0.0   \n",
       "...             ...  ...                   ...   \n",
       "398124           30    0                   0.0   \n",
       "351146           44    1                   0.0   \n",
       "363318           48    1                   0.0   \n",
       "62518            48    1                   0.0   \n",
       "471491           48    1                   1.0   \n",
       "\n",
       "        Currently.has.thyroid.disorder  Currently.has.heart.disease  \\\n",
       "258196                             0.0                          0.0   \n",
       "188164                             0.0                          0.0   \n",
       "348270                             0.0                          0.0   \n",
       "469410                             0.0                          0.0   \n",
       "45365                              0.0                          0.0   \n",
       "...                                ...                          ...   \n",
       "398124                             0.0                          0.0   \n",
       "351146                             0.0                          0.0   \n",
       "363318                             1.0                          0.0   \n",
       "62518                              0.0                          0.0   \n",
       "471491                             0.0                          1.0   \n",
       "\n",
       "        Currently.has.cancer  Suffers.from.TB    BMI  \\\n",
       "258196                   0.0                0  35.24   \n",
       "188164                   1.0                0  20.50   \n",
       "348270                   0.0                0  30.34   \n",
       "469410                   0.0                0  22.51   \n",
       "45365                    0.0                0  24.39   \n",
       "...                      ...              ...    ...   \n",
       "398124                   0.0                0  22.11   \n",
       "351146                   0.0                0  28.94   \n",
       "363318                   0.0                0  25.71   \n",
       "62518                    0.0                0  27.71   \n",
       "471491                   0.0                0  22.94   \n",
       "\n",
       "        Hemoglobin.level..g.dl...1.decimal.  Frequency.takes.milk.or.curd  \\\n",
       "258196                                 11.1                             2   \n",
       "188164                                 10.9                             2   \n",
       "348270                                 12.3                             2   \n",
       "469410                                  7.8                             2   \n",
       "45365                                  12.6                             0   \n",
       "...                                     ...                           ...   \n",
       "398124                                 15.4                             3   \n",
       "351146                                 12.9                             3   \n",
       "363318                                 15.5                             3   \n",
       "62518                                  13.4                             3   \n",
       "471491                                 12.7                             2   \n",
       "\n",
       "        ...  Has.refrigerator  Has.bicycle  Has.motorcycle.scooter  \\\n",
       "258196  ...                 1            1                       1   \n",
       "188164  ...                 0            0                       1   \n",
       "348270  ...                 1            1                       1   \n",
       "469410  ...                 1            1                       1   \n",
       "45365   ...                 1            0                       0   \n",
       "...     ...               ...          ...                     ...   \n",
       "398124  ...                 1            0                       0   \n",
       "351146  ...                 1            1                       1   \n",
       "363318  ...                 1            1                       0   \n",
       "62518   ...                 1            0                       1   \n",
       "471491  ...                 0            0                       0   \n",
       "\n",
       "        Has.car.truck  Type.of.cooking.fuel  Household.structure  \\\n",
       "258196              0                     3                    0   \n",
       "188164              0                     1                    0   \n",
       "348270              0                     3                    0   \n",
       "469410              0                     3                    0   \n",
       "45365               0                     3                    1   \n",
       "...               ...                   ...                  ...   \n",
       "398124              0                     3                    0   \n",
       "351146              0                     1                    0   \n",
       "363318              0                     3                    0   \n",
       "62518               1                     3                    1   \n",
       "471491              0                     1                    0   \n",
       "\n",
       "        Owns.livestock..herds.or.farm.animals  Source.of.drinking.water  \\\n",
       "258196                                      0                         4   \n",
       "188164                                      1                         3   \n",
       "348270                                      0                         3   \n",
       "469410                                      1                         2   \n",
       "45365                                       0                         3   \n",
       "...                                       ...                       ...   \n",
       "398124                                      0                         4   \n",
       "351146                                      1                         3   \n",
       "363318                                      0                         2   \n",
       "62518                                       0                         3   \n",
       "471491                                      1                         2   \n",
       "\n",
       "        Time.to.get.to.water.source..minutes.  HTN  \n",
       "258196                                     10  0.0  \n",
       "188164                                     30  0.0  \n",
       "348270                                      0  0.0  \n",
       "469410                                     10  0.0  \n",
       "45365                                       0  0.0  \n",
       "...                                       ...  ...  \n",
       "398124                                     10  1.0  \n",
       "351146                                      0  0.0  \n",
       "363318                                      0  1.0  \n",
       "62518                                       0  0.0  \n",
       "471491                                      0  0.0  \n",
       "\n",
       "[10125 rows x 41 columns]"
      ]
     },
     "execution_count": 10,
     "metadata": {},
     "output_type": "execute_result"
    }
   ],
   "source": [
    "data"
   ]
  },
  {
   "cell_type": "code",
   "execution_count": 11,
   "id": "e633073d-271c-450a-87f9-a61755e2f011",
   "metadata": {
    "execution": {
     "iopub.execute_input": "2024-01-31T11:59:24.127074Z",
     "iopub.status.busy": "2024-01-31T11:59:24.126904Z",
     "iopub.status.idle": "2024-01-31T11:59:24.135932Z",
     "shell.execute_reply": "2024-01-31T11:59:24.135419Z"
    }
   },
   "outputs": [],
   "source": [
    "data.drop_duplicates(inplace=True, ignore_index=True)"
   ]
  },
  {
   "cell_type": "markdown",
   "id": "5f548460-c50f-4675-8f8f-7d3ffac4d6be",
   "metadata": {
    "execution": {
     "iopub.execute_input": "2023-10-26T09:13:56.790418Z",
     "iopub.status.busy": "2023-10-26T09:13:56.790279Z",
     "iopub.status.idle": "2023-10-26T09:13:56.844603Z",
     "shell.execute_reply": "2023-10-26T09:13:56.844089Z"
    },
    "tags": []
   },
   "source": [
    "output_file_path=os.path.join(parent_directory,\"PreprocessedDatasets/T2DM.csv\")\n",
    "data.to_csv(output_file_path, index=False)"
   ]
  },
  {
   "cell_type": "code",
   "execution_count": 12,
   "id": "f6585796-c7c5-4f06-a1f4-5f5aea784e42",
   "metadata": {
    "execution": {
     "iopub.execute_input": "2024-01-31T11:59:24.137834Z",
     "iopub.status.busy": "2024-01-31T11:59:24.137690Z",
     "iopub.status.idle": "2024-01-31T11:59:24.140807Z",
     "shell.execute_reply": "2024-01-31T11:59:24.140423Z"
    }
   },
   "outputs": [],
   "source": [
    "np.random.seed(42)\n",
    "data=data.sample(frac=1)"
   ]
  },
  {
   "cell_type": "code",
   "execution_count": 13,
   "id": "daf17014-4a05-4b90-9cc0-a83fdbb478db",
   "metadata": {
    "execution": {
     "iopub.execute_input": "2024-01-31T11:59:24.142753Z",
     "iopub.status.busy": "2024-01-31T11:59:24.142444Z",
     "iopub.status.idle": "2024-01-31T11:59:24.145161Z",
     "shell.execute_reply": "2024-01-31T11:59:24.144828Z"
    }
   },
   "outputs": [],
   "source": [
    "values = ['Drinks.alcohol', 'Smoking_stat','Has.refrigerator',\n",
    "       'Has.bicycle', 'Has.motorcycle.scooter', 'Has.car.truck', 'Owns.livestock..herds.or.farm.animals','Frequency.takes.milk.or.curd',\n",
    "       'Frequency.eats.pulses.or.beans',\n",
    "       'Frequency.eats.dark.green.leafy.vegetable', 'Frequency.eats.fruits',\n",
    "       'Frequency.eats.eggs', 'Frequency.eats.fish',\n",
    "       'Frequency.eats.chicken.or.meat', 'Frequency.eats.fried.food',\n",
    "       'Frequency.takes.aerated.drinks','Frequency.household.members.smoke.inside.the.house','Wealth.index',\n",
    "       'Highest.educational.level','Currently.has.asthma','Currently.has.thyroid.disorder','Currently.has.heart.disease',\n",
    "       'Currently.has.cancer', 'Suffers.from.TB','HTN','Current.age','BMI','Hemoglobin.level..g.dl...1.decimal.','Time.to.get.to.water.source..minutes.','Household.head.s.religion', 'Sex', 'Type.of.place.of.residence', 'Household.structure',\n",
    "       'Type.of.caste.or.tribe.of.the.household.head','Type.of.cooking.fuel','Source.of.drinking.water']"
   ]
  },
  {
   "cell_type": "code",
   "execution_count": 14,
   "id": "f6300ef8-de66-4ac7-81f9-4abeba0e2910",
   "metadata": {
    "execution": {
     "iopub.execute_input": "2024-01-31T11:59:24.147082Z",
     "iopub.status.busy": "2024-01-31T11:59:24.146773Z",
     "iopub.status.idle": "2024-01-31T11:59:24.149579Z",
     "shell.execute_reply": "2024-01-31T11:59:24.149244Z"
    }
   },
   "outputs": [],
   "source": [
    "data=data[values]"
   ]
  },
  {
   "cell_type": "markdown",
   "id": "b660f1df-14b8-462c-a36c-5718f1881bda",
   "metadata": {},
   "source": [
    "### UMAP on entire data"
   ]
  },
  {
   "cell_type": "code",
   "execution_count": 15,
   "id": "2326c5ac-3967-4a6e-8488-dd1dd29796e3",
   "metadata": {
    "execution": {
     "iopub.execute_input": "2024-01-31T11:59:24.151523Z",
     "iopub.status.busy": "2024-01-31T11:59:24.151215Z",
     "iopub.status.idle": "2024-01-31T11:59:24.153214Z",
     "shell.execute_reply": "2024-01-31T11:59:24.152884Z"
    }
   },
   "outputs": [],
   "source": [
    "from fdc.fdc import feature_clustering"
   ]
  },
  {
   "cell_type": "code",
   "execution_count": 16,
   "id": "4f208ccd-b32d-4a0c-b8be-e6edf64b5664",
   "metadata": {
    "execution": {
     "iopub.execute_input": "2024-01-31T11:59:24.155144Z",
     "iopub.status.busy": "2024-01-31T11:59:24.154837Z",
     "iopub.status.idle": "2024-01-31T12:00:14.181177Z",
     "shell.execute_reply": "2024-01-31T12:00:14.180612Z"
    }
   },
   "outputs": [
    {
     "data": {
      "image/png": "[encoded data removed]",
      "text/plain": [
       "<Figure size 500x500 with 1 Axes>"
      ]
     },
     "metadata": {},
     "output_type": "display_data"
    }
   ],
   "source": [
    "np.random.seed(42)\n",
    "umap_emb=feature_clustering(30,0.1,'euclidean',data,True)"
   ]
  },
  {
   "cell_type": "markdown",
   "id": "f0068723-e652-4358-a2c4-761f5e1833d8",
   "metadata": {},
   "source": [
    "### Feature-type Distributed Clustering (FDC)"
   ]
  },
  {
   "cell_type": "code",
   "execution_count": 17,
   "id": "d91f3053-c382-490a-9c6a-e3925f5d0660",
   "metadata": {
    "execution": {
     "iopub.execute_input": "2024-01-31T12:00:14.183217Z",
     "iopub.status.busy": "2024-01-31T12:00:14.183069Z",
     "iopub.status.idle": "2024-01-31T12:00:14.186394Z",
     "shell.execute_reply": "2024-01-31T12:00:14.185936Z"
    }
   },
   "outputs": [],
   "source": [
    "ord_list=['Drinks.alcohol', 'Smoking_stat','Has.refrigerator',\n",
    "       'Has.bicycle', 'Has.motorcycle.scooter', 'Has.car.truck', 'Owns.livestock..herds.or.farm.animals','Frequency.takes.milk.or.curd',\n",
    "       'Frequency.eats.pulses.or.beans',\n",
    "       'Frequency.eats.dark.green.leafy.vegetable', 'Frequency.eats.fruits',\n",
    "       'Frequency.eats.eggs', 'Frequency.eats.fish',\n",
    "       'Frequency.eats.chicken.or.meat', 'Frequency.eats.fried.food',\n",
    "       'Frequency.takes.aerated.drinks','Frequency.household.members.smoke.inside.the.house','Wealth.index',\n",
    "       'Highest.educational.level','Currently.has.asthma','Currently.has.thyroid.disorder','Currently.has.heart.disease',\n",
    "       'Currently.has.cancer', 'Suffers.from.TB','HTN']\n",
    "\n",
    "cont_list=['Current.age','BMI','Hemoglobin.level..g.dl...1.decimal.','Time.to.get.to.water.source..minutes.']\n",
    "\n",
    "nom_list=['Household.head.s.religion', 'Sex', 'Type.of.place.of.residence', 'Household.structure',\n",
    "       'Type.of.caste.or.tribe.of.the.household.head','Type.of.cooking.fuel','Source.of.drinking.water']\n",
    "\n",
    "target = None\n"
   ]
  },
  {
   "cell_type": "code",
   "execution_count": 18,
   "id": "2e9a0102-2e1a-42ca-87e6-957f8c44e0b0",
   "metadata": {
    "execution": {
     "iopub.execute_input": "2024-01-31T12:00:14.188321Z",
     "iopub.status.busy": "2024-01-31T12:00:14.188027Z",
     "iopub.status.idle": "2024-01-31T12:00:14.190170Z",
     "shell.execute_reply": "2024-01-31T12:00:14.189834Z"
    }
   },
   "outputs": [],
   "source": [
    "output_file_path=os.path.join(parent_directory,\"PreprocessedDatasets/T2DM.json\")"
   ]
  },
  {
   "cell_type": "code",
   "execution_count": 19,
   "id": "e535f373-b83e-491b-bef9-70aa19eb2d72",
   "metadata": {
    "execution": {
     "iopub.execute_input": "2024-01-31T12:00:14.192074Z",
     "iopub.status.busy": "2024-01-31T12:00:14.191773Z",
     "iopub.status.idle": "2024-01-31T12:00:14.194294Z",
     "shell.execute_reply": "2024-01-31T12:00:14.193961Z"
    }
   },
   "outputs": [],
   "source": [
    "import json\n",
    "\n",
    "features = {\n",
    "    \"cont_list\": cont_list,\n",
    "    \"nom_list\": nom_list,\n",
    "    \"ord_list\": ord_list,\n",
    "    \"target\": target\n",
    "}\n",
    "\n",
    "with open(output_file_path, \"w\") as json_file:\n",
    "    json.dump(features, json_file)"
   ]
  },
  {
   "cell_type": "code",
   "execution_count": 20,
   "id": "8597d25f-470b-41c5-8353-05f15421e850",
   "metadata": {
    "execution": {
     "iopub.execute_input": "2024-01-31T12:00:14.196187Z",
     "iopub.status.busy": "2024-01-31T12:00:14.195882Z",
     "iopub.status.idle": "2024-01-31T12:01:16.262361Z",
     "shell.execute_reply": "2024-01-31T12:01:16.261873Z"
    }
   },
   "outputs": [
    {
     "name": "stdout",
     "output_type": "stream",
     "text": [
      "FDC.normalize (init): 0.00001 / 0.000s\n"
     ]
    },
    {
     "name": "stdout",
     "output_type": "stream",
     "text": [
      "FDC.normalize (clustering CONT): 12.82359 / 12.824s\n"
     ]
    },
    {
     "name": "stdout",
     "output_type": "stream",
     "text": [
      "FDC.normalize (clustering ORD): 111.72276 / 124.546s\n",
      "FDC.normalize (clustering NOM): 0.00006 / 124.546s\n",
      "FDC.normalize (concat): 0.00026 / 124.547s\n"
     ]
    },
    {
     "name": "stdout",
     "output_type": "stream",
     "text": [
      "FDC.normalize (umap 5 -> 2): 13.28460 / 137.831s\n",
      "FDC.normalize (array -> DataFrame): 0.00028 / 137.832s\n"
     ]
    },
    {
     "data": {
      "image/png": "[encoded data removed]",
      "text/plain": [
       "<Figure size 500x500 with 1 Axes>"
      ]
     },
     "metadata": {},
     "output_type": "display_data"
    },
    {
     "name": "stdout",
     "output_type": "stream",
     "text": [
      "FDC.normalize (plotting): 0.40111 / 138.233s\n",
      "FDC.normalize (array -> DataFrame): 0.00018 / 138.233s\n",
      "FDC.normalize (total): 0.00001 / 138.233s\n"
     ]
    }
   ],
   "source": [
    "from fdc.fdc import feature_clustering, canberra_modified, Clustering, FDC\n",
    "np.random.seed(42)\n",
    "\n",
    "fdc = FDC(clustering_cont=Clustering('euclidean',30,0.01)\n",
    "          , clustering_ord=Clustering(canberra_modified,30,0.01)\n",
    "          , visual=True\n",
    "          , use_pandas_output=True\n",
    "          , with_2d_embedding=True\n",
    "          )\n",
    "\n",
    "fdc.selectFeatures(continueous=cont_list, ordinal=ord_list)\n",
    "\n",
    "FDC_emb_high,FDC_emb_low = fdc.normalize(data,cont_list=cont_list, ord_list=ord_list,\n",
    "                  with_2d_embedding=True,\n",
    "                  visual=True)"
   ]
  },
  {
   "cell_type": "markdown",
   "id": "c463a715-9608-4325-b72b-b710e1ccb589",
   "metadata": {},
   "source": [
    "### Clustering using K-means"
   ]
  },
  {
   "cell_type": "code",
   "execution_count": 21,
   "id": "a134fdf7-6507-4a33-b163-23f72cc2a074",
   "metadata": {
    "execution": {
     "iopub.execute_input": "2024-01-31T12:01:16.264415Z",
     "iopub.status.busy": "2024-01-31T12:01:16.264268Z",
     "iopub.status.idle": "2024-01-31T12:01:16.704933Z",
     "shell.execute_reply": "2024-01-31T12:01:16.704381Z"
    },
    "tags": []
   },
   "outputs": [
    {
     "data": {
      "image/png": "[encoded data removed]",
      "text/plain": [
       "<Figure size 640x480 with 1 Axes>"
      ]
     },
     "metadata": {},
     "output_type": "display_data"
    }
   ],
   "source": [
    "kmeans_kwargs = {\n",
    "\"init\": \"random\",\n",
    "\"n_init\": 10,\n",
    "\"random_state\": 1,\n",
    "}\n",
    "\n",
    "#create list to hold SSE values for each k\n",
    "sse = []\n",
    "for k in range(1, 11):\n",
    "    kmeans = KMeans(n_clusters=k, **kmeans_kwargs)\n",
    "    kmeans.fit(FDC_emb_low)\n",
    "    sse.append(kmeans.inertia_)\n",
    "\n",
    "#visualize results\n",
    "plt.plot(range(1, 11), sse)\n",
    "plt.xticks(range(1, 11))\n",
    "plt.xlabel(\"Number of Clusters\")\n",
    "plt.ylabel(\"SSE\")\n",
    "plt.show()"
   ]
  },
  {
   "cell_type": "code",
   "execution_count": 22,
   "id": "dc0e649f",
   "metadata": {
    "execution": {
     "iopub.execute_input": "2024-01-31T12:01:16.707097Z",
     "iopub.status.busy": "2024-01-31T12:01:16.706909Z",
     "iopub.status.idle": "2024-01-31T12:01:16.710268Z",
     "shell.execute_reply": "2024-01-31T12:01:16.709816Z"
    }
   },
   "outputs": [],
   "source": [
    "def find_optimal_cluster(FDC_emb_low):\n",
    "    silhouette_scores = []\n",
    "\n",
    "    for n_clusters in list(range(2, 9)):\n",
    "        km = KMeans(n_clusters=n_clusters, init='k-means++', n_init=10, max_iter=100, random_state=42)\n",
    "\n",
    "        km.fit(FDC_emb_low)\n",
    "\n",
    "        labels = km.labels_\n",
    "\n",
    "        # Compute the silhouette score\n",
    "        silhouette_avg = silhouette_score(FDC_emb_low, labels)\n",
    "        silhouette_scores.append(silhouette_avg)\n",
    "    return silhouette_scores"
   ]
  },
  {
   "cell_type": "code",
   "execution_count": 23,
   "id": "3257ae7b",
   "metadata": {
    "execution": {
     "iopub.execute_input": "2024-01-31T12:01:16.712237Z",
     "iopub.status.busy": "2024-01-31T12:01:16.711918Z",
     "iopub.status.idle": "2024-01-31T12:01:27.193298Z",
     "shell.execute_reply": "2024-01-31T12:01:27.192786Z"
    },
    "scrolled": true,
    "tags": []
   },
   "outputs": [
    {
     "data": {
      "text/plain": [
       "[0.53822666,\n",
       " 0.49458274,\n",
       " 0.5093129,\n",
       " 0.57682496,\n",
       " 0.5896604,\n",
       " 0.6164692,\n",
       " 0.61482507]"
      ]
     },
     "execution_count": 23,
     "metadata": {},
     "output_type": "execute_result"
    }
   ],
   "source": [
    "find_optimal_cluster(FDC_emb_low)"
   ]
  },
  {
   "cell_type": "code",
   "execution_count": 24,
   "id": "80dbc9a4-8997-42d2-b4fd-49515bb2f8c1",
   "metadata": {
    "execution": {
     "iopub.execute_input": "2024-01-31T12:01:27.195364Z",
     "iopub.status.busy": "2024-01-31T12:01:27.195181Z",
     "iopub.status.idle": "2024-01-31T12:01:27.579823Z",
     "shell.execute_reply": "2024-01-31T12:01:27.579257Z"
    },
    "scrolled": true
   },
   "outputs": [
    {
     "data": {
      "image/png": "[encoded data removed]",
      "text/plain": [
       "<Figure size 560.361x500 with 1 Axes>"
      ]
     },
     "metadata": {},
     "output_type": "display_data"
    }
   ],
   "source": [
    "from fdc.clustering import *\n",
    "np.random.seed(42)\n",
    "clustering=Clustering(FDC_emb_low,FDC_emb_low,True)\n",
    "cluster_list,cluster_counts=clustering.K_means(5)"
   ]
  },
  {
   "cell_type": "code",
   "execution_count": 25,
   "id": "c2f410a1",
   "metadata": {
    "execution": {
     "iopub.execute_input": "2024-01-31T12:01:27.581878Z",
     "iopub.status.busy": "2024-01-31T12:01:27.581695Z",
     "iopub.status.idle": "2024-01-31T12:01:27.585022Z",
     "shell.execute_reply": "2024-01-31T12:01:27.584557Z"
    }
   },
   "outputs": [
    {
     "data": {
      "text/plain": [
       "array([2382, 2648, 2890,  832, 1373])"
      ]
     },
     "execution_count": 25,
     "metadata": {},
     "output_type": "execute_result"
    }
   ],
   "source": [
    "cluster_counts"
   ]
  },
  {
   "cell_type": "code",
   "execution_count": 26,
   "id": "250dd725-ecae-4e4d-a125-45a3d64840ab",
   "metadata": {
    "execution": {
     "iopub.execute_input": "2024-01-31T12:01:27.587036Z",
     "iopub.status.busy": "2024-01-31T12:01:27.586728Z",
     "iopub.status.idle": "2024-01-31T12:01:27.590886Z",
     "shell.execute_reply": "2024-01-31T12:01:27.590481Z"
    }
   },
   "outputs": [],
   "source": [
    "data['Target']=cluster_list"
   ]
  },
  {
   "cell_type": "code",
   "execution_count": 27,
   "id": "45fb9cab-6d92-4db5-8db5-70a64bd4c979",
   "metadata": {
    "execution": {
     "iopub.execute_input": "2024-01-31T12:01:27.592857Z",
     "iopub.status.busy": "2024-01-31T12:01:27.592498Z",
     "iopub.status.idle": "2024-01-31T12:01:27.645176Z",
     "shell.execute_reply": "2024-01-31T12:01:27.644634Z"
    },
    "tags": []
   },
   "outputs": [],
   "source": [
    "output_file_path=os.path.join(parent_directory,\"PreprocessedDatasets/SST2DM.csv\")\n",
    "data.to_csv(output_file_path, index=False)"
   ]
  },
  {
   "cell_type": "code",
   "execution_count": 28,
   "id": "7bf92e7b-36ed-4d66-8f6a-11beb2defba4",
   "metadata": {
    "execution": {
     "iopub.execute_input": "2024-01-31T12:01:27.647264Z",
     "iopub.status.busy": "2024-01-31T12:01:27.647085Z",
     "iopub.status.idle": "2024-01-31T12:01:27.660185Z",
     "shell.execute_reply": "2024-01-31T12:01:27.659668Z"
    }
   },
   "outputs": [
    {
     "data": {
      "text/html": [
       "<div>\n",
       "<style scoped>\n",
       "    .dataframe tbody tr th:only-of-type {\n",
       "        vertical-align: middle;\n",
       "    }\n",
       "\n",
       "    .dataframe tbody tr th {\n",
       "        vertical-align: top;\n",
       "    }\n",
       "\n",
       "    .dataframe thead th {\n",
       "        text-align: right;\n",
       "    }\n",
       "</style>\n",
       "<table border=\"1\" class=\"dataframe\">\n",
       "  <thead>\n",
       "    <tr style=\"text-align: right;\">\n",
       "      <th></th>\n",
       "      <th>Drinks.alcohol</th>\n",
       "      <th>Smoking_stat</th>\n",
       "      <th>Has.refrigerator</th>\n",
       "      <th>Has.bicycle</th>\n",
       "      <th>Has.motorcycle.scooter</th>\n",
       "      <th>Has.car.truck</th>\n",
       "      <th>Owns.livestock..herds.or.farm.animals</th>\n",
       "      <th>Frequency.takes.milk.or.curd</th>\n",
       "      <th>Frequency.eats.pulses.or.beans</th>\n",
       "      <th>Frequency.eats.dark.green.leafy.vegetable</th>\n",
       "      <th>...</th>\n",
       "      <th>Hemoglobin.level..g.dl...1.decimal.</th>\n",
       "      <th>Time.to.get.to.water.source..minutes.</th>\n",
       "      <th>Household.head.s.religion</th>\n",
       "      <th>Sex</th>\n",
       "      <th>Type.of.place.of.residence</th>\n",
       "      <th>Household.structure</th>\n",
       "      <th>Type.of.caste.or.tribe.of.the.household.head</th>\n",
       "      <th>Type.of.cooking.fuel</th>\n",
       "      <th>Source.of.drinking.water</th>\n",
       "      <th>Target</th>\n",
       "    </tr>\n",
       "  </thead>\n",
       "  <tbody>\n",
       "    <tr>\n",
       "      <th>3781</th>\n",
       "      <td>0</td>\n",
       "      <td>0</td>\n",
       "      <td>0</td>\n",
       "      <td>0</td>\n",
       "      <td>1</td>\n",
       "      <td>0</td>\n",
       "      <td>1</td>\n",
       "      <td>3</td>\n",
       "      <td>3</td>\n",
       "      <td>3</td>\n",
       "      <td>...</td>\n",
       "      <td>15.1</td>\n",
       "      <td>0</td>\n",
       "      <td>2</td>\n",
       "      <td>0</td>\n",
       "      <td>1</td>\n",
       "      <td>0</td>\n",
       "      <td>3</td>\n",
       "      <td>1</td>\n",
       "      <td>2</td>\n",
       "      <td>1</td>\n",
       "    </tr>\n",
       "    <tr>\n",
       "      <th>2922</th>\n",
       "      <td>0</td>\n",
       "      <td>0</td>\n",
       "      <td>0</td>\n",
       "      <td>1</td>\n",
       "      <td>1</td>\n",
       "      <td>1</td>\n",
       "      <td>1</td>\n",
       "      <td>3</td>\n",
       "      <td>2</td>\n",
       "      <td>1</td>\n",
       "      <td>...</td>\n",
       "      <td>8.9</td>\n",
       "      <td>0</td>\n",
       "      <td>0</td>\n",
       "      <td>1</td>\n",
       "      <td>1</td>\n",
       "      <td>0</td>\n",
       "      <td>1</td>\n",
       "      <td>2</td>\n",
       "      <td>2</td>\n",
       "      <td>0</td>\n",
       "    </tr>\n",
       "    <tr>\n",
       "      <th>5070</th>\n",
       "      <td>0</td>\n",
       "      <td>0</td>\n",
       "      <td>0</td>\n",
       "      <td>1</td>\n",
       "      <td>0</td>\n",
       "      <td>0</td>\n",
       "      <td>0</td>\n",
       "      <td>3</td>\n",
       "      <td>3</td>\n",
       "      <td>3</td>\n",
       "      <td>...</td>\n",
       "      <td>13.1</td>\n",
       "      <td>0</td>\n",
       "      <td>1</td>\n",
       "      <td>1</td>\n",
       "      <td>1</td>\n",
       "      <td>1</td>\n",
       "      <td>1</td>\n",
       "      <td>3</td>\n",
       "      <td>2</td>\n",
       "      <td>1</td>\n",
       "    </tr>\n",
       "    <tr>\n",
       "      <th>7246</th>\n",
       "      <td>0</td>\n",
       "      <td>0</td>\n",
       "      <td>1</td>\n",
       "      <td>1</td>\n",
       "      <td>1</td>\n",
       "      <td>0</td>\n",
       "      <td>0</td>\n",
       "      <td>1</td>\n",
       "      <td>3</td>\n",
       "      <td>3</td>\n",
       "      <td>...</td>\n",
       "      <td>12.2</td>\n",
       "      <td>0</td>\n",
       "      <td>1</td>\n",
       "      <td>1</td>\n",
       "      <td>0</td>\n",
       "      <td>0</td>\n",
       "      <td>4</td>\n",
       "      <td>3</td>\n",
       "      <td>3</td>\n",
       "      <td>2</td>\n",
       "    </tr>\n",
       "    <tr>\n",
       "      <th>623</th>\n",
       "      <td>0</td>\n",
       "      <td>0</td>\n",
       "      <td>1</td>\n",
       "      <td>1</td>\n",
       "      <td>1</td>\n",
       "      <td>0</td>\n",
       "      <td>1</td>\n",
       "      <td>0</td>\n",
       "      <td>1</td>\n",
       "      <td>3</td>\n",
       "      <td>...</td>\n",
       "      <td>12.9</td>\n",
       "      <td>0</td>\n",
       "      <td>0</td>\n",
       "      <td>1</td>\n",
       "      <td>1</td>\n",
       "      <td>1</td>\n",
       "      <td>1</td>\n",
       "      <td>3</td>\n",
       "      <td>2</td>\n",
       "      <td>2</td>\n",
       "    </tr>\n",
       "    <tr>\n",
       "      <th>...</th>\n",
       "      <td>...</td>\n",
       "      <td>...</td>\n",
       "      <td>...</td>\n",
       "      <td>...</td>\n",
       "      <td>...</td>\n",
       "      <td>...</td>\n",
       "      <td>...</td>\n",
       "      <td>...</td>\n",
       "      <td>...</td>\n",
       "      <td>...</td>\n",
       "      <td>...</td>\n",
       "      <td>...</td>\n",
       "      <td>...</td>\n",
       "      <td>...</td>\n",
       "      <td>...</td>\n",
       "      <td>...</td>\n",
       "      <td>...</td>\n",
       "      <td>...</td>\n",
       "      <td>...</td>\n",
       "      <td>...</td>\n",
       "      <td>...</td>\n",
       "    </tr>\n",
       "    <tr>\n",
       "      <th>5734</th>\n",
       "      <td>0</td>\n",
       "      <td>0</td>\n",
       "      <td>1</td>\n",
       "      <td>1</td>\n",
       "      <td>1</td>\n",
       "      <td>1</td>\n",
       "      <td>1</td>\n",
       "      <td>0</td>\n",
       "      <td>3</td>\n",
       "      <td>3</td>\n",
       "      <td>...</td>\n",
       "      <td>13.7</td>\n",
       "      <td>0</td>\n",
       "      <td>0</td>\n",
       "      <td>0</td>\n",
       "      <td>1</td>\n",
       "      <td>1</td>\n",
       "      <td>4</td>\n",
       "      <td>3</td>\n",
       "      <td>3</td>\n",
       "      <td>2</td>\n",
       "    </tr>\n",
       "    <tr>\n",
       "      <th>5191</th>\n",
       "      <td>0</td>\n",
       "      <td>0</td>\n",
       "      <td>0</td>\n",
       "      <td>1</td>\n",
       "      <td>0</td>\n",
       "      <td>0</td>\n",
       "      <td>1</td>\n",
       "      <td>1</td>\n",
       "      <td>2</td>\n",
       "      <td>3</td>\n",
       "      <td>...</td>\n",
       "      <td>11.2</td>\n",
       "      <td>2</td>\n",
       "      <td>0</td>\n",
       "      <td>1</td>\n",
       "      <td>1</td>\n",
       "      <td>1</td>\n",
       "      <td>2</td>\n",
       "      <td>1</td>\n",
       "      <td>2</td>\n",
       "      <td>1</td>\n",
       "    </tr>\n",
       "    <tr>\n",
       "      <th>5390</th>\n",
       "      <td>0</td>\n",
       "      <td>0</td>\n",
       "      <td>0</td>\n",
       "      <td>0</td>\n",
       "      <td>0</td>\n",
       "      <td>0</td>\n",
       "      <td>0</td>\n",
       "      <td>2</td>\n",
       "      <td>3</td>\n",
       "      <td>3</td>\n",
       "      <td>...</td>\n",
       "      <td>9.6</td>\n",
       "      <td>0</td>\n",
       "      <td>0</td>\n",
       "      <td>1</td>\n",
       "      <td>0</td>\n",
       "      <td>1</td>\n",
       "      <td>4</td>\n",
       "      <td>3</td>\n",
       "      <td>4</td>\n",
       "      <td>0</td>\n",
       "    </tr>\n",
       "    <tr>\n",
       "      <th>860</th>\n",
       "      <td>0</td>\n",
       "      <td>0</td>\n",
       "      <td>0</td>\n",
       "      <td>0</td>\n",
       "      <td>0</td>\n",
       "      <td>0</td>\n",
       "      <td>0</td>\n",
       "      <td>1</td>\n",
       "      <td>3</td>\n",
       "      <td>3</td>\n",
       "      <td>...</td>\n",
       "      <td>13.1</td>\n",
       "      <td>30</td>\n",
       "      <td>0</td>\n",
       "      <td>1</td>\n",
       "      <td>1</td>\n",
       "      <td>1</td>\n",
       "      <td>2</td>\n",
       "      <td>1</td>\n",
       "      <td>2</td>\n",
       "      <td>3</td>\n",
       "    </tr>\n",
       "    <tr>\n",
       "      <th>7270</th>\n",
       "      <td>0</td>\n",
       "      <td>0</td>\n",
       "      <td>0</td>\n",
       "      <td>0</td>\n",
       "      <td>0</td>\n",
       "      <td>0</td>\n",
       "      <td>0</td>\n",
       "      <td>0</td>\n",
       "      <td>3</td>\n",
       "      <td>1</td>\n",
       "      <td>...</td>\n",
       "      <td>11.0</td>\n",
       "      <td>10</td>\n",
       "      <td>0</td>\n",
       "      <td>1</td>\n",
       "      <td>1</td>\n",
       "      <td>0</td>\n",
       "      <td>4</td>\n",
       "      <td>1</td>\n",
       "      <td>2</td>\n",
       "      <td>4</td>\n",
       "    </tr>\n",
       "  </tbody>\n",
       "</table>\n",
       "<p>10125 rows × 37 columns</p>\n",
       "</div>"
      ],
      "text/plain": [
       "      Drinks.alcohol  Smoking_stat  Has.refrigerator  Has.bicycle  \\\n",
       "3781               0             0                 0            0   \n",
       "2922               0             0                 0            1   \n",
       "5070               0             0                 0            1   \n",
       "7246               0             0                 1            1   \n",
       "623                0             0                 1            1   \n",
       "...              ...           ...               ...          ...   \n",
       "5734               0             0                 1            1   \n",
       "5191               0             0                 0            1   \n",
       "5390               0             0                 0            0   \n",
       "860                0             0                 0            0   \n",
       "7270               0             0                 0            0   \n",
       "\n",
       "      Has.motorcycle.scooter  Has.car.truck  \\\n",
       "3781                       1              0   \n",
       "2922                       1              1   \n",
       "5070                       0              0   \n",
       "7246                       1              0   \n",
       "623                        1              0   \n",
       "...                      ...            ...   \n",
       "5734                       1              1   \n",
       "5191                       0              0   \n",
       "5390                       0              0   \n",
       "860                        0              0   \n",
       "7270                       0              0   \n",
       "\n",
       "      Owns.livestock..herds.or.farm.animals  Frequency.takes.milk.or.curd  \\\n",
       "3781                                      1                             3   \n",
       "2922                                      1                             3   \n",
       "5070                                      0                             3   \n",
       "7246                                      0                             1   \n",
       "623                                       1                             0   \n",
       "...                                     ...                           ...   \n",
       "5734                                      1                             0   \n",
       "5191                                      1                             1   \n",
       "5390                                      0                             2   \n",
       "860                                       0                             1   \n",
       "7270                                      0                             0   \n",
       "\n",
       "      Frequency.eats.pulses.or.beans  \\\n",
       "3781                               3   \n",
       "2922                               2   \n",
       "5070                               3   \n",
       "7246                               3   \n",
       "623                                1   \n",
       "...                              ...   \n",
       "5734                               3   \n",
       "5191                               2   \n",
       "5390                               3   \n",
       "860                                3   \n",
       "7270                               3   \n",
       "\n",
       "      Frequency.eats.dark.green.leafy.vegetable  ...  \\\n",
       "3781                                          3  ...   \n",
       "2922                                          1  ...   \n",
       "5070                                          3  ...   \n",
       "7246                                          3  ...   \n",
       "623                                           3  ...   \n",
       "...                                         ...  ...   \n",
       "5734                                          3  ...   \n",
       "5191                                          3  ...   \n",
       "5390                                          3  ...   \n",
       "860                                           3  ...   \n",
       "7270                                          1  ...   \n",
       "\n",
       "      Hemoglobin.level..g.dl...1.decimal.  \\\n",
       "3781                                 15.1   \n",
       "2922                                  8.9   \n",
       "5070                                 13.1   \n",
       "7246                                 12.2   \n",
       "623                                  12.9   \n",
       "...                                   ...   \n",
       "5734                                 13.7   \n",
       "5191                                 11.2   \n",
       "5390                                  9.6   \n",
       "860                                  13.1   \n",
       "7270                                 11.0   \n",
       "\n",
       "      Time.to.get.to.water.source..minutes.  Household.head.s.religion  Sex  \\\n",
       "3781                                      0                          2    0   \n",
       "2922                                      0                          0    1   \n",
       "5070                                      0                          1    1   \n",
       "7246                                      0                          1    1   \n",
       "623                                       0                          0    1   \n",
       "...                                     ...                        ...  ...   \n",
       "5734                                      0                          0    0   \n",
       "5191                                      2                          0    1   \n",
       "5390                                      0                          0    1   \n",
       "860                                      30                          0    1   \n",
       "7270                                     10                          0    1   \n",
       "\n",
       "      Type.of.place.of.residence  Household.structure  \\\n",
       "3781                           1                    0   \n",
       "2922                           1                    0   \n",
       "5070                           1                    1   \n",
       "7246                           0                    0   \n",
       "623                            1                    1   \n",
       "...                          ...                  ...   \n",
       "5734                           1                    1   \n",
       "5191                           1                    1   \n",
       "5390                           0                    1   \n",
       "860                            1                    1   \n",
       "7270                           1                    0   \n",
       "\n",
       "      Type.of.caste.or.tribe.of.the.household.head  Type.of.cooking.fuel  \\\n",
       "3781                                             3                     1   \n",
       "2922                                             1                     2   \n",
       "5070                                             1                     3   \n",
       "7246                                             4                     3   \n",
       "623                                              1                     3   \n",
       "...                                            ...                   ...   \n",
       "5734                                             4                     3   \n",
       "5191                                             2                     1   \n",
       "5390                                             4                     3   \n",
       "860                                              2                     1   \n",
       "7270                                             4                     1   \n",
       "\n",
       "      Source.of.drinking.water  Target  \n",
       "3781                         2       1  \n",
       "2922                         2       0  \n",
       "5070                         2       1  \n",
       "7246                         3       2  \n",
       "623                          2       2  \n",
       "...                        ...     ...  \n",
       "5734                         3       2  \n",
       "5191                         2       1  \n",
       "5390                         4       0  \n",
       "860                          2       3  \n",
       "7270                         2       4  \n",
       "\n",
       "[10125 rows x 37 columns]"
      ]
     },
     "execution_count": 28,
     "metadata": {},
     "output_type": "execute_result"
    }
   ],
   "source": [
    "data"
   ]
  },
  {
   "cell_type": "code",
   "execution_count": null,
   "id": "2c183223-f727-41ca-9064-467b1cd58734",
   "metadata": {},
   "outputs": [],
   "source": []
  }
 ],
 "metadata": {
  "kernelspec": {
   "display_name": "Python 3 (ipykernel)",
   "language": "python",
   "name": "python3"
  },
  "language_info": {
   "codemirror_mode": {
    "name": "ipython",
    "version": 3
   },
   "file_extension": ".py",
   "mimetype": "text/x-python",
   "name": "python",
   "nbconvert_exporter": "python",
   "pygments_lexer": "ipython3",
   "version": "3.8.15"
  }
 },
 "nbformat": 4,
 "nbformat_minor": 5
}
